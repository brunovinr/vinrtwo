{
 "cells": [
  {
   "cell_type": "markdown",
   "id": "1a573b71-0ae7-40e0-96de-210d04bc304a",
   "metadata": {},
   "source": [
    "# GTF file explorer"
   ]
  },
  {
   "cell_type": "code",
   "execution_count": 7,
   "id": "b34f24d6-88b3-4beb-a652-69d04b42abac",
   "metadata": {},
   "outputs": [
    {
     "name": "stdout",
     "output_type": "stream",
     "text": [
      "total 1429612\n",
      "-rw-r--r-- 1 bvribeiro user 1463917491 Apr 24  2023 Homo_sapiens.GRCh38.110.gtf\n"
     ]
    }
   ],
   "source": [
    "!ls -l ../paper_chik/genome/gtf/ensembl110/"
   ]
  },
  {
   "cell_type": "code",
   "execution_count": 10,
   "id": "65adb9e9-bb40-4ba1-bf50-6281a07f0f75",
   "metadata": {},
   "outputs": [
    {
     "name": "stdout",
     "output_type": "stream",
     "text": [
      "#!genome-build GRCh38.p14\n",
      "#!genome-version GRCh38\n",
      "#!genome-date 2013-12\n",
      "#!genome-build-accession GCA_000001405.29\n",
      "#!genebuild-last-updated 2023-03\n",
      "1\thavana\tgene\t182696\t184174\t.\t+\t.\tgene_id \"ENSG00000279928\"; gene_version \"2\"; gene_name \"DDX11L17\"; gene_source \"havana\"; gene_biotype \"unprocessed_pseudogene\";\n",
      "1\thavana\ttranscript\t182696\t184174\t.\t+\t.\tgene_id \"ENSG00000279928\"; gene_version \"2\"; transcript_id \"ENST00000624431\"; transcript_version \"2\"; gene_name \"DDX11L17\"; gene_source \"havana\"; gene_biotype \"unprocessed_pseudogene\"; transcript_name \"DDX11L17-201\"; transcript_source \"havana\"; transcript_biotype \"unprocessed_pseudogene\"; tag \"basic\"; tag \"Ensembl_canonical\"; transcript_support_level \"NA\";\n",
      "1\thavana\texon\t182696\t182746\t.\t+\t.\tgene_id \"ENSG00000279928\"; gene_version \"2\"; transcript_id \"ENST00000624431\"; transcript_version \"2\"; exon_number \"1\"; gene_name \"DDX11L17\"; gene_source \"havana\"; gene_biotype \"unprocessed_pseudogene\"; transcript_name \"DDX11L17-201\"; transcript_source \"havana\"; transcript_biotype \"unprocessed_pseudogene\"; exon_id \"ENSE00003759020\"; exon_version \"2\"; tag \"basic\"; tag \"Ensembl_canonical\"; transcript_support_level \"NA\";\n",
      "1\thavana\texon\t183132\t183216\t.\t+\t.\tgene_id \"ENSG00000279928\"; gene_version \"2\"; transcript_id \"ENST00000624431\"; transcript_version \"2\"; exon_number \"2\"; gene_name \"DDX11L17\"; gene_source \"havana\"; gene_biotype \"unprocessed_pseudogene\"; transcript_name \"DDX11L17-201\"; transcript_source \"havana\"; transcript_biotype \"unprocessed_pseudogene\"; exon_id \"ENSE00003759581\"; exon_version \"2\"; tag \"basic\"; tag \"Ensembl_canonical\"; transcript_support_level \"NA\";\n",
      "1\thavana\texon\t183494\t183571\t.\t+\t.\tgene_id \"ENSG00000279928\"; gene_version \"2\"; transcript_id \"ENST00000624431\"; transcript_version \"2\"; exon_number \"3\"; gene_name \"DDX11L17\"; gene_source \"havana\"; gene_biotype \"unprocessed_pseudogene\"; transcript_name \"DDX11L17-201\"; transcript_source \"havana\"; transcript_biotype \"unprocessed_pseudogene\"; exon_id \"ENSE00003804405\"; exon_version \"1\"; tag \"basic\"; tag \"Ensembl_canonical\"; transcript_support_level \"NA\";\n",
      "1\thavana\texon\t183740\t183901\t.\t+\t.\tgene_id \"ENSG00000279928\"; gene_version \"2\"; transcript_id \"ENST00000624431\"; transcript_version \"2\"; exon_number \"4\"; gene_name \"DDX11L17\"; gene_source \"havana\"; gene_biotype \"unprocessed_pseudogene\"; transcript_name \"DDX11L17-201\"; transcript_source \"havana\"; transcript_biotype \"unprocessed_pseudogene\"; exon_id \"ENSE00003807458\"; exon_version \"1\"; tag \"basic\"; tag \"Ensembl_canonical\"; transcript_support_level \"NA\";\n",
      "1\thavana\texon\t183981\t184174\t.\t+\t.\tgene_id \"ENSG00000279928\"; gene_version \"2\"; transcript_id \"ENST00000624431\"; transcript_version \"2\"; exon_number \"5\"; gene_name \"DDX11L17\"; gene_source \"havana\"; gene_biotype \"unprocessed_pseudogene\"; transcript_name \"DDX11L17-201\"; transcript_source \"havana\"; transcript_biotype \"unprocessed_pseudogene\"; exon_id \"ENSE00003760199\"; exon_version \"2\"; tag \"basic\"; tag \"Ensembl_canonical\"; transcript_support_level \"NA\";\n",
      "1\thavana\tgene\t2581560\t2584533\t.\t+\t.\tgene_id \"ENSG00000228037\"; gene_version \"1\"; gene_source \"havana\"; gene_biotype \"lncRNA\";\n",
      "1\thavana\ttranscript\t2581560\t2584533\t.\t+\t.\tgene_id \"ENSG00000228037\"; gene_version \"1\"; transcript_id \"ENST00000424215\"; transcript_version \"1\"; gene_source \"havana\"; gene_biotype \"lncRNA\"; transcript_source \"havana\"; transcript_biotype \"lncRNA\"; tag \"basic\"; tag \"Ensembl_canonical\"; transcript_support_level \"5\";\n",
      "1\thavana\texon\t2581560\t2581650\t.\t+\t.\tgene_id \"ENSG00000228037\"; gene_version \"1\"; transcript_id \"ENST00000424215\"; transcript_version \"1\"; exon_number \"1\"; gene_source \"havana\"; gene_biotype \"lncRNA\"; transcript_source \"havana\"; transcript_biotype \"lncRNA\"; exon_id \"ENSE00001795368\"; exon_version \"1\"; tag \"basic\"; tag \"Ensembl_canonical\"; transcript_support_level \"5\";\n",
      "1\thavana\texon\t2583370\t2583495\t.\t+\t.\tgene_id \"ENSG00000228037\"; gene_version \"1\"; transcript_id \"ENST00000424215\"; transcript_version \"1\"; exon_number \"2\"; gene_source \"havana\"; gene_biotype \"lncRNA\"; transcript_source \"havana\"; transcript_biotype \"lncRNA\"; exon_id \"ENSE00001694676\"; exon_version \"1\"; tag \"basic\"; tag \"Ensembl_canonical\"; transcript_support_level \"5\";\n",
      "1\thavana\texon\t2584125\t2584533\t.\t+\t.\tgene_id \"ENSG00000228037\"; gene_version \"1\"; transcript_id \"ENST00000424215\"; transcript_version \"1\"; exon_number \"3\"; gene_source \"havana\"; gene_biotype \"lncRNA\"; transcript_source \"havana\"; transcript_biotype \"lncRNA\"; exon_id \"ENSE00001601095\"; exon_version \"1\"; tag \"basic\"; tag \"Ensembl_canonical\"; transcript_support_level \"5\";\n",
      "1\tensembl_havana\tgene\t3069168\t3438621\t.\t+\t.\tgene_id \"ENSG00000142611\"; gene_version \"17\"; gene_name \"PRDM16\"; gene_source \"ensembl_havana\"; gene_biotype \"protein_coding\";\n",
      "1\thavana\ttranscript\t3069168\t3434342\t.\t+\t.\tgene_id \"ENSG00000142611\"; gene_version \"17\"; transcript_id \"ENST00000511072\"; transcript_version \"5\"; gene_name \"PRDM16\"; gene_source \"ensembl_havana\"; gene_biotype \"protein_coding\"; transcript_name \"PRDM16-206\"; transcript_source \"havana\"; transcript_biotype \"protein_coding\"; tag \"basic\"; transcript_support_level \"5\";\n",
      "1\thavana\texon\t3069168\t3069296\t.\t+\t.\tgene_id \"ENSG00000142611\"; gene_version \"17\"; transcript_id \"ENST00000511072\"; transcript_version \"5\"; exon_number \"1\"; gene_name \"PRDM16\"; gene_source \"ensembl_havana\"; gene_biotype \"protein_coding\"; transcript_name \"PRDM16-206\"; transcript_source \"havana\"; transcript_biotype \"protein_coding\"; exon_id \"ENSE00002048533\"; exon_version \"1\"; tag \"basic\"; transcript_support_level \"5\";\n",
      "cat: write error: Broken pipe\n"
     ]
    }
   ],
   "source": [
    "# Mostrar cabeçalho\n",
    "!cat ../paper_chik/genome/gtf/ensembl110/Homo_sapiens.GRCh38.110.gtf | head -n 20"
   ]
  },
  {
   "cell_type": "code",
   "execution_count": 16,
   "id": "ccb8b7ca-16ea-445c-a151-7d8c9934b814",
   "metadata": {},
   "outputs": [
    {
     "name": "stdout",
     "output_type": "stream",
     "text": [
      " 317195 1\n",
      " 134962 10\n",
      " 202337 11\n",
      " 188450 12\n",
      "  56932 13\n",
      " 122386 14\n",
      " 120418 15\n",
      " 151035 16\n",
      " 203883 17\n",
      "  57886 18\n"
     ]
    }
   ],
   "source": [
    "!cut -f1 ../paper_chik/genome/gtf/ensembl110/Homo_sapiens.GRCh38.110.gtf | sort | uniq -c | head"
   ]
  },
  {
   "cell_type": "code",
   "execution_count": 13,
   "id": "10583313-cdd7-4e72-9912-a7a5d8074dd1",
   "metadata": {},
   "outputs": [
    {
     "name": "stdout",
     "output_type": "stream",
     "text": [
      " 885265 CDS\n",
      "1649677 exon\n",
      " 173466 five_prime_utr\n",
      "  62754 gene\n",
      "    130 Selenocysteine\n",
      "  97935 start_codon\n",
      "  91861 stop_codon\n",
      " 207640 three_prime_utr\n",
      " 252894 transcript\n"
     ]
    }
   ],
   "source": [
    "# Liste quais tipos de feature estão presentes\n",
    "!grep -v \"^#\" ../paper_chik/genome/gtf/ensembl110/Homo_sapiens.GRCh38.110.gtf | cut -f3 | sort | uniq -c"
   ]
  },
  {
   "cell_type": "code",
   "execution_count": 14,
   "id": "fbfde2bd-1560-4a45-971b-f844ef6f4d13",
   "metadata": {},
   "outputs": [
    {
     "name": "stdout",
     "output_type": "stream",
     "text": [
      "3421622\n"
     ]
    }
   ],
   "source": [
    "# Checar número de genes no GTF:\n",
    "!grep -c \"gene_id\" ../paper_chik/genome/gtf/ensembl110/Homo_sapiens.GRCh38.110.gtf"
   ]
  },
  {
   "cell_type": "code",
   "execution_count": null,
   "id": "3e16261a-fb29-4c52-8352-e2e2a3a365f2",
   "metadata": {},
   "outputs": [],
   "source": []
  }
 ],
 "metadata": {
  "kernelspec": {
   "display_name": "Python 3 (ipykernel)",
   "language": "python",
   "name": "python3"
  },
  "language_info": {
   "codemirror_mode": {
    "name": "ipython",
    "version": 3
   },
   "file_extension": ".py",
   "mimetype": "text/x-python",
   "name": "python",
   "nbconvert_exporter": "python",
   "pygments_lexer": "ipython3",
   "version": "3.10.18"
  }
 },
 "nbformat": 4,
 "nbformat_minor": 5
}
