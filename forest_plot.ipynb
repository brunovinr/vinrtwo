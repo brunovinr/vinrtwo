{
 "cells": [
  {
   "cell_type": "code",
   "execution_count": 1,
   "id": "53d01188-9d4d-4f08-9fbc-24ee666cc011",
   "metadata": {},
   "outputs": [
    {
     "name": "stderr",
     "output_type": "stream",
     "text": [
      "── \u001b[1mAttaching core tidyverse packages\u001b[22m ──────────────────────────────────────────────────── tidyverse 2.0.0 ──\n",
      "\u001b[32m✔\u001b[39m \u001b[34mdplyr    \u001b[39m 1.1.3     \u001b[32m✔\u001b[39m \u001b[34mreadr    \u001b[39m 2.1.4\n",
      "\u001b[32m✔\u001b[39m \u001b[34mforcats  \u001b[39m 1.0.0     \u001b[32m✔\u001b[39m \u001b[34mstringr  \u001b[39m 1.5.0\n",
      "\u001b[32m✔\u001b[39m \u001b[34mggplot2  \u001b[39m 3.4.4     \u001b[32m✔\u001b[39m \u001b[34mtibble   \u001b[39m 3.2.1\n",
      "\u001b[32m✔\u001b[39m \u001b[34mlubridate\u001b[39m 1.9.3     \u001b[32m✔\u001b[39m \u001b[34mtidyr    \u001b[39m 1.3.0\n",
      "\u001b[32m✔\u001b[39m \u001b[34mpurrr    \u001b[39m 1.0.2     \n",
      "── \u001b[1mConflicts\u001b[22m ────────────────────────────────────────────────────────────────────── tidyverse_conflicts() ──\n",
      "\u001b[31m✖\u001b[39m \u001b[34mdplyr\u001b[39m::\u001b[32mfilter()\u001b[39m masks \u001b[34mstats\u001b[39m::filter()\n",
      "\u001b[31m✖\u001b[39m \u001b[34mdplyr\u001b[39m::\u001b[32mlag()\u001b[39m    masks \u001b[34mstats\u001b[39m::lag()\n",
      "\u001b[36mℹ\u001b[39m Use the conflicted package (\u001b[3m\u001b[34m<http://conflicted.r-lib.org/>\u001b[39m\u001b[23m) to force all conflicts to become errors\n"
     ]
    }
   ],
   "source": [
    "library(tidyverse)\n",
    "library(broom)"
   ]
  },
  {
   "cell_type": "code",
   "execution_count": 2,
   "id": "2ac95e5f-ff0f-4706-bd91-0fd460ca1cbf",
   "metadata": {},
   "outputs": [],
   "source": [
    "set.seed(123)\n",
    "n <- 2000\n",
    "\n",
    "dados <- tibble(\n",
    "  Disease = sample(c(\"Chikungunya\", \"Dengue\"), n, replace = TRUE),\n",
    "  Sex = sample(c(\"Male\", \"Female\"), n, replace = TRUE),\n",
    "  Age = sample(1:100, n, replace = TRUE),\n",
    "  Diabetes = rbinom(n, 1, 0.2),\n",
    "  Autoimmune = rbinom(n, 1, 0.05),\n",
    "  Hematologic = rbinom(n, 1, 0.03),\n",
    "  Liver = rbinom(n, 1, 0.04),\n",
    "  Hypertension = rbinom(n, 1, 0.3),\n",
    "  Kidney = rbinom(n, 1, 0.05)\n",
    ")"
   ]
  },
  {
   "cell_type": "code",
   "execution_count": 3,
   "id": "6db77773-c5ec-447e-8029-e6aab0102606",
   "metadata": {},
   "outputs": [
    {
     "data": {
      "text/html": [
       "<table class=\"dataframe\">\n",
       "<caption>A tibble: 6 × 9</caption>\n",
       "<thead>\n",
       "\t<tr><th scope=col>Disease</th><th scope=col>Sex</th><th scope=col>Age</th><th scope=col>Diabetes</th><th scope=col>Autoimmune</th><th scope=col>Hematologic</th><th scope=col>Liver</th><th scope=col>Hypertension</th><th scope=col>Kidney</th></tr>\n",
       "\t<tr><th scope=col>&lt;chr&gt;</th><th scope=col>&lt;chr&gt;</th><th scope=col>&lt;int&gt;</th><th scope=col>&lt;int&gt;</th><th scope=col>&lt;int&gt;</th><th scope=col>&lt;int&gt;</th><th scope=col>&lt;int&gt;</th><th scope=col>&lt;int&gt;</th><th scope=col>&lt;int&gt;</th></tr>\n",
       "</thead>\n",
       "<tbody>\n",
       "\t<tr><td>Chikungunya</td><td>Male  </td><td>52</td><td>0</td><td>0</td><td>0</td><td>0</td><td>1</td><td>0</td></tr>\n",
       "\t<tr><td>Chikungunya</td><td>Male  </td><td>37</td><td>0</td><td>0</td><td>0</td><td>0</td><td>0</td><td>0</td></tr>\n",
       "\t<tr><td>Chikungunya</td><td>Male  </td><td>71</td><td>1</td><td>0</td><td>0</td><td>0</td><td>1</td><td>0</td></tr>\n",
       "\t<tr><td>Dengue     </td><td>Female</td><td>31</td><td>0</td><td>0</td><td>0</td><td>0</td><td>1</td><td>0</td></tr>\n",
       "\t<tr><td>Chikungunya</td><td>Female</td><td>31</td><td>0</td><td>0</td><td>0</td><td>0</td><td>0</td><td>0</td></tr>\n",
       "\t<tr><td>Dengue     </td><td>Male  </td><td>50</td><td>1</td><td>1</td><td>0</td><td>0</td><td>1</td><td>0</td></tr>\n",
       "</tbody>\n",
       "</table>\n"
      ],
      "text/latex": [
       "A tibble: 6 × 9\n",
       "\\begin{tabular}{lllllllll}\n",
       " Disease & Sex & Age & Diabetes & Autoimmune & Hematologic & Liver & Hypertension & Kidney\\\\\n",
       " <chr> & <chr> & <int> & <int> & <int> & <int> & <int> & <int> & <int>\\\\\n",
       "\\hline\n",
       "\t Chikungunya & Male   & 52 & 0 & 0 & 0 & 0 & 1 & 0\\\\\n",
       "\t Chikungunya & Male   & 37 & 0 & 0 & 0 & 0 & 0 & 0\\\\\n",
       "\t Chikungunya & Male   & 71 & 1 & 0 & 0 & 0 & 1 & 0\\\\\n",
       "\t Dengue      & Female & 31 & 0 & 0 & 0 & 0 & 1 & 0\\\\\n",
       "\t Chikungunya & Female & 31 & 0 & 0 & 0 & 0 & 0 & 0\\\\\n",
       "\t Dengue      & Male   & 50 & 1 & 1 & 0 & 0 & 1 & 0\\\\\n",
       "\\end{tabular}\n"
      ],
      "text/markdown": [
       "\n",
       "A tibble: 6 × 9\n",
       "\n",
       "| Disease &lt;chr&gt; | Sex &lt;chr&gt; | Age &lt;int&gt; | Diabetes &lt;int&gt; | Autoimmune &lt;int&gt; | Hematologic &lt;int&gt; | Liver &lt;int&gt; | Hypertension &lt;int&gt; | Kidney &lt;int&gt; |\n",
       "|---|---|---|---|---|---|---|---|---|\n",
       "| Chikungunya | Male   | 52 | 0 | 0 | 0 | 0 | 1 | 0 |\n",
       "| Chikungunya | Male   | 37 | 0 | 0 | 0 | 0 | 0 | 0 |\n",
       "| Chikungunya | Male   | 71 | 1 | 0 | 0 | 0 | 1 | 0 |\n",
       "| Dengue      | Female | 31 | 0 | 0 | 0 | 0 | 1 | 0 |\n",
       "| Chikungunya | Female | 31 | 0 | 0 | 0 | 0 | 0 | 0 |\n",
       "| Dengue      | Male   | 50 | 1 | 1 | 0 | 0 | 1 | 0 |\n",
       "\n"
      ],
      "text/plain": [
       "  Disease     Sex    Age Diabetes Autoimmune Hematologic Liver Hypertension\n",
       "1 Chikungunya Male   52  0        0          0           0     1           \n",
       "2 Chikungunya Male   37  0        0          0           0     0           \n",
       "3 Chikungunya Male   71  1        0          0           0     1           \n",
       "4 Dengue      Female 31  0        0          0           0     1           \n",
       "5 Chikungunya Female 31  0        0          0           0     0           \n",
       "6 Dengue      Male   50  1        1          0           0     1           \n",
       "  Kidney\n",
       "1 0     \n",
       "2 0     \n",
       "3 0     \n",
       "4 0     \n",
       "5 0     \n",
       "6 0     "
      ]
     },
     "metadata": {},
     "output_type": "display_data"
    }
   ],
   "source": [
    "head(dados)"
   ]
  },
  {
   "cell_type": "code",
   "execution_count": 4,
   "id": "7a7f9450-1bbb-4809-91c4-86fdf9e5d564",
   "metadata": {},
   "outputs": [
    {
     "data": {
      "text/html": [
       "<table class=\"dataframe\">\n",
       "<caption>A tibble: 6 × 11</caption>\n",
       "<thead>\n",
       "\t<tr><th scope=col>Disease</th><th scope=col>Sex</th><th scope=col>Age</th><th scope=col>Diabetes</th><th scope=col>Autoimmune</th><th scope=col>Hematologic</th><th scope=col>Liver</th><th scope=col>Hypertension</th><th scope=col>Kidney</th><th scope=col>AgeGroup</th><th scope=col>Outcome</th></tr>\n",
       "\t<tr><th scope=col>&lt;chr&gt;</th><th scope=col>&lt;chr&gt;</th><th scope=col>&lt;int&gt;</th><th scope=col>&lt;int&gt;</th><th scope=col>&lt;int&gt;</th><th scope=col>&lt;int&gt;</th><th scope=col>&lt;int&gt;</th><th scope=col>&lt;int&gt;</th><th scope=col>&lt;int&gt;</th><th scope=col>&lt;fct&gt;</th><th scope=col>&lt;int&gt;</th></tr>\n",
       "</thead>\n",
       "<tbody>\n",
       "\t<tr><td>Chikungunya</td><td>Male  </td><td>52</td><td>0</td><td>0</td><td>0</td><td>0</td><td>1</td><td>0</td><td>50-59</td><td>0</td></tr>\n",
       "\t<tr><td>Chikungunya</td><td>Male  </td><td>37</td><td>0</td><td>0</td><td>0</td><td>0</td><td>0</td><td>0</td><td>20-39</td><td>0</td></tr>\n",
       "\t<tr><td>Chikungunya</td><td>Male  </td><td>71</td><td>1</td><td>0</td><td>0</td><td>0</td><td>1</td><td>0</td><td>70-79</td><td>0</td></tr>\n",
       "\t<tr><td>Dengue     </td><td>Female</td><td>31</td><td>0</td><td>0</td><td>0</td><td>0</td><td>1</td><td>0</td><td>20-39</td><td>0</td></tr>\n",
       "\t<tr><td>Chikungunya</td><td>Female</td><td>31</td><td>0</td><td>0</td><td>0</td><td>0</td><td>0</td><td>0</td><td>20-39</td><td>0</td></tr>\n",
       "\t<tr><td>Dengue     </td><td>Male  </td><td>50</td><td>1</td><td>1</td><td>0</td><td>0</td><td>1</td><td>0</td><td>50-59</td><td>0</td></tr>\n",
       "</tbody>\n",
       "</table>\n"
      ],
      "text/latex": [
       "A tibble: 6 × 11\n",
       "\\begin{tabular}{lllllllllll}\n",
       " Disease & Sex & Age & Diabetes & Autoimmune & Hematologic & Liver & Hypertension & Kidney & AgeGroup & Outcome\\\\\n",
       " <chr> & <chr> & <int> & <int> & <int> & <int> & <int> & <int> & <int> & <fct> & <int>\\\\\n",
       "\\hline\n",
       "\t Chikungunya & Male   & 52 & 0 & 0 & 0 & 0 & 1 & 0 & 50-59 & 0\\\\\n",
       "\t Chikungunya & Male   & 37 & 0 & 0 & 0 & 0 & 0 & 0 & 20-39 & 0\\\\\n",
       "\t Chikungunya & Male   & 71 & 1 & 0 & 0 & 0 & 1 & 0 & 70-79 & 0\\\\\n",
       "\t Dengue      & Female & 31 & 0 & 0 & 0 & 0 & 1 & 0 & 20-39 & 0\\\\\n",
       "\t Chikungunya & Female & 31 & 0 & 0 & 0 & 0 & 0 & 0 & 20-39 & 0\\\\\n",
       "\t Dengue      & Male   & 50 & 1 & 1 & 0 & 0 & 1 & 0 & 50-59 & 0\\\\\n",
       "\\end{tabular}\n"
      ],
      "text/markdown": [
       "\n",
       "A tibble: 6 × 11\n",
       "\n",
       "| Disease &lt;chr&gt; | Sex &lt;chr&gt; | Age &lt;int&gt; | Diabetes &lt;int&gt; | Autoimmune &lt;int&gt; | Hematologic &lt;int&gt; | Liver &lt;int&gt; | Hypertension &lt;int&gt; | Kidney &lt;int&gt; | AgeGroup &lt;fct&gt; | Outcome &lt;int&gt; |\n",
       "|---|---|---|---|---|---|---|---|---|---|---|\n",
       "| Chikungunya | Male   | 52 | 0 | 0 | 0 | 0 | 1 | 0 | 50-59 | 0 |\n",
       "| Chikungunya | Male   | 37 | 0 | 0 | 0 | 0 | 0 | 0 | 20-39 | 0 |\n",
       "| Chikungunya | Male   | 71 | 1 | 0 | 0 | 0 | 1 | 0 | 70-79 | 0 |\n",
       "| Dengue      | Female | 31 | 0 | 0 | 0 | 0 | 1 | 0 | 20-39 | 0 |\n",
       "| Chikungunya | Female | 31 | 0 | 0 | 0 | 0 | 0 | 0 | 20-39 | 0 |\n",
       "| Dengue      | Male   | 50 | 1 | 1 | 0 | 0 | 1 | 0 | 50-59 | 0 |\n",
       "\n"
      ],
      "text/plain": [
       "  Disease     Sex    Age Diabetes Autoimmune Hematologic Liver Hypertension\n",
       "1 Chikungunya Male   52  0        0          0           0     1           \n",
       "2 Chikungunya Male   37  0        0          0           0     0           \n",
       "3 Chikungunya Male   71  1        0          0           0     1           \n",
       "4 Dengue      Female 31  0        0          0           0     1           \n",
       "5 Chikungunya Female 31  0        0          0           0     0           \n",
       "6 Dengue      Male   50  1        1          0           0     1           \n",
       "  Kidney AgeGroup Outcome\n",
       "1 0      50-59    0      \n",
       "2 0      20-39    0      \n",
       "3 0      70-79    0      \n",
       "4 0      20-39    0      \n",
       "5 0      20-39    0      \n",
       "6 0      50-59    0      "
      ]
     },
     "metadata": {},
     "output_type": "display_data"
    }
   ],
   "source": [
    "dados <- dados %>%\n",
    "  mutate(\n",
    "    AgeGroup = cut(\n",
    "      Age,\n",
    "      breaks = c(0, 1, 9, 19, 39, 49, 59, 69, 79, 89, Inf),\n",
    "      labels = c(\"<1\", \"1-9\", \"10-19\", \"20-39\", \"40-49\", \"50-59\",\n",
    "                 \"60-69\", \"70-79\", \"80-89\", \"≥90\"),\n",
    "      right = FALSE\n",
    "    ),\n",
    "    Outcome = rbinom(n, 1, prob = plogis(\n",
    "      -2 +\n",
    "        0.3 * (Sex == \"Male\") +\n",
    "        0.5 * (AgeGroup %in% c(\"70-79\", \"80-89\", \"≥90\")) +\n",
    "        0.6 * Diabetes +\n",
    "        0.8 * Autoimmune +\n",
    "        1.2 * Hematologic +\n",
    "        0.7 * Liver +\n",
    "        0.4 * Hypertension +\n",
    "        1.1 * Kidney\n",
    "    ))\n",
    "  )\n",
    "head(dados)"
   ]
  },
  {
   "cell_type": "code",
   "execution_count": 5,
   "id": "c42847bc-c84c-48a1-808f-039789109743",
   "metadata": {},
   "outputs": [],
   "source": [
    "model <- function(x) {\n",
    "  glm(\n",
    "    Outcome ~ Sex + AgeGroup + Diabetes + Autoimmune + Hematologic +\n",
    "      Liver + Hypertension + Kidney,\n",
    "    data = filter(dados, Disease == x),\n",
    "    family = binomial\n",
    "  )\n",
    "}"
   ]
  },
  {
   "cell_type": "code",
   "execution_count": 6,
   "id": "a58478d1-58e8-4eff-a6e9-16dc4aaa3b55",
   "metadata": {},
   "outputs": [
    {
     "data": {
      "text/plain": [
       "\n",
       "Call:  glm(formula = Outcome ~ Sex + AgeGroup + Diabetes + Autoimmune + \n",
       "    Hematologic + Liver + Hypertension + Kidney, family = binomial, \n",
       "    data = filter(dados, Disease == x))\n",
       "\n",
       "Coefficients:\n",
       "  (Intercept)        SexMale  AgeGroup10-19  AgeGroup20-39  AgeGroup40-49  \n",
       "     -2.20943        0.43135       -0.29625       -0.43789       -0.07921  \n",
       "AgeGroup50-59  AgeGroup60-69  AgeGroup70-79  AgeGroup80-89    AgeGroup≥90  \n",
       "     -0.41942       -0.32301        0.50355        0.94622        0.59512  \n",
       "     Diabetes     Autoimmune    Hematologic          Liver   Hypertension  \n",
       "      0.81485        0.90137        1.39289        1.26796        0.32296  \n",
       "       Kidney  \n",
       "      1.48438  \n",
       "\n",
       "Degrees of Freedom: 1020 Total (i.e. Null);  1005 Residual\n",
       "Null Deviance:\t    1038 \n",
       "Residual Deviance: 929 \tAIC: 961"
      ]
     },
     "metadata": {},
     "output_type": "display_data"
    }
   ],
   "source": [
    "model_chik <- model(\"Chikungunya\")\n",
    "model_chik"
   ]
  },
  {
   "cell_type": "code",
   "execution_count": 7,
   "id": "beb568f9-213d-4dd8-ac60-527ada7f14a5",
   "metadata": {},
   "outputs": [
    {
     "data": {
      "text/plain": [
       "\n",
       "Call:  glm(formula = Outcome ~ Sex + AgeGroup + Diabetes + Autoimmune + \n",
       "    Hematologic + Liver + Hypertension + Kidney, family = binomial, \n",
       "    data = filter(dados, Disease == x))\n",
       "\n",
       "Coefficients:\n",
       "  (Intercept)        SexMale  AgeGroup10-19  AgeGroup20-39  AgeGroup40-49  \n",
       "      -1.3578         0.2100        -0.3745        -1.0984        -0.7468  \n",
       "AgeGroup50-59  AgeGroup60-69  AgeGroup70-79  AgeGroup80-89    AgeGroup≥90  \n",
       "      -1.1404        -0.9910        -0.5163        -0.2260        -0.4879  \n",
       "     Diabetes     Autoimmune    Hematologic          Liver   Hypertension  \n",
       "       0.7833         0.5646         2.2991         0.9179         0.6676  \n",
       "       Kidney  \n",
       "       1.1713  \n",
       "\n",
       "Degrees of Freedom: 978 Total (i.e. Null);  963 Residual\n",
       "Null Deviance:\t    1036 \n",
       "Residual Deviance: 939.1 \tAIC: 971.1"
      ]
     },
     "metadata": {},
     "output_type": "display_data"
    }
   ],
   "source": [
    "model_dengue <- model(\"Dengue\")\n",
    "model_dengue"
   ]
  },
  {
   "cell_type": "code",
   "execution_count": 8,
   "id": "8747d0a7-6cea-4f4a-a788-0a5d78c24345",
   "metadata": {},
   "outputs": [],
   "source": [
    "extract_OR <- function(model, x) {\n",
    "  tidy(model, conf.int = TRUE, exponentiate = TRUE) %>%\n",
    "    filter(term != \"(Intercept)\") %>%\n",
    "    mutate(Disease = x)\n",
    "}"
   ]
  },
  {
   "cell_type": "code",
   "execution_count": 9,
   "id": "6791d69e-e6cb-4d38-b19a-5204d5882546",
   "metadata": {},
   "outputs": [],
   "source": [
    "res_chik <- extract_OR(model_chik, \"Chikungunya\")\n",
    "res_dengue <- extract_OR(model_dengue, \"Dengue\")"
   ]
  },
  {
   "cell_type": "code",
   "execution_count": 10,
   "id": "873c00f3-7c6a-4565-bcf6-174f886b9009",
   "metadata": {},
   "outputs": [
    {
     "data": {
      "text/html": [
       "<table class=\"dataframe\">\n",
       "<caption>A tibble: 6 × 8</caption>\n",
       "<thead>\n",
       "\t<tr><th scope=col>term</th><th scope=col>estimate</th><th scope=col>std.error</th><th scope=col>statistic</th><th scope=col>p.value</th><th scope=col>conf.low</th><th scope=col>conf.high</th><th scope=col>Disease</th></tr>\n",
       "\t<tr><th scope=col>&lt;chr&gt;</th><th scope=col>&lt;dbl&gt;</th><th scope=col>&lt;dbl&gt;</th><th scope=col>&lt;dbl&gt;</th><th scope=col>&lt;dbl&gt;</th><th scope=col>&lt;dbl&gt;</th><th scope=col>&lt;dbl&gt;</th><th scope=col>&lt;chr&gt;</th></tr>\n",
       "</thead>\n",
       "<tbody>\n",
       "\t<tr><td>SexMale      </td><td>1.5393326</td><td>0.1673221</td><td> 2.5779557</td><td>0.009938675</td><td>1.1107598</td><td>2.141898</td><td>Chikungunya</td></tr>\n",
       "\t<tr><td>AgeGroup10-19</td><td>0.7436009</td><td>0.3983466</td><td>-0.7437011</td><td>0.457057305</td><td>0.3377679</td><td>1.624260</td><td>Chikungunya</td></tr>\n",
       "\t<tr><td>AgeGroup20-39</td><td>0.6453977</td><td>0.3507890</td><td>-1.2482964</td><td>0.211922540</td><td>0.3262532</td><td>1.298970</td><td>Chikungunya</td></tr>\n",
       "\t<tr><td>AgeGroup40-49</td><td>0.9238464</td><td>0.3868832</td><td>-0.2047374</td><td>0.837777309</td><td>0.4311526</td><td>1.980467</td><td>Chikungunya</td></tr>\n",
       "\t<tr><td>AgeGroup50-59</td><td>0.6574309</td><td>0.4006488</td><td>-1.0468412</td><td>0.295172821</td><td>0.2964296</td><td>1.439702</td><td>Chikungunya</td></tr>\n",
       "\t<tr><td>AgeGroup60-69</td><td>0.7239670</td><td>0.3993312</td><td>-0.8088763</td><td>0.418586323</td><td>0.3281667</td><td>1.584068</td><td>Chikungunya</td></tr>\n",
       "</tbody>\n",
       "</table>\n"
      ],
      "text/latex": [
       "A tibble: 6 × 8\n",
       "\\begin{tabular}{llllllll}\n",
       " term & estimate & std.error & statistic & p.value & conf.low & conf.high & Disease\\\\\n",
       " <chr> & <dbl> & <dbl> & <dbl> & <dbl> & <dbl> & <dbl> & <chr>\\\\\n",
       "\\hline\n",
       "\t SexMale       & 1.5393326 & 0.1673221 &  2.5779557 & 0.009938675 & 1.1107598 & 2.141898 & Chikungunya\\\\\n",
       "\t AgeGroup10-19 & 0.7436009 & 0.3983466 & -0.7437011 & 0.457057305 & 0.3377679 & 1.624260 & Chikungunya\\\\\n",
       "\t AgeGroup20-39 & 0.6453977 & 0.3507890 & -1.2482964 & 0.211922540 & 0.3262532 & 1.298970 & Chikungunya\\\\\n",
       "\t AgeGroup40-49 & 0.9238464 & 0.3868832 & -0.2047374 & 0.837777309 & 0.4311526 & 1.980467 & Chikungunya\\\\\n",
       "\t AgeGroup50-59 & 0.6574309 & 0.4006488 & -1.0468412 & 0.295172821 & 0.2964296 & 1.439702 & Chikungunya\\\\\n",
       "\t AgeGroup60-69 & 0.7239670 & 0.3993312 & -0.8088763 & 0.418586323 & 0.3281667 & 1.584068 & Chikungunya\\\\\n",
       "\\end{tabular}\n"
      ],
      "text/markdown": [
       "\n",
       "A tibble: 6 × 8\n",
       "\n",
       "| term &lt;chr&gt; | estimate &lt;dbl&gt; | std.error &lt;dbl&gt; | statistic &lt;dbl&gt; | p.value &lt;dbl&gt; | conf.low &lt;dbl&gt; | conf.high &lt;dbl&gt; | Disease &lt;chr&gt; |\n",
       "|---|---|---|---|---|---|---|---|\n",
       "| SexMale       | 1.5393326 | 0.1673221 |  2.5779557 | 0.009938675 | 1.1107598 | 2.141898 | Chikungunya |\n",
       "| AgeGroup10-19 | 0.7436009 | 0.3983466 | -0.7437011 | 0.457057305 | 0.3377679 | 1.624260 | Chikungunya |\n",
       "| AgeGroup20-39 | 0.6453977 | 0.3507890 | -1.2482964 | 0.211922540 | 0.3262532 | 1.298970 | Chikungunya |\n",
       "| AgeGroup40-49 | 0.9238464 | 0.3868832 | -0.2047374 | 0.837777309 | 0.4311526 | 1.980467 | Chikungunya |\n",
       "| AgeGroup50-59 | 0.6574309 | 0.4006488 | -1.0468412 | 0.295172821 | 0.2964296 | 1.439702 | Chikungunya |\n",
       "| AgeGroup60-69 | 0.7239670 | 0.3993312 | -0.8088763 | 0.418586323 | 0.3281667 | 1.584068 | Chikungunya |\n",
       "\n"
      ],
      "text/plain": [
       "  term          estimate  std.error statistic  p.value     conf.low  conf.high\n",
       "1 SexMale       1.5393326 0.1673221  2.5779557 0.009938675 1.1107598 2.141898 \n",
       "2 AgeGroup10-19 0.7436009 0.3983466 -0.7437011 0.457057305 0.3377679 1.624260 \n",
       "3 AgeGroup20-39 0.6453977 0.3507890 -1.2482964 0.211922540 0.3262532 1.298970 \n",
       "4 AgeGroup40-49 0.9238464 0.3868832 -0.2047374 0.837777309 0.4311526 1.980467 \n",
       "5 AgeGroup50-59 0.6574309 0.4006488 -1.0468412 0.295172821 0.2964296 1.439702 \n",
       "6 AgeGroup60-69 0.7239670 0.3993312 -0.8088763 0.418586323 0.3281667 1.584068 \n",
       "  Disease    \n",
       "1 Chikungunya\n",
       "2 Chikungunya\n",
       "3 Chikungunya\n",
       "4 Chikungunya\n",
       "5 Chikungunya\n",
       "6 Chikungunya"
      ]
     },
     "metadata": {},
     "output_type": "display_data"
    }
   ],
   "source": [
    "head(res_chik)"
   ]
  },
  {
   "cell_type": "code",
   "execution_count": 11,
   "id": "165eddab-7138-4a86-9c9c-ffd3f607dc4d",
   "metadata": {},
   "outputs": [
    {
     "data": {
      "text/html": [
       "<table class=\"dataframe\">\n",
       "<caption>A tibble: 6 × 8</caption>\n",
       "<thead>\n",
       "\t<tr><th scope=col>term</th><th scope=col>estimate</th><th scope=col>std.error</th><th scope=col>statistic</th><th scope=col>p.value</th><th scope=col>conf.low</th><th scope=col>conf.high</th><th scope=col>Disease</th></tr>\n",
       "\t<tr><th scope=col>&lt;chr&gt;</th><th scope=col>&lt;dbl&gt;</th><th scope=col>&lt;dbl&gt;</th><th scope=col>&lt;dbl&gt;</th><th scope=col>&lt;dbl&gt;</th><th scope=col>&lt;dbl&gt;</th><th scope=col>&lt;dbl&gt;</th><th scope=col>&lt;chr&gt;</th></tr>\n",
       "</thead>\n",
       "<tbody>\n",
       "\t<tr><td>SexMale      </td><td>1.2336213</td><td>0.1649536</td><td> 1.272807</td><td>0.2030865735</td><td>0.8932216</td><td>1.7063802</td><td>Dengue</td></tr>\n",
       "\t<tr><td>AgeGroup10-19</td><td>0.6876136</td><td>0.3461602</td><td>-1.081950</td><td>0.2792745743</td><td>0.3478951</td><td>1.3570717</td><td>Dengue</td></tr>\n",
       "\t<tr><td>AgeGroup20-39</td><td>0.3334139</td><td>0.3254082</td><td>-3.375363</td><td>0.0007371846</td><td>0.1759164</td><td>0.6325167</td><td>Dengue</td></tr>\n",
       "\t<tr><td>AgeGroup40-49</td><td>0.4738838</td><td>0.3651469</td><td>-2.045186</td><td>0.0408365452</td><td>0.2296008</td><td>0.9658233</td><td>Dengue</td></tr>\n",
       "\t<tr><td>AgeGroup50-59</td><td>0.3196814</td><td>0.3932148</td><td>-2.900273</td><td>0.0037283801</td><td>0.1450240</td><td>0.6824892</td><td>Dengue</td></tr>\n",
       "\t<tr><td>AgeGroup60-69</td><td>0.3712017</td><td>0.3656514</td><td>-2.710259</td><td>0.0067230728</td><td>0.1792948</td><td>0.7560217</td><td>Dengue</td></tr>\n",
       "</tbody>\n",
       "</table>\n"
      ],
      "text/latex": [
       "A tibble: 6 × 8\n",
       "\\begin{tabular}{llllllll}\n",
       " term & estimate & std.error & statistic & p.value & conf.low & conf.high & Disease\\\\\n",
       " <chr> & <dbl> & <dbl> & <dbl> & <dbl> & <dbl> & <dbl> & <chr>\\\\\n",
       "\\hline\n",
       "\t SexMale       & 1.2336213 & 0.1649536 &  1.272807 & 0.2030865735 & 0.8932216 & 1.7063802 & Dengue\\\\\n",
       "\t AgeGroup10-19 & 0.6876136 & 0.3461602 & -1.081950 & 0.2792745743 & 0.3478951 & 1.3570717 & Dengue\\\\\n",
       "\t AgeGroup20-39 & 0.3334139 & 0.3254082 & -3.375363 & 0.0007371846 & 0.1759164 & 0.6325167 & Dengue\\\\\n",
       "\t AgeGroup40-49 & 0.4738838 & 0.3651469 & -2.045186 & 0.0408365452 & 0.2296008 & 0.9658233 & Dengue\\\\\n",
       "\t AgeGroup50-59 & 0.3196814 & 0.3932148 & -2.900273 & 0.0037283801 & 0.1450240 & 0.6824892 & Dengue\\\\\n",
       "\t AgeGroup60-69 & 0.3712017 & 0.3656514 & -2.710259 & 0.0067230728 & 0.1792948 & 0.7560217 & Dengue\\\\\n",
       "\\end{tabular}\n"
      ],
      "text/markdown": [
       "\n",
       "A tibble: 6 × 8\n",
       "\n",
       "| term &lt;chr&gt; | estimate &lt;dbl&gt; | std.error &lt;dbl&gt; | statistic &lt;dbl&gt; | p.value &lt;dbl&gt; | conf.low &lt;dbl&gt; | conf.high &lt;dbl&gt; | Disease &lt;chr&gt; |\n",
       "|---|---|---|---|---|---|---|---|\n",
       "| SexMale       | 1.2336213 | 0.1649536 |  1.272807 | 0.2030865735 | 0.8932216 | 1.7063802 | Dengue |\n",
       "| AgeGroup10-19 | 0.6876136 | 0.3461602 | -1.081950 | 0.2792745743 | 0.3478951 | 1.3570717 | Dengue |\n",
       "| AgeGroup20-39 | 0.3334139 | 0.3254082 | -3.375363 | 0.0007371846 | 0.1759164 | 0.6325167 | Dengue |\n",
       "| AgeGroup40-49 | 0.4738838 | 0.3651469 | -2.045186 | 0.0408365452 | 0.2296008 | 0.9658233 | Dengue |\n",
       "| AgeGroup50-59 | 0.3196814 | 0.3932148 | -2.900273 | 0.0037283801 | 0.1450240 | 0.6824892 | Dengue |\n",
       "| AgeGroup60-69 | 0.3712017 | 0.3656514 | -2.710259 | 0.0067230728 | 0.1792948 | 0.7560217 | Dengue |\n",
       "\n"
      ],
      "text/plain": [
       "  term          estimate  std.error statistic p.value      conf.low  conf.high\n",
       "1 SexMale       1.2336213 0.1649536  1.272807 0.2030865735 0.8932216 1.7063802\n",
       "2 AgeGroup10-19 0.6876136 0.3461602 -1.081950 0.2792745743 0.3478951 1.3570717\n",
       "3 AgeGroup20-39 0.3334139 0.3254082 -3.375363 0.0007371846 0.1759164 0.6325167\n",
       "4 AgeGroup40-49 0.4738838 0.3651469 -2.045186 0.0408365452 0.2296008 0.9658233\n",
       "5 AgeGroup50-59 0.3196814 0.3932148 -2.900273 0.0037283801 0.1450240 0.6824892\n",
       "6 AgeGroup60-69 0.3712017 0.3656514 -2.710259 0.0067230728 0.1792948 0.7560217\n",
       "  Disease\n",
       "1 Dengue \n",
       "2 Dengue \n",
       "3 Dengue \n",
       "4 Dengue \n",
       "5 Dengue \n",
       "6 Dengue "
      ]
     },
     "metadata": {},
     "output_type": "display_data"
    }
   ],
   "source": [
    "head(res_dengue)"
   ]
  },
  {
   "cell_type": "code",
   "execution_count": 12,
   "id": "83ade06a-73e8-45f8-919c-3707a9e886a6",
   "metadata": {},
   "outputs": [
    {
     "data": {
      "text/html": [
       "<table class=\"dataframe\">\n",
       "<caption>A tibble: 20 × 8</caption>\n",
       "<thead>\n",
       "\t<tr><th scope=col>term</th><th scope=col>OR</th><th scope=col>std.error</th><th scope=col>statistic</th><th scope=col>p.value</th><th scope=col>CI_low</th><th scope=col>CI_high</th><th scope=col>Disease</th></tr>\n",
       "\t<tr><th scope=col>&lt;chr&gt;</th><th scope=col>&lt;dbl&gt;</th><th scope=col>&lt;dbl&gt;</th><th scope=col>&lt;dbl&gt;</th><th scope=col>&lt;dbl&gt;</th><th scope=col>&lt;dbl&gt;</th><th scope=col>&lt;dbl&gt;</th><th scope=col>&lt;chr&gt;</th></tr>\n",
       "</thead>\n",
       "<tbody>\n",
       "\t<tr><td>Sex: Male            </td><td>1.5393326</td><td>0.1673221</td><td> 2.5779557</td><td>9.938675e-03</td><td>1.1107598</td><td>2.1418981</td><td>Chikungunya</td></tr>\n",
       "\t<tr><td>Age Group: 10-19     </td><td>0.7436009</td><td>0.3983466</td><td>-0.7437011</td><td>4.570573e-01</td><td>0.3377679</td><td>1.6242604</td><td>Chikungunya</td></tr>\n",
       "\t<tr><td>Age Group: 20-39     </td><td>0.6453977</td><td>0.3507890</td><td>-1.2482964</td><td>2.119225e-01</td><td>0.3262532</td><td>1.2989704</td><td>Chikungunya</td></tr>\n",
       "\t<tr><td>Age Group: 40-49     </td><td>0.9238464</td><td>0.3868832</td><td>-0.2047374</td><td>8.377773e-01</td><td>0.4311526</td><td>1.9804666</td><td>Chikungunya</td></tr>\n",
       "\t<tr><td>Age Group: 50-59     </td><td>0.6574309</td><td>0.4006488</td><td>-1.0468412</td><td>2.951728e-01</td><td>0.2964296</td><td>1.4397021</td><td>Chikungunya</td></tr>\n",
       "\t<tr><td>Age Group: 60-69     </td><td>0.7239670</td><td>0.3993312</td><td>-0.8088763</td><td>4.185863e-01</td><td>0.3281667</td><td>1.5840675</td><td>Chikungunya</td></tr>\n",
       "\t<tr><td>Age Group: 70-79     </td><td>1.6545884</td><td>0.3640407</td><td> 1.3832305</td><td>1.665942e-01</td><td>0.8159275</td><td>3.4197230</td><td>Chikungunya</td></tr>\n",
       "\t<tr><td>Age Group: 80-89     </td><td>2.5759452</td><td>0.3507802</td><td> 2.6974628</td><td>6.987010e-03</td><td>1.3102202</td><td>5.2089115</td><td>Chikungunya</td></tr>\n",
       "\t<tr><td>Age Group: ≥90       </td><td>1.8132552</td><td>0.3511145</td><td> 1.6949561</td><td>9.008376e-02</td><td>0.9200792</td><td>3.6642114</td><td>Chikungunya</td></tr>\n",
       "\t<tr><td>Diabetes             </td><td>2.2588282</td><td>0.2000738</td><td> 4.0727283</td><td>4.646562e-05</td><td>1.5204687</td><td>3.3354775</td><td>Chikungunya</td></tr>\n",
       "\t<tr><td>Autoimmune disease   </td><td>2.4629835</td><td>0.3411956</td><td> 2.6418084</td><td>8.246470e-03</td><td>1.2384247</td><td>4.7532503</td><td>Chikungunya</td></tr>\n",
       "\t<tr><td>Hematological disease</td><td>4.0264559</td><td>0.4045253</td><td> 3.4432621</td><td>5.747420e-04</td><td>1.8043651</td><td>8.9167263</td><td>Chikungunya</td></tr>\n",
       "\t<tr><td>Liver disease        </td><td>3.5535910</td><td>0.3678713</td><td> 3.4467452</td><td>5.673835e-04</td><td>1.6908016</td><td>7.2244491</td><td>Chikungunya</td></tr>\n",
       "\t<tr><td>Hypertension         </td><td>1.3812034</td><td>0.1776384</td><td> 1.8180481</td><td>6.905678e-02</td><td>0.9720517</td><td>1.9520857</td><td>Chikungunya</td></tr>\n",
       "\t<tr><td>Kidney disease       </td><td>4.4122201</td><td>0.2909315</td><td> 5.1021568</td><td>3.358043e-07</td><td>2.4850871</td><td>7.8060506</td><td>Chikungunya</td></tr>\n",
       "\t<tr><td>Sex: Male            </td><td>1.2336213</td><td>0.1649536</td><td> 1.2728069</td><td>2.030866e-01</td><td>0.8932216</td><td>1.7063802</td><td>Dengue     </td></tr>\n",
       "\t<tr><td>Age Group: 10-19     </td><td>0.6876136</td><td>0.3461602</td><td>-1.0819504</td><td>2.792746e-01</td><td>0.3478951</td><td>1.3570717</td><td>Dengue     </td></tr>\n",
       "\t<tr><td>Age Group: 20-39     </td><td>0.3334139</td><td>0.3254082</td><td>-3.3753627</td><td>7.371846e-04</td><td>0.1759164</td><td>0.6325167</td><td>Dengue     </td></tr>\n",
       "\t<tr><td>Age Group: 40-49     </td><td>0.4738838</td><td>0.3651469</td><td>-2.0451858</td><td>4.083655e-02</td><td>0.2296008</td><td>0.9658233</td><td>Dengue     </td></tr>\n",
       "\t<tr><td>Age Group: 50-59     </td><td>0.3196814</td><td>0.3932148</td><td>-2.9002728</td><td>3.728380e-03</td><td>0.1450240</td><td>0.6824892</td><td>Dengue     </td></tr>\n",
       "</tbody>\n",
       "</table>\n"
      ],
      "text/latex": [
       "A tibble: 20 × 8\n",
       "\\begin{tabular}{llllllll}\n",
       " term & OR & std.error & statistic & p.value & CI\\_low & CI\\_high & Disease\\\\\n",
       " <chr> & <dbl> & <dbl> & <dbl> & <dbl> & <dbl> & <dbl> & <chr>\\\\\n",
       "\\hline\n",
       "\t Sex: Male             & 1.5393326 & 0.1673221 &  2.5779557 & 9.938675e-03 & 1.1107598 & 2.1418981 & Chikungunya\\\\\n",
       "\t Age Group: 10-19      & 0.7436009 & 0.3983466 & -0.7437011 & 4.570573e-01 & 0.3377679 & 1.6242604 & Chikungunya\\\\\n",
       "\t Age Group: 20-39      & 0.6453977 & 0.3507890 & -1.2482964 & 2.119225e-01 & 0.3262532 & 1.2989704 & Chikungunya\\\\\n",
       "\t Age Group: 40-49      & 0.9238464 & 0.3868832 & -0.2047374 & 8.377773e-01 & 0.4311526 & 1.9804666 & Chikungunya\\\\\n",
       "\t Age Group: 50-59      & 0.6574309 & 0.4006488 & -1.0468412 & 2.951728e-01 & 0.2964296 & 1.4397021 & Chikungunya\\\\\n",
       "\t Age Group: 60-69      & 0.7239670 & 0.3993312 & -0.8088763 & 4.185863e-01 & 0.3281667 & 1.5840675 & Chikungunya\\\\\n",
       "\t Age Group: 70-79      & 1.6545884 & 0.3640407 &  1.3832305 & 1.665942e-01 & 0.8159275 & 3.4197230 & Chikungunya\\\\\n",
       "\t Age Group: 80-89      & 2.5759452 & 0.3507802 &  2.6974628 & 6.987010e-03 & 1.3102202 & 5.2089115 & Chikungunya\\\\\n",
       "\t Age Group: ≥90        & 1.8132552 & 0.3511145 &  1.6949561 & 9.008376e-02 & 0.9200792 & 3.6642114 & Chikungunya\\\\\n",
       "\t Diabetes              & 2.2588282 & 0.2000738 &  4.0727283 & 4.646562e-05 & 1.5204687 & 3.3354775 & Chikungunya\\\\\n",
       "\t Autoimmune disease    & 2.4629835 & 0.3411956 &  2.6418084 & 8.246470e-03 & 1.2384247 & 4.7532503 & Chikungunya\\\\\n",
       "\t Hematological disease & 4.0264559 & 0.4045253 &  3.4432621 & 5.747420e-04 & 1.8043651 & 8.9167263 & Chikungunya\\\\\n",
       "\t Liver disease         & 3.5535910 & 0.3678713 &  3.4467452 & 5.673835e-04 & 1.6908016 & 7.2244491 & Chikungunya\\\\\n",
       "\t Hypertension          & 1.3812034 & 0.1776384 &  1.8180481 & 6.905678e-02 & 0.9720517 & 1.9520857 & Chikungunya\\\\\n",
       "\t Kidney disease        & 4.4122201 & 0.2909315 &  5.1021568 & 3.358043e-07 & 2.4850871 & 7.8060506 & Chikungunya\\\\\n",
       "\t Sex: Male             & 1.2336213 & 0.1649536 &  1.2728069 & 2.030866e-01 & 0.8932216 & 1.7063802 & Dengue     \\\\\n",
       "\t Age Group: 10-19      & 0.6876136 & 0.3461602 & -1.0819504 & 2.792746e-01 & 0.3478951 & 1.3570717 & Dengue     \\\\\n",
       "\t Age Group: 20-39      & 0.3334139 & 0.3254082 & -3.3753627 & 7.371846e-04 & 0.1759164 & 0.6325167 & Dengue     \\\\\n",
       "\t Age Group: 40-49      & 0.4738838 & 0.3651469 & -2.0451858 & 4.083655e-02 & 0.2296008 & 0.9658233 & Dengue     \\\\\n",
       "\t Age Group: 50-59      & 0.3196814 & 0.3932148 & -2.9002728 & 3.728380e-03 & 0.1450240 & 0.6824892 & Dengue     \\\\\n",
       "\\end{tabular}\n"
      ],
      "text/markdown": [
       "\n",
       "A tibble: 20 × 8\n",
       "\n",
       "| term &lt;chr&gt; | OR &lt;dbl&gt; | std.error &lt;dbl&gt; | statistic &lt;dbl&gt; | p.value &lt;dbl&gt; | CI_low &lt;dbl&gt; | CI_high &lt;dbl&gt; | Disease &lt;chr&gt; |\n",
       "|---|---|---|---|---|---|---|---|\n",
       "| Sex: Male             | 1.5393326 | 0.1673221 |  2.5779557 | 9.938675e-03 | 1.1107598 | 2.1418981 | Chikungunya |\n",
       "| Age Group: 10-19      | 0.7436009 | 0.3983466 | -0.7437011 | 4.570573e-01 | 0.3377679 | 1.6242604 | Chikungunya |\n",
       "| Age Group: 20-39      | 0.6453977 | 0.3507890 | -1.2482964 | 2.119225e-01 | 0.3262532 | 1.2989704 | Chikungunya |\n",
       "| Age Group: 40-49      | 0.9238464 | 0.3868832 | -0.2047374 | 8.377773e-01 | 0.4311526 | 1.9804666 | Chikungunya |\n",
       "| Age Group: 50-59      | 0.6574309 | 0.4006488 | -1.0468412 | 2.951728e-01 | 0.2964296 | 1.4397021 | Chikungunya |\n",
       "| Age Group: 60-69      | 0.7239670 | 0.3993312 | -0.8088763 | 4.185863e-01 | 0.3281667 | 1.5840675 | Chikungunya |\n",
       "| Age Group: 70-79      | 1.6545884 | 0.3640407 |  1.3832305 | 1.665942e-01 | 0.8159275 | 3.4197230 | Chikungunya |\n",
       "| Age Group: 80-89      | 2.5759452 | 0.3507802 |  2.6974628 | 6.987010e-03 | 1.3102202 | 5.2089115 | Chikungunya |\n",
       "| Age Group: ≥90        | 1.8132552 | 0.3511145 |  1.6949561 | 9.008376e-02 | 0.9200792 | 3.6642114 | Chikungunya |\n",
       "| Diabetes              | 2.2588282 | 0.2000738 |  4.0727283 | 4.646562e-05 | 1.5204687 | 3.3354775 | Chikungunya |\n",
       "| Autoimmune disease    | 2.4629835 | 0.3411956 |  2.6418084 | 8.246470e-03 | 1.2384247 | 4.7532503 | Chikungunya |\n",
       "| Hematological disease | 4.0264559 | 0.4045253 |  3.4432621 | 5.747420e-04 | 1.8043651 | 8.9167263 | Chikungunya |\n",
       "| Liver disease         | 3.5535910 | 0.3678713 |  3.4467452 | 5.673835e-04 | 1.6908016 | 7.2244491 | Chikungunya |\n",
       "| Hypertension          | 1.3812034 | 0.1776384 |  1.8180481 | 6.905678e-02 | 0.9720517 | 1.9520857 | Chikungunya |\n",
       "| Kidney disease        | 4.4122201 | 0.2909315 |  5.1021568 | 3.358043e-07 | 2.4850871 | 7.8060506 | Chikungunya |\n",
       "| Sex: Male             | 1.2336213 | 0.1649536 |  1.2728069 | 2.030866e-01 | 0.8932216 | 1.7063802 | Dengue      |\n",
       "| Age Group: 10-19      | 0.6876136 | 0.3461602 | -1.0819504 | 2.792746e-01 | 0.3478951 | 1.3570717 | Dengue      |\n",
       "| Age Group: 20-39      | 0.3334139 | 0.3254082 | -3.3753627 | 7.371846e-04 | 0.1759164 | 0.6325167 | Dengue      |\n",
       "| Age Group: 40-49      | 0.4738838 | 0.3651469 | -2.0451858 | 4.083655e-02 | 0.2296008 | 0.9658233 | Dengue      |\n",
       "| Age Group: 50-59      | 0.3196814 | 0.3932148 | -2.9002728 | 3.728380e-03 | 0.1450240 | 0.6824892 | Dengue      |\n",
       "\n"
      ],
      "text/plain": [
       "   term                  OR        std.error statistic  p.value      CI_low   \n",
       "1  Sex: Male             1.5393326 0.1673221  2.5779557 9.938675e-03 1.1107598\n",
       "2  Age Group: 10-19      0.7436009 0.3983466 -0.7437011 4.570573e-01 0.3377679\n",
       "3  Age Group: 20-39      0.6453977 0.3507890 -1.2482964 2.119225e-01 0.3262532\n",
       "4  Age Group: 40-49      0.9238464 0.3868832 -0.2047374 8.377773e-01 0.4311526\n",
       "5  Age Group: 50-59      0.6574309 0.4006488 -1.0468412 2.951728e-01 0.2964296\n",
       "6  Age Group: 60-69      0.7239670 0.3993312 -0.8088763 4.185863e-01 0.3281667\n",
       "7  Age Group: 70-79      1.6545884 0.3640407  1.3832305 1.665942e-01 0.8159275\n",
       "8  Age Group: 80-89      2.5759452 0.3507802  2.6974628 6.987010e-03 1.3102202\n",
       "9  Age Group: ≥90        1.8132552 0.3511145  1.6949561 9.008376e-02 0.9200792\n",
       "10 Diabetes              2.2588282 0.2000738  4.0727283 4.646562e-05 1.5204687\n",
       "11 Autoimmune disease    2.4629835 0.3411956  2.6418084 8.246470e-03 1.2384247\n",
       "12 Hematological disease 4.0264559 0.4045253  3.4432621 5.747420e-04 1.8043651\n",
       "13 Liver disease         3.5535910 0.3678713  3.4467452 5.673835e-04 1.6908016\n",
       "14 Hypertension          1.3812034 0.1776384  1.8180481 6.905678e-02 0.9720517\n",
       "15 Kidney disease        4.4122201 0.2909315  5.1021568 3.358043e-07 2.4850871\n",
       "16 Sex: Male             1.2336213 0.1649536  1.2728069 2.030866e-01 0.8932216\n",
       "17 Age Group: 10-19      0.6876136 0.3461602 -1.0819504 2.792746e-01 0.3478951\n",
       "18 Age Group: 20-39      0.3334139 0.3254082 -3.3753627 7.371846e-04 0.1759164\n",
       "19 Age Group: 40-49      0.4738838 0.3651469 -2.0451858 4.083655e-02 0.2296008\n",
       "20 Age Group: 50-59      0.3196814 0.3932148 -2.9002728 3.728380e-03 0.1450240\n",
       "   CI_high   Disease    \n",
       "1  2.1418981 Chikungunya\n",
       "2  1.6242604 Chikungunya\n",
       "3  1.2989704 Chikungunya\n",
       "4  1.9804666 Chikungunya\n",
       "5  1.4397021 Chikungunya\n",
       "6  1.5840675 Chikungunya\n",
       "7  3.4197230 Chikungunya\n",
       "8  5.2089115 Chikungunya\n",
       "9  3.6642114 Chikungunya\n",
       "10 3.3354775 Chikungunya\n",
       "11 4.7532503 Chikungunya\n",
       "12 8.9167263 Chikungunya\n",
       "13 7.2244491 Chikungunya\n",
       "14 1.9520857 Chikungunya\n",
       "15 7.8060506 Chikungunya\n",
       "16 1.7063802 Dengue     \n",
       "17 1.3570717 Dengue     \n",
       "18 0.6325167 Dengue     \n",
       "19 0.9658233 Dengue     \n",
       "20 0.6824892 Dengue     "
      ]
     },
     "metadata": {},
     "output_type": "display_data"
    }
   ],
   "source": [
    "results <- bind_rows(res_chik, res_dengue) %>%\n",
    "  mutate(\n",
    "    term = gsub(\"Sex\", \"Sex: \", term),\n",
    "    term = gsub(\"AgeGroup\", \"Age Group: \", term),\n",
    "    term = gsub(\"Diabetes\", \"Diabetes\", term),\n",
    "    term = gsub(\"Autoimmune\", \"Autoimmune disease\", term),\n",
    "    term = gsub(\"Hematologic\", \"Hematological disease\", term),\n",
    "    term = gsub(\"Liver\", \"Liver disease\", term),\n",
    "    term = gsub(\"Hypertension\", \"Hypertension\", term),\n",
    "    term = gsub(\"Kidney\", \"Kidney disease\", term),\n",
    "    term = gsub(\"\\\\)\", \"\", gsub(\"\\\\(\", \"\", term)),\n",
    "    term = gsub(\"\\\\: \", \": \", term)\n",
    "  ) %>%\n",
    "  rename(OR = estimate, CI_low = conf.low, CI_high = conf.high)\n",
    "head(results, 20)"
   ]
  },
  {
   "cell_type": "code",
   "execution_count": 13,
   "id": "089965c7-d645-48bc-8498-7d1393290901",
   "metadata": {},
   "outputs": [
    {
     "data": {
      "text/html": [
       "<table class=\"dataframe\">\n",
       "<caption>A tibble: 6 × 10</caption>\n",
       "<thead>\n",
       "\t<tr><th scope=col>term</th><th scope=col>OR</th><th scope=col>std.error</th><th scope=col>statistic</th><th scope=col>p.value</th><th scope=col>CI_low</th><th scope=col>CI_high</th><th scope=col>Disease</th><th scope=col>Variable</th><th scope=col>Level</th></tr>\n",
       "\t<tr><th scope=col>&lt;chr&gt;</th><th scope=col>&lt;dbl&gt;</th><th scope=col>&lt;dbl&gt;</th><th scope=col>&lt;dbl&gt;</th><th scope=col>&lt;dbl&gt;</th><th scope=col>&lt;dbl&gt;</th><th scope=col>&lt;dbl&gt;</th><th scope=col>&lt;chr&gt;</th><th scope=col>&lt;chr&gt;</th><th scope=col>&lt;chr&gt;</th></tr>\n",
       "</thead>\n",
       "<tbody>\n",
       "\t<tr><td>Sex: Male       </td><td>1.5393326</td><td>0.1673221</td><td> 2.5779557</td><td>0.009938675</td><td>1.1107598</td><td>2.141898</td><td>Chikungunya</td><td>Sex      </td><td>Male </td></tr>\n",
       "\t<tr><td>Age Group: 10-19</td><td>0.7436009</td><td>0.3983466</td><td>-0.7437011</td><td>0.457057305</td><td>0.3377679</td><td>1.624260</td><td>Chikungunya</td><td>Age Group</td><td>10-19</td></tr>\n",
       "\t<tr><td>Age Group: 20-39</td><td>0.6453977</td><td>0.3507890</td><td>-1.2482964</td><td>0.211922540</td><td>0.3262532</td><td>1.298970</td><td>Chikungunya</td><td>Age Group</td><td>20-39</td></tr>\n",
       "\t<tr><td>Age Group: 40-49</td><td>0.9238464</td><td>0.3868832</td><td>-0.2047374</td><td>0.837777309</td><td>0.4311526</td><td>1.980467</td><td>Chikungunya</td><td>Age Group</td><td>40-49</td></tr>\n",
       "\t<tr><td>Age Group: 50-59</td><td>0.6574309</td><td>0.4006488</td><td>-1.0468412</td><td>0.295172821</td><td>0.2964296</td><td>1.439702</td><td>Chikungunya</td><td>Age Group</td><td>50-59</td></tr>\n",
       "\t<tr><td>Age Group: 60-69</td><td>0.7239670</td><td>0.3993312</td><td>-0.8088763</td><td>0.418586323</td><td>0.3281667</td><td>1.584068</td><td>Chikungunya</td><td>Age Group</td><td>60-69</td></tr>\n",
       "</tbody>\n",
       "</table>\n"
      ],
      "text/latex": [
       "A tibble: 6 × 10\n",
       "\\begin{tabular}{llllllllll}\n",
       " term & OR & std.error & statistic & p.value & CI\\_low & CI\\_high & Disease & Variable & Level\\\\\n",
       " <chr> & <dbl> & <dbl> & <dbl> & <dbl> & <dbl> & <dbl> & <chr> & <chr> & <chr>\\\\\n",
       "\\hline\n",
       "\t Sex: Male        & 1.5393326 & 0.1673221 &  2.5779557 & 0.009938675 & 1.1107598 & 2.141898 & Chikungunya & Sex       & Male \\\\\n",
       "\t Age Group: 10-19 & 0.7436009 & 0.3983466 & -0.7437011 & 0.457057305 & 0.3377679 & 1.624260 & Chikungunya & Age Group & 10-19\\\\\n",
       "\t Age Group: 20-39 & 0.6453977 & 0.3507890 & -1.2482964 & 0.211922540 & 0.3262532 & 1.298970 & Chikungunya & Age Group & 20-39\\\\\n",
       "\t Age Group: 40-49 & 0.9238464 & 0.3868832 & -0.2047374 & 0.837777309 & 0.4311526 & 1.980467 & Chikungunya & Age Group & 40-49\\\\\n",
       "\t Age Group: 50-59 & 0.6574309 & 0.4006488 & -1.0468412 & 0.295172821 & 0.2964296 & 1.439702 & Chikungunya & Age Group & 50-59\\\\\n",
       "\t Age Group: 60-69 & 0.7239670 & 0.3993312 & -0.8088763 & 0.418586323 & 0.3281667 & 1.584068 & Chikungunya & Age Group & 60-69\\\\\n",
       "\\end{tabular}\n"
      ],
      "text/markdown": [
       "\n",
       "A tibble: 6 × 10\n",
       "\n",
       "| term &lt;chr&gt; | OR &lt;dbl&gt; | std.error &lt;dbl&gt; | statistic &lt;dbl&gt; | p.value &lt;dbl&gt; | CI_low &lt;dbl&gt; | CI_high &lt;dbl&gt; | Disease &lt;chr&gt; | Variable &lt;chr&gt; | Level &lt;chr&gt; |\n",
       "|---|---|---|---|---|---|---|---|---|---|\n",
       "| Sex: Male        | 1.5393326 | 0.1673221 |  2.5779557 | 0.009938675 | 1.1107598 | 2.141898 | Chikungunya | Sex       | Male  |\n",
       "| Age Group: 10-19 | 0.7436009 | 0.3983466 | -0.7437011 | 0.457057305 | 0.3377679 | 1.624260 | Chikungunya | Age Group | 10-19 |\n",
       "| Age Group: 20-39 | 0.6453977 | 0.3507890 | -1.2482964 | 0.211922540 | 0.3262532 | 1.298970 | Chikungunya | Age Group | 20-39 |\n",
       "| Age Group: 40-49 | 0.9238464 | 0.3868832 | -0.2047374 | 0.837777309 | 0.4311526 | 1.980467 | Chikungunya | Age Group | 40-49 |\n",
       "| Age Group: 50-59 | 0.6574309 | 0.4006488 | -1.0468412 | 0.295172821 | 0.2964296 | 1.439702 | Chikungunya | Age Group | 50-59 |\n",
       "| Age Group: 60-69 | 0.7239670 | 0.3993312 | -0.8088763 | 0.418586323 | 0.3281667 | 1.584068 | Chikungunya | Age Group | 60-69 |\n",
       "\n"
      ],
      "text/plain": [
       "  term             OR        std.error statistic  p.value     CI_low   \n",
       "1 Sex: Male        1.5393326 0.1673221  2.5779557 0.009938675 1.1107598\n",
       "2 Age Group: 10-19 0.7436009 0.3983466 -0.7437011 0.457057305 0.3377679\n",
       "3 Age Group: 20-39 0.6453977 0.3507890 -1.2482964 0.211922540 0.3262532\n",
       "4 Age Group: 40-49 0.9238464 0.3868832 -0.2047374 0.837777309 0.4311526\n",
       "5 Age Group: 50-59 0.6574309 0.4006488 -1.0468412 0.295172821 0.2964296\n",
       "6 Age Group: 60-69 0.7239670 0.3993312 -0.8088763 0.418586323 0.3281667\n",
       "  CI_high  Disease     Variable  Level\n",
       "1 2.141898 Chikungunya Sex       Male \n",
       "2 1.624260 Chikungunya Age Group 10-19\n",
       "3 1.298970 Chikungunya Age Group 20-39\n",
       "4 1.980467 Chikungunya Age Group 40-49\n",
       "5 1.439702 Chikungunya Age Group 50-59\n",
       "6 1.584068 Chikungunya Age Group 60-69"
      ]
     },
     "metadata": {},
     "output_type": "display_data"
    }
   ],
   "source": [
    "results_sep <- results %>%\n",
    "  mutate(\n",
    "    Variable = case_when(\n",
    "      grepl(\"Age Group\", term) ~ \"Age Group\",\n",
    "      grepl(\"Sex\", term) ~ \"Sex\",\n",
    "      TRUE ~ \"Comorbidity\"\n",
    "    ),\n",
    "    Level = case_when(\n",
    "      grepl(\"Age Group: \", term) ~ gsub(\"Age Group: \", \"\", term),\n",
    "      grepl(\"Sex: \", term) ~ gsub(\"Sex: \", \"\", term),\n",
    "      TRUE ~ term\n",
    "    )\n",
    "  )\n",
    "head(results_sep)"
   ]
  },
  {
   "cell_type": "code",
   "execution_count": 14,
   "id": "bc8d12fb-ac01-4c50-926c-6e1f3d335f07",
   "metadata": {},
   "outputs": [
    {
     "name": "stderr",
     "output_type": "stream",
     "text": [
      "\u001b[1m\u001b[22m`summarise()` has grouped output by 'Variable'. You can override using the `.groups` argument.\n"
     ]
    },
    {
     "data": {
      "text/html": [
       "<table class=\"dataframe\">\n",
       "<caption>A grouped_df: 6 × 3</caption>\n",
       "<thead>\n",
       "\t<tr><th scope=col>Variable</th><th scope=col>Level</th><th scope=col>label</th></tr>\n",
       "\t<tr><th scope=col>&lt;chr&gt;</th><th scope=col>&lt;chr&gt;</th><th scope=col>&lt;chr&gt;</th></tr>\n",
       "</thead>\n",
       "<tbody>\n",
       "\t<tr><td>Age Group</td><td>≥90  </td><td>Age Group</td></tr>\n",
       "\t<tr><td>Age Group</td><td>80-89</td><td>   80-89 </td></tr>\n",
       "\t<tr><td>Age Group</td><td>70-79</td><td>   70-79 </td></tr>\n",
       "\t<tr><td>Age Group</td><td>60-69</td><td>   60-69 </td></tr>\n",
       "\t<tr><td>Age Group</td><td>50-59</td><td>   50-59 </td></tr>\n",
       "\t<tr><td>Age Group</td><td>40-49</td><td>   40-49 </td></tr>\n",
       "</tbody>\n",
       "</table>\n"
      ],
      "text/latex": [
       "A grouped\\_df: 6 × 3\n",
       "\\begin{tabular}{lll}\n",
       " Variable & Level & label\\\\\n",
       " <chr> & <chr> & <chr>\\\\\n",
       "\\hline\n",
       "\t Age Group & ≥90   & Age Group\\\\\n",
       "\t Age Group & 80-89 &    80-89 \\\\\n",
       "\t Age Group & 70-79 &    70-79 \\\\\n",
       "\t Age Group & 60-69 &    60-69 \\\\\n",
       "\t Age Group & 50-59 &    50-59 \\\\\n",
       "\t Age Group & 40-49 &    40-49 \\\\\n",
       "\\end{tabular}\n"
      ],
      "text/markdown": [
       "\n",
       "A grouped_df: 6 × 3\n",
       "\n",
       "| Variable &lt;chr&gt; | Level &lt;chr&gt; | label &lt;chr&gt; |\n",
       "|---|---|---|\n",
       "| Age Group | ≥90   | Age Group |\n",
       "| Age Group | 80-89 |    80-89  |\n",
       "| Age Group | 70-79 |    70-79  |\n",
       "| Age Group | 60-69 |    60-69  |\n",
       "| Age Group | 50-59 |    50-59  |\n",
       "| Age Group | 40-49 |    40-49  |\n",
       "\n"
      ],
      "text/plain": [
       "  Variable  Level label    \n",
       "1 Age Group ≥90   Age Group\n",
       "2 Age Group 80-89    80-89 \n",
       "3 Age Group 70-79    70-79 \n",
       "4 Age Group 60-69    60-69 \n",
       "5 Age Group 50-59    50-59 \n",
       "6 Age Group 40-49    40-49 "
      ]
     },
     "metadata": {},
     "output_type": "display_data"
    }
   ],
   "source": [
    "order_vars <- results_sep %>%\n",
    "  group_by(Variable, Level) %>%\n",
    "  summarise() %>%\n",
    "  arrange(\n",
    "    match(Variable, c(\"Age Group\", \"Comorbidity\", \"Sex\")),\n",
    "    desc(Level)\n",
    "  ) %>%\n",
    "  mutate(\n",
    "    label = ifelse(duplicated(Variable), paste0(\"   \", Level), Variable)\n",
    "  )\n",
    "head(order_vars)"
   ]
  },
  {
   "cell_type": "code",
   "execution_count": 15,
   "id": "2c086aec-c36a-4b71-b8e0-b14905b724d7",
   "metadata": {},
   "outputs": [
    {
     "data": {
      "text/html": [
       "<table class=\"dataframe\">\n",
       "<caption>A tibble: 30 × 11</caption>\n",
       "<thead>\n",
       "\t<tr><th scope=col>term</th><th scope=col>OR</th><th scope=col>std.error</th><th scope=col>statistic</th><th scope=col>p.value</th><th scope=col>CI_low</th><th scope=col>CI_high</th><th scope=col>Disease</th><th scope=col>Variable</th><th scope=col>Level</th><th scope=col>label</th></tr>\n",
       "\t<tr><th scope=col>&lt;chr&gt;</th><th scope=col>&lt;dbl&gt;</th><th scope=col>&lt;dbl&gt;</th><th scope=col>&lt;dbl&gt;</th><th scope=col>&lt;dbl&gt;</th><th scope=col>&lt;dbl&gt;</th><th scope=col>&lt;dbl&gt;</th><th scope=col>&lt;chr&gt;</th><th scope=col>&lt;chr&gt;</th><th scope=col>&lt;chr&gt;</th><th scope=col>&lt;chr&gt;</th></tr>\n",
       "</thead>\n",
       "<tbody>\n",
       "\t<tr><td>Sex: Male            </td><td>1.5393326</td><td>0.1673221</td><td> 2.5779557</td><td>9.938675e-03</td><td>1.1107598</td><td> 2.1418981</td><td>Chikungunya</td><td>Sex        </td><td>Male                 </td><td>Sex                     </td></tr>\n",
       "\t<tr><td>Age Group: 10-19     </td><td>0.7436009</td><td>0.3983466</td><td>-0.7437011</td><td>4.570573e-01</td><td>0.3377679</td><td> 1.6242604</td><td>Chikungunya</td><td>Age Group  </td><td>10-19                </td><td>   10-19                </td></tr>\n",
       "\t<tr><td>Age Group: 20-39     </td><td>0.6453977</td><td>0.3507890</td><td>-1.2482964</td><td>2.119225e-01</td><td>0.3262532</td><td> 1.2989704</td><td>Chikungunya</td><td>Age Group  </td><td>20-39                </td><td>   20-39                </td></tr>\n",
       "\t<tr><td>Age Group: 40-49     </td><td>0.9238464</td><td>0.3868832</td><td>-0.2047374</td><td>8.377773e-01</td><td>0.4311526</td><td> 1.9804666</td><td>Chikungunya</td><td>Age Group  </td><td>40-49                </td><td>   40-49                </td></tr>\n",
       "\t<tr><td>Age Group: 50-59     </td><td>0.6574309</td><td>0.4006488</td><td>-1.0468412</td><td>2.951728e-01</td><td>0.2964296</td><td> 1.4397021</td><td>Chikungunya</td><td>Age Group  </td><td>50-59                </td><td>   50-59                </td></tr>\n",
       "\t<tr><td>Age Group: 60-69     </td><td>0.7239670</td><td>0.3993312</td><td>-0.8088763</td><td>4.185863e-01</td><td>0.3281667</td><td> 1.5840675</td><td>Chikungunya</td><td>Age Group  </td><td>60-69                </td><td>   60-69                </td></tr>\n",
       "\t<tr><td>Age Group: 70-79     </td><td>1.6545884</td><td>0.3640407</td><td> 1.3832305</td><td>1.665942e-01</td><td>0.8159275</td><td> 3.4197230</td><td>Chikungunya</td><td>Age Group  </td><td>70-79                </td><td>   70-79                </td></tr>\n",
       "\t<tr><td>Age Group: 80-89     </td><td>2.5759452</td><td>0.3507802</td><td> 2.6974628</td><td>6.987010e-03</td><td>1.3102202</td><td> 5.2089115</td><td>Chikungunya</td><td>Age Group  </td><td>80-89                </td><td>   80-89                </td></tr>\n",
       "\t<tr><td>Age Group: ≥90       </td><td>1.8132552</td><td>0.3511145</td><td> 1.6949561</td><td>9.008376e-02</td><td>0.9200792</td><td> 3.6642114</td><td>Chikungunya</td><td>Age Group  </td><td>≥90                  </td><td>Age Group               </td></tr>\n",
       "\t<tr><td>Diabetes             </td><td>2.2588282</td><td>0.2000738</td><td> 4.0727283</td><td>4.646562e-05</td><td>1.5204687</td><td> 3.3354775</td><td>Chikungunya</td><td>Comorbidity</td><td>Diabetes             </td><td>   Diabetes             </td></tr>\n",
       "\t<tr><td>Autoimmune disease   </td><td>2.4629835</td><td>0.3411956</td><td> 2.6418084</td><td>8.246470e-03</td><td>1.2384247</td><td> 4.7532503</td><td>Chikungunya</td><td>Comorbidity</td><td>Autoimmune disease   </td><td>   Autoimmune disease   </td></tr>\n",
       "\t<tr><td>Hematological disease</td><td>4.0264559</td><td>0.4045253</td><td> 3.4432621</td><td>5.747420e-04</td><td>1.8043651</td><td> 8.9167263</td><td>Chikungunya</td><td>Comorbidity</td><td>Hematological disease</td><td>   Hematological disease</td></tr>\n",
       "\t<tr><td>Liver disease        </td><td>3.5535910</td><td>0.3678713</td><td> 3.4467452</td><td>5.673835e-04</td><td>1.6908016</td><td> 7.2244491</td><td>Chikungunya</td><td>Comorbidity</td><td>Liver disease        </td><td>Comorbidity             </td></tr>\n",
       "\t<tr><td>Hypertension         </td><td>1.3812034</td><td>0.1776384</td><td> 1.8180481</td><td>6.905678e-02</td><td>0.9720517</td><td> 1.9520857</td><td>Chikungunya</td><td>Comorbidity</td><td>Hypertension         </td><td>   Hypertension         </td></tr>\n",
       "\t<tr><td>Kidney disease       </td><td>4.4122201</td><td>0.2909315</td><td> 5.1021568</td><td>3.358043e-07</td><td>2.4850871</td><td> 7.8060506</td><td>Chikungunya</td><td>Comorbidity</td><td>Kidney disease       </td><td>   Kidney disease       </td></tr>\n",
       "\t<tr><td>Sex: Male            </td><td>1.2336213</td><td>0.1649536</td><td> 1.2728069</td><td>2.030866e-01</td><td>0.8932216</td><td> 1.7063802</td><td>Dengue     </td><td>Sex        </td><td>Male                 </td><td>Sex                     </td></tr>\n",
       "\t<tr><td>Age Group: 10-19     </td><td>0.6876136</td><td>0.3461602</td><td>-1.0819504</td><td>2.792746e-01</td><td>0.3478951</td><td> 1.3570717</td><td>Dengue     </td><td>Age Group  </td><td>10-19                </td><td>   10-19                </td></tr>\n",
       "\t<tr><td>Age Group: 20-39     </td><td>0.3334139</td><td>0.3254082</td><td>-3.3753627</td><td>7.371846e-04</td><td>0.1759164</td><td> 0.6325167</td><td>Dengue     </td><td>Age Group  </td><td>20-39                </td><td>   20-39                </td></tr>\n",
       "\t<tr><td>Age Group: 40-49     </td><td>0.4738838</td><td>0.3651469</td><td>-2.0451858</td><td>4.083655e-02</td><td>0.2296008</td><td> 0.9658233</td><td>Dengue     </td><td>Age Group  </td><td>40-49                </td><td>   40-49                </td></tr>\n",
       "\t<tr><td>Age Group: 50-59     </td><td>0.3196814</td><td>0.3932148</td><td>-2.9002728</td><td>3.728380e-03</td><td>0.1450240</td><td> 0.6824892</td><td>Dengue     </td><td>Age Group  </td><td>50-59                </td><td>   50-59                </td></tr>\n",
       "\t<tr><td>Age Group: 60-69     </td><td>0.3712017</td><td>0.3656514</td><td>-2.7102588</td><td>6.723073e-03</td><td>0.1792948</td><td> 0.7560217</td><td>Dengue     </td><td>Age Group  </td><td>60-69                </td><td>   60-69                </td></tr>\n",
       "\t<tr><td>Age Group: 70-79     </td><td>0.5967482</td><td>0.3588730</td><td>-1.4385592</td><td>1.502755e-01</td><td>0.2934539</td><td> 1.2039769</td><td>Dengue     </td><td>Age Group  </td><td>70-79                </td><td>   70-79                </td></tr>\n",
       "\t<tr><td>Age Group: 80-89     </td><td>0.7977466</td><td>0.3518514</td><td>-0.6422150</td><td>5.207336e-01</td><td>0.3989995</td><td> 1.5917487</td><td>Dengue     </td><td>Age Group  </td><td>80-89                </td><td>   80-89                </td></tr>\n",
       "\t<tr><td>Age Group: ≥90       </td><td>0.6139151</td><td>0.3364894</td><td>-1.4499674</td><td>1.470676e-01</td><td>0.3170651</td><td> 1.1905017</td><td>Dengue     </td><td>Age Group  </td><td>≥90                  </td><td>Age Group               </td></tr>\n",
       "\t<tr><td>Diabetes             </td><td>2.1886867</td><td>0.1904171</td><td> 4.1136098</td><td>3.895196e-05</td><td>1.5026921</td><td> 3.1734449</td><td>Dengue     </td><td>Comorbidity</td><td>Diabetes             </td><td>   Diabetes             </td></tr>\n",
       "\t<tr><td>Autoimmune disease   </td><td>1.7586611</td><td>0.3764172</td><td> 1.4998059</td><td>1.336647e-01</td><td>0.8138656</td><td> 3.6033025</td><td>Dengue     </td><td>Comorbidity</td><td>Autoimmune disease   </td><td>   Autoimmune disease   </td></tr>\n",
       "\t<tr><td>Hematological disease</td><td>9.9648215</td><td>0.4216345</td><td> 5.4527352</td><td>4.960091e-08</td><td>4.4414273</td><td>23.5804596</td><td>Dengue     </td><td>Comorbidity</td><td>Hematological disease</td><td>   Hematological disease</td></tr>\n",
       "\t<tr><td>Liver disease        </td><td>2.5039832</td><td>0.4217158</td><td> 2.1765435</td><td>2.951464e-02</td><td>1.0677946</td><td> 5.6699797</td><td>Dengue     </td><td>Comorbidity</td><td>Liver disease        </td><td>Comorbidity             </td></tr>\n",
       "\t<tr><td>Hypertension         </td><td>1.9495229</td><td>0.1710967</td><td> 3.9017966</td><td>9.548138e-05</td><td>1.3925446</td><td> 2.7252500</td><td>Dengue     </td><td>Comorbidity</td><td>Hypertension         </td><td>   Hypertension         </td></tr>\n",
       "\t<tr><td>Kidney disease       </td><td>3.2261310</td><td>0.2874724</td><td> 4.0744215</td><td>4.612886e-05</td><td>1.8212416</td><td> 5.6466877</td><td>Dengue     </td><td>Comorbidity</td><td>Kidney disease       </td><td>   Kidney disease       </td></tr>\n",
       "</tbody>\n",
       "</table>\n"
      ],
      "text/latex": [
       "A tibble: 30 × 11\n",
       "\\begin{tabular}{lllllllllll}\n",
       " term & OR & std.error & statistic & p.value & CI\\_low & CI\\_high & Disease & Variable & Level & label\\\\\n",
       " <chr> & <dbl> & <dbl> & <dbl> & <dbl> & <dbl> & <dbl> & <chr> & <chr> & <chr> & <chr>\\\\\n",
       "\\hline\n",
       "\t Sex: Male             & 1.5393326 & 0.1673221 &  2.5779557 & 9.938675e-03 & 1.1107598 &  2.1418981 & Chikungunya & Sex         & Male                  & Sex                     \\\\\n",
       "\t Age Group: 10-19      & 0.7436009 & 0.3983466 & -0.7437011 & 4.570573e-01 & 0.3377679 &  1.6242604 & Chikungunya & Age Group   & 10-19                 &    10-19                \\\\\n",
       "\t Age Group: 20-39      & 0.6453977 & 0.3507890 & -1.2482964 & 2.119225e-01 & 0.3262532 &  1.2989704 & Chikungunya & Age Group   & 20-39                 &    20-39                \\\\\n",
       "\t Age Group: 40-49      & 0.9238464 & 0.3868832 & -0.2047374 & 8.377773e-01 & 0.4311526 &  1.9804666 & Chikungunya & Age Group   & 40-49                 &    40-49                \\\\\n",
       "\t Age Group: 50-59      & 0.6574309 & 0.4006488 & -1.0468412 & 2.951728e-01 & 0.2964296 &  1.4397021 & Chikungunya & Age Group   & 50-59                 &    50-59                \\\\\n",
       "\t Age Group: 60-69      & 0.7239670 & 0.3993312 & -0.8088763 & 4.185863e-01 & 0.3281667 &  1.5840675 & Chikungunya & Age Group   & 60-69                 &    60-69                \\\\\n",
       "\t Age Group: 70-79      & 1.6545884 & 0.3640407 &  1.3832305 & 1.665942e-01 & 0.8159275 &  3.4197230 & Chikungunya & Age Group   & 70-79                 &    70-79                \\\\\n",
       "\t Age Group: 80-89      & 2.5759452 & 0.3507802 &  2.6974628 & 6.987010e-03 & 1.3102202 &  5.2089115 & Chikungunya & Age Group   & 80-89                 &    80-89                \\\\\n",
       "\t Age Group: ≥90        & 1.8132552 & 0.3511145 &  1.6949561 & 9.008376e-02 & 0.9200792 &  3.6642114 & Chikungunya & Age Group   & ≥90                   & Age Group               \\\\\n",
       "\t Diabetes              & 2.2588282 & 0.2000738 &  4.0727283 & 4.646562e-05 & 1.5204687 &  3.3354775 & Chikungunya & Comorbidity & Diabetes              &    Diabetes             \\\\\n",
       "\t Autoimmune disease    & 2.4629835 & 0.3411956 &  2.6418084 & 8.246470e-03 & 1.2384247 &  4.7532503 & Chikungunya & Comorbidity & Autoimmune disease    &    Autoimmune disease   \\\\\n",
       "\t Hematological disease & 4.0264559 & 0.4045253 &  3.4432621 & 5.747420e-04 & 1.8043651 &  8.9167263 & Chikungunya & Comorbidity & Hematological disease &    Hematological disease\\\\\n",
       "\t Liver disease         & 3.5535910 & 0.3678713 &  3.4467452 & 5.673835e-04 & 1.6908016 &  7.2244491 & Chikungunya & Comorbidity & Liver disease         & Comorbidity             \\\\\n",
       "\t Hypertension          & 1.3812034 & 0.1776384 &  1.8180481 & 6.905678e-02 & 0.9720517 &  1.9520857 & Chikungunya & Comorbidity & Hypertension          &    Hypertension         \\\\\n",
       "\t Kidney disease        & 4.4122201 & 0.2909315 &  5.1021568 & 3.358043e-07 & 2.4850871 &  7.8060506 & Chikungunya & Comorbidity & Kidney disease        &    Kidney disease       \\\\\n",
       "\t Sex: Male             & 1.2336213 & 0.1649536 &  1.2728069 & 2.030866e-01 & 0.8932216 &  1.7063802 & Dengue      & Sex         & Male                  & Sex                     \\\\\n",
       "\t Age Group: 10-19      & 0.6876136 & 0.3461602 & -1.0819504 & 2.792746e-01 & 0.3478951 &  1.3570717 & Dengue      & Age Group   & 10-19                 &    10-19                \\\\\n",
       "\t Age Group: 20-39      & 0.3334139 & 0.3254082 & -3.3753627 & 7.371846e-04 & 0.1759164 &  0.6325167 & Dengue      & Age Group   & 20-39                 &    20-39                \\\\\n",
       "\t Age Group: 40-49      & 0.4738838 & 0.3651469 & -2.0451858 & 4.083655e-02 & 0.2296008 &  0.9658233 & Dengue      & Age Group   & 40-49                 &    40-49                \\\\\n",
       "\t Age Group: 50-59      & 0.3196814 & 0.3932148 & -2.9002728 & 3.728380e-03 & 0.1450240 &  0.6824892 & Dengue      & Age Group   & 50-59                 &    50-59                \\\\\n",
       "\t Age Group: 60-69      & 0.3712017 & 0.3656514 & -2.7102588 & 6.723073e-03 & 0.1792948 &  0.7560217 & Dengue      & Age Group   & 60-69                 &    60-69                \\\\\n",
       "\t Age Group: 70-79      & 0.5967482 & 0.3588730 & -1.4385592 & 1.502755e-01 & 0.2934539 &  1.2039769 & Dengue      & Age Group   & 70-79                 &    70-79                \\\\\n",
       "\t Age Group: 80-89      & 0.7977466 & 0.3518514 & -0.6422150 & 5.207336e-01 & 0.3989995 &  1.5917487 & Dengue      & Age Group   & 80-89                 &    80-89                \\\\\n",
       "\t Age Group: ≥90        & 0.6139151 & 0.3364894 & -1.4499674 & 1.470676e-01 & 0.3170651 &  1.1905017 & Dengue      & Age Group   & ≥90                   & Age Group               \\\\\n",
       "\t Diabetes              & 2.1886867 & 0.1904171 &  4.1136098 & 3.895196e-05 & 1.5026921 &  3.1734449 & Dengue      & Comorbidity & Diabetes              &    Diabetes             \\\\\n",
       "\t Autoimmune disease    & 1.7586611 & 0.3764172 &  1.4998059 & 1.336647e-01 & 0.8138656 &  3.6033025 & Dengue      & Comorbidity & Autoimmune disease    &    Autoimmune disease   \\\\\n",
       "\t Hematological disease & 9.9648215 & 0.4216345 &  5.4527352 & 4.960091e-08 & 4.4414273 & 23.5804596 & Dengue      & Comorbidity & Hematological disease &    Hematological disease\\\\\n",
       "\t Liver disease         & 2.5039832 & 0.4217158 &  2.1765435 & 2.951464e-02 & 1.0677946 &  5.6699797 & Dengue      & Comorbidity & Liver disease         & Comorbidity             \\\\\n",
       "\t Hypertension          & 1.9495229 & 0.1710967 &  3.9017966 & 9.548138e-05 & 1.3925446 &  2.7252500 & Dengue      & Comorbidity & Hypertension          &    Hypertension         \\\\\n",
       "\t Kidney disease        & 3.2261310 & 0.2874724 &  4.0744215 & 4.612886e-05 & 1.8212416 &  5.6466877 & Dengue      & Comorbidity & Kidney disease        &    Kidney disease       \\\\\n",
       "\\end{tabular}\n"
      ],
      "text/markdown": [
       "\n",
       "A tibble: 30 × 11\n",
       "\n",
       "| term &lt;chr&gt; | OR &lt;dbl&gt; | std.error &lt;dbl&gt; | statistic &lt;dbl&gt; | p.value &lt;dbl&gt; | CI_low &lt;dbl&gt; | CI_high &lt;dbl&gt; | Disease &lt;chr&gt; | Variable &lt;chr&gt; | Level &lt;chr&gt; | label &lt;chr&gt; |\n",
       "|---|---|---|---|---|---|---|---|---|---|---|\n",
       "| Sex: Male             | 1.5393326 | 0.1673221 |  2.5779557 | 9.938675e-03 | 1.1107598 |  2.1418981 | Chikungunya | Sex         | Male                  | Sex                      |\n",
       "| Age Group: 10-19      | 0.7436009 | 0.3983466 | -0.7437011 | 4.570573e-01 | 0.3377679 |  1.6242604 | Chikungunya | Age Group   | 10-19                 |    10-19                 |\n",
       "| Age Group: 20-39      | 0.6453977 | 0.3507890 | -1.2482964 | 2.119225e-01 | 0.3262532 |  1.2989704 | Chikungunya | Age Group   | 20-39                 |    20-39                 |\n",
       "| Age Group: 40-49      | 0.9238464 | 0.3868832 | -0.2047374 | 8.377773e-01 | 0.4311526 |  1.9804666 | Chikungunya | Age Group   | 40-49                 |    40-49                 |\n",
       "| Age Group: 50-59      | 0.6574309 | 0.4006488 | -1.0468412 | 2.951728e-01 | 0.2964296 |  1.4397021 | Chikungunya | Age Group   | 50-59                 |    50-59                 |\n",
       "| Age Group: 60-69      | 0.7239670 | 0.3993312 | -0.8088763 | 4.185863e-01 | 0.3281667 |  1.5840675 | Chikungunya | Age Group   | 60-69                 |    60-69                 |\n",
       "| Age Group: 70-79      | 1.6545884 | 0.3640407 |  1.3832305 | 1.665942e-01 | 0.8159275 |  3.4197230 | Chikungunya | Age Group   | 70-79                 |    70-79                 |\n",
       "| Age Group: 80-89      | 2.5759452 | 0.3507802 |  2.6974628 | 6.987010e-03 | 1.3102202 |  5.2089115 | Chikungunya | Age Group   | 80-89                 |    80-89                 |\n",
       "| Age Group: ≥90        | 1.8132552 | 0.3511145 |  1.6949561 | 9.008376e-02 | 0.9200792 |  3.6642114 | Chikungunya | Age Group   | ≥90                   | Age Group                |\n",
       "| Diabetes              | 2.2588282 | 0.2000738 |  4.0727283 | 4.646562e-05 | 1.5204687 |  3.3354775 | Chikungunya | Comorbidity | Diabetes              |    Diabetes              |\n",
       "| Autoimmune disease    | 2.4629835 | 0.3411956 |  2.6418084 | 8.246470e-03 | 1.2384247 |  4.7532503 | Chikungunya | Comorbidity | Autoimmune disease    |    Autoimmune disease    |\n",
       "| Hematological disease | 4.0264559 | 0.4045253 |  3.4432621 | 5.747420e-04 | 1.8043651 |  8.9167263 | Chikungunya | Comorbidity | Hematological disease |    Hematological disease |\n",
       "| Liver disease         | 3.5535910 | 0.3678713 |  3.4467452 | 5.673835e-04 | 1.6908016 |  7.2244491 | Chikungunya | Comorbidity | Liver disease         | Comorbidity              |\n",
       "| Hypertension          | 1.3812034 | 0.1776384 |  1.8180481 | 6.905678e-02 | 0.9720517 |  1.9520857 | Chikungunya | Comorbidity | Hypertension          |    Hypertension          |\n",
       "| Kidney disease        | 4.4122201 | 0.2909315 |  5.1021568 | 3.358043e-07 | 2.4850871 |  7.8060506 | Chikungunya | Comorbidity | Kidney disease        |    Kidney disease        |\n",
       "| Sex: Male             | 1.2336213 | 0.1649536 |  1.2728069 | 2.030866e-01 | 0.8932216 |  1.7063802 | Dengue      | Sex         | Male                  | Sex                      |\n",
       "| Age Group: 10-19      | 0.6876136 | 0.3461602 | -1.0819504 | 2.792746e-01 | 0.3478951 |  1.3570717 | Dengue      | Age Group   | 10-19                 |    10-19                 |\n",
       "| Age Group: 20-39      | 0.3334139 | 0.3254082 | -3.3753627 | 7.371846e-04 | 0.1759164 |  0.6325167 | Dengue      | Age Group   | 20-39                 |    20-39                 |\n",
       "| Age Group: 40-49      | 0.4738838 | 0.3651469 | -2.0451858 | 4.083655e-02 | 0.2296008 |  0.9658233 | Dengue      | Age Group   | 40-49                 |    40-49                 |\n",
       "| Age Group: 50-59      | 0.3196814 | 0.3932148 | -2.9002728 | 3.728380e-03 | 0.1450240 |  0.6824892 | Dengue      | Age Group   | 50-59                 |    50-59                 |\n",
       "| Age Group: 60-69      | 0.3712017 | 0.3656514 | -2.7102588 | 6.723073e-03 | 0.1792948 |  0.7560217 | Dengue      | Age Group   | 60-69                 |    60-69                 |\n",
       "| Age Group: 70-79      | 0.5967482 | 0.3588730 | -1.4385592 | 1.502755e-01 | 0.2934539 |  1.2039769 | Dengue      | Age Group   | 70-79                 |    70-79                 |\n",
       "| Age Group: 80-89      | 0.7977466 | 0.3518514 | -0.6422150 | 5.207336e-01 | 0.3989995 |  1.5917487 | Dengue      | Age Group   | 80-89                 |    80-89                 |\n",
       "| Age Group: ≥90        | 0.6139151 | 0.3364894 | -1.4499674 | 1.470676e-01 | 0.3170651 |  1.1905017 | Dengue      | Age Group   | ≥90                   | Age Group                |\n",
       "| Diabetes              | 2.1886867 | 0.1904171 |  4.1136098 | 3.895196e-05 | 1.5026921 |  3.1734449 | Dengue      | Comorbidity | Diabetes              |    Diabetes              |\n",
       "| Autoimmune disease    | 1.7586611 | 0.3764172 |  1.4998059 | 1.336647e-01 | 0.8138656 |  3.6033025 | Dengue      | Comorbidity | Autoimmune disease    |    Autoimmune disease    |\n",
       "| Hematological disease | 9.9648215 | 0.4216345 |  5.4527352 | 4.960091e-08 | 4.4414273 | 23.5804596 | Dengue      | Comorbidity | Hematological disease |    Hematological disease |\n",
       "| Liver disease         | 2.5039832 | 0.4217158 |  2.1765435 | 2.951464e-02 | 1.0677946 |  5.6699797 | Dengue      | Comorbidity | Liver disease         | Comorbidity              |\n",
       "| Hypertension          | 1.9495229 | 0.1710967 |  3.9017966 | 9.548138e-05 | 1.3925446 |  2.7252500 | Dengue      | Comorbidity | Hypertension          |    Hypertension          |\n",
       "| Kidney disease        | 3.2261310 | 0.2874724 |  4.0744215 | 4.612886e-05 | 1.8212416 |  5.6466877 | Dengue      | Comorbidity | Kidney disease        |    Kidney disease        |\n",
       "\n"
      ],
      "text/plain": [
       "   term                  OR        std.error statistic  p.value      CI_low   \n",
       "1  Sex: Male             1.5393326 0.1673221  2.5779557 9.938675e-03 1.1107598\n",
       "2  Age Group: 10-19      0.7436009 0.3983466 -0.7437011 4.570573e-01 0.3377679\n",
       "3  Age Group: 20-39      0.6453977 0.3507890 -1.2482964 2.119225e-01 0.3262532\n",
       "4  Age Group: 40-49      0.9238464 0.3868832 -0.2047374 8.377773e-01 0.4311526\n",
       "5  Age Group: 50-59      0.6574309 0.4006488 -1.0468412 2.951728e-01 0.2964296\n",
       "6  Age Group: 60-69      0.7239670 0.3993312 -0.8088763 4.185863e-01 0.3281667\n",
       "7  Age Group: 70-79      1.6545884 0.3640407  1.3832305 1.665942e-01 0.8159275\n",
       "8  Age Group: 80-89      2.5759452 0.3507802  2.6974628 6.987010e-03 1.3102202\n",
       "9  Age Group: ≥90        1.8132552 0.3511145  1.6949561 9.008376e-02 0.9200792\n",
       "10 Diabetes              2.2588282 0.2000738  4.0727283 4.646562e-05 1.5204687\n",
       "11 Autoimmune disease    2.4629835 0.3411956  2.6418084 8.246470e-03 1.2384247\n",
       "12 Hematological disease 4.0264559 0.4045253  3.4432621 5.747420e-04 1.8043651\n",
       "13 Liver disease         3.5535910 0.3678713  3.4467452 5.673835e-04 1.6908016\n",
       "14 Hypertension          1.3812034 0.1776384  1.8180481 6.905678e-02 0.9720517\n",
       "15 Kidney disease        4.4122201 0.2909315  5.1021568 3.358043e-07 2.4850871\n",
       "16 Sex: Male             1.2336213 0.1649536  1.2728069 2.030866e-01 0.8932216\n",
       "17 Age Group: 10-19      0.6876136 0.3461602 -1.0819504 2.792746e-01 0.3478951\n",
       "18 Age Group: 20-39      0.3334139 0.3254082 -3.3753627 7.371846e-04 0.1759164\n",
       "19 Age Group: 40-49      0.4738838 0.3651469 -2.0451858 4.083655e-02 0.2296008\n",
       "20 Age Group: 50-59      0.3196814 0.3932148 -2.9002728 3.728380e-03 0.1450240\n",
       "21 Age Group: 60-69      0.3712017 0.3656514 -2.7102588 6.723073e-03 0.1792948\n",
       "22 Age Group: 70-79      0.5967482 0.3588730 -1.4385592 1.502755e-01 0.2934539\n",
       "23 Age Group: 80-89      0.7977466 0.3518514 -0.6422150 5.207336e-01 0.3989995\n",
       "24 Age Group: ≥90        0.6139151 0.3364894 -1.4499674 1.470676e-01 0.3170651\n",
       "25 Diabetes              2.1886867 0.1904171  4.1136098 3.895196e-05 1.5026921\n",
       "26 Autoimmune disease    1.7586611 0.3764172  1.4998059 1.336647e-01 0.8138656\n",
       "27 Hematological disease 9.9648215 0.4216345  5.4527352 4.960091e-08 4.4414273\n",
       "28 Liver disease         2.5039832 0.4217158  2.1765435 2.951464e-02 1.0677946\n",
       "29 Hypertension          1.9495229 0.1710967  3.9017966 9.548138e-05 1.3925446\n",
       "30 Kidney disease        3.2261310 0.2874724  4.0744215 4.612886e-05 1.8212416\n",
       "   CI_high    Disease     Variable    Level                \n",
       "1   2.1418981 Chikungunya Sex         Male                 \n",
       "2   1.6242604 Chikungunya Age Group   10-19                \n",
       "3   1.2989704 Chikungunya Age Group   20-39                \n",
       "4   1.9804666 Chikungunya Age Group   40-49                \n",
       "5   1.4397021 Chikungunya Age Group   50-59                \n",
       "6   1.5840675 Chikungunya Age Group   60-69                \n",
       "7   3.4197230 Chikungunya Age Group   70-79                \n",
       "8   5.2089115 Chikungunya Age Group   80-89                \n",
       "9   3.6642114 Chikungunya Age Group   ≥90                  \n",
       "10  3.3354775 Chikungunya Comorbidity Diabetes             \n",
       "11  4.7532503 Chikungunya Comorbidity Autoimmune disease   \n",
       "12  8.9167263 Chikungunya Comorbidity Hematological disease\n",
       "13  7.2244491 Chikungunya Comorbidity Liver disease        \n",
       "14  1.9520857 Chikungunya Comorbidity Hypertension         \n",
       "15  7.8060506 Chikungunya Comorbidity Kidney disease       \n",
       "16  1.7063802 Dengue      Sex         Male                 \n",
       "17  1.3570717 Dengue      Age Group   10-19                \n",
       "18  0.6325167 Dengue      Age Group   20-39                \n",
       "19  0.9658233 Dengue      Age Group   40-49                \n",
       "20  0.6824892 Dengue      Age Group   50-59                \n",
       "21  0.7560217 Dengue      Age Group   60-69                \n",
       "22  1.2039769 Dengue      Age Group   70-79                \n",
       "23  1.5917487 Dengue      Age Group   80-89                \n",
       "24  1.1905017 Dengue      Age Group   ≥90                  \n",
       "25  3.1734449 Dengue      Comorbidity Diabetes             \n",
       "26  3.6033025 Dengue      Comorbidity Autoimmune disease   \n",
       "27 23.5804596 Dengue      Comorbidity Hematological disease\n",
       "28  5.6699797 Dengue      Comorbidity Liver disease        \n",
       "29  2.7252500 Dengue      Comorbidity Hypertension         \n",
       "30  5.6466877 Dengue      Comorbidity Kidney disease       \n",
       "   label                   \n",
       "1  Sex                     \n",
       "2     10-19                \n",
       "3     20-39                \n",
       "4     40-49                \n",
       "5     50-59                \n",
       "6     60-69                \n",
       "7     70-79                \n",
       "8     80-89                \n",
       "9  Age Group               \n",
       "10    Diabetes             \n",
       "11    Autoimmune disease   \n",
       "12    Hematological disease\n",
       "13 Comorbidity             \n",
       "14    Hypertension         \n",
       "15    Kidney disease       \n",
       "16 Sex                     \n",
       "17    10-19                \n",
       "18    20-39                \n",
       "19    40-49                \n",
       "20    50-59                \n",
       "21    60-69                \n",
       "22    70-79                \n",
       "23    80-89                \n",
       "24 Age Group               \n",
       "25    Diabetes             \n",
       "26    Autoimmune disease   \n",
       "27    Hematological disease\n",
       "28 Comorbidity             \n",
       "29    Hypertension         \n",
       "30    Kidney disease       "
      ]
     },
     "metadata": {},
     "output_type": "display_data"
    }
   ],
   "source": [
    "results_sep <- results_sep %>%\n",
    "  left_join(order_vars, by = c(\"Variable\", \"Level\"))\n",
    "results_sep"
   ]
  },
  {
   "cell_type": "code",
   "execution_count": 16,
   "id": "7a238813-547e-45b2-98b1-e878fda39df1",
   "metadata": {},
   "outputs": [
    {
     "name": "stderr",
     "output_type": "stream",
     "text": [
      "Warning message:\n",
      "“\u001b[1m\u001b[22mRemoved 3 rows containing missing values (`geom_point()`).”\n",
      "Warning message:\n",
      "“\u001b[1m\u001b[22mRemoved 13 rows containing missing values (`geom_errorbarh()`).”\n"
     ]
    },
    {
     "data": {
      "image/png": "[encoded data removed]",
      "text/plain": [
       "plot without title"
      ]
     },
     "metadata": {
      "image/png": {
       "height": 420,
       "width": 420
      }
     },
     "output_type": "display_data"
    }
   ],
   "source": [
    "ggplot(results_sep, aes(x = OR, y = fct_rev(label), color = Disease)) +\n",
    "  geom_point(position = position_dodge(width = 0.5), size = 2.5) +\n",
    "  geom_errorbarh(aes(xmin = CI_low, xmax = CI_high),\n",
    "                 position = position_dodge(width = 0.5),\n",
    "                 height = 0.2) +\n",
    "  geom_vline(xintercept = 1, linetype = \"solid\", color = \"gray30\") +\n",
    "  scale_x_log10(breaks = c(0.5, 1, 2, 5, 10), limits = c(0.4, 12)) +\n",
    "  scale_color_manual(values = c(\"Chikungunya\" = \"gray\", \"Dengue\" = \"black\")) +\n",
    "  labs(\n",
    "    x = \"Adjusted odds ratio (95% CI)\",\n",
    "    y = NULL,\n",
    "    color = NULL\n",
    "  ) +\n",
    "  theme_minimal(base_size = 14) +\n",
    "  theme(\n",
    "    axis.text.y = element_text(hjust = 0),\n",
    "    panel.grid.major.y = element_blank(),\n",
    "    legend.position = \"bottom\"\n",
    "  )"
   ]
  },
  {
   "cell_type": "code",
   "execution_count": 21,
   "id": "926b158e-42a0-457b-b10b-1445f728854d",
   "metadata": {},
   "outputs": [
    {
     "data": {
      "text/html": [
       "<table class=\"dataframe\">\n",
       "<caption>A grouped_df: 6 × 4</caption>\n",
       "<thead>\n",
       "\t<tr><th scope=col>Variable</th><th scope=col>Level</th><th scope=col>label</th><th scope=col>y_pos</th></tr>\n",
       "\t<tr><th scope=col>&lt;chr&gt;</th><th scope=col>&lt;chr&gt;</th><th scope=col>&lt;chr&gt;</th><th scope=col>&lt;int&gt;</th></tr>\n",
       "</thead>\n",
       "<tbody>\n",
       "\t<tr><td>Age Group</td><td>≥90  </td><td>Age Group</td><td>1</td></tr>\n",
       "\t<tr><td>Age Group</td><td>80-89</td><td>   80-89 </td><td>2</td></tr>\n",
       "\t<tr><td>Age Group</td><td>70-79</td><td>   70-79 </td><td>3</td></tr>\n",
       "\t<tr><td>Age Group</td><td>60-69</td><td>   60-69 </td><td>4</td></tr>\n",
       "\t<tr><td>Age Group</td><td>50-59</td><td>   50-59 </td><td>5</td></tr>\n",
       "\t<tr><td>Age Group</td><td>40-49</td><td>   40-49 </td><td>6</td></tr>\n",
       "</tbody>\n",
       "</table>\n"
      ],
      "text/latex": [
       "A grouped\\_df: 6 × 4\n",
       "\\begin{tabular}{llll}\n",
       " Variable & Level & label & y\\_pos\\\\\n",
       " <chr> & <chr> & <chr> & <int>\\\\\n",
       "\\hline\n",
       "\t Age Group & ≥90   & Age Group & 1\\\\\n",
       "\t Age Group & 80-89 &    80-89  & 2\\\\\n",
       "\t Age Group & 70-79 &    70-79  & 3\\\\\n",
       "\t Age Group & 60-69 &    60-69  & 4\\\\\n",
       "\t Age Group & 50-59 &    50-59  & 5\\\\\n",
       "\t Age Group & 40-49 &    40-49  & 6\\\\\n",
       "\\end{tabular}\n"
      ],
      "text/markdown": [
       "\n",
       "A grouped_df: 6 × 4\n",
       "\n",
       "| Variable &lt;chr&gt; | Level &lt;chr&gt; | label &lt;chr&gt; | y_pos &lt;int&gt; |\n",
       "|---|---|---|---|\n",
       "| Age Group | ≥90   | Age Group | 1 |\n",
       "| Age Group | 80-89 |    80-89  | 2 |\n",
       "| Age Group | 70-79 |    70-79  | 3 |\n",
       "| Age Group | 60-69 |    60-69  | 4 |\n",
       "| Age Group | 50-59 |    50-59  | 5 |\n",
       "| Age Group | 40-49 |    40-49  | 6 |\n",
       "\n"
      ],
      "text/plain": [
       "  Variable  Level label     y_pos\n",
       "1 Age Group ≥90   Age Group 1    \n",
       "2 Age Group 80-89    80-89  2    \n",
       "3 Age Group 70-79    70-79  3    \n",
       "4 Age Group 60-69    60-69  4    \n",
       "5 Age Group 50-59    50-59  5    \n",
       "6 Age Group 40-49    40-49  6    "
      ]
     },
     "metadata": {},
     "output_type": "display_data"
    }
   ],
   "source": [
    "order_vars <- order_vars %>%\n",
    "    mutate(y_pos = row_number())\n",
    "head(order_vars)"
   ]
  },
  {
   "cell_type": "code",
   "execution_count": 22,
   "id": "7215fa9b-b496-4636-a67a-a4469d3e9e7a",
   "metadata": {},
   "outputs": [
    {
     "data": {
      "text/html": [
       "<table class=\"dataframe\">\n",
       "<caption>A tibble: 6 × 15</caption>\n",
       "<thead>\n",
       "\t<tr><th scope=col>term</th><th scope=col>OR</th><th scope=col>std.error</th><th scope=col>statistic</th><th scope=col>p.value</th><th scope=col>CI_low</th><th scope=col>CI_high</th><th scope=col>Disease</th><th scope=col>Variable</th><th scope=col>Level</th><th scope=col>label.x</th><th scope=col>label.y</th><th scope=col>y_pos.x</th><th scope=col>label</th><th scope=col>y_pos.y</th></tr>\n",
       "\t<tr><th scope=col>&lt;chr&gt;</th><th scope=col>&lt;dbl&gt;</th><th scope=col>&lt;dbl&gt;</th><th scope=col>&lt;dbl&gt;</th><th scope=col>&lt;dbl&gt;</th><th scope=col>&lt;dbl&gt;</th><th scope=col>&lt;dbl&gt;</th><th scope=col>&lt;chr&gt;</th><th scope=col>&lt;chr&gt;</th><th scope=col>&lt;chr&gt;</th><th scope=col>&lt;chr&gt;</th><th scope=col>&lt;chr&gt;</th><th scope=col>&lt;int&gt;</th><th scope=col>&lt;chr&gt;</th><th scope=col>&lt;int&gt;</th></tr>\n",
       "</thead>\n",
       "<tbody>\n",
       "\t<tr><td>Sex: Male       </td><td>1.5393326</td><td>0.1673221</td><td> 2.5779557</td><td>0.009938675</td><td>1.1107598</td><td>2.141898</td><td>Chikungunya</td><td>Sex      </td><td>Male </td><td>Sex     </td><td>Sex     </td><td>1</td><td>Sex     </td><td>1</td></tr>\n",
       "\t<tr><td>Age Group: 10-19</td><td>0.7436009</td><td>0.3983466</td><td>-0.7437011</td><td>0.457057305</td><td>0.3377679</td><td>1.624260</td><td>Chikungunya</td><td>Age Group</td><td>10-19</td><td>   10-19</td><td>   10-19</td><td>8</td><td>   10-19</td><td>8</td></tr>\n",
       "\t<tr><td>Age Group: 20-39</td><td>0.6453977</td><td>0.3507890</td><td>-1.2482964</td><td>0.211922540</td><td>0.3262532</td><td>1.298970</td><td>Chikungunya</td><td>Age Group</td><td>20-39</td><td>   20-39</td><td>   20-39</td><td>7</td><td>   20-39</td><td>7</td></tr>\n",
       "\t<tr><td>Age Group: 40-49</td><td>0.9238464</td><td>0.3868832</td><td>-0.2047374</td><td>0.837777309</td><td>0.4311526</td><td>1.980467</td><td>Chikungunya</td><td>Age Group</td><td>40-49</td><td>   40-49</td><td>   40-49</td><td>6</td><td>   40-49</td><td>6</td></tr>\n",
       "\t<tr><td>Age Group: 50-59</td><td>0.6574309</td><td>0.4006488</td><td>-1.0468412</td><td>0.295172821</td><td>0.2964296</td><td>1.439702</td><td>Chikungunya</td><td>Age Group</td><td>50-59</td><td>   50-59</td><td>   50-59</td><td>5</td><td>   50-59</td><td>5</td></tr>\n",
       "\t<tr><td>Age Group: 60-69</td><td>0.7239670</td><td>0.3993312</td><td>-0.8088763</td><td>0.418586323</td><td>0.3281667</td><td>1.584068</td><td>Chikungunya</td><td>Age Group</td><td>60-69</td><td>   60-69</td><td>   60-69</td><td>4</td><td>   60-69</td><td>4</td></tr>\n",
       "</tbody>\n",
       "</table>\n"
      ],
      "text/latex": [
       "A tibble: 6 × 15\n",
       "\\begin{tabular}{lllllllllllllll}\n",
       " term & OR & std.error & statistic & p.value & CI\\_low & CI\\_high & Disease & Variable & Level & label.x & label.y & y\\_pos.x & label & y\\_pos.y\\\\\n",
       " <chr> & <dbl> & <dbl> & <dbl> & <dbl> & <dbl> & <dbl> & <chr> & <chr> & <chr> & <chr> & <chr> & <int> & <chr> & <int>\\\\\n",
       "\\hline\n",
       "\t Sex: Male        & 1.5393326 & 0.1673221 &  2.5779557 & 0.009938675 & 1.1107598 & 2.141898 & Chikungunya & Sex       & Male  & Sex      & Sex      & 1 & Sex      & 1\\\\\n",
       "\t Age Group: 10-19 & 0.7436009 & 0.3983466 & -0.7437011 & 0.457057305 & 0.3377679 & 1.624260 & Chikungunya & Age Group & 10-19 &    10-19 &    10-19 & 8 &    10-19 & 8\\\\\n",
       "\t Age Group: 20-39 & 0.6453977 & 0.3507890 & -1.2482964 & 0.211922540 & 0.3262532 & 1.298970 & Chikungunya & Age Group & 20-39 &    20-39 &    20-39 & 7 &    20-39 & 7\\\\\n",
       "\t Age Group: 40-49 & 0.9238464 & 0.3868832 & -0.2047374 & 0.837777309 & 0.4311526 & 1.980467 & Chikungunya & Age Group & 40-49 &    40-49 &    40-49 & 6 &    40-49 & 6\\\\\n",
       "\t Age Group: 50-59 & 0.6574309 & 0.4006488 & -1.0468412 & 0.295172821 & 0.2964296 & 1.439702 & Chikungunya & Age Group & 50-59 &    50-59 &    50-59 & 5 &    50-59 & 5\\\\\n",
       "\t Age Group: 60-69 & 0.7239670 & 0.3993312 & -0.8088763 & 0.418586323 & 0.3281667 & 1.584068 & Chikungunya & Age Group & 60-69 &    60-69 &    60-69 & 4 &    60-69 & 4\\\\\n",
       "\\end{tabular}\n"
      ],
      "text/markdown": [
       "\n",
       "A tibble: 6 × 15\n",
       "\n",
       "| term &lt;chr&gt; | OR &lt;dbl&gt; | std.error &lt;dbl&gt; | statistic &lt;dbl&gt; | p.value &lt;dbl&gt; | CI_low &lt;dbl&gt; | CI_high &lt;dbl&gt; | Disease &lt;chr&gt; | Variable &lt;chr&gt; | Level &lt;chr&gt; | label.x &lt;chr&gt; | label.y &lt;chr&gt; | y_pos.x &lt;int&gt; | label &lt;chr&gt; | y_pos.y &lt;int&gt; |\n",
       "|---|---|---|---|---|---|---|---|---|---|---|---|---|---|---|\n",
       "| Sex: Male        | 1.5393326 | 0.1673221 |  2.5779557 | 0.009938675 | 1.1107598 | 2.141898 | Chikungunya | Sex       | Male  | Sex      | Sex      | 1 | Sex      | 1 |\n",
       "| Age Group: 10-19 | 0.7436009 | 0.3983466 | -0.7437011 | 0.457057305 | 0.3377679 | 1.624260 | Chikungunya | Age Group | 10-19 |    10-19 |    10-19 | 8 |    10-19 | 8 |\n",
       "| Age Group: 20-39 | 0.6453977 | 0.3507890 | -1.2482964 | 0.211922540 | 0.3262532 | 1.298970 | Chikungunya | Age Group | 20-39 |    20-39 |    20-39 | 7 |    20-39 | 7 |\n",
       "| Age Group: 40-49 | 0.9238464 | 0.3868832 | -0.2047374 | 0.837777309 | 0.4311526 | 1.980467 | Chikungunya | Age Group | 40-49 |    40-49 |    40-49 | 6 |    40-49 | 6 |\n",
       "| Age Group: 50-59 | 0.6574309 | 0.4006488 | -1.0468412 | 0.295172821 | 0.2964296 | 1.439702 | Chikungunya | Age Group | 50-59 |    50-59 |    50-59 | 5 |    50-59 | 5 |\n",
       "| Age Group: 60-69 | 0.7239670 | 0.3993312 | -0.8088763 | 0.418586323 | 0.3281667 | 1.584068 | Chikungunya | Age Group | 60-69 |    60-69 |    60-69 | 4 |    60-69 | 4 |\n",
       "\n"
      ],
      "text/plain": [
       "  term             OR        std.error statistic  p.value     CI_low   \n",
       "1 Sex: Male        1.5393326 0.1673221  2.5779557 0.009938675 1.1107598\n",
       "2 Age Group: 10-19 0.7436009 0.3983466 -0.7437011 0.457057305 0.3377679\n",
       "3 Age Group: 20-39 0.6453977 0.3507890 -1.2482964 0.211922540 0.3262532\n",
       "4 Age Group: 40-49 0.9238464 0.3868832 -0.2047374 0.837777309 0.4311526\n",
       "5 Age Group: 50-59 0.6574309 0.4006488 -1.0468412 0.295172821 0.2964296\n",
       "6 Age Group: 60-69 0.7239670 0.3993312 -0.8088763 0.418586323 0.3281667\n",
       "  CI_high  Disease     Variable  Level label.x  label.y  y_pos.x label   \n",
       "1 2.141898 Chikungunya Sex       Male  Sex      Sex      1       Sex     \n",
       "2 1.624260 Chikungunya Age Group 10-19    10-19    10-19 8          10-19\n",
       "3 1.298970 Chikungunya Age Group 20-39    20-39    20-39 7          20-39\n",
       "4 1.980467 Chikungunya Age Group 40-49    40-49    40-49 6          40-49\n",
       "5 1.439702 Chikungunya Age Group 50-59    50-59    50-59 5          50-59\n",
       "6 1.584068 Chikungunya Age Group 60-69    60-69    60-69 4          60-69\n",
       "  y_pos.y\n",
       "1 1      \n",
       "2 8      \n",
       "3 7      \n",
       "4 6      \n",
       "5 5      \n",
       "6 4      "
      ]
     },
     "metadata": {},
     "output_type": "display_data"
    }
   ],
   "source": [
    "results_sep <- results_sep %>%\n",
    "    left_join(order_vars, by = c(\"Variable\", \"Level\"))\n",
    "head(results_sep)"
   ]
  },
  {
   "cell_type": "code",
   "execution_count": 26,
   "id": "ee041f53-5a03-4bd4-a033-4e776c3ff27c",
   "metadata": {},
   "outputs": [
    {
     "data": {
      "text/html": [
       "<table class=\"dataframe\">\n",
       "<caption>A tibble: 2 × 3</caption>\n",
       "<thead>\n",
       "\t<tr><th scope=col>Variable</th><th scope=col>max_y</th><th scope=col>y_sep</th></tr>\n",
       "\t<tr><th scope=col>&lt;chr&gt;</th><th scope=col>&lt;int&gt;</th><th scope=col>&lt;dbl&gt;</th></tr>\n",
       "</thead>\n",
       "<tbody>\n",
       "\t<tr><td>Comorbidity</td><td>6</td><td>8.5</td></tr>\n",
       "\t<tr><td>Sex        </td><td>1</td><td>6.5</td></tr>\n",
       "</tbody>\n",
       "</table>\n"
      ],
      "text/latex": [
       "A tibble: 2 × 3\n",
       "\\begin{tabular}{lll}\n",
       " Variable & max\\_y & y\\_sep\\\\\n",
       " <chr> & <int> & <dbl>\\\\\n",
       "\\hline\n",
       "\t Comorbidity & 6 & 8.5\\\\\n",
       "\t Sex         & 1 & 6.5\\\\\n",
       "\\end{tabular}\n"
      ],
      "text/markdown": [
       "\n",
       "A tibble: 2 × 3\n",
       "\n",
       "| Variable &lt;chr&gt; | max_y &lt;int&gt; | y_sep &lt;dbl&gt; |\n",
       "|---|---|---|\n",
       "| Comorbidity | 6 | 8.5 |\n",
       "| Sex         | 1 | 6.5 |\n",
       "\n"
      ],
      "text/plain": [
       "  Variable    max_y y_sep\n",
       "1 Comorbidity 6     8.5  \n",
       "2 Sex         1     6.5  "
      ]
     },
     "metadata": {},
     "output_type": "display_data"
    }
   ],
   "source": [
    "seps <- results_sep %>%\n",
    "  distinct(Variable, y_pos.y) %>%\n",
    "  group_by(Variable) %>%\n",
    "  summarise(max_y = max(y_pos.y)) %>%\n",
    "  arrange(match(Variable, c(\"Age Group\", \"Comorbidity\", \"Sex\"))) %>%\n",
    "  mutate(y_sep = lag(max_y) + 0.5) %>%\n",
    "  filter(!is.na(y_sep))\n",
    "seps"
   ]
  },
  {
   "cell_type": "code",
   "execution_count": 30,
   "id": "fef63aea-1a25-40fb-a730-ce0768d1aee0",
   "metadata": {},
   "outputs": [
    {
     "name": "stderr",
     "output_type": "stream",
     "text": [
      "Warning message:\n",
      "“\u001b[1m\u001b[22mRemoved 3 rows containing missing values (`geom_point()`).”\n",
      "Warning message:\n",
      "“\u001b[1m\u001b[22mRemoved 13 rows containing missing values (`geom_errorbarh()`).”\n"
     ]
    },
    {
     "data": {
      "image/png": "[encoded data removed]",
      "text/plain": [
       "plot without title"
      ]
     },
     "metadata": {
      "image/png": {
       "height": 420,
       "width": 420
      }
     },
     "output_type": "display_data"
    }
   ],
   "source": [
    "ggplot(results_sep, aes(x = OR, y = fct_rev(label), color = Disease)) +\n",
    "  geom_point(position = position_dodge(width = 0.5), size = 2.5) +\n",
    "  geom_errorbarh(aes(xmin = CI_low, xmax = CI_high),\n",
    "                 position = position_dodge(width = 0.5),\n",
    "                 height = 0.2) +\n",
    "  geom_vline(xintercept = 1, linetype = \"solid\", color = \"gray40\") +\n",
    "  geom_hline(data = seps, aes(yintercept = y_sep), linetype = \"dashed\", color = \"gray70\") +\n",
    "  scale_x_log10(breaks = c(0.5, 1, 2, 5, 10), limits = c(0.4, 12)) +\n",
    "  scale_color_manual(values = c(\"Chikungunya\" = \"gray\", \"Dengue\" = \"black\")) +\n",
    "  labs(\n",
    "    x = \"Adjusted odds ratio (95% CI)\",\n",
    "    y = NULL,\n",
    "    color = NULL\n",
    "  ) +\n",
    "  theme_minimal(base_size = 14) +\n",
    "  theme(\n",
    "    axis.text.y = element_text(hjust = 0),\n",
    "    panel.grid.major.y = element_blank(),\n",
    "    legend.position = \"bottom\"\n",
    "  )"
   ]
  },
  {
   "cell_type": "code",
   "execution_count": 32,
   "id": "415fd00a-102c-432e-bcea-e453999cde2b",
   "metadata": {},
   "outputs": [],
   "source": [
    "results_sep <- results %>%\n",
    "  mutate(\n",
    "    Variable = case_when(\n",
    "      grepl(\"Age Group\", term) ~ \"Age Group\",\n",
    "      grepl(\"Sex\", term) ~ \"Sex\",\n",
    "      TRUE ~ \"Comorbidity\"\n",
    "    ),\n",
    "    Level = case_when(\n",
    "      grepl(\"Age Group: \", term) ~ gsub(\"Age Group: \", \"\", term),\n",
    "      grepl(\"Sex: \", term) ~ gsub(\"Sex: \", \"\", term),\n",
    "      TRUE ~ term\n",
    "    )\n",
    "  )"
   ]
  },
  {
   "cell_type": "code",
   "execution_count": 33,
   "id": "5f27fbbb-6482-4f8c-8824-25499e55b7c7",
   "metadata": {},
   "outputs": [],
   "source": [
    "results_sep <- results_sep %>%\n",
    "  group_by(Variable) %>%\n",
    "  mutate(Level = fct_rev(fct_inorder(Level))) %>%\n",
    "  ungroup()"
   ]
  },
  {
   "cell_type": "code",
   "execution_count": 36,
   "id": "1eedbd35-7384-4e80-bb57-716ae25d5f25",
   "metadata": {},
   "outputs": [
    {
     "name": "stderr",
     "output_type": "stream",
     "text": [
      "Warning message:\n",
      "“\u001b[1m\u001b[22mRemoved 3 rows containing missing values (`geom_point()`).”\n",
      "Warning message:\n",
      "“\u001b[1m\u001b[22mRemoved 13 rows containing missing values (`geom_errorbarh()`).”\n"
     ]
    },
    {
     "data": {
      "image/png": "[encoded data removed]",
      "text/plain": [
       "plot without title"
      ]
     },
     "metadata": {
      "image/png": {
       "height": 420,
       "width": 420
      }
     },
     "output_type": "display_data"
    }
   ],
   "source": [
    "ggplot(results_sep, aes(x = OR, y = Level, color = Disease)) +\n",
    "  geom_point(position = position_dodge(width = 0.5), size = 2.5) +\n",
    "  geom_errorbarh(aes(xmin = CI_low, xmax = CI_high),\n",
    "                 position = position_dodge(width = 0.5),\n",
    "                 height = 0.2) +\n",
    "  geom_vline(xintercept = 1, linetype = \"solid\", color = \"gray40\") +\n",
    "  scale_x_log10(breaks = c(0.5, 1, 2, 5, 10), limits = c(0.4, 12)) +\n",
    "  scale_color_manual(values = c(\"Chikungunya\" = \"gray\", \"Dengue\" = \"black\")) +\n",
    "  facet_grid(rows = vars(Variable), scales = \"free_y\", space = \"free_y\") +\n",
    "  labs(\n",
    "    x = \"Adjusted odds ratio (95% CI)\",\n",
    "    y = NULL,\n",
    "    color = NULL\n",
    "  ) +\n",
    "  theme_bw(base_size = 14) +\n",
    "  theme(\n",
    "    strip.text.y = element_text(angle = 0, face = \"bold\"),\n",
    "    panel.grid.major.y = element_blank(),\n",
    "    axis.text.y = element_text(hjust = 0),\n",
    "    legend.position = \"bottom\"\n",
    "  )"
   ]
  },
  {
   "cell_type": "code",
   "execution_count": null,
   "id": "04c255e2-e4fc-46b5-a1f7-2f2eda2d0fe5",
   "metadata": {},
   "outputs": [],
   "source": []
  },
  {
   "cell_type": "code",
   "execution_count": null,
   "id": "1645f660-1f2e-47e2-9fda-2ce8489f6af4",
   "metadata": {},
   "outputs": [],
   "source": []
  }
 ],
 "metadata": {
  "kernelspec": {
   "display_name": "R",
   "language": "R",
   "name": "ir"
  },
  "language_info": {
   "codemirror_mode": "r",
   "file_extension": ".r",
   "mimetype": "text/x-r-source",
   "name": "R",
   "pygments_lexer": "r",
   "version": "4.3.3"
  }
 },
 "nbformat": 4,
 "nbformat_minor": 5
}
