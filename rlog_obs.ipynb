{
 "cells": [
  {
   "cell_type": "code",
   "execution_count": 2,
   "id": "6cee669c-14f5-4113-9418-de50804d22d6",
   "metadata": {
    "vscode": {
     "languageId": "r"
    }
   },
   "outputs": [
    {
     "name": "stderr",
     "output_type": "stream",
     "text": [
      "── \u001b[1mAttaching core tidyverse packages\u001b[22m ──────────────────────────────────────────────────── tidyverse 2.0.0 ──\n",
      "\u001b[32m✔\u001b[39m \u001b[34mdplyr    \u001b[39m 1.1.4     \u001b[32m✔\u001b[39m \u001b[34mreadr    \u001b[39m 2.1.4\n",
      "\u001b[32m✔\u001b[39m \u001b[34mforcats  \u001b[39m 1.0.0     \u001b[32m✔\u001b[39m \u001b[34mstringr  \u001b[39m 1.5.1\n",
      "\u001b[32m✔\u001b[39m \u001b[34mggplot2  \u001b[39m 3.5.2     \u001b[32m✔\u001b[39m \u001b[34mtibble   \u001b[39m 3.3.0\n",
      "\u001b[32m✔\u001b[39m \u001b[34mlubridate\u001b[39m 1.9.3     \u001b[32m✔\u001b[39m \u001b[34mtidyr    \u001b[39m 1.3.1\n",
      "\u001b[32m✔\u001b[39m \u001b[34mpurrr    \u001b[39m 1.1.0     \n",
      "── \u001b[1mConflicts\u001b[22m ────────────────────────────────────────────────────────────────────── tidyverse_conflicts() ──\n",
      "\u001b[31m✖\u001b[39m \u001b[34mdplyr\u001b[39m::\u001b[32mfilter()\u001b[39m masks \u001b[34mstats\u001b[39m::filter()\n",
      "\u001b[31m✖\u001b[39m \u001b[34mdplyr\u001b[39m::\u001b[32mlag()\u001b[39m    masks \u001b[34mstats\u001b[39m::lag()\n",
      "\u001b[36mℹ\u001b[39m Use the conflicted package (\u001b[3m\u001b[34m<http://conflicted.r-lib.org/>\u001b[39m\u001b[23m) to force all conflicts to become errors\n"
     ]
    }
   ],
   "source": [
    "library(tidyverse)\n",
    "library(broom)"
   ]
  },
  {
   "cell_type": "markdown",
   "id": "0ff01131-2499-4030-ac46-15848ab51214",
   "metadata": {},
   "source": [
    "# Admission (2-Months)"
   ]
  },
  {
   "cell_type": "code",
   "execution_count": 3,
   "id": "adc31198-6de8-431b-8255-4eea75c3ff2b",
   "metadata": {
    "scrolled": true,
    "vscode": {
     "languageId": "r"
    }
   },
   "outputs": [
    {
     "data": {
      "text/html": [
       "<table class=\"dataframe\">\n",
       "<caption>A data.frame: 444 × 26</caption>\n",
       "<thead>\n",
       "\t<tr><th scope=col>ID</th><th scope=col>COVIDEO</th><th scope=col>CONDITION</th><th scope=col>IMC</th><th scope=col>AGE</th><th scope=col>SEX</th><th scope=col>INTERNAMENTO</th><th scope=col>UTI</th><th scope=col>ETNIA</th><th scope=col>EVENT</th><th scope=col>⋯</th><th scope=col>FADIGA</th><th scope=col>DOR_TORAC</th><th scope=col>ANOREXIA</th><th scope=col>DISFAGIA</th><th scope=col>DISFONIA</th><th scope=col>ALT_PALADAR</th><th scope=col>ALT_OLFATO</th><th scope=col>LIM_MOTORA</th><th scope=col>N_SINTOMAS</th><th scope=col>PCR</th></tr>\n",
       "\t<tr><th scope=col>&lt;int&gt;</th><th scope=col>&lt;int&gt;</th><th scope=col>&lt;chr&gt;</th><th scope=col>&lt;dbl&gt;</th><th scope=col>&lt;dbl&gt;</th><th scope=col>&lt;chr&gt;</th><th scope=col>&lt;chr&gt;</th><th scope=col>&lt;chr&gt;</th><th scope=col>&lt;chr&gt;</th><th scope=col>&lt;chr&gt;</th><th scope=col>⋯</th><th scope=col>&lt;int&gt;</th><th scope=col>&lt;int&gt;</th><th scope=col>&lt;int&gt;</th><th scope=col>&lt;int&gt;</th><th scope=col>&lt;int&gt;</th><th scope=col>&lt;int&gt;</th><th scope=col>&lt;int&gt;</th><th scope=col>&lt;int&gt;</th><th scope=col>&lt;int&gt;</th><th scope=col>&lt;dbl&gt;</th></tr>\n",
       "</thead>\n",
       "<tbody>\n",
       "\t<tr><td>  29</td><td>   29</td><td>NOBS</td><td>28.71</td><td>72.8</td><td>Masculino</td><td>Sim</td><td>Sim</td><td>Preta     </td><td>Admissão</td><td>⋯</td><td>1</td><td>1</td><td>0</td><td>0</td><td>0</td><td> 0</td><td> 0</td><td>NA</td><td>3</td><td>  5</td></tr>\n",
       "\t<tr><td>  85</td><td>   85</td><td>NOBS</td><td>25.22</td><td>82.9</td><td>Feminino </td><td>Sim</td><td>Sim</td><td>Parda     </td><td>Admissão</td><td>⋯</td><td>1</td><td>0</td><td>0</td><td>0</td><td>0</td><td> 0</td><td> 0</td><td> 1</td><td>4</td><td>  5</td></tr>\n",
       "\t<tr><td> 339</td><td>  339</td><td>OBS </td><td>33.27</td><td>51.1</td><td>Feminino </td><td>Sim</td><td>Sim</td><td>Parda     </td><td>Admissão</td><td>⋯</td><td>1</td><td>1</td><td>0</td><td>0</td><td>0</td><td>NA</td><td>NA</td><td>NA</td><td>6</td><td> 61</td></tr>\n",
       "\t<tr><td> 397</td><td>  397</td><td>NOBS</td><td>27.85</td><td>69.8</td><td>Feminino </td><td>Sim</td><td>Não</td><td>Preta     </td><td>Admissão</td><td>⋯</td><td>1</td><td>0</td><td>0</td><td>0</td><td>0</td><td> 0</td><td> 0</td><td> 0</td><td>2</td><td>  5</td></tr>\n",
       "\t<tr><td> 447</td><td>  447</td><td>NOBS</td><td>29.76</td><td>52.9</td><td>Masculino</td><td>Sim</td><td>Sim</td><td>Preta     </td><td>Admissão</td><td>⋯</td><td>0</td><td>0</td><td>0</td><td>0</td><td>0</td><td> 1</td><td> 0</td><td> 0</td><td>2</td><td> NA</td></tr>\n",
       "\t<tr><td> 642</td><td>  642</td><td>OBS </td><td>30.39</td><td>57.6</td><td>Feminino </td><td>Sim</td><td>Sim</td><td>Preta     </td><td>Admissão</td><td>⋯</td><td>1</td><td>1</td><td>0</td><td>0</td><td>0</td><td>NA</td><td>NA</td><td>NA</td><td>3</td><td> 17</td></tr>\n",
       "\t<tr><td>1048</td><td> 1048</td><td>NOBS</td><td>28.52</td><td>51.6</td><td>Feminino </td><td>Não</td><td>NA </td><td>Parda     </td><td>Admissão</td><td>⋯</td><td>1</td><td>0</td><td>1</td><td>0</td><td>0</td><td> 1</td><td> 1</td><td> 0</td><td>6</td><td> NA</td></tr>\n",
       "\t<tr><td>1525</td><td> 1525</td><td>OBS </td><td>31.00</td><td>73.5</td><td>Masculino</td><td>Sim</td><td>Sim</td><td>Branca    </td><td>Admissão</td><td>⋯</td><td>1</td><td>0</td><td>1</td><td>0</td><td>0</td><td> 0</td><td> 0</td><td> 0</td><td>3</td><td> NA</td></tr>\n",
       "\t<tr><td>1793</td><td> 1793</td><td>NOBS</td><td>28.87</td><td>45.1</td><td>Masculino</td><td>Sim</td><td>Sim</td><td>Parda     </td><td>Admissão</td><td>⋯</td><td>0</td><td>0</td><td>0</td><td>0</td><td>0</td><td> 0</td><td> 0</td><td> 0</td><td>2</td><td>  5</td></tr>\n",
       "\t<tr><td>1845</td><td> 1845</td><td>OBS </td><td>33.21</td><td>43.4</td><td>Masculino</td><td>Sim</td><td>Sim</td><td>Parda     </td><td>Admissão</td><td>⋯</td><td>0</td><td>0</td><td>0</td><td>0</td><td>0</td><td> 0</td><td> 0</td><td> 0</td><td>2</td><td>  4</td></tr>\n",
       "\t<tr><td> 432</td><td>10432</td><td>NOBS</td><td>24.88</td><td>47.4</td><td>Masculino</td><td>Sim</td><td>Sim</td><td>Preta     </td><td>Admissão</td><td>⋯</td><td>1</td><td>0</td><td>0</td><td>0</td><td>0</td><td>NA</td><td>NA</td><td>NA</td><td>1</td><td>  4</td></tr>\n",
       "\t<tr><td> 476</td><td>10476</td><td>OBS </td><td>35.16</td><td>61.7</td><td>Feminino </td><td>Sim</td><td>Não</td><td>Preta     </td><td>Admissão</td><td>⋯</td><td>1</td><td>1</td><td>0</td><td>0</td><td>0</td><td>NA</td><td>NA</td><td>NA</td><td>4</td><td> 21</td></tr>\n",
       "\t<tr><td> 533</td><td>10533</td><td>OBS </td><td>34.82</td><td>49.4</td><td>Feminino </td><td>Sim</td><td>Sim</td><td>Preta     </td><td>Admissão</td><td>⋯</td><td>1</td><td>1</td><td>0</td><td>0</td><td>0</td><td>NA</td><td>NA</td><td>NA</td><td>6</td><td>  5</td></tr>\n",
       "\t<tr><td> 534</td><td>10534</td><td>OBS </td><td>33.66</td><td>58.1</td><td>Masculino</td><td>Sim</td><td>Não</td><td>Branca    </td><td>Admissão</td><td>⋯</td><td>1</td><td>0</td><td>0</td><td>0</td><td>0</td><td> 0</td><td> 0</td><td> 0</td><td>1</td><td>  5</td></tr>\n",
       "\t<tr><td> 536</td><td>10536</td><td>OBS </td><td>43.01</td><td>48.0</td><td>Feminino </td><td>Sim</td><td>Não</td><td>Preta     </td><td>Admissão</td><td>⋯</td><td>1</td><td>1</td><td>0</td><td>0</td><td>0</td><td>NA</td><td>NA</td><td>NA</td><td>4</td><td> 11</td></tr>\n",
       "\t<tr><td> 573</td><td>10573</td><td>OBS </td><td>32.47</td><td>69.9</td><td>Feminino </td><td>Sim</td><td>Sim</td><td>Preta     </td><td>Admissão</td><td>⋯</td><td>0</td><td>0</td><td>0</td><td>0</td><td>0</td><td> 0</td><td> 0</td><td> 0</td><td>2</td><td> NA</td></tr>\n",
       "\t<tr><td> 586</td><td>10586</td><td>OBS </td><td>31.77</td><td>48.0</td><td>Feminino </td><td>Sim</td><td>Sim</td><td>Preta     </td><td>Admissão</td><td>⋯</td><td>1</td><td>0</td><td>0</td><td>0</td><td>0</td><td>NA</td><td>NA</td><td>NA</td><td>1</td><td> 15</td></tr>\n",
       "\t<tr><td> 601</td><td>10601</td><td>OBS </td><td>31.64</td><td>47.7</td><td>Masculino</td><td>Sim</td><td>Sim</td><td>Parda     </td><td>Admissão</td><td>⋯</td><td>0</td><td>0</td><td>0</td><td>0</td><td>0</td><td>NA</td><td>NA</td><td>NA</td><td>0</td><td> NA</td></tr>\n",
       "\t<tr><td> 608</td><td>10608</td><td>NOBS</td><td>28.52</td><td>68.5</td><td>Feminino </td><td>Sim</td><td>Sim</td><td>Parda     </td><td>Admissão</td><td>⋯</td><td>1</td><td>0</td><td>0</td><td>0</td><td>0</td><td>NA</td><td>NA</td><td>NA</td><td>1</td><td>  5</td></tr>\n",
       "\t<tr><td> 609</td><td>10609</td><td>NOBS</td><td>29.77</td><td>47.9</td><td>Masculino</td><td>Sim</td><td>Sim</td><td>Branca    </td><td>Admissão</td><td>⋯</td><td>1</td><td>0</td><td>0</td><td>0</td><td>0</td><td> 0</td><td> 0</td><td> 0</td><td>3</td><td>100</td></tr>\n",
       "\t<tr><td> 611</td><td>10611</td><td>NOBS</td><td>28.80</td><td>68.8</td><td>Masculino</td><td>Sim</td><td>Sim</td><td>Preta     </td><td>Admissão</td><td>⋯</td><td>1</td><td>0</td><td>0</td><td>0</td><td>0</td><td>NA</td><td>NA</td><td>NA</td><td>3</td><td> NA</td></tr>\n",
       "\t<tr><td> 615</td><td>10615</td><td>NOBS</td><td>23.79</td><td>77.6</td><td>Feminino </td><td>Sim</td><td>Não</td><td>Parda     </td><td>Admissão</td><td>⋯</td><td>0</td><td>0</td><td>0</td><td>0</td><td>0</td><td>NA</td><td>NA</td><td>NA</td><td>1</td><td>  5</td></tr>\n",
       "\t<tr><td> 617</td><td>10617</td><td>OBS </td><td>34.19</td><td>57.6</td><td>Feminino </td><td>Sim</td><td>Não</td><td>Parda     </td><td>Admissão</td><td>⋯</td><td>0</td><td>0</td><td>0</td><td>0</td><td>0</td><td>NA</td><td>NA</td><td>NA</td><td>1</td><td> NA</td></tr>\n",
       "\t<tr><td> 639</td><td>10639</td><td>NOBS</td><td>28.83</td><td>47.1</td><td>Feminino </td><td>Sim</td><td>Não</td><td>Preta     </td><td>Admissão</td><td>⋯</td><td>1</td><td>1</td><td>1</td><td>0</td><td>0</td><td>NA</td><td>NA</td><td>NA</td><td>6</td><td>  5</td></tr>\n",
       "\t<tr><td> 650</td><td>10650</td><td>NOBS</td><td>23.56</td><td>52.4</td><td>Masculino</td><td>Sim</td><td>Sim</td><td>Parda     </td><td>Admissão</td><td>⋯</td><td>0</td><td>0</td><td>1</td><td>0</td><td>0</td><td>NA</td><td>NA</td><td>NA</td><td>2</td><td>  7</td></tr>\n",
       "\t<tr><td> 661</td><td>10661</td><td>OBS </td><td>44.35</td><td>39.6</td><td>Masculino</td><td>Sim</td><td>Não</td><td>Preta     </td><td>Admissão</td><td>⋯</td><td>0</td><td>0</td><td>0</td><td>0</td><td>0</td><td>NA</td><td>NA</td><td>NA</td><td>0</td><td> 21</td></tr>\n",
       "\t<tr><td> 662</td><td>10662</td><td>OBS </td><td>38.34</td><td>83.8</td><td>Feminino </td><td>Sim</td><td>Sim</td><td>Parda     </td><td>Admissão</td><td>⋯</td><td>1</td><td>1</td><td>1</td><td>0</td><td>0</td><td>NA</td><td>NA</td><td>NA</td><td>6</td><td> 34</td></tr>\n",
       "\t<tr><td> 663</td><td>10663</td><td>OBS </td><td>52.02</td><td>63.1</td><td>Feminino </td><td>Sim</td><td>Sim</td><td>Parda     </td><td>Admissão</td><td>⋯</td><td>0</td><td>0</td><td>0</td><td>0</td><td>0</td><td>NA</td><td>NA</td><td>NA</td><td>2</td><td> 12</td></tr>\n",
       "\t<tr><td> 664</td><td>10664</td><td>OBS </td><td>30.32</td><td>50.6</td><td>Masculino</td><td>Sim</td><td>Sim</td><td>Parda     </td><td>Admissão</td><td>⋯</td><td>0</td><td>0</td><td>0</td><td>0</td><td>0</td><td>NA</td><td>NA</td><td>NA</td><td>1</td><td> NA</td></tr>\n",
       "\t<tr><td> 704</td><td>10704</td><td>NOBS</td><td>23.31</td><td>70.7</td><td>Masculino</td><td>Sim</td><td>Sim</td><td>Parda     </td><td>Admissão</td><td>⋯</td><td>1</td><td>0</td><td>0</td><td>0</td><td>0</td><td> 0</td><td> 0</td><td> 0</td><td>2</td><td> NA</td></tr>\n",
       "\t<tr><td>⋮</td><td>⋮</td><td>⋮</td><td>⋮</td><td>⋮</td><td>⋮</td><td>⋮</td><td>⋮</td><td>⋮</td><td>⋮</td><td>⋱</td><td>⋮</td><td>⋮</td><td>⋮</td><td>⋮</td><td>⋮</td><td>⋮</td><td>⋮</td><td>⋮</td><td>⋮</td><td>⋮</td></tr>\n",
       "\t<tr><td>2034</td><td>12034</td><td>OBS </td><td>32.73</td><td>66.2</td><td>Masculino</td><td>Sim</td><td>Não</td><td>Parda      </td><td>Admissão</td><td>⋯</td><td> 0</td><td> 0</td><td> 0</td><td> 0</td><td> 0</td><td> 0</td><td> 0</td><td> 0</td><td>2</td><td> 1.30</td></tr>\n",
       "\t<tr><td>2050</td><td>12050</td><td>NOBS</td><td>28.57</td><td>64.2</td><td>Masculino</td><td>Sim</td><td>Não</td><td>Parda      </td><td>Admissão</td><td>⋯</td><td> 1</td><td> 1</td><td> 1</td><td> 1</td><td> 0</td><td> 0</td><td> 0</td><td> 0</td><td>6</td><td> 5.00</td></tr>\n",
       "\t<tr><td>2075</td><td>12075</td><td>NOBS</td><td>29.36</td><td>56.4</td><td>Masculino</td><td>NA </td><td>NA </td><td>Preta      </td><td>Admissão</td><td>⋯</td><td>NA</td><td>NA</td><td>NA</td><td>NA</td><td>NA</td><td>NA</td><td>NA</td><td>NA</td><td>0</td><td> 5.00</td></tr>\n",
       "\t<tr><td>2077</td><td>12077</td><td>NOBS</td><td>29.41</td><td>51.7</td><td>Masculino</td><td>Sim</td><td>Sim</td><td>Parda      </td><td>Admissão</td><td>⋯</td><td> 1</td><td> 0</td><td> 1</td><td> 0</td><td> 0</td><td> 0</td><td> 0</td><td> 0</td><td>4</td><td> 5.00</td></tr>\n",
       "\t<tr><td>2082</td><td>12082</td><td>NOBS</td><td>24.85</td><td>49.0</td><td>Masculino</td><td>Sim</td><td>Sim</td><td>Amarela    </td><td>Admissão</td><td>⋯</td><td> 0</td><td> 1</td><td> 0</td><td> 0</td><td> 0</td><td> 0</td><td> 0</td><td> 0</td><td>2</td><td> 0.60</td></tr>\n",
       "\t<tr><td>2085</td><td>12085</td><td>OBS </td><td>35.69</td><td>44.1</td><td>Feminino </td><td>Sim</td><td>Sim</td><td>Branca     </td><td>Admissão</td><td>⋯</td><td> 1</td><td> 1</td><td> 0</td><td> 0</td><td> 0</td><td> 0</td><td> 0</td><td> 0</td><td>5</td><td> 5.00</td></tr>\n",
       "\t<tr><td>2086</td><td>12086</td><td>NOBS</td><td>26.61</td><td>65.6</td><td>Feminino </td><td>Sim</td><td>Não</td><td>Branca     </td><td>Admissão</td><td>⋯</td><td> 0</td><td> 0</td><td> 1</td><td> 0</td><td> 0</td><td> 0</td><td> 0</td><td> 0</td><td>5</td><td> 1.80</td></tr>\n",
       "\t<tr><td>2090</td><td>12090</td><td>OBS </td><td>33.44</td><td>51.9</td><td>Masculino</td><td>Sim</td><td>Sim</td><td>Parda      </td><td>Admissão</td><td>⋯</td><td> 1</td><td> 1</td><td> 0</td><td> 0</td><td> 0</td><td> 0</td><td> 0</td><td> 1</td><td>7</td><td> 0.15</td></tr>\n",
       "\t<tr><td>2091</td><td>12091</td><td>OBS </td><td>35.93</td><td>43.1</td><td>Masculino</td><td>Sim</td><td>Sim</td><td>Preta      </td><td>Admissão</td><td>⋯</td><td> 0</td><td> 0</td><td> 0</td><td> 0</td><td> 0</td><td> 0</td><td> 0</td><td> 0</td><td>1</td><td> 1.20</td></tr>\n",
       "\t<tr><td>2093</td><td>12093</td><td>NOBS</td><td>28.11</td><td>43.0</td><td>Feminino </td><td>Sim</td><td>Sim</td><td>Parda      </td><td>Admissão</td><td>⋯</td><td> 1</td><td> 1</td><td> 0</td><td> 0</td><td> 0</td><td> 0</td><td> 0</td><td> 1</td><td>4</td><td> 5.00</td></tr>\n",
       "\t<tr><td>2096</td><td>12096</td><td>OBS </td><td>38.27</td><td>39.5</td><td>Masculino</td><td>Sim</td><td>Sim</td><td>Preta      </td><td>Admissão</td><td>⋯</td><td> 0</td><td> 0</td><td> 0</td><td> 0</td><td> 0</td><td> 0</td><td> 0</td><td> 1</td><td>3</td><td>   NA</td></tr>\n",
       "\t<tr><td>2102</td><td>12102</td><td>NOBS</td><td>28.05</td><td>51.9</td><td>Masculino</td><td>Sim</td><td>Sim</td><td>Parda      </td><td>Admissão</td><td>⋯</td><td> 0</td><td> 0</td><td> 0</td><td> 0</td><td> 0</td><td> 0</td><td> 0</td><td> 0</td><td>1</td><td> 1.50</td></tr>\n",
       "\t<tr><td>2104</td><td>12104</td><td>NOBS</td><td>24.80</td><td>50.8</td><td>Masculino</td><td>Sim</td><td>Sim</td><td>Parda      </td><td>Admissão</td><td>⋯</td><td> 1</td><td> 1</td><td> 1</td><td> 0</td><td> 0</td><td> 1</td><td> 1</td><td> 1</td><td>8</td><td> 1.70</td></tr>\n",
       "\t<tr><td>2107</td><td>12107</td><td>NOBS</td><td>23.11</td><td>62.7</td><td>Feminino </td><td>NA </td><td>NA </td><td>Preta      </td><td>Admissão</td><td>⋯</td><td>NA</td><td>NA</td><td>NA</td><td>NA</td><td>NA</td><td>NA</td><td>NA</td><td>NA</td><td>0</td><td> 0.30</td></tr>\n",
       "\t<tr><td>2109</td><td>12109</td><td>NOBS</td><td>24.92</td><td>69.1</td><td>Masculino</td><td>Sim</td><td>Sim</td><td>Parda      </td><td>Admissão</td><td>⋯</td><td> 1</td><td> 0</td><td> 0</td><td> 0</td><td> 0</td><td> 0</td><td> 0</td><td> 0</td><td>2</td><td>   NA</td></tr>\n",
       "\t<tr><td>2147</td><td>12147</td><td>NOBS</td><td>27.36</td><td>40.0</td><td>Masculino</td><td>Sim</td><td>Não</td><td>Branca     </td><td>Admissão</td><td>⋯</td><td> 1</td><td> 1</td><td> 0</td><td> 0</td><td> 0</td><td> 0</td><td> 0</td><td> 0</td><td>4</td><td> 4.50</td></tr>\n",
       "\t<tr><td>2148</td><td>12148</td><td>NOBS</td><td>27.02</td><td>51.2</td><td>Masculino</td><td>Sim</td><td>Não</td><td>Parda      </td><td>Admissão</td><td>⋯</td><td> 0</td><td> 0</td><td> 1</td><td> 0</td><td> 0</td><td> 0</td><td> 1</td><td> 0</td><td>4</td><td> 3.40</td></tr>\n",
       "\t<tr><td>2158</td><td>12158</td><td>OBS </td><td>34.28</td><td>55.5</td><td>Masculino</td><td>Sim</td><td>Sim</td><td>Parda      </td><td>Admissão</td><td>⋯</td><td> 0</td><td> 0</td><td> 0</td><td> 0</td><td> 0</td><td> 1</td><td> 1</td><td> 0</td><td>2</td><td>   NA</td></tr>\n",
       "\t<tr><td>2163</td><td>12163</td><td>NOBS</td><td>28.59</td><td>69.3</td><td>Masculino</td><td>Sim</td><td>Sim</td><td>Preta      </td><td>Admissão</td><td>⋯</td><td> 0</td><td> 1</td><td> 0</td><td> 0</td><td> 0</td><td> 0</td><td> 0</td><td> 0</td><td>3</td><td> 0.70</td></tr>\n",
       "\t<tr><td>2168</td><td>12168</td><td>OBS </td><td>30.04</td><td>46.7</td><td>Masculino</td><td>Sim</td><td>Sim</td><td>Preta      </td><td>Admissão</td><td>⋯</td><td> 0</td><td> 0</td><td> 0</td><td> 0</td><td> 0</td><td> 0</td><td> 0</td><td> 0</td><td>1</td><td>   NA</td></tr>\n",
       "\t<tr><td>2171</td><td>12171</td><td>OBS </td><td>31.36</td><td>52.2</td><td>Masculino</td><td>Sim</td><td>Sim</td><td>Amarela    </td><td>Admissão</td><td>⋯</td><td> 0</td><td> 1</td><td> 0</td><td> 0</td><td> 0</td><td> 0</td><td> 0</td><td> 0</td><td>3</td><td>   NA</td></tr>\n",
       "\t<tr><td>2172</td><td>12172</td><td>OBS </td><td>29.97</td><td>47.4</td><td>Masculino</td><td>Sim</td><td>Sim</td><td>Parda      </td><td>Admissão</td><td>⋯</td><td> 0</td><td> 0</td><td> 0</td><td> 0</td><td> 0</td><td> 0</td><td> 0</td><td> 0</td><td>0</td><td>28.00</td></tr>\n",
       "\t<tr><td>2173</td><td>12173</td><td>NOBS</td><td>24.32</td><td>49.4</td><td>Masculino</td><td>Sim</td><td>Sim</td><td>Preta      </td><td>Admissão</td><td>⋯</td><td> 0</td><td> 0</td><td> 0</td><td> 0</td><td> 0</td><td> 0</td><td> 0</td><td> 0</td><td>4</td><td> 1.70</td></tr>\n",
       "\t<tr><td>2179</td><td>12179</td><td>OBS </td><td>32.33</td><td>49.5</td><td>Masculino</td><td>Sim</td><td>Não</td><td>Preta      </td><td>Admissão</td><td>⋯</td><td> 0</td><td> 0</td><td> 0</td><td> 0</td><td> 0</td><td> 0</td><td> 0</td><td> 0</td><td>0</td><td> 0.40</td></tr>\n",
       "\t<tr><td>2183</td><td>12183</td><td>NOBS</td><td>28.68</td><td>49.6</td><td>Feminino </td><td>Sim</td><td>Sim</td><td>Branca     </td><td>Admissão</td><td>⋯</td><td> 1</td><td> 0</td><td> 1</td><td> 0</td><td> 0</td><td> 0</td><td> 0</td><td> 0</td><td>4</td><td> 8.40</td></tr>\n",
       "\t<tr><td>2194</td><td>12194</td><td>OBS </td><td>32.82</td><td>53.5</td><td>Masculino</td><td>Sim</td><td>Sim</td><td>Parda      </td><td>Admissão</td><td>⋯</td><td> 0</td><td> 0</td><td> 0</td><td> 0</td><td> 0</td><td> 0</td><td> 0</td><td> 0</td><td>0</td><td> 1.30</td></tr>\n",
       "\t<tr><td>2196</td><td>12196</td><td>OBS </td><td>34.38</td><td>43.1</td><td>Masculino</td><td>Sim</td><td>Sim</td><td>Branca     </td><td>Admissão</td><td>⋯</td><td> 1</td><td> 0</td><td> 0</td><td> 0</td><td> 0</td><td> 0</td><td> 0</td><td> 1</td><td>7</td><td> 0.90</td></tr>\n",
       "\t<tr><td>2213</td><td>12213</td><td>OBS </td><td>33.99</td><td>64.7</td><td>Masculino</td><td>Sim</td><td>Sim</td><td>Preta      </td><td>Admissão</td><td>⋯</td><td> 0</td><td> 0</td><td> 0</td><td> 0</td><td> 0</td><td> 0</td><td> 0</td><td> 0</td><td>1</td><td> 5.10</td></tr>\n",
       "\t<tr><td>2218</td><td>12218</td><td>OBS </td><td>43.48</td><td>43.9</td><td>Masculino</td><td>Sim</td><td>Sim</td><td>Preta      </td><td>Admissão</td><td>⋯</td><td> 1</td><td> 0</td><td> 0</td><td> 0</td><td> 0</td><td> 0</td><td> 0</td><td> 0</td><td>3</td><td> 1.50</td></tr>\n",
       "\t<tr><td>2264</td><td>12264</td><td>OBS </td><td>42.81</td><td>49.9</td><td>Masculino</td><td>Sim</td><td>Sim</td><td>Branca     </td><td>Admissão</td><td>⋯</td><td> 0</td><td> 0</td><td> 0</td><td> 0</td><td> 0</td><td> 0</td><td> 0</td><td> 0</td><td>1</td><td> 2.70</td></tr>\n",
       "</tbody>\n",
       "</table>\n"
      ],
      "text/latex": [
       "A data.frame: 444 × 26\n",
       "\\begin{tabular}{lllllllllllllllllllll}\n",
       " ID & COVIDEO & CONDITION & IMC & AGE & SEX & INTERNAMENTO & UTI & ETNIA & EVENT & ⋯ & FADIGA & DOR\\_TORAC & ANOREXIA & DISFAGIA & DISFONIA & ALT\\_PALADAR & ALT\\_OLFATO & LIM\\_MOTORA & N\\_SINTOMAS & PCR\\\\\n",
       " <int> & <int> & <chr> & <dbl> & <dbl> & <chr> & <chr> & <chr> & <chr> & <chr> & ⋯ & <int> & <int> & <int> & <int> & <int> & <int> & <int> & <int> & <int> & <dbl>\\\\\n",
       "\\hline\n",
       "\t   29 &    29 & NOBS & 28.71 & 72.8 & Masculino & Sim & Sim & Preta      & Admissão & ⋯ & 1 & 1 & 0 & 0 & 0 &  0 &  0 & NA & 3 &   5\\\\\n",
       "\t   85 &    85 & NOBS & 25.22 & 82.9 & Feminino  & Sim & Sim & Parda      & Admissão & ⋯ & 1 & 0 & 0 & 0 & 0 &  0 &  0 &  1 & 4 &   5\\\\\n",
       "\t  339 &   339 & OBS  & 33.27 & 51.1 & Feminino  & Sim & Sim & Parda      & Admissão & ⋯ & 1 & 1 & 0 & 0 & 0 & NA & NA & NA & 6 &  61\\\\\n",
       "\t  397 &   397 & NOBS & 27.85 & 69.8 & Feminino  & Sim & Não & Preta      & Admissão & ⋯ & 1 & 0 & 0 & 0 & 0 &  0 &  0 &  0 & 2 &   5\\\\\n",
       "\t  447 &   447 & NOBS & 29.76 & 52.9 & Masculino & Sim & Sim & Preta      & Admissão & ⋯ & 0 & 0 & 0 & 0 & 0 &  1 &  0 &  0 & 2 &  NA\\\\\n",
       "\t  642 &   642 & OBS  & 30.39 & 57.6 & Feminino  & Sim & Sim & Preta      & Admissão & ⋯ & 1 & 1 & 0 & 0 & 0 & NA & NA & NA & 3 &  17\\\\\n",
       "\t 1048 &  1048 & NOBS & 28.52 & 51.6 & Feminino  & Não & NA  & Parda      & Admissão & ⋯ & 1 & 0 & 1 & 0 & 0 &  1 &  1 &  0 & 6 &  NA\\\\\n",
       "\t 1525 &  1525 & OBS  & 31.00 & 73.5 & Masculino & Sim & Sim & Branca     & Admissão & ⋯ & 1 & 0 & 1 & 0 & 0 &  0 &  0 &  0 & 3 &  NA\\\\\n",
       "\t 1793 &  1793 & NOBS & 28.87 & 45.1 & Masculino & Sim & Sim & Parda      & Admissão & ⋯ & 0 & 0 & 0 & 0 & 0 &  0 &  0 &  0 & 2 &   5\\\\\n",
       "\t 1845 &  1845 & OBS  & 33.21 & 43.4 & Masculino & Sim & Sim & Parda      & Admissão & ⋯ & 0 & 0 & 0 & 0 & 0 &  0 &  0 &  0 & 2 &   4\\\\\n",
       "\t  432 & 10432 & NOBS & 24.88 & 47.4 & Masculino & Sim & Sim & Preta      & Admissão & ⋯ & 1 & 0 & 0 & 0 & 0 & NA & NA & NA & 1 &   4\\\\\n",
       "\t  476 & 10476 & OBS  & 35.16 & 61.7 & Feminino  & Sim & Não & Preta      & Admissão & ⋯ & 1 & 1 & 0 & 0 & 0 & NA & NA & NA & 4 &  21\\\\\n",
       "\t  533 & 10533 & OBS  & 34.82 & 49.4 & Feminino  & Sim & Sim & Preta      & Admissão & ⋯ & 1 & 1 & 0 & 0 & 0 & NA & NA & NA & 6 &   5\\\\\n",
       "\t  534 & 10534 & OBS  & 33.66 & 58.1 & Masculino & Sim & Não & Branca     & Admissão & ⋯ & 1 & 0 & 0 & 0 & 0 &  0 &  0 &  0 & 1 &   5\\\\\n",
       "\t  536 & 10536 & OBS  & 43.01 & 48.0 & Feminino  & Sim & Não & Preta      & Admissão & ⋯ & 1 & 1 & 0 & 0 & 0 & NA & NA & NA & 4 &  11\\\\\n",
       "\t  573 & 10573 & OBS  & 32.47 & 69.9 & Feminino  & Sim & Sim & Preta      & Admissão & ⋯ & 0 & 0 & 0 & 0 & 0 &  0 &  0 &  0 & 2 &  NA\\\\\n",
       "\t  586 & 10586 & OBS  & 31.77 & 48.0 & Feminino  & Sim & Sim & Preta      & Admissão & ⋯ & 1 & 0 & 0 & 0 & 0 & NA & NA & NA & 1 &  15\\\\\n",
       "\t  601 & 10601 & OBS  & 31.64 & 47.7 & Masculino & Sim & Sim & Parda      & Admissão & ⋯ & 0 & 0 & 0 & 0 & 0 & NA & NA & NA & 0 &  NA\\\\\n",
       "\t  608 & 10608 & NOBS & 28.52 & 68.5 & Feminino  & Sim & Sim & Parda      & Admissão & ⋯ & 1 & 0 & 0 & 0 & 0 & NA & NA & NA & 1 &   5\\\\\n",
       "\t  609 & 10609 & NOBS & 29.77 & 47.9 & Masculino & Sim & Sim & Branca     & Admissão & ⋯ & 1 & 0 & 0 & 0 & 0 &  0 &  0 &  0 & 3 & 100\\\\\n",
       "\t  611 & 10611 & NOBS & 28.80 & 68.8 & Masculino & Sim & Sim & Preta      & Admissão & ⋯ & 1 & 0 & 0 & 0 & 0 & NA & NA & NA & 3 &  NA\\\\\n",
       "\t  615 & 10615 & NOBS & 23.79 & 77.6 & Feminino  & Sim & Não & Parda      & Admissão & ⋯ & 0 & 0 & 0 & 0 & 0 & NA & NA & NA & 1 &   5\\\\\n",
       "\t  617 & 10617 & OBS  & 34.19 & 57.6 & Feminino  & Sim & Não & Parda      & Admissão & ⋯ & 0 & 0 & 0 & 0 & 0 & NA & NA & NA & 1 &  NA\\\\\n",
       "\t  639 & 10639 & NOBS & 28.83 & 47.1 & Feminino  & Sim & Não & Preta      & Admissão & ⋯ & 1 & 1 & 1 & 0 & 0 & NA & NA & NA & 6 &   5\\\\\n",
       "\t  650 & 10650 & NOBS & 23.56 & 52.4 & Masculino & Sim & Sim & Parda      & Admissão & ⋯ & 0 & 0 & 1 & 0 & 0 & NA & NA & NA & 2 &   7\\\\\n",
       "\t  661 & 10661 & OBS  & 44.35 & 39.6 & Masculino & Sim & Não & Preta      & Admissão & ⋯ & 0 & 0 & 0 & 0 & 0 & NA & NA & NA & 0 &  21\\\\\n",
       "\t  662 & 10662 & OBS  & 38.34 & 83.8 & Feminino  & Sim & Sim & Parda      & Admissão & ⋯ & 1 & 1 & 1 & 0 & 0 & NA & NA & NA & 6 &  34\\\\\n",
       "\t  663 & 10663 & OBS  & 52.02 & 63.1 & Feminino  & Sim & Sim & Parda      & Admissão & ⋯ & 0 & 0 & 0 & 0 & 0 & NA & NA & NA & 2 &  12\\\\\n",
       "\t  664 & 10664 & OBS  & 30.32 & 50.6 & Masculino & Sim & Sim & Parda      & Admissão & ⋯ & 0 & 0 & 0 & 0 & 0 & NA & NA & NA & 1 &  NA\\\\\n",
       "\t  704 & 10704 & NOBS & 23.31 & 70.7 & Masculino & Sim & Sim & Parda      & Admissão & ⋯ & 1 & 0 & 0 & 0 & 0 &  0 &  0 &  0 & 2 &  NA\\\\\n",
       "\t ⋮ & ⋮ & ⋮ & ⋮ & ⋮ & ⋮ & ⋮ & ⋮ & ⋮ & ⋮ & ⋱ & ⋮ & ⋮ & ⋮ & ⋮ & ⋮ & ⋮ & ⋮ & ⋮ & ⋮ & ⋮\\\\\n",
       "\t 2034 & 12034 & OBS  & 32.73 & 66.2 & Masculino & Sim & Não & Parda       & Admissão & ⋯ &  0 &  0 &  0 &  0 &  0 &  0 &  0 &  0 & 2 &  1.30\\\\\n",
       "\t 2050 & 12050 & NOBS & 28.57 & 64.2 & Masculino & Sim & Não & Parda       & Admissão & ⋯ &  1 &  1 &  1 &  1 &  0 &  0 &  0 &  0 & 6 &  5.00\\\\\n",
       "\t 2075 & 12075 & NOBS & 29.36 & 56.4 & Masculino & NA  & NA  & Preta       & Admissão & ⋯ & NA & NA & NA & NA & NA & NA & NA & NA & 0 &  5.00\\\\\n",
       "\t 2077 & 12077 & NOBS & 29.41 & 51.7 & Masculino & Sim & Sim & Parda       & Admissão & ⋯ &  1 &  0 &  1 &  0 &  0 &  0 &  0 &  0 & 4 &  5.00\\\\\n",
       "\t 2082 & 12082 & NOBS & 24.85 & 49.0 & Masculino & Sim & Sim & Amarela     & Admissão & ⋯ &  0 &  1 &  0 &  0 &  0 &  0 &  0 &  0 & 2 &  0.60\\\\\n",
       "\t 2085 & 12085 & OBS  & 35.69 & 44.1 & Feminino  & Sim & Sim & Branca      & Admissão & ⋯ &  1 &  1 &  0 &  0 &  0 &  0 &  0 &  0 & 5 &  5.00\\\\\n",
       "\t 2086 & 12086 & NOBS & 26.61 & 65.6 & Feminino  & Sim & Não & Branca      & Admissão & ⋯ &  0 &  0 &  1 &  0 &  0 &  0 &  0 &  0 & 5 &  1.80\\\\\n",
       "\t 2090 & 12090 & OBS  & 33.44 & 51.9 & Masculino & Sim & Sim & Parda       & Admissão & ⋯ &  1 &  1 &  0 &  0 &  0 &  0 &  0 &  1 & 7 &  0.15\\\\\n",
       "\t 2091 & 12091 & OBS  & 35.93 & 43.1 & Masculino & Sim & Sim & Preta       & Admissão & ⋯ &  0 &  0 &  0 &  0 &  0 &  0 &  0 &  0 & 1 &  1.20\\\\\n",
       "\t 2093 & 12093 & NOBS & 28.11 & 43.0 & Feminino  & Sim & Sim & Parda       & Admissão & ⋯ &  1 &  1 &  0 &  0 &  0 &  0 &  0 &  1 & 4 &  5.00\\\\\n",
       "\t 2096 & 12096 & OBS  & 38.27 & 39.5 & Masculino & Sim & Sim & Preta       & Admissão & ⋯ &  0 &  0 &  0 &  0 &  0 &  0 &  0 &  1 & 3 &    NA\\\\\n",
       "\t 2102 & 12102 & NOBS & 28.05 & 51.9 & Masculino & Sim & Sim & Parda       & Admissão & ⋯ &  0 &  0 &  0 &  0 &  0 &  0 &  0 &  0 & 1 &  1.50\\\\\n",
       "\t 2104 & 12104 & NOBS & 24.80 & 50.8 & Masculino & Sim & Sim & Parda       & Admissão & ⋯ &  1 &  1 &  1 &  0 &  0 &  1 &  1 &  1 & 8 &  1.70\\\\\n",
       "\t 2107 & 12107 & NOBS & 23.11 & 62.7 & Feminino  & NA  & NA  & Preta       & Admissão & ⋯ & NA & NA & NA & NA & NA & NA & NA & NA & 0 &  0.30\\\\\n",
       "\t 2109 & 12109 & NOBS & 24.92 & 69.1 & Masculino & Sim & Sim & Parda       & Admissão & ⋯ &  1 &  0 &  0 &  0 &  0 &  0 &  0 &  0 & 2 &    NA\\\\\n",
       "\t 2147 & 12147 & NOBS & 27.36 & 40.0 & Masculino & Sim & Não & Branca      & Admissão & ⋯ &  1 &  1 &  0 &  0 &  0 &  0 &  0 &  0 & 4 &  4.50\\\\\n",
       "\t 2148 & 12148 & NOBS & 27.02 & 51.2 & Masculino & Sim & Não & Parda       & Admissão & ⋯ &  0 &  0 &  1 &  0 &  0 &  0 &  1 &  0 & 4 &  3.40\\\\\n",
       "\t 2158 & 12158 & OBS  & 34.28 & 55.5 & Masculino & Sim & Sim & Parda       & Admissão & ⋯ &  0 &  0 &  0 &  0 &  0 &  1 &  1 &  0 & 2 &    NA\\\\\n",
       "\t 2163 & 12163 & NOBS & 28.59 & 69.3 & Masculino & Sim & Sim & Preta       & Admissão & ⋯ &  0 &  1 &  0 &  0 &  0 &  0 &  0 &  0 & 3 &  0.70\\\\\n",
       "\t 2168 & 12168 & OBS  & 30.04 & 46.7 & Masculino & Sim & Sim & Preta       & Admissão & ⋯ &  0 &  0 &  0 &  0 &  0 &  0 &  0 &  0 & 1 &    NA\\\\\n",
       "\t 2171 & 12171 & OBS  & 31.36 & 52.2 & Masculino & Sim & Sim & Amarela     & Admissão & ⋯ &  0 &  1 &  0 &  0 &  0 &  0 &  0 &  0 & 3 &    NA\\\\\n",
       "\t 2172 & 12172 & OBS  & 29.97 & 47.4 & Masculino & Sim & Sim & Parda       & Admissão & ⋯ &  0 &  0 &  0 &  0 &  0 &  0 &  0 &  0 & 0 & 28.00\\\\\n",
       "\t 2173 & 12173 & NOBS & 24.32 & 49.4 & Masculino & Sim & Sim & Preta       & Admissão & ⋯ &  0 &  0 &  0 &  0 &  0 &  0 &  0 &  0 & 4 &  1.70\\\\\n",
       "\t 2179 & 12179 & OBS  & 32.33 & 49.5 & Masculino & Sim & Não & Preta       & Admissão & ⋯ &  0 &  0 &  0 &  0 &  0 &  0 &  0 &  0 & 0 &  0.40\\\\\n",
       "\t 2183 & 12183 & NOBS & 28.68 & 49.6 & Feminino  & Sim & Sim & Branca      & Admissão & ⋯ &  1 &  0 &  1 &  0 &  0 &  0 &  0 &  0 & 4 &  8.40\\\\\n",
       "\t 2194 & 12194 & OBS  & 32.82 & 53.5 & Masculino & Sim & Sim & Parda       & Admissão & ⋯ &  0 &  0 &  0 &  0 &  0 &  0 &  0 &  0 & 0 &  1.30\\\\\n",
       "\t 2196 & 12196 & OBS  & 34.38 & 43.1 & Masculino & Sim & Sim & Branca      & Admissão & ⋯ &  1 &  0 &  0 &  0 &  0 &  0 &  0 &  1 & 7 &  0.90\\\\\n",
       "\t 2213 & 12213 & OBS  & 33.99 & 64.7 & Masculino & Sim & Sim & Preta       & Admissão & ⋯ &  0 &  0 &  0 &  0 &  0 &  0 &  0 &  0 & 1 &  5.10\\\\\n",
       "\t 2218 & 12218 & OBS  & 43.48 & 43.9 & Masculino & Sim & Sim & Preta       & Admissão & ⋯ &  1 &  0 &  0 &  0 &  0 &  0 &  0 &  0 & 3 &  1.50\\\\\n",
       "\t 2264 & 12264 & OBS  & 42.81 & 49.9 & Masculino & Sim & Sim & Branca      & Admissão & ⋯ &  0 &  0 &  0 &  0 &  0 &  0 &  0 &  0 & 1 &  2.70\\\\\n",
       "\\end{tabular}\n"
      ],
      "text/markdown": [
       "\n",
       "A data.frame: 444 × 26\n",
       "\n",
       "| ID &lt;int&gt; | COVIDEO &lt;int&gt; | CONDITION &lt;chr&gt; | IMC &lt;dbl&gt; | AGE &lt;dbl&gt; | SEX &lt;chr&gt; | INTERNAMENTO &lt;chr&gt; | UTI &lt;chr&gt; | ETNIA &lt;chr&gt; | EVENT &lt;chr&gt; | ⋯ ⋯ | FADIGA &lt;int&gt; | DOR_TORAC &lt;int&gt; | ANOREXIA &lt;int&gt; | DISFAGIA &lt;int&gt; | DISFONIA &lt;int&gt; | ALT_PALADAR &lt;int&gt; | ALT_OLFATO &lt;int&gt; | LIM_MOTORA &lt;int&gt; | N_SINTOMAS &lt;int&gt; | PCR &lt;dbl&gt; |\n",
       "|---|---|---|---|---|---|---|---|---|---|---|---|---|---|---|---|---|---|---|---|---|\n",
       "|   29 |    29 | NOBS | 28.71 | 72.8 | Masculino | Sim | Sim | Preta      | Admissão | ⋯ | 1 | 1 | 0 | 0 | 0 |  0 |  0 | NA | 3 |   5 |\n",
       "|   85 |    85 | NOBS | 25.22 | 82.9 | Feminino  | Sim | Sim | Parda      | Admissão | ⋯ | 1 | 0 | 0 | 0 | 0 |  0 |  0 |  1 | 4 |   5 |\n",
       "|  339 |   339 | OBS  | 33.27 | 51.1 | Feminino  | Sim | Sim | Parda      | Admissão | ⋯ | 1 | 1 | 0 | 0 | 0 | NA | NA | NA | 6 |  61 |\n",
       "|  397 |   397 | NOBS | 27.85 | 69.8 | Feminino  | Sim | Não | Preta      | Admissão | ⋯ | 1 | 0 | 0 | 0 | 0 |  0 |  0 |  0 | 2 |   5 |\n",
       "|  447 |   447 | NOBS | 29.76 | 52.9 | Masculino | Sim | Sim | Preta      | Admissão | ⋯ | 0 | 0 | 0 | 0 | 0 |  1 |  0 |  0 | 2 |  NA |\n",
       "|  642 |   642 | OBS  | 30.39 | 57.6 | Feminino  | Sim | Sim | Preta      | Admissão | ⋯ | 1 | 1 | 0 | 0 | 0 | NA | NA | NA | 3 |  17 |\n",
       "| 1048 |  1048 | NOBS | 28.52 | 51.6 | Feminino  | Não | NA  | Parda      | Admissão | ⋯ | 1 | 0 | 1 | 0 | 0 |  1 |  1 |  0 | 6 |  NA |\n",
       "| 1525 |  1525 | OBS  | 31.00 | 73.5 | Masculino | Sim | Sim | Branca     | Admissão | ⋯ | 1 | 0 | 1 | 0 | 0 |  0 |  0 |  0 | 3 |  NA |\n",
       "| 1793 |  1793 | NOBS | 28.87 | 45.1 | Masculino | Sim | Sim | Parda      | Admissão | ⋯ | 0 | 0 | 0 | 0 | 0 |  0 |  0 |  0 | 2 |   5 |\n",
       "| 1845 |  1845 | OBS  | 33.21 | 43.4 | Masculino | Sim | Sim | Parda      | Admissão | ⋯ | 0 | 0 | 0 | 0 | 0 |  0 |  0 |  0 | 2 |   4 |\n",
       "|  432 | 10432 | NOBS | 24.88 | 47.4 | Masculino | Sim | Sim | Preta      | Admissão | ⋯ | 1 | 0 | 0 | 0 | 0 | NA | NA | NA | 1 |   4 |\n",
       "|  476 | 10476 | OBS  | 35.16 | 61.7 | Feminino  | Sim | Não | Preta      | Admissão | ⋯ | 1 | 1 | 0 | 0 | 0 | NA | NA | NA | 4 |  21 |\n",
       "|  533 | 10533 | OBS  | 34.82 | 49.4 | Feminino  | Sim | Sim | Preta      | Admissão | ⋯ | 1 | 1 | 0 | 0 | 0 | NA | NA | NA | 6 |   5 |\n",
       "|  534 | 10534 | OBS  | 33.66 | 58.1 | Masculino | Sim | Não | Branca     | Admissão | ⋯ | 1 | 0 | 0 | 0 | 0 |  0 |  0 |  0 | 1 |   5 |\n",
       "|  536 | 10536 | OBS  | 43.01 | 48.0 | Feminino  | Sim | Não | Preta      | Admissão | ⋯ | 1 | 1 | 0 | 0 | 0 | NA | NA | NA | 4 |  11 |\n",
       "|  573 | 10573 | OBS  | 32.47 | 69.9 | Feminino  | Sim | Sim | Preta      | Admissão | ⋯ | 0 | 0 | 0 | 0 | 0 |  0 |  0 |  0 | 2 |  NA |\n",
       "|  586 | 10586 | OBS  | 31.77 | 48.0 | Feminino  | Sim | Sim | Preta      | Admissão | ⋯ | 1 | 0 | 0 | 0 | 0 | NA | NA | NA | 1 |  15 |\n",
       "|  601 | 10601 | OBS  | 31.64 | 47.7 | Masculino | Sim | Sim | Parda      | Admissão | ⋯ | 0 | 0 | 0 | 0 | 0 | NA | NA | NA | 0 |  NA |\n",
       "|  608 | 10608 | NOBS | 28.52 | 68.5 | Feminino  | Sim | Sim | Parda      | Admissão | ⋯ | 1 | 0 | 0 | 0 | 0 | NA | NA | NA | 1 |   5 |\n",
       "|  609 | 10609 | NOBS | 29.77 | 47.9 | Masculino | Sim | Sim | Branca     | Admissão | ⋯ | 1 | 0 | 0 | 0 | 0 |  0 |  0 |  0 | 3 | 100 |\n",
       "|  611 | 10611 | NOBS | 28.80 | 68.8 | Masculino | Sim | Sim | Preta      | Admissão | ⋯ | 1 | 0 | 0 | 0 | 0 | NA | NA | NA | 3 |  NA |\n",
       "|  615 | 10615 | NOBS | 23.79 | 77.6 | Feminino  | Sim | Não | Parda      | Admissão | ⋯ | 0 | 0 | 0 | 0 | 0 | NA | NA | NA | 1 |   5 |\n",
       "|  617 | 10617 | OBS  | 34.19 | 57.6 | Feminino  | Sim | Não | Parda      | Admissão | ⋯ | 0 | 0 | 0 | 0 | 0 | NA | NA | NA | 1 |  NA |\n",
       "|  639 | 10639 | NOBS | 28.83 | 47.1 | Feminino  | Sim | Não | Preta      | Admissão | ⋯ | 1 | 1 | 1 | 0 | 0 | NA | NA | NA | 6 |   5 |\n",
       "|  650 | 10650 | NOBS | 23.56 | 52.4 | Masculino | Sim | Sim | Parda      | Admissão | ⋯ | 0 | 0 | 1 | 0 | 0 | NA | NA | NA | 2 |   7 |\n",
       "|  661 | 10661 | OBS  | 44.35 | 39.6 | Masculino | Sim | Não | Preta      | Admissão | ⋯ | 0 | 0 | 0 | 0 | 0 | NA | NA | NA | 0 |  21 |\n",
       "|  662 | 10662 | OBS  | 38.34 | 83.8 | Feminino  | Sim | Sim | Parda      | Admissão | ⋯ | 1 | 1 | 1 | 0 | 0 | NA | NA | NA | 6 |  34 |\n",
       "|  663 | 10663 | OBS  | 52.02 | 63.1 | Feminino  | Sim | Sim | Parda      | Admissão | ⋯ | 0 | 0 | 0 | 0 | 0 | NA | NA | NA | 2 |  12 |\n",
       "|  664 | 10664 | OBS  | 30.32 | 50.6 | Masculino | Sim | Sim | Parda      | Admissão | ⋯ | 0 | 0 | 0 | 0 | 0 | NA | NA | NA | 1 |  NA |\n",
       "|  704 | 10704 | NOBS | 23.31 | 70.7 | Masculino | Sim | Sim | Parda      | Admissão | ⋯ | 1 | 0 | 0 | 0 | 0 |  0 |  0 |  0 | 2 |  NA |\n",
       "| ⋮ | ⋮ | ⋮ | ⋮ | ⋮ | ⋮ | ⋮ | ⋮ | ⋮ | ⋮ | ⋱ | ⋮ | ⋮ | ⋮ | ⋮ | ⋮ | ⋮ | ⋮ | ⋮ | ⋮ | ⋮ |\n",
       "| 2034 | 12034 | OBS  | 32.73 | 66.2 | Masculino | Sim | Não | Parda       | Admissão | ⋯ |  0 |  0 |  0 |  0 |  0 |  0 |  0 |  0 | 2 |  1.30 |\n",
       "| 2050 | 12050 | NOBS | 28.57 | 64.2 | Masculino | Sim | Não | Parda       | Admissão | ⋯ |  1 |  1 |  1 |  1 |  0 |  0 |  0 |  0 | 6 |  5.00 |\n",
       "| 2075 | 12075 | NOBS | 29.36 | 56.4 | Masculino | NA  | NA  | Preta       | Admissão | ⋯ | NA | NA | NA | NA | NA | NA | NA | NA | 0 |  5.00 |\n",
       "| 2077 | 12077 | NOBS | 29.41 | 51.7 | Masculino | Sim | Sim | Parda       | Admissão | ⋯ |  1 |  0 |  1 |  0 |  0 |  0 |  0 |  0 | 4 |  5.00 |\n",
       "| 2082 | 12082 | NOBS | 24.85 | 49.0 | Masculino | Sim | Sim | Amarela     | Admissão | ⋯ |  0 |  1 |  0 |  0 |  0 |  0 |  0 |  0 | 2 |  0.60 |\n",
       "| 2085 | 12085 | OBS  | 35.69 | 44.1 | Feminino  | Sim | Sim | Branca      | Admissão | ⋯ |  1 |  1 |  0 |  0 |  0 |  0 |  0 |  0 | 5 |  5.00 |\n",
       "| 2086 | 12086 | NOBS | 26.61 | 65.6 | Feminino  | Sim | Não | Branca      | Admissão | ⋯ |  0 |  0 |  1 |  0 |  0 |  0 |  0 |  0 | 5 |  1.80 |\n",
       "| 2090 | 12090 | OBS  | 33.44 | 51.9 | Masculino | Sim | Sim | Parda       | Admissão | ⋯ |  1 |  1 |  0 |  0 |  0 |  0 |  0 |  1 | 7 |  0.15 |\n",
       "| 2091 | 12091 | OBS  | 35.93 | 43.1 | Masculino | Sim | Sim | Preta       | Admissão | ⋯ |  0 |  0 |  0 |  0 |  0 |  0 |  0 |  0 | 1 |  1.20 |\n",
       "| 2093 | 12093 | NOBS | 28.11 | 43.0 | Feminino  | Sim | Sim | Parda       | Admissão | ⋯ |  1 |  1 |  0 |  0 |  0 |  0 |  0 |  1 | 4 |  5.00 |\n",
       "| 2096 | 12096 | OBS  | 38.27 | 39.5 | Masculino | Sim | Sim | Preta       | Admissão | ⋯ |  0 |  0 |  0 |  0 |  0 |  0 |  0 |  1 | 3 |    NA |\n",
       "| 2102 | 12102 | NOBS | 28.05 | 51.9 | Masculino | Sim | Sim | Parda       | Admissão | ⋯ |  0 |  0 |  0 |  0 |  0 |  0 |  0 |  0 | 1 |  1.50 |\n",
       "| 2104 | 12104 | NOBS | 24.80 | 50.8 | Masculino | Sim | Sim | Parda       | Admissão | ⋯ |  1 |  1 |  1 |  0 |  0 |  1 |  1 |  1 | 8 |  1.70 |\n",
       "| 2107 | 12107 | NOBS | 23.11 | 62.7 | Feminino  | NA  | NA  | Preta       | Admissão | ⋯ | NA | NA | NA | NA | NA | NA | NA | NA | 0 |  0.30 |\n",
       "| 2109 | 12109 | NOBS | 24.92 | 69.1 | Masculino | Sim | Sim | Parda       | Admissão | ⋯ |  1 |  0 |  0 |  0 |  0 |  0 |  0 |  0 | 2 |    NA |\n",
       "| 2147 | 12147 | NOBS | 27.36 | 40.0 | Masculino | Sim | Não | Branca      | Admissão | ⋯ |  1 |  1 |  0 |  0 |  0 |  0 |  0 |  0 | 4 |  4.50 |\n",
       "| 2148 | 12148 | NOBS | 27.02 | 51.2 | Masculino | Sim | Não | Parda       | Admissão | ⋯ |  0 |  0 |  1 |  0 |  0 |  0 |  1 |  0 | 4 |  3.40 |\n",
       "| 2158 | 12158 | OBS  | 34.28 | 55.5 | Masculino | Sim | Sim | Parda       | Admissão | ⋯ |  0 |  0 |  0 |  0 |  0 |  1 |  1 |  0 | 2 |    NA |\n",
       "| 2163 | 12163 | NOBS | 28.59 | 69.3 | Masculino | Sim | Sim | Preta       | Admissão | ⋯ |  0 |  1 |  0 |  0 |  0 |  0 |  0 |  0 | 3 |  0.70 |\n",
       "| 2168 | 12168 | OBS  | 30.04 | 46.7 | Masculino | Sim | Sim | Preta       | Admissão | ⋯ |  0 |  0 |  0 |  0 |  0 |  0 |  0 |  0 | 1 |    NA |\n",
       "| 2171 | 12171 | OBS  | 31.36 | 52.2 | Masculino | Sim | Sim | Amarela     | Admissão | ⋯ |  0 |  1 |  0 |  0 |  0 |  0 |  0 |  0 | 3 |    NA |\n",
       "| 2172 | 12172 | OBS  | 29.97 | 47.4 | Masculino | Sim | Sim | Parda       | Admissão | ⋯ |  0 |  0 |  0 |  0 |  0 |  0 |  0 |  0 | 0 | 28.00 |\n",
       "| 2173 | 12173 | NOBS | 24.32 | 49.4 | Masculino | Sim | Sim | Preta       | Admissão | ⋯ |  0 |  0 |  0 |  0 |  0 |  0 |  0 |  0 | 4 |  1.70 |\n",
       "| 2179 | 12179 | OBS  | 32.33 | 49.5 | Masculino | Sim | Não | Preta       | Admissão | ⋯ |  0 |  0 |  0 |  0 |  0 |  0 |  0 |  0 | 0 |  0.40 |\n",
       "| 2183 | 12183 | NOBS | 28.68 | 49.6 | Feminino  | Sim | Sim | Branca      | Admissão | ⋯ |  1 |  0 |  1 |  0 |  0 |  0 |  0 |  0 | 4 |  8.40 |\n",
       "| 2194 | 12194 | OBS  | 32.82 | 53.5 | Masculino | Sim | Sim | Parda       | Admissão | ⋯ |  0 |  0 |  0 |  0 |  0 |  0 |  0 |  0 | 0 |  1.30 |\n",
       "| 2196 | 12196 | OBS  | 34.38 | 43.1 | Masculino | Sim | Sim | Branca      | Admissão | ⋯ |  1 |  0 |  0 |  0 |  0 |  0 |  0 |  1 | 7 |  0.90 |\n",
       "| 2213 | 12213 | OBS  | 33.99 | 64.7 | Masculino | Sim | Sim | Preta       | Admissão | ⋯ |  0 |  0 |  0 |  0 |  0 |  0 |  0 |  0 | 1 |  5.10 |\n",
       "| 2218 | 12218 | OBS  | 43.48 | 43.9 | Masculino | Sim | Sim | Preta       | Admissão | ⋯ |  1 |  0 |  0 |  0 |  0 |  0 |  0 |  0 | 3 |  1.50 |\n",
       "| 2264 | 12264 | OBS  | 42.81 | 49.9 | Masculino | Sim | Sim | Branca      | Admissão | ⋯ |  0 |  0 |  0 |  0 |  0 |  0 |  0 |  0 | 1 |  2.70 |\n",
       "\n"
      ],
      "text/plain": [
       "    ID   COVIDEO CONDITION IMC   AGE  SEX       INTERNAMENTO UTI ETNIA      \n",
       "1     29    29   NOBS      28.71 72.8 Masculino Sim          Sim Preta      \n",
       "2     85    85   NOBS      25.22 82.9 Feminino  Sim          Sim Parda      \n",
       "3    339   339   OBS       33.27 51.1 Feminino  Sim          Sim Parda      \n",
       "4    397   397   NOBS      27.85 69.8 Feminino  Sim          Não Preta      \n",
       "5    447   447   NOBS      29.76 52.9 Masculino Sim          Sim Preta      \n",
       "6    642   642   OBS       30.39 57.6 Feminino  Sim          Sim Preta      \n",
       "7   1048  1048   NOBS      28.52 51.6 Feminino  Não          NA  Parda      \n",
       "8   1525  1525   OBS       31.00 73.5 Masculino Sim          Sim Branca     \n",
       "9   1793  1793   NOBS      28.87 45.1 Masculino Sim          Sim Parda      \n",
       "10  1845  1845   OBS       33.21 43.4 Masculino Sim          Sim Parda      \n",
       "11   432 10432   NOBS      24.88 47.4 Masculino Sim          Sim Preta      \n",
       "12   476 10476   OBS       35.16 61.7 Feminino  Sim          Não Preta      \n",
       "13   533 10533   OBS       34.82 49.4 Feminino  Sim          Sim Preta      \n",
       "14   534 10534   OBS       33.66 58.1 Masculino Sim          Não Branca     \n",
       "15   536 10536   OBS       43.01 48.0 Feminino  Sim          Não Preta      \n",
       "16   573 10573   OBS       32.47 69.9 Feminino  Sim          Sim Preta      \n",
       "17   586 10586   OBS       31.77 48.0 Feminino  Sim          Sim Preta      \n",
       "18   601 10601   OBS       31.64 47.7 Masculino Sim          Sim Parda      \n",
       "19   608 10608   NOBS      28.52 68.5 Feminino  Sim          Sim Parda      \n",
       "20   609 10609   NOBS      29.77 47.9 Masculino Sim          Sim Branca     \n",
       "21   611 10611   NOBS      28.80 68.8 Masculino Sim          Sim Preta      \n",
       "22   615 10615   NOBS      23.79 77.6 Feminino  Sim          Não Parda      \n",
       "23   617 10617   OBS       34.19 57.6 Feminino  Sim          Não Parda      \n",
       "24   639 10639   NOBS      28.83 47.1 Feminino  Sim          Não Preta      \n",
       "25   650 10650   NOBS      23.56 52.4 Masculino Sim          Sim Parda      \n",
       "26   661 10661   OBS       44.35 39.6 Masculino Sim          Não Preta      \n",
       "27   662 10662   OBS       38.34 83.8 Feminino  Sim          Sim Parda      \n",
       "28   663 10663   OBS       52.02 63.1 Feminino  Sim          Sim Parda      \n",
       "29   664 10664   OBS       30.32 50.6 Masculino Sim          Sim Parda      \n",
       "30   704 10704   NOBS      23.31 70.7 Masculino Sim          Sim Parda      \n",
       "⋮   ⋮    ⋮       ⋮         ⋮     ⋮    ⋮         ⋮            ⋮   ⋮          \n",
       "415 2034 12034   OBS       32.73 66.2 Masculino Sim          Não Parda      \n",
       "416 2050 12050   NOBS      28.57 64.2 Masculino Sim          Não Parda      \n",
       "417 2075 12075   NOBS      29.36 56.4 Masculino NA           NA  Preta      \n",
       "418 2077 12077   NOBS      29.41 51.7 Masculino Sim          Sim Parda      \n",
       "419 2082 12082   NOBS      24.85 49.0 Masculino Sim          Sim Amarela    \n",
       "420 2085 12085   OBS       35.69 44.1 Feminino  Sim          Sim Branca     \n",
       "421 2086 12086   NOBS      26.61 65.6 Feminino  Sim          Não Branca     \n",
       "422 2090 12090   OBS       33.44 51.9 Masculino Sim          Sim Parda      \n",
       "423 2091 12091   OBS       35.93 43.1 Masculino Sim          Sim Preta      \n",
       "424 2093 12093   NOBS      28.11 43.0 Feminino  Sim          Sim Parda      \n",
       "425 2096 12096   OBS       38.27 39.5 Masculino Sim          Sim Preta      \n",
       "426 2102 12102   NOBS      28.05 51.9 Masculino Sim          Sim Parda      \n",
       "427 2104 12104   NOBS      24.80 50.8 Masculino Sim          Sim Parda      \n",
       "428 2107 12107   NOBS      23.11 62.7 Feminino  NA           NA  Preta      \n",
       "429 2109 12109   NOBS      24.92 69.1 Masculino Sim          Sim Parda      \n",
       "430 2147 12147   NOBS      27.36 40.0 Masculino Sim          Não Branca     \n",
       "431 2148 12148   NOBS      27.02 51.2 Masculino Sim          Não Parda      \n",
       "432 2158 12158   OBS       34.28 55.5 Masculino Sim          Sim Parda      \n",
       "433 2163 12163   NOBS      28.59 69.3 Masculino Sim          Sim Preta      \n",
       "434 2168 12168   OBS       30.04 46.7 Masculino Sim          Sim Preta      \n",
       "435 2171 12171   OBS       31.36 52.2 Masculino Sim          Sim Amarela    \n",
       "436 2172 12172   OBS       29.97 47.4 Masculino Sim          Sim Parda      \n",
       "437 2173 12173   NOBS      24.32 49.4 Masculino Sim          Sim Preta      \n",
       "438 2179 12179   OBS       32.33 49.5 Masculino Sim          Não Preta      \n",
       "439 2183 12183   NOBS      28.68 49.6 Feminino  Sim          Sim Branca     \n",
       "440 2194 12194   OBS       32.82 53.5 Masculino Sim          Sim Parda      \n",
       "441 2196 12196   OBS       34.38 43.1 Masculino Sim          Sim Branca     \n",
       "442 2213 12213   OBS       33.99 64.7 Masculino Sim          Sim Preta      \n",
       "443 2218 12218   OBS       43.48 43.9 Masculino Sim          Sim Preta      \n",
       "444 2264 12264   OBS       42.81 49.9 Masculino Sim          Sim Branca     \n",
       "    EVENT    ⋯ FADIGA DOR_TORAC ANOREXIA DISFAGIA DISFONIA ALT_PALADAR\n",
       "1   Admissão ⋯ 1      1         0        0        0         0         \n",
       "2   Admissão ⋯ 1      0         0        0        0         0         \n",
       "3   Admissão ⋯ 1      1         0        0        0        NA         \n",
       "4   Admissão ⋯ 1      0         0        0        0         0         \n",
       "5   Admissão ⋯ 0      0         0        0        0         1         \n",
       "6   Admissão ⋯ 1      1         0        0        0        NA         \n",
       "7   Admissão ⋯ 1      0         1        0        0         1         \n",
       "8   Admissão ⋯ 1      0         1        0        0         0         \n",
       "9   Admissão ⋯ 0      0         0        0        0         0         \n",
       "10  Admissão ⋯ 0      0         0        0        0         0         \n",
       "11  Admissão ⋯ 1      0         0        0        0        NA         \n",
       "12  Admissão ⋯ 1      1         0        0        0        NA         \n",
       "13  Admissão ⋯ 1      1         0        0        0        NA         \n",
       "14  Admissão ⋯ 1      0         0        0        0         0         \n",
       "15  Admissão ⋯ 1      1         0        0        0        NA         \n",
       "16  Admissão ⋯ 0      0         0        0        0         0         \n",
       "17  Admissão ⋯ 1      0         0        0        0        NA         \n",
       "18  Admissão ⋯ 0      0         0        0        0        NA         \n",
       "19  Admissão ⋯ 1      0         0        0        0        NA         \n",
       "20  Admissão ⋯ 1      0         0        0        0         0         \n",
       "21  Admissão ⋯ 1      0         0        0        0        NA         \n",
       "22  Admissão ⋯ 0      0         0        0        0        NA         \n",
       "23  Admissão ⋯ 0      0         0        0        0        NA         \n",
       "24  Admissão ⋯ 1      1         1        0        0        NA         \n",
       "25  Admissão ⋯ 0      0         1        0        0        NA         \n",
       "26  Admissão ⋯ 0      0         0        0        0        NA         \n",
       "27  Admissão ⋯ 1      1         1        0        0        NA         \n",
       "28  Admissão ⋯ 0      0         0        0        0        NA         \n",
       "29  Admissão ⋯ 0      0         0        0        0        NA         \n",
       "30  Admissão ⋯ 1      0         0        0        0         0         \n",
       "⋮   ⋮        ⋱ ⋮      ⋮         ⋮        ⋮        ⋮        ⋮          \n",
       "415 Admissão ⋯  0      0         0        0        0        0         \n",
       "416 Admissão ⋯  1      1         1        1        0        0         \n",
       "417 Admissão ⋯ NA     NA        NA       NA       NA       NA         \n",
       "418 Admissão ⋯  1      0         1        0        0        0         \n",
       "419 Admissão ⋯  0      1         0        0        0        0         \n",
       "420 Admissão ⋯  1      1         0        0        0        0         \n",
       "421 Admissão ⋯  0      0         1        0        0        0         \n",
       "422 Admissão ⋯  1      1         0        0        0        0         \n",
       "423 Admissão ⋯  0      0         0        0        0        0         \n",
       "424 Admissão ⋯  1      1         0        0        0        0         \n",
       "425 Admissão ⋯  0      0         0        0        0        0         \n",
       "426 Admissão ⋯  0      0         0        0        0        0         \n",
       "427 Admissão ⋯  1      1         1        0        0        1         \n",
       "428 Admissão ⋯ NA     NA        NA       NA       NA       NA         \n",
       "429 Admissão ⋯  1      0         0        0        0        0         \n",
       "430 Admissão ⋯  1      1         0        0        0        0         \n",
       "431 Admissão ⋯  0      0         1        0        0        0         \n",
       "432 Admissão ⋯  0      0         0        0        0        1         \n",
       "433 Admissão ⋯  0      1         0        0        0        0         \n",
       "434 Admissão ⋯  0      0         0        0        0        0         \n",
       "435 Admissão ⋯  0      1         0        0        0        0         \n",
       "436 Admissão ⋯  0      0         0        0        0        0         \n",
       "437 Admissão ⋯  0      0         0        0        0        0         \n",
       "438 Admissão ⋯  0      0         0        0        0        0         \n",
       "439 Admissão ⋯  1      0         1        0        0        0         \n",
       "440 Admissão ⋯  0      0         0        0        0        0         \n",
       "441 Admissão ⋯  1      0         0        0        0        0         \n",
       "442 Admissão ⋯  0      0         0        0        0        0         \n",
       "443 Admissão ⋯  1      0         0        0        0        0         \n",
       "444 Admissão ⋯  0      0         0        0        0        0         \n",
       "    ALT_OLFATO LIM_MOTORA N_SINTOMAS PCR  \n",
       "1    0         NA         3            5  \n",
       "2    0          1         4            5  \n",
       "3   NA         NA         6           61  \n",
       "4    0          0         2            5  \n",
       "5    0          0         2           NA  \n",
       "6   NA         NA         3           17  \n",
       "7    1          0         6           NA  \n",
       "8    0          0         3           NA  \n",
       "9    0          0         2            5  \n",
       "10   0          0         2            4  \n",
       "11  NA         NA         1            4  \n",
       "12  NA         NA         4           21  \n",
       "13  NA         NA         6            5  \n",
       "14   0          0         1            5  \n",
       "15  NA         NA         4           11  \n",
       "16   0          0         2           NA  \n",
       "17  NA         NA         1           15  \n",
       "18  NA         NA         0           NA  \n",
       "19  NA         NA         1            5  \n",
       "20   0          0         3          100  \n",
       "21  NA         NA         3           NA  \n",
       "22  NA         NA         1            5  \n",
       "23  NA         NA         1           NA  \n",
       "24  NA         NA         6            5  \n",
       "25  NA         NA         2            7  \n",
       "26  NA         NA         0           21  \n",
       "27  NA         NA         6           34  \n",
       "28  NA         NA         2           12  \n",
       "29  NA         NA         1           NA  \n",
       "30   0          0         2           NA  \n",
       "⋮   ⋮          ⋮          ⋮          ⋮    \n",
       "415  0          0         2           1.30\n",
       "416  0          0         6           5.00\n",
       "417 NA         NA         0           5.00\n",
       "418  0          0         4           5.00\n",
       "419  0          0         2           0.60\n",
       "420  0          0         5           5.00\n",
       "421  0          0         5           1.80\n",
       "422  0          1         7           0.15\n",
       "423  0          0         1           1.20\n",
       "424  0          1         4           5.00\n",
       "425  0          1         3             NA\n",
       "426  0          0         1           1.50\n",
       "427  1          1         8           1.70\n",
       "428 NA         NA         0           0.30\n",
       "429  0          0         2             NA\n",
       "430  0          0         4           4.50\n",
       "431  1          0         4           3.40\n",
       "432  1          0         2             NA\n",
       "433  0          0         3           0.70\n",
       "434  0          0         1             NA\n",
       "435  0          0         3             NA\n",
       "436  0          0         0          28.00\n",
       "437  0          0         4           1.70\n",
       "438  0          0         0           0.40\n",
       "439  0          0         4           8.40\n",
       "440  0          0         0           1.30\n",
       "441  0          1         7           0.90\n",
       "442  0          0         1           5.10\n",
       "443  0          0         3           1.50\n",
       "444  0          0         1           2.70"
      ]
     },
     "metadata": {},
     "output_type": "display_data"
    }
   ],
   "source": [
    "raw_obs_adm <- read.csv2(\"../../DATA/new_table_obs_adm.csv\", header = TRUE, sep = \";\")\n",
    "raw_obs_adm"
   ]
  },
  {
   "cell_type": "code",
   "execution_count": 4,
   "id": "3939a5b9-3243-4256-904e-56b9fed6f29a",
   "metadata": {
    "scrolled": true,
    "vscode": {
     "languageId": "r"
    }
   },
   "outputs": [
    {
     "data": {
      "text/html": [
       "<table class=\"dataframe\">\n",
       "<caption>A data.frame: 6 × 16</caption>\n",
       "<thead>\n",
       "\t<tr><th></th><th scope=col>CONDITION</th><th scope=col>SEX</th><th scope=col>CEFALEIA</th><th scope=col>TOSSE</th><th scope=col>DISPNEIA</th><th scope=col>DOR_CORPO</th><th scope=col>FADIGA</th><th scope=col>DOR_TORAC</th><th scope=col>ANOREXIA</th><th scope=col>DISFAGIA</th><th scope=col>DISFONIA</th><th scope=col>ALT_PALADAR</th><th scope=col>ALT_OLFATO</th><th scope=col>LIM_MOTORA</th><th scope=col>N_SINTOMAS</th><th scope=col>NIVEIS</th></tr>\n",
       "\t<tr><th></th><th scope=col>&lt;chr&gt;</th><th scope=col>&lt;chr&gt;</th><th scope=col>&lt;int&gt;</th><th scope=col>&lt;int&gt;</th><th scope=col>&lt;int&gt;</th><th scope=col>&lt;int&gt;</th><th scope=col>&lt;int&gt;</th><th scope=col>&lt;int&gt;</th><th scope=col>&lt;int&gt;</th><th scope=col>&lt;int&gt;</th><th scope=col>&lt;int&gt;</th><th scope=col>&lt;int&gt;</th><th scope=col>&lt;int&gt;</th><th scope=col>&lt;int&gt;</th><th scope=col>&lt;int&gt;</th><th scope=col>&lt;chr&gt;</th></tr>\n",
       "</thead>\n",
       "<tbody>\n",
       "\t<tr><th scope=row>2</th><td>NOBS</td><td>Feminino </td><td>0</td><td>1</td><td>1</td><td>0</td><td>1</td><td>0</td><td>0</td><td>0</td><td>0</td><td>0</td><td>0</td><td>1</td><td>4</td><td>3-4</td></tr>\n",
       "\t<tr><th scope=row>4</th><td>NOBS</td><td>Feminino </td><td>0</td><td>0</td><td>1</td><td>0</td><td>1</td><td>0</td><td>0</td><td>0</td><td>0</td><td>0</td><td>0</td><td>0</td><td>2</td><td>1-2</td></tr>\n",
       "\t<tr><th scope=row>5</th><td>NOBS</td><td>Masculino</td><td>0</td><td>0</td><td>1</td><td>0</td><td>0</td><td>0</td><td>0</td><td>0</td><td>0</td><td>1</td><td>0</td><td>0</td><td>2</td><td>1-2</td></tr>\n",
       "\t<tr><th scope=row>7</th><td>NOBS</td><td>Feminino </td><td>0</td><td>1</td><td>1</td><td>0</td><td>1</td><td>0</td><td>1</td><td>0</td><td>0</td><td>1</td><td>1</td><td>0</td><td>6</td><td>&gt;=5</td></tr>\n",
       "\t<tr><th scope=row>8</th><td>OBS </td><td>Masculino</td><td>0</td><td>0</td><td>1</td><td>0</td><td>1</td><td>0</td><td>1</td><td>0</td><td>0</td><td>0</td><td>0</td><td>0</td><td>3</td><td>3-4</td></tr>\n",
       "\t<tr><th scope=row>9</th><td>NOBS</td><td>Masculino</td><td>0</td><td>1</td><td>1</td><td>0</td><td>0</td><td>0</td><td>0</td><td>0</td><td>0</td><td>0</td><td>0</td><td>0</td><td>2</td><td>1-2</td></tr>\n",
       "</tbody>\n",
       "</table>\n"
      ],
      "text/latex": [
       "A data.frame: 6 × 16\n",
       "\\begin{tabular}{r|llllllllllllllll}\n",
       "  & CONDITION & SEX & CEFALEIA & TOSSE & DISPNEIA & DOR\\_CORPO & FADIGA & DOR\\_TORAC & ANOREXIA & DISFAGIA & DISFONIA & ALT\\_PALADAR & ALT\\_OLFATO & LIM\\_MOTORA & N\\_SINTOMAS & NIVEIS\\\\\n",
       "  & <chr> & <chr> & <int> & <int> & <int> & <int> & <int> & <int> & <int> & <int> & <int> & <int> & <int> & <int> & <int> & <chr>\\\\\n",
       "\\hline\n",
       "\t2 & NOBS & Feminino  & 0 & 1 & 1 & 0 & 1 & 0 & 0 & 0 & 0 & 0 & 0 & 1 & 4 & 3-4\\\\\n",
       "\t4 & NOBS & Feminino  & 0 & 0 & 1 & 0 & 1 & 0 & 0 & 0 & 0 & 0 & 0 & 0 & 2 & 1-2\\\\\n",
       "\t5 & NOBS & Masculino & 0 & 0 & 1 & 0 & 0 & 0 & 0 & 0 & 0 & 1 & 0 & 0 & 2 & 1-2\\\\\n",
       "\t7 & NOBS & Feminino  & 0 & 1 & 1 & 0 & 1 & 0 & 1 & 0 & 0 & 1 & 1 & 0 & 6 & >=5\\\\\n",
       "\t8 & OBS  & Masculino & 0 & 0 & 1 & 0 & 1 & 0 & 1 & 0 & 0 & 0 & 0 & 0 & 3 & 3-4\\\\\n",
       "\t9 & NOBS & Masculino & 0 & 1 & 1 & 0 & 0 & 0 & 0 & 0 & 0 & 0 & 0 & 0 & 2 & 1-2\\\\\n",
       "\\end{tabular}\n"
      ],
      "text/markdown": [
       "\n",
       "A data.frame: 6 × 16\n",
       "\n",
       "| <!--/--> | CONDITION &lt;chr&gt; | SEX &lt;chr&gt; | CEFALEIA &lt;int&gt; | TOSSE &lt;int&gt; | DISPNEIA &lt;int&gt; | DOR_CORPO &lt;int&gt; | FADIGA &lt;int&gt; | DOR_TORAC &lt;int&gt; | ANOREXIA &lt;int&gt; | DISFAGIA &lt;int&gt; | DISFONIA &lt;int&gt; | ALT_PALADAR &lt;int&gt; | ALT_OLFATO &lt;int&gt; | LIM_MOTORA &lt;int&gt; | N_SINTOMAS &lt;int&gt; | NIVEIS &lt;chr&gt; |\n",
       "|---|---|---|---|---|---|---|---|---|---|---|---|---|---|---|---|---|\n",
       "| 2 | NOBS | Feminino  | 0 | 1 | 1 | 0 | 1 | 0 | 0 | 0 | 0 | 0 | 0 | 1 | 4 | 3-4 |\n",
       "| 4 | NOBS | Feminino  | 0 | 0 | 1 | 0 | 1 | 0 | 0 | 0 | 0 | 0 | 0 | 0 | 2 | 1-2 |\n",
       "| 5 | NOBS | Masculino | 0 | 0 | 1 | 0 | 0 | 0 | 0 | 0 | 0 | 1 | 0 | 0 | 2 | 1-2 |\n",
       "| 7 | NOBS | Feminino  | 0 | 1 | 1 | 0 | 1 | 0 | 1 | 0 | 0 | 1 | 1 | 0 | 6 | &gt;=5 |\n",
       "| 8 | OBS  | Masculino | 0 | 0 | 1 | 0 | 1 | 0 | 1 | 0 | 0 | 0 | 0 | 0 | 3 | 3-4 |\n",
       "| 9 | NOBS | Masculino | 0 | 1 | 1 | 0 | 0 | 0 | 0 | 0 | 0 | 0 | 0 | 0 | 2 | 1-2 |\n",
       "\n"
      ],
      "text/plain": [
       "  CONDITION SEX       CEFALEIA TOSSE DISPNEIA DOR_CORPO FADIGA DOR_TORAC\n",
       "2 NOBS      Feminino  0        1     1        0         1      0        \n",
       "4 NOBS      Feminino  0        0     1        0         1      0        \n",
       "5 NOBS      Masculino 0        0     1        0         0      0        \n",
       "7 NOBS      Feminino  0        1     1        0         1      0        \n",
       "8 OBS       Masculino 0        0     1        0         1      0        \n",
       "9 NOBS      Masculino 0        1     1        0         0      0        \n",
       "  ANOREXIA DISFAGIA DISFONIA ALT_PALADAR ALT_OLFATO LIM_MOTORA N_SINTOMAS\n",
       "2 0        0        0        0           0          1          4         \n",
       "4 0        0        0        0           0          0          2         \n",
       "5 0        0        0        1           0          0          2         \n",
       "7 1        0        0        1           1          0          6         \n",
       "8 1        0        0        0           0          0          3         \n",
       "9 0        0        0        0           0          0          2         \n",
       "  NIVEIS\n",
       "2 3-4   \n",
       "4 1-2   \n",
       "5 1-2   \n",
       "7 >=5   \n",
       "8 3-4   \n",
       "9 1-2   "
      ]
     },
     "metadata": {},
     "output_type": "display_data"
    }
   ],
   "source": [
    "obs_adm <- raw_obs_adm %>%\n",
    "  select(-c(ID,COVIDEO, IMC, SEVERITY, ETNIA, AGE, INTERNAMENTO, UTI, EVENT, EXPECT, PCR)) %>%\n",
    "  na.omit() %>%\n",
    "  mutate(\n",
    "    NIVEIS = ifelse(N_SINTOMAS >= 5, \">=5\", \n",
    "                    ifelse(N_SINTOMAS >=3 & N_SINTOMAS<=4, \"3-4\",\n",
    "                    ifelse(N_SINTOMAS >=1 & N_SINTOMAS<=2, \"1-2\", \"None\")))\n",
    "  )\n",
    "\n",
    "head(obs_adm)"
   ]
  },
  {
   "cell_type": "code",
   "execution_count": 5,
   "id": "0d7c3fc9-462e-4963-b1ae-9273c0b38157",
   "metadata": {
    "scrolled": true
   },
   "outputs": [],
   "source": [
    "rlog_obs <- obs_adm %>%\n",
    "  mutate(\n",
    "    GROUP = (paste(CONDITION, SEX, sep = \"_\")),\n",
    "    OUT = ifelse(GROUP == \"OBS_Feminino\" | GROUP == \"NOBS_Feminino\", 1, 0),\n",
    "    NIVEIS = factor(NIVEIS, levels = c(\"None\", \"1-2\", \"3-4\", \">=5\")))"
   ]
  },
  {
   "cell_type": "code",
   "execution_count": 6,
   "id": "2c552c2f-074a-48aa-8e05-15ee743a312a",
   "metadata": {
    "scrolled": true
   },
   "outputs": [
    {
     "data": {
      "text/html": [
       "<table class=\"dataframe\">\n",
       "<caption>A data.frame: 6 × 18</caption>\n",
       "<thead>\n",
       "\t<tr><th></th><th scope=col>CONDITION</th><th scope=col>SEX</th><th scope=col>CEFALEIA</th><th scope=col>TOSSE</th><th scope=col>DISPNEIA</th><th scope=col>DOR_CORPO</th><th scope=col>FADIGA</th><th scope=col>DOR_TORAC</th><th scope=col>ANOREXIA</th><th scope=col>DISFAGIA</th><th scope=col>DISFONIA</th><th scope=col>ALT_PALADAR</th><th scope=col>ALT_OLFATO</th><th scope=col>LIM_MOTORA</th><th scope=col>N_SINTOMAS</th><th scope=col>NIVEIS</th><th scope=col>GROUP</th><th scope=col>OUT</th></tr>\n",
       "\t<tr><th></th><th scope=col>&lt;chr&gt;</th><th scope=col>&lt;chr&gt;</th><th scope=col>&lt;int&gt;</th><th scope=col>&lt;int&gt;</th><th scope=col>&lt;int&gt;</th><th scope=col>&lt;int&gt;</th><th scope=col>&lt;int&gt;</th><th scope=col>&lt;int&gt;</th><th scope=col>&lt;int&gt;</th><th scope=col>&lt;int&gt;</th><th scope=col>&lt;int&gt;</th><th scope=col>&lt;int&gt;</th><th scope=col>&lt;int&gt;</th><th scope=col>&lt;int&gt;</th><th scope=col>&lt;int&gt;</th><th scope=col>&lt;fct&gt;</th><th scope=col>&lt;chr&gt;</th><th scope=col>&lt;dbl&gt;</th></tr>\n",
       "</thead>\n",
       "<tbody>\n",
       "\t<tr><th scope=row>2</th><td>NOBS</td><td>Feminino </td><td>0</td><td>1</td><td>1</td><td>0</td><td>1</td><td>0</td><td>0</td><td>0</td><td>0</td><td>0</td><td>0</td><td>1</td><td>4</td><td>3-4</td><td>NOBS_Feminino </td><td>1</td></tr>\n",
       "\t<tr><th scope=row>4</th><td>NOBS</td><td>Feminino </td><td>0</td><td>0</td><td>1</td><td>0</td><td>1</td><td>0</td><td>0</td><td>0</td><td>0</td><td>0</td><td>0</td><td>0</td><td>2</td><td>1-2</td><td>NOBS_Feminino </td><td>1</td></tr>\n",
       "\t<tr><th scope=row>5</th><td>NOBS</td><td>Masculino</td><td>0</td><td>0</td><td>1</td><td>0</td><td>0</td><td>0</td><td>0</td><td>0</td><td>0</td><td>1</td><td>0</td><td>0</td><td>2</td><td>1-2</td><td>NOBS_Masculino</td><td>0</td></tr>\n",
       "\t<tr><th scope=row>7</th><td>NOBS</td><td>Feminino </td><td>0</td><td>1</td><td>1</td><td>0</td><td>1</td><td>0</td><td>1</td><td>0</td><td>0</td><td>1</td><td>1</td><td>0</td><td>6</td><td>&gt;=5</td><td>NOBS_Feminino </td><td>1</td></tr>\n",
       "\t<tr><th scope=row>8</th><td>OBS </td><td>Masculino</td><td>0</td><td>0</td><td>1</td><td>0</td><td>1</td><td>0</td><td>1</td><td>0</td><td>0</td><td>0</td><td>0</td><td>0</td><td>3</td><td>3-4</td><td>OBS_Masculino </td><td>0</td></tr>\n",
       "\t<tr><th scope=row>9</th><td>NOBS</td><td>Masculino</td><td>0</td><td>1</td><td>1</td><td>0</td><td>0</td><td>0</td><td>0</td><td>0</td><td>0</td><td>0</td><td>0</td><td>0</td><td>2</td><td>1-2</td><td>NOBS_Masculino</td><td>0</td></tr>\n",
       "</tbody>\n",
       "</table>\n"
      ],
      "text/latex": [
       "A data.frame: 6 × 18\n",
       "\\begin{tabular}{r|llllllllllllllllll}\n",
       "  & CONDITION & SEX & CEFALEIA & TOSSE & DISPNEIA & DOR\\_CORPO & FADIGA & DOR\\_TORAC & ANOREXIA & DISFAGIA & DISFONIA & ALT\\_PALADAR & ALT\\_OLFATO & LIM\\_MOTORA & N\\_SINTOMAS & NIVEIS & GROUP & OUT\\\\\n",
       "  & <chr> & <chr> & <int> & <int> & <int> & <int> & <int> & <int> & <int> & <int> & <int> & <int> & <int> & <int> & <int> & <fct> & <chr> & <dbl>\\\\\n",
       "\\hline\n",
       "\t2 & NOBS & Feminino  & 0 & 1 & 1 & 0 & 1 & 0 & 0 & 0 & 0 & 0 & 0 & 1 & 4 & 3-4 & NOBS\\_Feminino  & 1\\\\\n",
       "\t4 & NOBS & Feminino  & 0 & 0 & 1 & 0 & 1 & 0 & 0 & 0 & 0 & 0 & 0 & 0 & 2 & 1-2 & NOBS\\_Feminino  & 1\\\\\n",
       "\t5 & NOBS & Masculino & 0 & 0 & 1 & 0 & 0 & 0 & 0 & 0 & 0 & 1 & 0 & 0 & 2 & 1-2 & NOBS\\_Masculino & 0\\\\\n",
       "\t7 & NOBS & Feminino  & 0 & 1 & 1 & 0 & 1 & 0 & 1 & 0 & 0 & 1 & 1 & 0 & 6 & >=5 & NOBS\\_Feminino  & 1\\\\\n",
       "\t8 & OBS  & Masculino & 0 & 0 & 1 & 0 & 1 & 0 & 1 & 0 & 0 & 0 & 0 & 0 & 3 & 3-4 & OBS\\_Masculino  & 0\\\\\n",
       "\t9 & NOBS & Masculino & 0 & 1 & 1 & 0 & 0 & 0 & 0 & 0 & 0 & 0 & 0 & 0 & 2 & 1-2 & NOBS\\_Masculino & 0\\\\\n",
       "\\end{tabular}\n"
      ],
      "text/markdown": [
       "\n",
       "A data.frame: 6 × 18\n",
       "\n",
       "| <!--/--> | CONDITION &lt;chr&gt; | SEX &lt;chr&gt; | CEFALEIA &lt;int&gt; | TOSSE &lt;int&gt; | DISPNEIA &lt;int&gt; | DOR_CORPO &lt;int&gt; | FADIGA &lt;int&gt; | DOR_TORAC &lt;int&gt; | ANOREXIA &lt;int&gt; | DISFAGIA &lt;int&gt; | DISFONIA &lt;int&gt; | ALT_PALADAR &lt;int&gt; | ALT_OLFATO &lt;int&gt; | LIM_MOTORA &lt;int&gt; | N_SINTOMAS &lt;int&gt; | NIVEIS &lt;fct&gt; | GROUP &lt;chr&gt; | OUT &lt;dbl&gt; |\n",
       "|---|---|---|---|---|---|---|---|---|---|---|---|---|---|---|---|---|---|---|\n",
       "| 2 | NOBS | Feminino  | 0 | 1 | 1 | 0 | 1 | 0 | 0 | 0 | 0 | 0 | 0 | 1 | 4 | 3-4 | NOBS_Feminino  | 1 |\n",
       "| 4 | NOBS | Feminino  | 0 | 0 | 1 | 0 | 1 | 0 | 0 | 0 | 0 | 0 | 0 | 0 | 2 | 1-2 | NOBS_Feminino  | 1 |\n",
       "| 5 | NOBS | Masculino | 0 | 0 | 1 | 0 | 0 | 0 | 0 | 0 | 0 | 1 | 0 | 0 | 2 | 1-2 | NOBS_Masculino | 0 |\n",
       "| 7 | NOBS | Feminino  | 0 | 1 | 1 | 0 | 1 | 0 | 1 | 0 | 0 | 1 | 1 | 0 | 6 | &gt;=5 | NOBS_Feminino  | 1 |\n",
       "| 8 | OBS  | Masculino | 0 | 0 | 1 | 0 | 1 | 0 | 1 | 0 | 0 | 0 | 0 | 0 | 3 | 3-4 | OBS_Masculino  | 0 |\n",
       "| 9 | NOBS | Masculino | 0 | 1 | 1 | 0 | 0 | 0 | 0 | 0 | 0 | 0 | 0 | 0 | 2 | 1-2 | NOBS_Masculino | 0 |\n",
       "\n"
      ],
      "text/plain": [
       "  CONDITION SEX       CEFALEIA TOSSE DISPNEIA DOR_CORPO FADIGA DOR_TORAC\n",
       "2 NOBS      Feminino  0        1     1        0         1      0        \n",
       "4 NOBS      Feminino  0        0     1        0         1      0        \n",
       "5 NOBS      Masculino 0        0     1        0         0      0        \n",
       "7 NOBS      Feminino  0        1     1        0         1      0        \n",
       "8 OBS       Masculino 0        0     1        0         1      0        \n",
       "9 NOBS      Masculino 0        1     1        0         0      0        \n",
       "  ANOREXIA DISFAGIA DISFONIA ALT_PALADAR ALT_OLFATO LIM_MOTORA N_SINTOMAS\n",
       "2 0        0        0        0           0          1          4         \n",
       "4 0        0        0        0           0          0          2         \n",
       "5 0        0        0        1           0          0          2         \n",
       "7 1        0        0        1           1          0          6         \n",
       "8 1        0        0        0           0          0          3         \n",
       "9 0        0        0        0           0          0          2         \n",
       "  NIVEIS GROUP          OUT\n",
       "2 3-4    NOBS_Feminino  1  \n",
       "4 1-2    NOBS_Feminino  1  \n",
       "5 1-2    NOBS_Masculino 0  \n",
       "7 >=5    NOBS_Feminino  1  \n",
       "8 3-4    OBS_Masculino  0  \n",
       "9 1-2    NOBS_Masculino 0  "
      ]
     },
     "metadata": {},
     "output_type": "display_data"
    },
    {
     "name": "stdout",
     "output_type": "stream",
     "text": [
      "'data.frame':\t395 obs. of  18 variables:\n",
      " $ CONDITION  : chr  \"NOBS\" \"NOBS\" \"NOBS\" \"NOBS\" ...\n",
      " $ SEX        : chr  \"Feminino\" \"Feminino\" \"Masculino\" \"Feminino\" ...\n",
      " $ CEFALEIA   : int  0 0 0 0 0 0 0 0 0 0 ...\n",
      " $ TOSSE      : int  1 0 0 1 0 1 1 0 1 1 ...\n",
      " $ DISPNEIA   : int  1 1 1 1 1 1 1 0 1 1 ...\n",
      " $ DOR_CORPO  : int  0 0 0 0 0 0 0 0 0 0 ...\n",
      " $ FADIGA     : int  1 1 0 1 1 0 0 1 0 1 ...\n",
      " $ DOR_TORAC  : int  0 0 0 0 0 0 0 0 0 0 ...\n",
      " $ ANOREXIA   : int  0 0 0 1 1 0 0 0 0 0 ...\n",
      " $ DISFAGIA   : int  0 0 0 0 0 0 0 0 0 0 ...\n",
      " $ DISFONIA   : int  0 0 0 0 0 0 0 0 0 0 ...\n",
      " $ ALT_PALADAR: int  0 0 1 1 0 0 0 0 0 0 ...\n",
      " $ ALT_OLFATO : int  0 0 0 1 0 0 0 0 0 0 ...\n",
      " $ LIM_MOTORA : int  1 0 0 0 0 0 0 0 0 0 ...\n",
      " $ N_SINTOMAS : int  4 2 2 6 3 2 2 1 2 3 ...\n",
      " $ NIVEIS     : Factor w/ 4 levels \"None\",\"1-2\",\"3-4\",..: 3 2 2 4 3 2 2 2 2 3 ...\n",
      " $ GROUP      : chr  \"NOBS_Feminino\" \"NOBS_Feminino\" \"NOBS_Masculino\" \"NOBS_Feminino\" ...\n",
      " $ OUT        : num  1 1 0 1 0 0 0 0 1 0 ...\n",
      " - attr(*, \"na.action\")= 'omit' Named int [1:49] 1 3 6 11 12 13 15 17 18 19 ...\n",
      "  ..- attr(*, \"names\")= chr [1:49] \"1\" \"3\" \"6\" \"11\" ...\n"
     ]
    }
   ],
   "source": [
    "head(rlog_obs)\n",
    "str(rlog_obs)"
   ]
  },
  {
   "cell_type": "code",
   "execution_count": 7,
   "id": "0580f011-a002-41d9-9480-dcf7aac3de94",
   "metadata": {
    "vscode": {
     "languageId": "r"
    }
   },
   "outputs": [
    {
     "data": {
      "text/html": [
       "<table class=\"dataframe\">\n",
       "<caption>A data.frame: 175 × 18</caption>\n",
       "<thead>\n",
       "\t<tr><th scope=col>CONDITION</th><th scope=col>SEX</th><th scope=col>CEFALEIA</th><th scope=col>TOSSE</th><th scope=col>DISPNEIA</th><th scope=col>DOR_CORPO</th><th scope=col>FADIGA</th><th scope=col>DOR_TORAC</th><th scope=col>ANOREXIA</th><th scope=col>DISFAGIA</th><th scope=col>DISFONIA</th><th scope=col>ALT_PALADAR</th><th scope=col>ALT_OLFATO</th><th scope=col>LIM_MOTORA</th><th scope=col>N_SINTOMAS</th><th scope=col>NIVEIS</th><th scope=col>GROUP</th><th scope=col>OUT</th></tr>\n",
       "\t<tr><th scope=col>&lt;chr&gt;</th><th scope=col>&lt;chr&gt;</th><th scope=col>&lt;int&gt;</th><th scope=col>&lt;int&gt;</th><th scope=col>&lt;int&gt;</th><th scope=col>&lt;int&gt;</th><th scope=col>&lt;int&gt;</th><th scope=col>&lt;int&gt;</th><th scope=col>&lt;int&gt;</th><th scope=col>&lt;int&gt;</th><th scope=col>&lt;int&gt;</th><th scope=col>&lt;int&gt;</th><th scope=col>&lt;int&gt;</th><th scope=col>&lt;int&gt;</th><th scope=col>&lt;int&gt;</th><th scope=col>&lt;fct&gt;</th><th scope=col>&lt;fct&gt;</th><th scope=col>&lt;fct&gt;</th></tr>\n",
       "</thead>\n",
       "<tbody>\n",
       "\t<tr><td>OBS</td><td>Masculino</td><td>0</td><td>0</td><td>1</td><td>0</td><td>1</td><td>0</td><td>1</td><td>0</td><td>0</td><td>0</td><td>0</td><td>0</td><td>3</td><td>3-4 </td><td>OBS_Masculino</td><td>0</td></tr>\n",
       "\t<tr><td>OBS</td><td>Masculino</td><td>0</td><td>1</td><td>1</td><td>0</td><td>0</td><td>0</td><td>0</td><td>0</td><td>0</td><td>0</td><td>0</td><td>0</td><td>2</td><td>1-2 </td><td>OBS_Masculino</td><td>0</td></tr>\n",
       "\t<tr><td>OBS</td><td>Masculino</td><td>0</td><td>0</td><td>0</td><td>0</td><td>1</td><td>0</td><td>0</td><td>0</td><td>0</td><td>0</td><td>0</td><td>0</td><td>1</td><td>1-2 </td><td>OBS_Masculino</td><td>0</td></tr>\n",
       "\t<tr><td>OBS</td><td>Feminino </td><td>0</td><td>1</td><td>1</td><td>0</td><td>0</td><td>0</td><td>0</td><td>0</td><td>0</td><td>0</td><td>0</td><td>0</td><td>2</td><td>1-2 </td><td>OBS_Feminino </td><td>1</td></tr>\n",
       "\t<tr><td>OBS</td><td>Masculino</td><td>0</td><td>1</td><td>0</td><td>0</td><td>0</td><td>0</td><td>0</td><td>0</td><td>0</td><td>0</td><td>0</td><td>0</td><td>1</td><td>1-2 </td><td>OBS_Masculino</td><td>0</td></tr>\n",
       "\t<tr><td>OBS</td><td>Feminino </td><td>0</td><td>1</td><td>1</td><td>0</td><td>1</td><td>1</td><td>0</td><td>0</td><td>0</td><td>0</td><td>0</td><td>0</td><td>5</td><td>&gt;=5 </td><td>OBS_Feminino </td><td>1</td></tr>\n",
       "\t<tr><td>OBS</td><td>Feminino </td><td>0</td><td>1</td><td>0</td><td>0</td><td>0</td><td>0</td><td>0</td><td>0</td><td>0</td><td>0</td><td>0</td><td>0</td><td>1</td><td>1-2 </td><td>OBS_Feminino </td><td>1</td></tr>\n",
       "\t<tr><td>OBS</td><td>Masculino</td><td>0</td><td>1</td><td>1</td><td>0</td><td>1</td><td>1</td><td>0</td><td>0</td><td>0</td><td>1</td><td>1</td><td>0</td><td>6</td><td>&gt;=5 </td><td>OBS_Masculino</td><td>0</td></tr>\n",
       "\t<tr><td>OBS</td><td>Feminino </td><td>1</td><td>0</td><td>1</td><td>1</td><td>1</td><td>1</td><td>0</td><td>0</td><td>0</td><td>0</td><td>0</td><td>1</td><td>6</td><td>&gt;=5 </td><td>OBS_Feminino </td><td>1</td></tr>\n",
       "\t<tr><td>OBS</td><td>Feminino </td><td>0</td><td>1</td><td>1</td><td>0</td><td>1</td><td>1</td><td>1</td><td>1</td><td>1</td><td>0</td><td>0</td><td>0</td><td>7</td><td>&gt;=5 </td><td>OBS_Feminino </td><td>1</td></tr>\n",
       "\t<tr><td>OBS</td><td>Feminino </td><td>0</td><td>1</td><td>1</td><td>0</td><td>1</td><td>0</td><td>0</td><td>0</td><td>0</td><td>0</td><td>0</td><td>1</td><td>4</td><td>3-4 </td><td>OBS_Feminino </td><td>1</td></tr>\n",
       "\t<tr><td>OBS</td><td>Feminino </td><td>0</td><td>0</td><td>1</td><td>0</td><td>1</td><td>1</td><td>0</td><td>1</td><td>0</td><td>0</td><td>0</td><td>0</td><td>4</td><td>3-4 </td><td>OBS_Feminino </td><td>1</td></tr>\n",
       "\t<tr><td>OBS</td><td>Feminino </td><td>1</td><td>1</td><td>1</td><td>1</td><td>1</td><td>1</td><td>1</td><td>0</td><td>0</td><td>0</td><td>0</td><td>0</td><td>7</td><td>&gt;=5 </td><td>OBS_Feminino </td><td>1</td></tr>\n",
       "\t<tr><td>OBS</td><td>Feminino </td><td>1</td><td>0</td><td>1</td><td>1</td><td>1</td><td>0</td><td>1</td><td>0</td><td>0</td><td>0</td><td>0</td><td>1</td><td>6</td><td>&gt;=5 </td><td>OBS_Feminino </td><td>1</td></tr>\n",
       "\t<tr><td>OBS</td><td>Masculino</td><td>1</td><td>0</td><td>0</td><td>1</td><td>1</td><td>0</td><td>0</td><td>0</td><td>0</td><td>0</td><td>0</td><td>0</td><td>3</td><td>3-4 </td><td>OBS_Masculino</td><td>0</td></tr>\n",
       "\t<tr><td>OBS</td><td>Feminino </td><td>1</td><td>0</td><td>1</td><td>1</td><td>1</td><td>1</td><td>1</td><td>0</td><td>0</td><td>0</td><td>0</td><td>1</td><td>7</td><td>&gt;=5 </td><td>OBS_Feminino </td><td>1</td></tr>\n",
       "\t<tr><td>OBS</td><td>Masculino</td><td>1</td><td>0</td><td>1</td><td>0</td><td>0</td><td>0</td><td>0</td><td>0</td><td>0</td><td>0</td><td>0</td><td>0</td><td>2</td><td>1-2 </td><td>OBS_Masculino</td><td>0</td></tr>\n",
       "\t<tr><td>OBS</td><td>Feminino </td><td>0</td><td>1</td><td>0</td><td>1</td><td>1</td><td>1</td><td>0</td><td>0</td><td>0</td><td>1</td><td>0</td><td>0</td><td>5</td><td>&gt;=5 </td><td>OBS_Feminino </td><td>1</td></tr>\n",
       "\t<tr><td>OBS</td><td>Feminino </td><td>1</td><td>1</td><td>0</td><td>1</td><td>1</td><td>0</td><td>1</td><td>0</td><td>0</td><td>0</td><td>0</td><td>0</td><td>5</td><td>&gt;=5 </td><td>OBS_Feminino </td><td>1</td></tr>\n",
       "\t<tr><td>OBS</td><td>Masculino</td><td>0</td><td>0</td><td>1</td><td>0</td><td>0</td><td>1</td><td>0</td><td>0</td><td>0</td><td>0</td><td>0</td><td>0</td><td>2</td><td>1-2 </td><td>OBS_Masculino</td><td>0</td></tr>\n",
       "\t<tr><td>OBS</td><td>Feminino </td><td>1</td><td>0</td><td>1</td><td>0</td><td>0</td><td>0</td><td>0</td><td>0</td><td>0</td><td>0</td><td>0</td><td>0</td><td>2</td><td>1-2 </td><td>OBS_Feminino </td><td>1</td></tr>\n",
       "\t<tr><td>OBS</td><td>Feminino </td><td>1</td><td>0</td><td>0</td><td>1</td><td>1</td><td>1</td><td>0</td><td>0</td><td>0</td><td>0</td><td>0</td><td>0</td><td>4</td><td>3-4 </td><td>OBS_Feminino </td><td>1</td></tr>\n",
       "\t<tr><td>OBS</td><td>Feminino </td><td>0</td><td>0</td><td>1</td><td>0</td><td>1</td><td>1</td><td>0</td><td>0</td><td>1</td><td>1</td><td>0</td><td>0</td><td>5</td><td>&gt;=5 </td><td>OBS_Feminino </td><td>1</td></tr>\n",
       "\t<tr><td>OBS</td><td>Masculino</td><td>0</td><td>0</td><td>0</td><td>0</td><td>0</td><td>0</td><td>0</td><td>0</td><td>0</td><td>0</td><td>0</td><td>0</td><td>0</td><td>None</td><td>OBS_Masculino</td><td>0</td></tr>\n",
       "\t<tr><td>OBS</td><td>Feminino </td><td>0</td><td>0</td><td>0</td><td>1</td><td>0</td><td>0</td><td>1</td><td>0</td><td>0</td><td>1</td><td>0</td><td>0</td><td>3</td><td>3-4 </td><td>OBS_Feminino </td><td>1</td></tr>\n",
       "\t<tr><td>OBS</td><td>Masculino</td><td>1</td><td>1</td><td>1</td><td>1</td><td>1</td><td>1</td><td>0</td><td>0</td><td>0</td><td>0</td><td>0</td><td>0</td><td>6</td><td>&gt;=5 </td><td>OBS_Masculino</td><td>0</td></tr>\n",
       "\t<tr><td>OBS</td><td>Feminino </td><td>0</td><td>1</td><td>1</td><td>1</td><td>0</td><td>0</td><td>0</td><td>0</td><td>0</td><td>0</td><td>0</td><td>0</td><td>3</td><td>3-4 </td><td>OBS_Feminino </td><td>1</td></tr>\n",
       "\t<tr><td>OBS</td><td>Masculino</td><td>0</td><td>0</td><td>0</td><td>0</td><td>0</td><td>1</td><td>0</td><td>0</td><td>0</td><td>0</td><td>0</td><td>0</td><td>1</td><td>1-2 </td><td>OBS_Masculino</td><td>0</td></tr>\n",
       "\t<tr><td>OBS</td><td>Masculino</td><td>1</td><td>1</td><td>0</td><td>0</td><td>0</td><td>0</td><td>0</td><td>0</td><td>0</td><td>0</td><td>0</td><td>0</td><td>2</td><td>1-2 </td><td>OBS_Masculino</td><td>0</td></tr>\n",
       "\t<tr><td>OBS</td><td>Feminino </td><td>0</td><td>0</td><td>1</td><td>0</td><td>0</td><td>0</td><td>0</td><td>0</td><td>0</td><td>0</td><td>0</td><td>0</td><td>1</td><td>1-2 </td><td>OBS_Feminino </td><td>1</td></tr>\n",
       "\t<tr><td>⋮</td><td>⋮</td><td>⋮</td><td>⋮</td><td>⋮</td><td>⋮</td><td>⋮</td><td>⋮</td><td>⋮</td><td>⋮</td><td>⋮</td><td>⋮</td><td>⋮</td><td>⋮</td><td>⋮</td><td>⋮</td><td>⋮</td><td>⋮</td></tr>\n",
       "\t<tr><td>OBS</td><td>Masculino</td><td>0</td><td>0</td><td>1</td><td>0</td><td>0</td><td>1</td><td>0</td><td>0</td><td>0</td><td>0</td><td>0</td><td>0</td><td>2</td><td>1-2 </td><td>OBS_Masculino</td><td>0</td></tr>\n",
       "\t<tr><td>OBS</td><td>Feminino </td><td>0</td><td>0</td><td>0</td><td>0</td><td>0</td><td>0</td><td>0</td><td>0</td><td>0</td><td>0</td><td>0</td><td>0</td><td>0</td><td>None</td><td>OBS_Feminino </td><td>1</td></tr>\n",
       "\t<tr><td>OBS</td><td>Feminino </td><td>0</td><td>1</td><td>1</td><td>0</td><td>1</td><td>0</td><td>0</td><td>1</td><td>0</td><td>1</td><td>1</td><td>0</td><td>6</td><td>&gt;=5 </td><td>OBS_Feminino </td><td>1</td></tr>\n",
       "\t<tr><td>OBS</td><td>Feminino </td><td>1</td><td>1</td><td>1</td><td>1</td><td>1</td><td>1</td><td>0</td><td>0</td><td>0</td><td>0</td><td>0</td><td>1</td><td>8</td><td>&gt;=5 </td><td>OBS_Feminino </td><td>1</td></tr>\n",
       "\t<tr><td>OBS</td><td>Feminino </td><td>1</td><td>1</td><td>1</td><td>0</td><td>1</td><td>1</td><td>0</td><td>0</td><td>0</td><td>0</td><td>1</td><td>0</td><td>6</td><td>&gt;=5 </td><td>OBS_Feminino </td><td>1</td></tr>\n",
       "\t<tr><td>OBS</td><td>Masculino</td><td>1</td><td>1</td><td>1</td><td>0</td><td>1</td><td>1</td><td>0</td><td>0</td><td>0</td><td>0</td><td>0</td><td>0</td><td>5</td><td>&gt;=5 </td><td>OBS_Masculino</td><td>0</td></tr>\n",
       "\t<tr><td>OBS</td><td>Masculino</td><td>0</td><td>1</td><td>1</td><td>1</td><td>1</td><td>0</td><td>0</td><td>0</td><td>0</td><td>0</td><td>0</td><td>1</td><td>5</td><td>&gt;=5 </td><td>OBS_Masculino</td><td>0</td></tr>\n",
       "\t<tr><td>OBS</td><td>Feminino </td><td>1</td><td>0</td><td>0</td><td>1</td><td>1</td><td>1</td><td>0</td><td>0</td><td>0</td><td>0</td><td>0</td><td>0</td><td>4</td><td>3-4 </td><td>OBS_Feminino </td><td>1</td></tr>\n",
       "\t<tr><td>OBS</td><td>Feminino </td><td>0</td><td>1</td><td>1</td><td>0</td><td>1</td><td>0</td><td>0</td><td>0</td><td>0</td><td>0</td><td>1</td><td>0</td><td>4</td><td>3-4 </td><td>OBS_Feminino </td><td>1</td></tr>\n",
       "\t<tr><td>OBS</td><td>Feminino </td><td>0</td><td>1</td><td>1</td><td>0</td><td>0</td><td>0</td><td>0</td><td>0</td><td>0</td><td>1</td><td>1</td><td>0</td><td>4</td><td>3-4 </td><td>OBS_Feminino </td><td>1</td></tr>\n",
       "\t<tr><td>OBS</td><td>Feminino </td><td>1</td><td>0</td><td>0</td><td>1</td><td>1</td><td>1</td><td>0</td><td>0</td><td>0</td><td>0</td><td>0</td><td>1</td><td>5</td><td>&gt;=5 </td><td>OBS_Feminino </td><td>1</td></tr>\n",
       "\t<tr><td>OBS</td><td>Masculino</td><td>1</td><td>1</td><td>0</td><td>1</td><td>1</td><td>0</td><td>0</td><td>0</td><td>0</td><td>0</td><td>0</td><td>0</td><td>4</td><td>3-4 </td><td>OBS_Masculino</td><td>0</td></tr>\n",
       "\t<tr><td>OBS</td><td>Feminino </td><td>0</td><td>0</td><td>0</td><td>0</td><td>0</td><td>0</td><td>0</td><td>0</td><td>0</td><td>0</td><td>0</td><td>0</td><td>0</td><td>None</td><td>OBS_Feminino </td><td>1</td></tr>\n",
       "\t<tr><td>OBS</td><td>Feminino </td><td>0</td><td>0</td><td>1</td><td>0</td><td>1</td><td>0</td><td>0</td><td>0</td><td>0</td><td>0</td><td>0</td><td>0</td><td>2</td><td>1-2 </td><td>OBS_Feminino </td><td>1</td></tr>\n",
       "\t<tr><td>OBS</td><td>Feminino </td><td>0</td><td>0</td><td>0</td><td>0</td><td>1</td><td>0</td><td>0</td><td>0</td><td>0</td><td>0</td><td>0</td><td>1</td><td>2</td><td>1-2 </td><td>OBS_Feminino </td><td>1</td></tr>\n",
       "\t<tr><td>OBS</td><td>Masculino</td><td>0</td><td>0</td><td>1</td><td>1</td><td>0</td><td>0</td><td>0</td><td>0</td><td>0</td><td>0</td><td>0</td><td>0</td><td>2</td><td>1-2 </td><td>OBS_Masculino</td><td>0</td></tr>\n",
       "\t<tr><td>OBS</td><td>Feminino </td><td>1</td><td>0</td><td>1</td><td>1</td><td>1</td><td>1</td><td>0</td><td>0</td><td>0</td><td>0</td><td>0</td><td>0</td><td>5</td><td>&gt;=5 </td><td>OBS_Feminino </td><td>1</td></tr>\n",
       "\t<tr><td>OBS</td><td>Masculino</td><td>1</td><td>1</td><td>1</td><td>1</td><td>1</td><td>1</td><td>0</td><td>0</td><td>0</td><td>0</td><td>0</td><td>1</td><td>7</td><td>&gt;=5 </td><td>OBS_Masculino</td><td>0</td></tr>\n",
       "\t<tr><td>OBS</td><td>Masculino</td><td>0</td><td>1</td><td>0</td><td>0</td><td>0</td><td>0</td><td>0</td><td>0</td><td>0</td><td>0</td><td>0</td><td>0</td><td>1</td><td>1-2 </td><td>OBS_Masculino</td><td>0</td></tr>\n",
       "\t<tr><td>OBS</td><td>Masculino</td><td>1</td><td>0</td><td>1</td><td>0</td><td>0</td><td>0</td><td>0</td><td>0</td><td>0</td><td>0</td><td>0</td><td>1</td><td>3</td><td>3-4 </td><td>OBS_Masculino</td><td>0</td></tr>\n",
       "\t<tr><td>OBS</td><td>Masculino</td><td>0</td><td>0</td><td>0</td><td>0</td><td>0</td><td>0</td><td>0</td><td>0</td><td>0</td><td>1</td><td>1</td><td>0</td><td>2</td><td>1-2 </td><td>OBS_Masculino</td><td>0</td></tr>\n",
       "\t<tr><td>OBS</td><td>Masculino</td><td>0</td><td>1</td><td>0</td><td>0</td><td>0</td><td>0</td><td>0</td><td>0</td><td>0</td><td>0</td><td>0</td><td>0</td><td>1</td><td>1-2 </td><td>OBS_Masculino</td><td>0</td></tr>\n",
       "\t<tr><td>OBS</td><td>Masculino</td><td>0</td><td>0</td><td>1</td><td>1</td><td>0</td><td>1</td><td>0</td><td>0</td><td>0</td><td>0</td><td>0</td><td>0</td><td>3</td><td>3-4 </td><td>OBS_Masculino</td><td>0</td></tr>\n",
       "\t<tr><td>OBS</td><td>Masculino</td><td>0</td><td>0</td><td>0</td><td>0</td><td>0</td><td>0</td><td>0</td><td>0</td><td>0</td><td>0</td><td>0</td><td>0</td><td>0</td><td>None</td><td>OBS_Masculino</td><td>0</td></tr>\n",
       "\t<tr><td>OBS</td><td>Masculino</td><td>0</td><td>0</td><td>0</td><td>0</td><td>0</td><td>0</td><td>0</td><td>0</td><td>0</td><td>0</td><td>0</td><td>0</td><td>0</td><td>None</td><td>OBS_Masculino</td><td>0</td></tr>\n",
       "\t<tr><td>OBS</td><td>Masculino</td><td>0</td><td>0</td><td>0</td><td>0</td><td>0</td><td>0</td><td>0</td><td>0</td><td>0</td><td>0</td><td>0</td><td>0</td><td>0</td><td>None</td><td>OBS_Masculino</td><td>0</td></tr>\n",
       "\t<tr><td>OBS</td><td>Masculino</td><td>1</td><td>1</td><td>1</td><td>1</td><td>1</td><td>0</td><td>0</td><td>0</td><td>0</td><td>0</td><td>0</td><td>1</td><td>7</td><td>&gt;=5 </td><td>OBS_Masculino</td><td>0</td></tr>\n",
       "\t<tr><td>OBS</td><td>Masculino</td><td>0</td><td>0</td><td>0</td><td>1</td><td>0</td><td>0</td><td>0</td><td>0</td><td>0</td><td>0</td><td>0</td><td>0</td><td>1</td><td>1-2 </td><td>OBS_Masculino</td><td>0</td></tr>\n",
       "\t<tr><td>OBS</td><td>Masculino</td><td>1</td><td>0</td><td>0</td><td>1</td><td>1</td><td>0</td><td>0</td><td>0</td><td>0</td><td>0</td><td>0</td><td>0</td><td>3</td><td>3-4 </td><td>OBS_Masculino</td><td>0</td></tr>\n",
       "\t<tr><td>OBS</td><td>Masculino</td><td>0</td><td>0</td><td>0</td><td>1</td><td>0</td><td>0</td><td>0</td><td>0</td><td>0</td><td>0</td><td>0</td><td>0</td><td>1</td><td>1-2 </td><td>OBS_Masculino</td><td>0</td></tr>\n",
       "</tbody>\n",
       "</table>\n"
      ],
      "text/latex": [
       "A data.frame: 175 × 18\n",
       "\\begin{tabular}{llllllllllllllllll}\n",
       " CONDITION & SEX & CEFALEIA & TOSSE & DISPNEIA & DOR\\_CORPO & FADIGA & DOR\\_TORAC & ANOREXIA & DISFAGIA & DISFONIA & ALT\\_PALADAR & ALT\\_OLFATO & LIM\\_MOTORA & N\\_SINTOMAS & NIVEIS & GROUP & OUT\\\\\n",
       " <chr> & <chr> & <int> & <int> & <int> & <int> & <int> & <int> & <int> & <int> & <int> & <int> & <int> & <int> & <int> & <fct> & <fct> & <fct>\\\\\n",
       "\\hline\n",
       "\t OBS & Masculino & 0 & 0 & 1 & 0 & 1 & 0 & 1 & 0 & 0 & 0 & 0 & 0 & 3 & 3-4  & OBS\\_Masculino & 0\\\\\n",
       "\t OBS & Masculino & 0 & 1 & 1 & 0 & 0 & 0 & 0 & 0 & 0 & 0 & 0 & 0 & 2 & 1-2  & OBS\\_Masculino & 0\\\\\n",
       "\t OBS & Masculino & 0 & 0 & 0 & 0 & 1 & 0 & 0 & 0 & 0 & 0 & 0 & 0 & 1 & 1-2  & OBS\\_Masculino & 0\\\\\n",
       "\t OBS & Feminino  & 0 & 1 & 1 & 0 & 0 & 0 & 0 & 0 & 0 & 0 & 0 & 0 & 2 & 1-2  & OBS\\_Feminino  & 1\\\\\n",
       "\t OBS & Masculino & 0 & 1 & 0 & 0 & 0 & 0 & 0 & 0 & 0 & 0 & 0 & 0 & 1 & 1-2  & OBS\\_Masculino & 0\\\\\n",
       "\t OBS & Feminino  & 0 & 1 & 1 & 0 & 1 & 1 & 0 & 0 & 0 & 0 & 0 & 0 & 5 & >=5  & OBS\\_Feminino  & 1\\\\\n",
       "\t OBS & Feminino  & 0 & 1 & 0 & 0 & 0 & 0 & 0 & 0 & 0 & 0 & 0 & 0 & 1 & 1-2  & OBS\\_Feminino  & 1\\\\\n",
       "\t OBS & Masculino & 0 & 1 & 1 & 0 & 1 & 1 & 0 & 0 & 0 & 1 & 1 & 0 & 6 & >=5  & OBS\\_Masculino & 0\\\\\n",
       "\t OBS & Feminino  & 1 & 0 & 1 & 1 & 1 & 1 & 0 & 0 & 0 & 0 & 0 & 1 & 6 & >=5  & OBS\\_Feminino  & 1\\\\\n",
       "\t OBS & Feminino  & 0 & 1 & 1 & 0 & 1 & 1 & 1 & 1 & 1 & 0 & 0 & 0 & 7 & >=5  & OBS\\_Feminino  & 1\\\\\n",
       "\t OBS & Feminino  & 0 & 1 & 1 & 0 & 1 & 0 & 0 & 0 & 0 & 0 & 0 & 1 & 4 & 3-4  & OBS\\_Feminino  & 1\\\\\n",
       "\t OBS & Feminino  & 0 & 0 & 1 & 0 & 1 & 1 & 0 & 1 & 0 & 0 & 0 & 0 & 4 & 3-4  & OBS\\_Feminino  & 1\\\\\n",
       "\t OBS & Feminino  & 1 & 1 & 1 & 1 & 1 & 1 & 1 & 0 & 0 & 0 & 0 & 0 & 7 & >=5  & OBS\\_Feminino  & 1\\\\\n",
       "\t OBS & Feminino  & 1 & 0 & 1 & 1 & 1 & 0 & 1 & 0 & 0 & 0 & 0 & 1 & 6 & >=5  & OBS\\_Feminino  & 1\\\\\n",
       "\t OBS & Masculino & 1 & 0 & 0 & 1 & 1 & 0 & 0 & 0 & 0 & 0 & 0 & 0 & 3 & 3-4  & OBS\\_Masculino & 0\\\\\n",
       "\t OBS & Feminino  & 1 & 0 & 1 & 1 & 1 & 1 & 1 & 0 & 0 & 0 & 0 & 1 & 7 & >=5  & OBS\\_Feminino  & 1\\\\\n",
       "\t OBS & Masculino & 1 & 0 & 1 & 0 & 0 & 0 & 0 & 0 & 0 & 0 & 0 & 0 & 2 & 1-2  & OBS\\_Masculino & 0\\\\\n",
       "\t OBS & Feminino  & 0 & 1 & 0 & 1 & 1 & 1 & 0 & 0 & 0 & 1 & 0 & 0 & 5 & >=5  & OBS\\_Feminino  & 1\\\\\n",
       "\t OBS & Feminino  & 1 & 1 & 0 & 1 & 1 & 0 & 1 & 0 & 0 & 0 & 0 & 0 & 5 & >=5  & OBS\\_Feminino  & 1\\\\\n",
       "\t OBS & Masculino & 0 & 0 & 1 & 0 & 0 & 1 & 0 & 0 & 0 & 0 & 0 & 0 & 2 & 1-2  & OBS\\_Masculino & 0\\\\\n",
       "\t OBS & Feminino  & 1 & 0 & 1 & 0 & 0 & 0 & 0 & 0 & 0 & 0 & 0 & 0 & 2 & 1-2  & OBS\\_Feminino  & 1\\\\\n",
       "\t OBS & Feminino  & 1 & 0 & 0 & 1 & 1 & 1 & 0 & 0 & 0 & 0 & 0 & 0 & 4 & 3-4  & OBS\\_Feminino  & 1\\\\\n",
       "\t OBS & Feminino  & 0 & 0 & 1 & 0 & 1 & 1 & 0 & 0 & 1 & 1 & 0 & 0 & 5 & >=5  & OBS\\_Feminino  & 1\\\\\n",
       "\t OBS & Masculino & 0 & 0 & 0 & 0 & 0 & 0 & 0 & 0 & 0 & 0 & 0 & 0 & 0 & None & OBS\\_Masculino & 0\\\\\n",
       "\t OBS & Feminino  & 0 & 0 & 0 & 1 & 0 & 0 & 1 & 0 & 0 & 1 & 0 & 0 & 3 & 3-4  & OBS\\_Feminino  & 1\\\\\n",
       "\t OBS & Masculino & 1 & 1 & 1 & 1 & 1 & 1 & 0 & 0 & 0 & 0 & 0 & 0 & 6 & >=5  & OBS\\_Masculino & 0\\\\\n",
       "\t OBS & Feminino  & 0 & 1 & 1 & 1 & 0 & 0 & 0 & 0 & 0 & 0 & 0 & 0 & 3 & 3-4  & OBS\\_Feminino  & 1\\\\\n",
       "\t OBS & Masculino & 0 & 0 & 0 & 0 & 0 & 1 & 0 & 0 & 0 & 0 & 0 & 0 & 1 & 1-2  & OBS\\_Masculino & 0\\\\\n",
       "\t OBS & Masculino & 1 & 1 & 0 & 0 & 0 & 0 & 0 & 0 & 0 & 0 & 0 & 0 & 2 & 1-2  & OBS\\_Masculino & 0\\\\\n",
       "\t OBS & Feminino  & 0 & 0 & 1 & 0 & 0 & 0 & 0 & 0 & 0 & 0 & 0 & 0 & 1 & 1-2  & OBS\\_Feminino  & 1\\\\\n",
       "\t ⋮ & ⋮ & ⋮ & ⋮ & ⋮ & ⋮ & ⋮ & ⋮ & ⋮ & ⋮ & ⋮ & ⋮ & ⋮ & ⋮ & ⋮ & ⋮ & ⋮ & ⋮\\\\\n",
       "\t OBS & Masculino & 0 & 0 & 1 & 0 & 0 & 1 & 0 & 0 & 0 & 0 & 0 & 0 & 2 & 1-2  & OBS\\_Masculino & 0\\\\\n",
       "\t OBS & Feminino  & 0 & 0 & 0 & 0 & 0 & 0 & 0 & 0 & 0 & 0 & 0 & 0 & 0 & None & OBS\\_Feminino  & 1\\\\\n",
       "\t OBS & Feminino  & 0 & 1 & 1 & 0 & 1 & 0 & 0 & 1 & 0 & 1 & 1 & 0 & 6 & >=5  & OBS\\_Feminino  & 1\\\\\n",
       "\t OBS & Feminino  & 1 & 1 & 1 & 1 & 1 & 1 & 0 & 0 & 0 & 0 & 0 & 1 & 8 & >=5  & OBS\\_Feminino  & 1\\\\\n",
       "\t OBS & Feminino  & 1 & 1 & 1 & 0 & 1 & 1 & 0 & 0 & 0 & 0 & 1 & 0 & 6 & >=5  & OBS\\_Feminino  & 1\\\\\n",
       "\t OBS & Masculino & 1 & 1 & 1 & 0 & 1 & 1 & 0 & 0 & 0 & 0 & 0 & 0 & 5 & >=5  & OBS\\_Masculino & 0\\\\\n",
       "\t OBS & Masculino & 0 & 1 & 1 & 1 & 1 & 0 & 0 & 0 & 0 & 0 & 0 & 1 & 5 & >=5  & OBS\\_Masculino & 0\\\\\n",
       "\t OBS & Feminino  & 1 & 0 & 0 & 1 & 1 & 1 & 0 & 0 & 0 & 0 & 0 & 0 & 4 & 3-4  & OBS\\_Feminino  & 1\\\\\n",
       "\t OBS & Feminino  & 0 & 1 & 1 & 0 & 1 & 0 & 0 & 0 & 0 & 0 & 1 & 0 & 4 & 3-4  & OBS\\_Feminino  & 1\\\\\n",
       "\t OBS & Feminino  & 0 & 1 & 1 & 0 & 0 & 0 & 0 & 0 & 0 & 1 & 1 & 0 & 4 & 3-4  & OBS\\_Feminino  & 1\\\\\n",
       "\t OBS & Feminino  & 1 & 0 & 0 & 1 & 1 & 1 & 0 & 0 & 0 & 0 & 0 & 1 & 5 & >=5  & OBS\\_Feminino  & 1\\\\\n",
       "\t OBS & Masculino & 1 & 1 & 0 & 1 & 1 & 0 & 0 & 0 & 0 & 0 & 0 & 0 & 4 & 3-4  & OBS\\_Masculino & 0\\\\\n",
       "\t OBS & Feminino  & 0 & 0 & 0 & 0 & 0 & 0 & 0 & 0 & 0 & 0 & 0 & 0 & 0 & None & OBS\\_Feminino  & 1\\\\\n",
       "\t OBS & Feminino  & 0 & 0 & 1 & 0 & 1 & 0 & 0 & 0 & 0 & 0 & 0 & 0 & 2 & 1-2  & OBS\\_Feminino  & 1\\\\\n",
       "\t OBS & Feminino  & 0 & 0 & 0 & 0 & 1 & 0 & 0 & 0 & 0 & 0 & 0 & 1 & 2 & 1-2  & OBS\\_Feminino  & 1\\\\\n",
       "\t OBS & Masculino & 0 & 0 & 1 & 1 & 0 & 0 & 0 & 0 & 0 & 0 & 0 & 0 & 2 & 1-2  & OBS\\_Masculino & 0\\\\\n",
       "\t OBS & Feminino  & 1 & 0 & 1 & 1 & 1 & 1 & 0 & 0 & 0 & 0 & 0 & 0 & 5 & >=5  & OBS\\_Feminino  & 1\\\\\n",
       "\t OBS & Masculino & 1 & 1 & 1 & 1 & 1 & 1 & 0 & 0 & 0 & 0 & 0 & 1 & 7 & >=5  & OBS\\_Masculino & 0\\\\\n",
       "\t OBS & Masculino & 0 & 1 & 0 & 0 & 0 & 0 & 0 & 0 & 0 & 0 & 0 & 0 & 1 & 1-2  & OBS\\_Masculino & 0\\\\\n",
       "\t OBS & Masculino & 1 & 0 & 1 & 0 & 0 & 0 & 0 & 0 & 0 & 0 & 0 & 1 & 3 & 3-4  & OBS\\_Masculino & 0\\\\\n",
       "\t OBS & Masculino & 0 & 0 & 0 & 0 & 0 & 0 & 0 & 0 & 0 & 1 & 1 & 0 & 2 & 1-2  & OBS\\_Masculino & 0\\\\\n",
       "\t OBS & Masculino & 0 & 1 & 0 & 0 & 0 & 0 & 0 & 0 & 0 & 0 & 0 & 0 & 1 & 1-2  & OBS\\_Masculino & 0\\\\\n",
       "\t OBS & Masculino & 0 & 0 & 1 & 1 & 0 & 1 & 0 & 0 & 0 & 0 & 0 & 0 & 3 & 3-4  & OBS\\_Masculino & 0\\\\\n",
       "\t OBS & Masculino & 0 & 0 & 0 & 0 & 0 & 0 & 0 & 0 & 0 & 0 & 0 & 0 & 0 & None & OBS\\_Masculino & 0\\\\\n",
       "\t OBS & Masculino & 0 & 0 & 0 & 0 & 0 & 0 & 0 & 0 & 0 & 0 & 0 & 0 & 0 & None & OBS\\_Masculino & 0\\\\\n",
       "\t OBS & Masculino & 0 & 0 & 0 & 0 & 0 & 0 & 0 & 0 & 0 & 0 & 0 & 0 & 0 & None & OBS\\_Masculino & 0\\\\\n",
       "\t OBS & Masculino & 1 & 1 & 1 & 1 & 1 & 0 & 0 & 0 & 0 & 0 & 0 & 1 & 7 & >=5  & OBS\\_Masculino & 0\\\\\n",
       "\t OBS & Masculino & 0 & 0 & 0 & 1 & 0 & 0 & 0 & 0 & 0 & 0 & 0 & 0 & 1 & 1-2  & OBS\\_Masculino & 0\\\\\n",
       "\t OBS & Masculino & 1 & 0 & 0 & 1 & 1 & 0 & 0 & 0 & 0 & 0 & 0 & 0 & 3 & 3-4  & OBS\\_Masculino & 0\\\\\n",
       "\t OBS & Masculino & 0 & 0 & 0 & 1 & 0 & 0 & 0 & 0 & 0 & 0 & 0 & 0 & 1 & 1-2  & OBS\\_Masculino & 0\\\\\n",
       "\\end{tabular}\n"
      ],
      "text/markdown": [
       "\n",
       "A data.frame: 175 × 18\n",
       "\n",
       "| CONDITION &lt;chr&gt; | SEX &lt;chr&gt; | CEFALEIA &lt;int&gt; | TOSSE &lt;int&gt; | DISPNEIA &lt;int&gt; | DOR_CORPO &lt;int&gt; | FADIGA &lt;int&gt; | DOR_TORAC &lt;int&gt; | ANOREXIA &lt;int&gt; | DISFAGIA &lt;int&gt; | DISFONIA &lt;int&gt; | ALT_PALADAR &lt;int&gt; | ALT_OLFATO &lt;int&gt; | LIM_MOTORA &lt;int&gt; | N_SINTOMAS &lt;int&gt; | NIVEIS &lt;fct&gt; | GROUP &lt;fct&gt; | OUT &lt;fct&gt; |\n",
       "|---|---|---|---|---|---|---|---|---|---|---|---|---|---|---|---|---|---|\n",
       "| OBS | Masculino | 0 | 0 | 1 | 0 | 1 | 0 | 1 | 0 | 0 | 0 | 0 | 0 | 3 | 3-4  | OBS_Masculino | 0 |\n",
       "| OBS | Masculino | 0 | 1 | 1 | 0 | 0 | 0 | 0 | 0 | 0 | 0 | 0 | 0 | 2 | 1-2  | OBS_Masculino | 0 |\n",
       "| OBS | Masculino | 0 | 0 | 0 | 0 | 1 | 0 | 0 | 0 | 0 | 0 | 0 | 0 | 1 | 1-2  | OBS_Masculino | 0 |\n",
       "| OBS | Feminino  | 0 | 1 | 1 | 0 | 0 | 0 | 0 | 0 | 0 | 0 | 0 | 0 | 2 | 1-2  | OBS_Feminino  | 1 |\n",
       "| OBS | Masculino | 0 | 1 | 0 | 0 | 0 | 0 | 0 | 0 | 0 | 0 | 0 | 0 | 1 | 1-2  | OBS_Masculino | 0 |\n",
       "| OBS | Feminino  | 0 | 1 | 1 | 0 | 1 | 1 | 0 | 0 | 0 | 0 | 0 | 0 | 5 | &gt;=5  | OBS_Feminino  | 1 |\n",
       "| OBS | Feminino  | 0 | 1 | 0 | 0 | 0 | 0 | 0 | 0 | 0 | 0 | 0 | 0 | 1 | 1-2  | OBS_Feminino  | 1 |\n",
       "| OBS | Masculino | 0 | 1 | 1 | 0 | 1 | 1 | 0 | 0 | 0 | 1 | 1 | 0 | 6 | &gt;=5  | OBS_Masculino | 0 |\n",
       "| OBS | Feminino  | 1 | 0 | 1 | 1 | 1 | 1 | 0 | 0 | 0 | 0 | 0 | 1 | 6 | &gt;=5  | OBS_Feminino  | 1 |\n",
       "| OBS | Feminino  | 0 | 1 | 1 | 0 | 1 | 1 | 1 | 1 | 1 | 0 | 0 | 0 | 7 | &gt;=5  | OBS_Feminino  | 1 |\n",
       "| OBS | Feminino  | 0 | 1 | 1 | 0 | 1 | 0 | 0 | 0 | 0 | 0 | 0 | 1 | 4 | 3-4  | OBS_Feminino  | 1 |\n",
       "| OBS | Feminino  | 0 | 0 | 1 | 0 | 1 | 1 | 0 | 1 | 0 | 0 | 0 | 0 | 4 | 3-4  | OBS_Feminino  | 1 |\n",
       "| OBS | Feminino  | 1 | 1 | 1 | 1 | 1 | 1 | 1 | 0 | 0 | 0 | 0 | 0 | 7 | &gt;=5  | OBS_Feminino  | 1 |\n",
       "| OBS | Feminino  | 1 | 0 | 1 | 1 | 1 | 0 | 1 | 0 | 0 | 0 | 0 | 1 | 6 | &gt;=5  | OBS_Feminino  | 1 |\n",
       "| OBS | Masculino | 1 | 0 | 0 | 1 | 1 | 0 | 0 | 0 | 0 | 0 | 0 | 0 | 3 | 3-4  | OBS_Masculino | 0 |\n",
       "| OBS | Feminino  | 1 | 0 | 1 | 1 | 1 | 1 | 1 | 0 | 0 | 0 | 0 | 1 | 7 | &gt;=5  | OBS_Feminino  | 1 |\n",
       "| OBS | Masculino | 1 | 0 | 1 | 0 | 0 | 0 | 0 | 0 | 0 | 0 | 0 | 0 | 2 | 1-2  | OBS_Masculino | 0 |\n",
       "| OBS | Feminino  | 0 | 1 | 0 | 1 | 1 | 1 | 0 | 0 | 0 | 1 | 0 | 0 | 5 | &gt;=5  | OBS_Feminino  | 1 |\n",
       "| OBS | Feminino  | 1 | 1 | 0 | 1 | 1 | 0 | 1 | 0 | 0 | 0 | 0 | 0 | 5 | &gt;=5  | OBS_Feminino  | 1 |\n",
       "| OBS | Masculino | 0 | 0 | 1 | 0 | 0 | 1 | 0 | 0 | 0 | 0 | 0 | 0 | 2 | 1-2  | OBS_Masculino | 0 |\n",
       "| OBS | Feminino  | 1 | 0 | 1 | 0 | 0 | 0 | 0 | 0 | 0 | 0 | 0 | 0 | 2 | 1-2  | OBS_Feminino  | 1 |\n",
       "| OBS | Feminino  | 1 | 0 | 0 | 1 | 1 | 1 | 0 | 0 | 0 | 0 | 0 | 0 | 4 | 3-4  | OBS_Feminino  | 1 |\n",
       "| OBS | Feminino  | 0 | 0 | 1 | 0 | 1 | 1 | 0 | 0 | 1 | 1 | 0 | 0 | 5 | &gt;=5  | OBS_Feminino  | 1 |\n",
       "| OBS | Masculino | 0 | 0 | 0 | 0 | 0 | 0 | 0 | 0 | 0 | 0 | 0 | 0 | 0 | None | OBS_Masculino | 0 |\n",
       "| OBS | Feminino  | 0 | 0 | 0 | 1 | 0 | 0 | 1 | 0 | 0 | 1 | 0 | 0 | 3 | 3-4  | OBS_Feminino  | 1 |\n",
       "| OBS | Masculino | 1 | 1 | 1 | 1 | 1 | 1 | 0 | 0 | 0 | 0 | 0 | 0 | 6 | &gt;=5  | OBS_Masculino | 0 |\n",
       "| OBS | Feminino  | 0 | 1 | 1 | 1 | 0 | 0 | 0 | 0 | 0 | 0 | 0 | 0 | 3 | 3-4  | OBS_Feminino  | 1 |\n",
       "| OBS | Masculino | 0 | 0 | 0 | 0 | 0 | 1 | 0 | 0 | 0 | 0 | 0 | 0 | 1 | 1-2  | OBS_Masculino | 0 |\n",
       "| OBS | Masculino | 1 | 1 | 0 | 0 | 0 | 0 | 0 | 0 | 0 | 0 | 0 | 0 | 2 | 1-2  | OBS_Masculino | 0 |\n",
       "| OBS | Feminino  | 0 | 0 | 1 | 0 | 0 | 0 | 0 | 0 | 0 | 0 | 0 | 0 | 1 | 1-2  | OBS_Feminino  | 1 |\n",
       "| ⋮ | ⋮ | ⋮ | ⋮ | ⋮ | ⋮ | ⋮ | ⋮ | ⋮ | ⋮ | ⋮ | ⋮ | ⋮ | ⋮ | ⋮ | ⋮ | ⋮ | ⋮ |\n",
       "| OBS | Masculino | 0 | 0 | 1 | 0 | 0 | 1 | 0 | 0 | 0 | 0 | 0 | 0 | 2 | 1-2  | OBS_Masculino | 0 |\n",
       "| OBS | Feminino  | 0 | 0 | 0 | 0 | 0 | 0 | 0 | 0 | 0 | 0 | 0 | 0 | 0 | None | OBS_Feminino  | 1 |\n",
       "| OBS | Feminino  | 0 | 1 | 1 | 0 | 1 | 0 | 0 | 1 | 0 | 1 | 1 | 0 | 6 | &gt;=5  | OBS_Feminino  | 1 |\n",
       "| OBS | Feminino  | 1 | 1 | 1 | 1 | 1 | 1 | 0 | 0 | 0 | 0 | 0 | 1 | 8 | &gt;=5  | OBS_Feminino  | 1 |\n",
       "| OBS | Feminino  | 1 | 1 | 1 | 0 | 1 | 1 | 0 | 0 | 0 | 0 | 1 | 0 | 6 | &gt;=5  | OBS_Feminino  | 1 |\n",
       "| OBS | Masculino | 1 | 1 | 1 | 0 | 1 | 1 | 0 | 0 | 0 | 0 | 0 | 0 | 5 | &gt;=5  | OBS_Masculino | 0 |\n",
       "| OBS | Masculino | 0 | 1 | 1 | 1 | 1 | 0 | 0 | 0 | 0 | 0 | 0 | 1 | 5 | &gt;=5  | OBS_Masculino | 0 |\n",
       "| OBS | Feminino  | 1 | 0 | 0 | 1 | 1 | 1 | 0 | 0 | 0 | 0 | 0 | 0 | 4 | 3-4  | OBS_Feminino  | 1 |\n",
       "| OBS | Feminino  | 0 | 1 | 1 | 0 | 1 | 0 | 0 | 0 | 0 | 0 | 1 | 0 | 4 | 3-4  | OBS_Feminino  | 1 |\n",
       "| OBS | Feminino  | 0 | 1 | 1 | 0 | 0 | 0 | 0 | 0 | 0 | 1 | 1 | 0 | 4 | 3-4  | OBS_Feminino  | 1 |\n",
       "| OBS | Feminino  | 1 | 0 | 0 | 1 | 1 | 1 | 0 | 0 | 0 | 0 | 0 | 1 | 5 | &gt;=5  | OBS_Feminino  | 1 |\n",
       "| OBS | Masculino | 1 | 1 | 0 | 1 | 1 | 0 | 0 | 0 | 0 | 0 | 0 | 0 | 4 | 3-4  | OBS_Masculino | 0 |\n",
       "| OBS | Feminino  | 0 | 0 | 0 | 0 | 0 | 0 | 0 | 0 | 0 | 0 | 0 | 0 | 0 | None | OBS_Feminino  | 1 |\n",
       "| OBS | Feminino  | 0 | 0 | 1 | 0 | 1 | 0 | 0 | 0 | 0 | 0 | 0 | 0 | 2 | 1-2  | OBS_Feminino  | 1 |\n",
       "| OBS | Feminino  | 0 | 0 | 0 | 0 | 1 | 0 | 0 | 0 | 0 | 0 | 0 | 1 | 2 | 1-2  | OBS_Feminino  | 1 |\n",
       "| OBS | Masculino | 0 | 0 | 1 | 1 | 0 | 0 | 0 | 0 | 0 | 0 | 0 | 0 | 2 | 1-2  | OBS_Masculino | 0 |\n",
       "| OBS | Feminino  | 1 | 0 | 1 | 1 | 1 | 1 | 0 | 0 | 0 | 0 | 0 | 0 | 5 | &gt;=5  | OBS_Feminino  | 1 |\n",
       "| OBS | Masculino | 1 | 1 | 1 | 1 | 1 | 1 | 0 | 0 | 0 | 0 | 0 | 1 | 7 | &gt;=5  | OBS_Masculino | 0 |\n",
       "| OBS | Masculino | 0 | 1 | 0 | 0 | 0 | 0 | 0 | 0 | 0 | 0 | 0 | 0 | 1 | 1-2  | OBS_Masculino | 0 |\n",
       "| OBS | Masculino | 1 | 0 | 1 | 0 | 0 | 0 | 0 | 0 | 0 | 0 | 0 | 1 | 3 | 3-4  | OBS_Masculino | 0 |\n",
       "| OBS | Masculino | 0 | 0 | 0 | 0 | 0 | 0 | 0 | 0 | 0 | 1 | 1 | 0 | 2 | 1-2  | OBS_Masculino | 0 |\n",
       "| OBS | Masculino | 0 | 1 | 0 | 0 | 0 | 0 | 0 | 0 | 0 | 0 | 0 | 0 | 1 | 1-2  | OBS_Masculino | 0 |\n",
       "| OBS | Masculino | 0 | 0 | 1 | 1 | 0 | 1 | 0 | 0 | 0 | 0 | 0 | 0 | 3 | 3-4  | OBS_Masculino | 0 |\n",
       "| OBS | Masculino | 0 | 0 | 0 | 0 | 0 | 0 | 0 | 0 | 0 | 0 | 0 | 0 | 0 | None | OBS_Masculino | 0 |\n",
       "| OBS | Masculino | 0 | 0 | 0 | 0 | 0 | 0 | 0 | 0 | 0 | 0 | 0 | 0 | 0 | None | OBS_Masculino | 0 |\n",
       "| OBS | Masculino | 0 | 0 | 0 | 0 | 0 | 0 | 0 | 0 | 0 | 0 | 0 | 0 | 0 | None | OBS_Masculino | 0 |\n",
       "| OBS | Masculino | 1 | 1 | 1 | 1 | 1 | 0 | 0 | 0 | 0 | 0 | 0 | 1 | 7 | &gt;=5  | OBS_Masculino | 0 |\n",
       "| OBS | Masculino | 0 | 0 | 0 | 1 | 0 | 0 | 0 | 0 | 0 | 0 | 0 | 0 | 1 | 1-2  | OBS_Masculino | 0 |\n",
       "| OBS | Masculino | 1 | 0 | 0 | 1 | 1 | 0 | 0 | 0 | 0 | 0 | 0 | 0 | 3 | 3-4  | OBS_Masculino | 0 |\n",
       "| OBS | Masculino | 0 | 0 | 0 | 1 | 0 | 0 | 0 | 0 | 0 | 0 | 0 | 0 | 1 | 1-2  | OBS_Masculino | 0 |\n",
       "\n"
      ],
      "text/plain": [
       "    CONDITION SEX       CEFALEIA TOSSE DISPNEIA DOR_CORPO FADIGA DOR_TORAC\n",
       "1   OBS       Masculino 0        0     1        0         1      0        \n",
       "2   OBS       Masculino 0        1     1        0         0      0        \n",
       "3   OBS       Masculino 0        0     0        0         1      0        \n",
       "4   OBS       Feminino  0        1     1        0         0      0        \n",
       "5   OBS       Masculino 0        1     0        0         0      0        \n",
       "6   OBS       Feminino  0        1     1        0         1      1        \n",
       "7   OBS       Feminino  0        1     0        0         0      0        \n",
       "8   OBS       Masculino 0        1     1        0         1      1        \n",
       "9   OBS       Feminino  1        0     1        1         1      1        \n",
       "10  OBS       Feminino  0        1     1        0         1      1        \n",
       "11  OBS       Feminino  0        1     1        0         1      0        \n",
       "12  OBS       Feminino  0        0     1        0         1      1        \n",
       "13  OBS       Feminino  1        1     1        1         1      1        \n",
       "14  OBS       Feminino  1        0     1        1         1      0        \n",
       "15  OBS       Masculino 1        0     0        1         1      0        \n",
       "16  OBS       Feminino  1        0     1        1         1      1        \n",
       "17  OBS       Masculino 1        0     1        0         0      0        \n",
       "18  OBS       Feminino  0        1     0        1         1      1        \n",
       "19  OBS       Feminino  1        1     0        1         1      0        \n",
       "20  OBS       Masculino 0        0     1        0         0      1        \n",
       "21  OBS       Feminino  1        0     1        0         0      0        \n",
       "22  OBS       Feminino  1        0     0        1         1      1        \n",
       "23  OBS       Feminino  0        0     1        0         1      1        \n",
       "24  OBS       Masculino 0        0     0        0         0      0        \n",
       "25  OBS       Feminino  0        0     0        1         0      0        \n",
       "26  OBS       Masculino 1        1     1        1         1      1        \n",
       "27  OBS       Feminino  0        1     1        1         0      0        \n",
       "28  OBS       Masculino 0        0     0        0         0      1        \n",
       "29  OBS       Masculino 1        1     0        0         0      0        \n",
       "30  OBS       Feminino  0        0     1        0         0      0        \n",
       "⋮   ⋮         ⋮         ⋮        ⋮     ⋮        ⋮         ⋮      ⋮        \n",
       "146 OBS       Masculino 0        0     1        0         0      1        \n",
       "147 OBS       Feminino  0        0     0        0         0      0        \n",
       "148 OBS       Feminino  0        1     1        0         1      0        \n",
       "149 OBS       Feminino  1        1     1        1         1      1        \n",
       "150 OBS       Feminino  1        1     1        0         1      1        \n",
       "151 OBS       Masculino 1        1     1        0         1      1        \n",
       "152 OBS       Masculino 0        1     1        1         1      0        \n",
       "153 OBS       Feminino  1        0     0        1         1      1        \n",
       "154 OBS       Feminino  0        1     1        0         1      0        \n",
       "155 OBS       Feminino  0        1     1        0         0      0        \n",
       "156 OBS       Feminino  1        0     0        1         1      1        \n",
       "157 OBS       Masculino 1        1     0        1         1      0        \n",
       "158 OBS       Feminino  0        0     0        0         0      0        \n",
       "159 OBS       Feminino  0        0     1        0         1      0        \n",
       "160 OBS       Feminino  0        0     0        0         1      0        \n",
       "161 OBS       Masculino 0        0     1        1         0      0        \n",
       "162 OBS       Feminino  1        0     1        1         1      1        \n",
       "163 OBS       Masculino 1        1     1        1         1      1        \n",
       "164 OBS       Masculino 0        1     0        0         0      0        \n",
       "165 OBS       Masculino 1        0     1        0         0      0        \n",
       "166 OBS       Masculino 0        0     0        0         0      0        \n",
       "167 OBS       Masculino 0        1     0        0         0      0        \n",
       "168 OBS       Masculino 0        0     1        1         0      1        \n",
       "169 OBS       Masculino 0        0     0        0         0      0        \n",
       "170 OBS       Masculino 0        0     0        0         0      0        \n",
       "171 OBS       Masculino 0        0     0        0         0      0        \n",
       "172 OBS       Masculino 1        1     1        1         1      0        \n",
       "173 OBS       Masculino 0        0     0        1         0      0        \n",
       "174 OBS       Masculino 1        0     0        1         1      0        \n",
       "175 OBS       Masculino 0        0     0        1         0      0        \n",
       "    ANOREXIA DISFAGIA DISFONIA ALT_PALADAR ALT_OLFATO LIM_MOTORA N_SINTOMAS\n",
       "1   1        0        0        0           0          0          3         \n",
       "2   0        0        0        0           0          0          2         \n",
       "3   0        0        0        0           0          0          1         \n",
       "4   0        0        0        0           0          0          2         \n",
       "5   0        0        0        0           0          0          1         \n",
       "6   0        0        0        0           0          0          5         \n",
       "7   0        0        0        0           0          0          1         \n",
       "8   0        0        0        1           1          0          6         \n",
       "9   0        0        0        0           0          1          6         \n",
       "10  1        1        1        0           0          0          7         \n",
       "11  0        0        0        0           0          1          4         \n",
       "12  0        1        0        0           0          0          4         \n",
       "13  1        0        0        0           0          0          7         \n",
       "14  1        0        0        0           0          1          6         \n",
       "15  0        0        0        0           0          0          3         \n",
       "16  1        0        0        0           0          1          7         \n",
       "17  0        0        0        0           0          0          2         \n",
       "18  0        0        0        1           0          0          5         \n",
       "19  1        0        0        0           0          0          5         \n",
       "20  0        0        0        0           0          0          2         \n",
       "21  0        0        0        0           0          0          2         \n",
       "22  0        0        0        0           0          0          4         \n",
       "23  0        0        1        1           0          0          5         \n",
       "24  0        0        0        0           0          0          0         \n",
       "25  1        0        0        1           0          0          3         \n",
       "26  0        0        0        0           0          0          6         \n",
       "27  0        0        0        0           0          0          3         \n",
       "28  0        0        0        0           0          0          1         \n",
       "29  0        0        0        0           0          0          2         \n",
       "30  0        0        0        0           0          0          1         \n",
       "⋮   ⋮        ⋮        ⋮        ⋮           ⋮          ⋮          ⋮         \n",
       "146 0        0        0        0           0          0          2         \n",
       "147 0        0        0        0           0          0          0         \n",
       "148 0        1        0        1           1          0          6         \n",
       "149 0        0        0        0           0          1          8         \n",
       "150 0        0        0        0           1          0          6         \n",
       "151 0        0        0        0           0          0          5         \n",
       "152 0        0        0        0           0          1          5         \n",
       "153 0        0        0        0           0          0          4         \n",
       "154 0        0        0        0           1          0          4         \n",
       "155 0        0        0        1           1          0          4         \n",
       "156 0        0        0        0           0          1          5         \n",
       "157 0        0        0        0           0          0          4         \n",
       "158 0        0        0        0           0          0          0         \n",
       "159 0        0        0        0           0          0          2         \n",
       "160 0        0        0        0           0          1          2         \n",
       "161 0        0        0        0           0          0          2         \n",
       "162 0        0        0        0           0          0          5         \n",
       "163 0        0        0        0           0          1          7         \n",
       "164 0        0        0        0           0          0          1         \n",
       "165 0        0        0        0           0          1          3         \n",
       "166 0        0        0        1           1          0          2         \n",
       "167 0        0        0        0           0          0          1         \n",
       "168 0        0        0        0           0          0          3         \n",
       "169 0        0        0        0           0          0          0         \n",
       "170 0        0        0        0           0          0          0         \n",
       "171 0        0        0        0           0          0          0         \n",
       "172 0        0        0        0           0          1          7         \n",
       "173 0        0        0        0           0          0          1         \n",
       "174 0        0        0        0           0          0          3         \n",
       "175 0        0        0        0           0          0          1         \n",
       "    NIVEIS GROUP         OUT\n",
       "1   3-4    OBS_Masculino 0  \n",
       "2   1-2    OBS_Masculino 0  \n",
       "3   1-2    OBS_Masculino 0  \n",
       "4   1-2    OBS_Feminino  1  \n",
       "5   1-2    OBS_Masculino 0  \n",
       "6   >=5    OBS_Feminino  1  \n",
       "7   1-2    OBS_Feminino  1  \n",
       "8   >=5    OBS_Masculino 0  \n",
       "9   >=5    OBS_Feminino  1  \n",
       "10  >=5    OBS_Feminino  1  \n",
       "11  3-4    OBS_Feminino  1  \n",
       "12  3-4    OBS_Feminino  1  \n",
       "13  >=5    OBS_Feminino  1  \n",
       "14  >=5    OBS_Feminino  1  \n",
       "15  3-4    OBS_Masculino 0  \n",
       "16  >=5    OBS_Feminino  1  \n",
       "17  1-2    OBS_Masculino 0  \n",
       "18  >=5    OBS_Feminino  1  \n",
       "19  >=5    OBS_Feminino  1  \n",
       "20  1-2    OBS_Masculino 0  \n",
       "21  1-2    OBS_Feminino  1  \n",
       "22  3-4    OBS_Feminino  1  \n",
       "23  >=5    OBS_Feminino  1  \n",
       "24  None   OBS_Masculino 0  \n",
       "25  3-4    OBS_Feminino  1  \n",
       "26  >=5    OBS_Masculino 0  \n",
       "27  3-4    OBS_Feminino  1  \n",
       "28  1-2    OBS_Masculino 0  \n",
       "29  1-2    OBS_Masculino 0  \n",
       "30  1-2    OBS_Feminino  1  \n",
       "⋮   ⋮      ⋮             ⋮  \n",
       "146 1-2    OBS_Masculino 0  \n",
       "147 None   OBS_Feminino  1  \n",
       "148 >=5    OBS_Feminino  1  \n",
       "149 >=5    OBS_Feminino  1  \n",
       "150 >=5    OBS_Feminino  1  \n",
       "151 >=5    OBS_Masculino 0  \n",
       "152 >=5    OBS_Masculino 0  \n",
       "153 3-4    OBS_Feminino  1  \n",
       "154 3-4    OBS_Feminino  1  \n",
       "155 3-4    OBS_Feminino  1  \n",
       "156 >=5    OBS_Feminino  1  \n",
       "157 3-4    OBS_Masculino 0  \n",
       "158 None   OBS_Feminino  1  \n",
       "159 1-2    OBS_Feminino  1  \n",
       "160 1-2    OBS_Feminino  1  \n",
       "161 1-2    OBS_Masculino 0  \n",
       "162 >=5    OBS_Feminino  1  \n",
       "163 >=5    OBS_Masculino 0  \n",
       "164 1-2    OBS_Masculino 0  \n",
       "165 3-4    OBS_Masculino 0  \n",
       "166 1-2    OBS_Masculino 0  \n",
       "167 1-2    OBS_Masculino 0  \n",
       "168 3-4    OBS_Masculino 0  \n",
       "169 None   OBS_Masculino 0  \n",
       "170 None   OBS_Masculino 0  \n",
       "171 None   OBS_Masculino 0  \n",
       "172 >=5    OBS_Masculino 0  \n",
       "173 1-2    OBS_Masculino 0  \n",
       "174 3-4    OBS_Masculino 0  \n",
       "175 1-2    OBS_Masculino 0  "
      ]
     },
     "metadata": {},
     "output_type": "display_data"
    },
    {
     "data": {
      "text/html": [
       "<table class=\"dataframe\">\n",
       "<caption>A data.frame: 6 × 18</caption>\n",
       "<thead>\n",
       "\t<tr><th></th><th scope=col>CONDITION</th><th scope=col>SEX</th><th scope=col>CEFALEIA</th><th scope=col>TOSSE</th><th scope=col>DISPNEIA</th><th scope=col>DOR_CORPO</th><th scope=col>FADIGA</th><th scope=col>DOR_TORAC</th><th scope=col>ANOREXIA</th><th scope=col>DISFAGIA</th><th scope=col>DISFONIA</th><th scope=col>ALT_PALADAR</th><th scope=col>ALT_OLFATO</th><th scope=col>LIM_MOTORA</th><th scope=col>N_SINTOMAS</th><th scope=col>NIVEIS</th><th scope=col>GROUP</th><th scope=col>OUT</th></tr>\n",
       "\t<tr><th></th><th scope=col>&lt;chr&gt;</th><th scope=col>&lt;chr&gt;</th><th scope=col>&lt;int&gt;</th><th scope=col>&lt;int&gt;</th><th scope=col>&lt;int&gt;</th><th scope=col>&lt;int&gt;</th><th scope=col>&lt;int&gt;</th><th scope=col>&lt;int&gt;</th><th scope=col>&lt;int&gt;</th><th scope=col>&lt;int&gt;</th><th scope=col>&lt;int&gt;</th><th scope=col>&lt;int&gt;</th><th scope=col>&lt;int&gt;</th><th scope=col>&lt;int&gt;</th><th scope=col>&lt;int&gt;</th><th scope=col>&lt;fct&gt;</th><th scope=col>&lt;chr&gt;</th><th scope=col>&lt;dbl&gt;</th></tr>\n",
       "</thead>\n",
       "<tbody>\n",
       "\t<tr><th scope=row>2</th><td>NOBS</td><td>Feminino </td><td>0</td><td>1</td><td>1</td><td>0</td><td>1</td><td>0</td><td>0</td><td>0</td><td>0</td><td>0</td><td>0</td><td>1</td><td>4</td><td>3-4</td><td>NOBS_Feminino </td><td>1</td></tr>\n",
       "\t<tr><th scope=row>4</th><td>NOBS</td><td>Feminino </td><td>0</td><td>0</td><td>1</td><td>0</td><td>1</td><td>0</td><td>0</td><td>0</td><td>0</td><td>0</td><td>0</td><td>0</td><td>2</td><td>1-2</td><td>NOBS_Feminino </td><td>1</td></tr>\n",
       "\t<tr><th scope=row>5</th><td>NOBS</td><td>Masculino</td><td>0</td><td>0</td><td>1</td><td>0</td><td>0</td><td>0</td><td>0</td><td>0</td><td>0</td><td>1</td><td>0</td><td>0</td><td>2</td><td>1-2</td><td>NOBS_Masculino</td><td>0</td></tr>\n",
       "\t<tr><th scope=row>7</th><td>NOBS</td><td>Feminino </td><td>0</td><td>1</td><td>1</td><td>0</td><td>1</td><td>0</td><td>1</td><td>0</td><td>0</td><td>1</td><td>1</td><td>0</td><td>6</td><td>&gt;=5</td><td>NOBS_Feminino </td><td>1</td></tr>\n",
       "\t<tr><th scope=row>8</th><td>OBS </td><td>Masculino</td><td>0</td><td>0</td><td>1</td><td>0</td><td>1</td><td>0</td><td>1</td><td>0</td><td>0</td><td>0</td><td>0</td><td>0</td><td>3</td><td>3-4</td><td>OBS_Masculino </td><td>0</td></tr>\n",
       "\t<tr><th scope=row>9</th><td>NOBS</td><td>Masculino</td><td>0</td><td>1</td><td>1</td><td>0</td><td>0</td><td>0</td><td>0</td><td>0</td><td>0</td><td>0</td><td>0</td><td>0</td><td>2</td><td>1-2</td><td>NOBS_Masculino</td><td>0</td></tr>\n",
       "</tbody>\n",
       "</table>\n"
      ],
      "text/latex": [
       "A data.frame: 6 × 18\n",
       "\\begin{tabular}{r|llllllllllllllllll}\n",
       "  & CONDITION & SEX & CEFALEIA & TOSSE & DISPNEIA & DOR\\_CORPO & FADIGA & DOR\\_TORAC & ANOREXIA & DISFAGIA & DISFONIA & ALT\\_PALADAR & ALT\\_OLFATO & LIM\\_MOTORA & N\\_SINTOMAS & NIVEIS & GROUP & OUT\\\\\n",
       "  & <chr> & <chr> & <int> & <int> & <int> & <int> & <int> & <int> & <int> & <int> & <int> & <int> & <int> & <int> & <int> & <fct> & <chr> & <dbl>\\\\\n",
       "\\hline\n",
       "\t2 & NOBS & Feminino  & 0 & 1 & 1 & 0 & 1 & 0 & 0 & 0 & 0 & 0 & 0 & 1 & 4 & 3-4 & NOBS\\_Feminino  & 1\\\\\n",
       "\t4 & NOBS & Feminino  & 0 & 0 & 1 & 0 & 1 & 0 & 0 & 0 & 0 & 0 & 0 & 0 & 2 & 1-2 & NOBS\\_Feminino  & 1\\\\\n",
       "\t5 & NOBS & Masculino & 0 & 0 & 1 & 0 & 0 & 0 & 0 & 0 & 0 & 1 & 0 & 0 & 2 & 1-2 & NOBS\\_Masculino & 0\\\\\n",
       "\t7 & NOBS & Feminino  & 0 & 1 & 1 & 0 & 1 & 0 & 1 & 0 & 0 & 1 & 1 & 0 & 6 & >=5 & NOBS\\_Feminino  & 1\\\\\n",
       "\t8 & OBS  & Masculino & 0 & 0 & 1 & 0 & 1 & 0 & 1 & 0 & 0 & 0 & 0 & 0 & 3 & 3-4 & OBS\\_Masculino  & 0\\\\\n",
       "\t9 & NOBS & Masculino & 0 & 1 & 1 & 0 & 0 & 0 & 0 & 0 & 0 & 0 & 0 & 0 & 2 & 1-2 & NOBS\\_Masculino & 0\\\\\n",
       "\\end{tabular}\n"
      ],
      "text/markdown": [
       "\n",
       "A data.frame: 6 × 18\n",
       "\n",
       "| <!--/--> | CONDITION &lt;chr&gt; | SEX &lt;chr&gt; | CEFALEIA &lt;int&gt; | TOSSE &lt;int&gt; | DISPNEIA &lt;int&gt; | DOR_CORPO &lt;int&gt; | FADIGA &lt;int&gt; | DOR_TORAC &lt;int&gt; | ANOREXIA &lt;int&gt; | DISFAGIA &lt;int&gt; | DISFONIA &lt;int&gt; | ALT_PALADAR &lt;int&gt; | ALT_OLFATO &lt;int&gt; | LIM_MOTORA &lt;int&gt; | N_SINTOMAS &lt;int&gt; | NIVEIS &lt;fct&gt; | GROUP &lt;chr&gt; | OUT &lt;dbl&gt; |\n",
       "|---|---|---|---|---|---|---|---|---|---|---|---|---|---|---|---|---|---|---|\n",
       "| 2 | NOBS | Feminino  | 0 | 1 | 1 | 0 | 1 | 0 | 0 | 0 | 0 | 0 | 0 | 1 | 4 | 3-4 | NOBS_Feminino  | 1 |\n",
       "| 4 | NOBS | Feminino  | 0 | 0 | 1 | 0 | 1 | 0 | 0 | 0 | 0 | 0 | 0 | 0 | 2 | 1-2 | NOBS_Feminino  | 1 |\n",
       "| 5 | NOBS | Masculino | 0 | 0 | 1 | 0 | 0 | 0 | 0 | 0 | 0 | 1 | 0 | 0 | 2 | 1-2 | NOBS_Masculino | 0 |\n",
       "| 7 | NOBS | Feminino  | 0 | 1 | 1 | 0 | 1 | 0 | 1 | 0 | 0 | 1 | 1 | 0 | 6 | &gt;=5 | NOBS_Feminino  | 1 |\n",
       "| 8 | OBS  | Masculino | 0 | 0 | 1 | 0 | 1 | 0 | 1 | 0 | 0 | 0 | 0 | 0 | 3 | 3-4 | OBS_Masculino  | 0 |\n",
       "| 9 | NOBS | Masculino | 0 | 1 | 1 | 0 | 0 | 0 | 0 | 0 | 0 | 0 | 0 | 0 | 2 | 1-2 | NOBS_Masculino | 0 |\n",
       "\n"
      ],
      "text/plain": [
       "  CONDITION SEX       CEFALEIA TOSSE DISPNEIA DOR_CORPO FADIGA DOR_TORAC\n",
       "2 NOBS      Feminino  0        1     1        0         1      0        \n",
       "4 NOBS      Feminino  0        0     1        0         1      0        \n",
       "5 NOBS      Masculino 0        0     1        0         0      0        \n",
       "7 NOBS      Feminino  0        1     1        0         1      0        \n",
       "8 OBS       Masculino 0        0     1        0         1      0        \n",
       "9 NOBS      Masculino 0        1     1        0         0      0        \n",
       "  ANOREXIA DISFAGIA DISFONIA ALT_PALADAR ALT_OLFATO LIM_MOTORA N_SINTOMAS\n",
       "2 0        0        0        0           0          1          4         \n",
       "4 0        0        0        0           0          0          2         \n",
       "5 0        0        0        1           0          0          2         \n",
       "7 1        0        0        1           1          0          6         \n",
       "8 1        0        0        0           0          0          3         \n",
       "9 0        0        0        0           0          0          2         \n",
       "  NIVEIS GROUP          OUT\n",
       "2 3-4    NOBS_Feminino  1  \n",
       "4 1-2    NOBS_Feminino  1  \n",
       "5 1-2    NOBS_Masculino 0  \n",
       "7 >=5    NOBS_Feminino  1  \n",
       "8 3-4    OBS_Masculino  0  \n",
       "9 1-2    NOBS_Masculino 0  "
      ]
     },
     "metadata": {},
     "output_type": "display_data"
    }
   ],
   "source": [
    "rlog_obs %>%\n",
    "  filter(CONDITION == \"OBS\") %>%\n",
    "  mutate(\n",
    "    GROUP = factor(paste(CONDITION, SEX, sep = \"_\"), levels = c(\"OBS_Masculino\", \"OBS_Feminino\")),\n",
    "    OUT = factor(ifelse(GROUP == \"OBS_Feminino\", 1, 0), levels = c(0,1)),\n",
    "    NIVEIS = factor(NIVEIS, levels = c(\"None\", \"1-2\", \"3-4\", \">=5\")))\n",
    "head(rlog_obs)"
   ]
  },
  {
   "cell_type": "code",
   "execution_count": 8,
   "id": "9a5b091b-2985-4736-a938-469351fd0db1",
   "metadata": {},
   "outputs": [],
   "source": [
    "model <- function(x) {\n",
    "    glm(OUT ~ NIVEIS, data = filter(rlog_obs, CONDITION == x),\n",
    "        family = binomial)\n",
    "    }"
   ]
  },
  {
   "cell_type": "code",
   "execution_count": 9,
   "id": "3f9546b9-2923-4985-a096-2189fd3ce5e4",
   "metadata": {},
   "outputs": [
    {
     "data": {
      "text/plain": [
       "\n",
       "Call:  glm(formula = OUT ~ NIVEIS, family = binomial, data = filter(rlog_obs, \n",
       "    CONDITION == x))\n",
       "\n",
       "Coefficients:\n",
       "(Intercept)    NIVEIS1-2    NIVEIS3-4    NIVEIS>=5  \n",
       "    -0.6931       0.1431       0.9163       1.9076  \n",
       "\n",
       "Degrees of Freedom: 174 Total (i.e. Null);  171 Residual\n",
       "Null Deviance:\t    236.3 \n",
       "Residual Deviance: 211.7 \tAIC: 219.7"
      ]
     },
     "metadata": {},
     "output_type": "display_data"
    },
    {
     "data": {
      "text/plain": [
       "\n",
       "Call:\n",
       "glm(formula = OUT ~ NIVEIS, family = binomial, data = filter(rlog_obs, \n",
       "    CONDITION == x))\n",
       "\n",
       "Coefficients:\n",
       "            Estimate Std. Error z value Pr(>|z|)   \n",
       "(Intercept)  -0.6931     0.5477  -1.266  0.20569   \n",
       "NIVEIS1-2     0.1431     0.6365   0.225  0.82211   \n",
       "NIVEIS3-4     0.9163     0.6423   1.427  0.15368   \n",
       "NIVEIS>=5     1.9076     0.6068   3.143  0.00167 **\n",
       "---\n",
       "Signif. codes:  0 ‘***’ 0.001 ‘**’ 0.01 ‘*’ 0.05 ‘.’ 0.1 ‘ ’ 1\n",
       "\n",
       "(Dispersion parameter for binomial family taken to be 1)\n",
       "\n",
       "    Null deviance: 236.34  on 174  degrees of freedom\n",
       "Residual deviance: 211.71  on 171  degrees of freedom\n",
       "AIC: 219.71\n",
       "\n",
       "Number of Fisher Scoring iterations: 4\n"
      ]
     },
     "metadata": {},
     "output_type": "display_data"
    }
   ],
   "source": [
    "model_obs <- model(\"OBS\")\n",
    "model_obs\n",
    "summary(model_obs)"
   ]
  },
  {
   "cell_type": "code",
   "execution_count": 10,
   "id": "e5c62ce3-ecc0-4afb-96e9-411798b4f140",
   "metadata": {},
   "outputs": [
    {
     "data": {
      "text/html": [
       "0.500023590836483"
      ],
      "text/latex": [
       "0.500023590836483"
      ],
      "text/markdown": [
       "0.500023590836483"
      ],
      "text/plain": [
       "[1] 0.5000236"
      ]
     },
     "metadata": {},
     "output_type": "display_data"
    }
   ],
   "source": [
    "exp(-0.6931)"
   ]
  },
  {
   "cell_type": "code",
   "execution_count": 11,
   "id": "e8da60a7-03ba-4f67-aac0-29af16b04fac",
   "metadata": {},
   "outputs": [
    {
     "data": {
      "text/plain": [
       "\n",
       "Call:  glm(formula = OUT ~ NIVEIS, family = binomial, data = filter(rlog_obs, \n",
       "    CONDITION == x))\n",
       "\n",
       "Coefficients:\n",
       "(Intercept)    NIVEIS1-2    NIVEIS3-4    NIVEIS>=5  \n",
       "    -0.5878       0.2575       0.6809       1.2579  \n",
       "\n",
       "Degrees of Freedom: 219 Total (i.e. Null);  216 Residual\n",
       "Null Deviance:\t    304.3 \n",
       "Residual Deviance: 295.3 \tAIC: 303.3"
      ]
     },
     "metadata": {},
     "output_type": "display_data"
    },
    {
     "data": {
      "text/plain": [
       "\n",
       "Call:\n",
       "glm(formula = OUT ~ NIVEIS, family = binomial, data = filter(rlog_obs, \n",
       "    CONDITION == x))\n",
       "\n",
       "Coefficients:\n",
       "            Estimate Std. Error z value Pr(>|z|)  \n",
       "(Intercept)  -0.5878     0.5578  -1.054   0.2920  \n",
       "NIVEIS1-2     0.2575     0.6212   0.415   0.6784  \n",
       "NIVEIS3-4     0.6809     0.5981   1.138   0.2550  \n",
       "NIVEIS>=5     1.2579     0.6163   2.041   0.0412 *\n",
       "---\n",
       "Signif. codes:  0 ‘***’ 0.001 ‘**’ 0.01 ‘*’ 0.05 ‘.’ 0.1 ‘ ’ 1\n",
       "\n",
       "(Dispersion parameter for binomial family taken to be 1)\n",
       "\n",
       "    Null deviance: 304.33  on 219  degrees of freedom\n",
       "Residual deviance: 295.25  on 216  degrees of freedom\n",
       "AIC: 303.25\n",
       "\n",
       "Number of Fisher Scoring iterations: 4\n"
      ]
     },
     "metadata": {},
     "output_type": "display_data"
    }
   ],
   "source": [
    "model_nobs <- model(\"NOBS\")\n",
    "model_nobs\n",
    "summary(model_nobs)"
   ]
  },
  {
   "cell_type": "code",
   "execution_count": 12,
   "id": "8205ddd6-56b2-442b-965f-cbb25d1f370f",
   "metadata": {},
   "outputs": [
    {
     "data": {
      "text/html": [
       "3.49034295746184"
      ],
      "text/latex": [
       "3.49034295746184"
      ],
      "text/markdown": [
       "3.49034295746184"
      ],
      "text/plain": [
       "[1] 3.490343"
      ]
     },
     "metadata": {},
     "output_type": "display_data"
    }
   ],
   "source": [
    "exp(1.25)"
   ]
  },
  {
   "cell_type": "code",
   "execution_count": 13,
   "id": "13497f9f-b70c-4c2e-a50c-e3c592b4ed1b",
   "metadata": {},
   "outputs": [],
   "source": [
    "extract_OR <- function(model) {\n",
    "    tidy(model, conf.int = TRUE, exponentiate = TRUE) %>%\n",
    "    filter(term != \"(Intercept)\")\n",
    "    }"
   ]
  },
  {
   "cell_type": "code",
   "execution_count": 14,
   "id": "78669838-a81c-45cb-9180-ae96a487e8eb",
   "metadata": {},
   "outputs": [
    {
     "data": {
      "text/html": [
       "<table class=\"dataframe\">\n",
       "<caption>A tibble: 3 × 7</caption>\n",
       "<thead>\n",
       "\t<tr><th scope=col>term</th><th scope=col>estimate</th><th scope=col>std.error</th><th scope=col>statistic</th><th scope=col>p.value</th><th scope=col>conf.low</th><th scope=col>conf.high</th></tr>\n",
       "\t<tr><th scope=col>&lt;chr&gt;</th><th scope=col>&lt;dbl&gt;</th><th scope=col>&lt;dbl&gt;</th><th scope=col>&lt;dbl&gt;</th><th scope=col>&lt;dbl&gt;</th><th scope=col>&lt;dbl&gt;</th><th scope=col>&lt;dbl&gt;</th></tr>\n",
       "</thead>\n",
       "<tbody>\n",
       "\t<tr><td>NIVEIS1-2</td><td>1.153846</td><td>0.6364967</td><td>0.2248257</td><td>0.822114846</td><td>0.3397558</td><td> 4.288767</td></tr>\n",
       "\t<tr><td>NIVEIS3-4</td><td>2.500000</td><td>0.6422615</td><td>1.4266629</td><td>0.153677077</td><td>0.7330114</td><td> 9.437732</td></tr>\n",
       "\t<tr><td>NIVEIS&gt;=5</td><td>6.736842</td><td>0.6068413</td><td>3.1434763</td><td>0.001669539</td><td>2.1295773</td><td>23.957595</td></tr>\n",
       "</tbody>\n",
       "</table>\n"
      ],
      "text/latex": [
       "A tibble: 3 × 7\n",
       "\\begin{tabular}{lllllll}\n",
       " term & estimate & std.error & statistic & p.value & conf.low & conf.high\\\\\n",
       " <chr> & <dbl> & <dbl> & <dbl> & <dbl> & <dbl> & <dbl>\\\\\n",
       "\\hline\n",
       "\t NIVEIS1-2 & 1.153846 & 0.6364967 & 0.2248257 & 0.822114846 & 0.3397558 &  4.288767\\\\\n",
       "\t NIVEIS3-4 & 2.500000 & 0.6422615 & 1.4266629 & 0.153677077 & 0.7330114 &  9.437732\\\\\n",
       "\t NIVEIS>=5 & 6.736842 & 0.6068413 & 3.1434763 & 0.001669539 & 2.1295773 & 23.957595\\\\\n",
       "\\end{tabular}\n"
      ],
      "text/markdown": [
       "\n",
       "A tibble: 3 × 7\n",
       "\n",
       "| term &lt;chr&gt; | estimate &lt;dbl&gt; | std.error &lt;dbl&gt; | statistic &lt;dbl&gt; | p.value &lt;dbl&gt; | conf.low &lt;dbl&gt; | conf.high &lt;dbl&gt; |\n",
       "|---|---|---|---|---|---|---|\n",
       "| NIVEIS1-2 | 1.153846 | 0.6364967 | 0.2248257 | 0.822114846 | 0.3397558 |  4.288767 |\n",
       "| NIVEIS3-4 | 2.500000 | 0.6422615 | 1.4266629 | 0.153677077 | 0.7330114 |  9.437732 |\n",
       "| NIVEIS&gt;=5 | 6.736842 | 0.6068413 | 3.1434763 | 0.001669539 | 2.1295773 | 23.957595 |\n",
       "\n"
      ],
      "text/plain": [
       "  term      estimate std.error statistic p.value     conf.low  conf.high\n",
       "1 NIVEIS1-2 1.153846 0.6364967 0.2248257 0.822114846 0.3397558  4.288767\n",
       "2 NIVEIS3-4 2.500000 0.6422615 1.4266629 0.153677077 0.7330114  9.437732\n",
       "3 NIVEIS>=5 6.736842 0.6068413 3.1434763 0.001669539 2.1295773 23.957595"
      ]
     },
     "metadata": {},
     "output_type": "display_data"
    }
   ],
   "source": [
    "extract_OR(model_obs)"
   ]
  },
  {
   "cell_type": "code",
   "execution_count": 15,
   "id": "a37beb65-4c7c-47b9-9e86-850b51d6ecb4",
   "metadata": {},
   "outputs": [],
   "source": [
    "res_obs <- extract_OR(model_obs)\n",
    "res_nobs <- extract_OR(model_nobs)"
   ]
  },
  {
   "cell_type": "code",
   "execution_count": 16,
   "id": "6d2066d3-8257-44fa-8a23-16961d693dd1",
   "metadata": {},
   "outputs": [
    {
     "data": {
      "text/html": [
       "<table class=\"dataframe\">\n",
       "<caption>A tibble: 6 × 10</caption>\n",
       "<thead>\n",
       "\t<tr><th scope=col>term</th><th scope=col>OR</th><th scope=col>std.error</th><th scope=col>statistic</th><th scope=col>p.value</th><th scope=col>CI_low</th><th scope=col>CI_high</th><th scope=col>Condition</th><th scope=col>Timepoint</th><th scope=col>Variable</th></tr>\n",
       "\t<tr><th scope=col>&lt;chr&gt;</th><th scope=col>&lt;dbl&gt;</th><th scope=col>&lt;dbl&gt;</th><th scope=col>&lt;dbl&gt;</th><th scope=col>&lt;dbl&gt;</th><th scope=col>&lt;dbl&gt;</th><th scope=col>&lt;dbl&gt;</th><th scope=col>&lt;chr&gt;</th><th scope=col>&lt;chr&gt;</th><th scope=col>&lt;chr&gt;</th></tr>\n",
       "</thead>\n",
       "<tbody>\n",
       "\t<tr><td>Levels: 1-2</td><td>1.293750</td><td>0.6211597</td><td>0.4146196</td><td>0.678420390</td><td>0.3924375</td><td> 4.681626</td><td>NOBS</td><td>Long COVID</td><td>Symptoms Levels</td></tr>\n",
       "\t<tr><td>Levels: 3-4</td><td>1.975610</td><td>0.5980999</td><td>1.1384002</td><td>0.254953410</td><td>0.6291190</td><td> 6.880537</td><td>NOBS</td><td>Long COVID</td><td>Symptoms Levels</td></tr>\n",
       "\t<tr><td>Levels: &gt;=5</td><td>3.518182</td><td>0.6162965</td><td>2.0411349</td><td>0.041237423</td><td>1.0824457</td><td>12.665148</td><td>NOBS</td><td>Long COVID</td><td>Symptoms Levels</td></tr>\n",
       "\t<tr><td>Levels: 1-2</td><td>1.153846</td><td>0.6364967</td><td>0.2248257</td><td>0.822114846</td><td>0.3397558</td><td> 4.288767</td><td>OBS </td><td>Long COVID</td><td>Symptoms Levels</td></tr>\n",
       "\t<tr><td>Levels: 3-4</td><td>2.500000</td><td>0.6422615</td><td>1.4266629</td><td>0.153677077</td><td>0.7330114</td><td> 9.437732</td><td>OBS </td><td>Long COVID</td><td>Symptoms Levels</td></tr>\n",
       "\t<tr><td>Levels: &gt;=5</td><td>6.736842</td><td>0.6068413</td><td>3.1434763</td><td>0.001669539</td><td>2.1295773</td><td>23.957595</td><td>OBS </td><td>Long COVID</td><td>Symptoms Levels</td></tr>\n",
       "</tbody>\n",
       "</table>\n"
      ],
      "text/latex": [
       "A tibble: 6 × 10\n",
       "\\begin{tabular}{llllllllll}\n",
       " term & OR & std.error & statistic & p.value & CI\\_low & CI\\_high & Condition & Timepoint & Variable\\\\\n",
       " <chr> & <dbl> & <dbl> & <dbl> & <dbl> & <dbl> & <dbl> & <chr> & <chr> & <chr>\\\\\n",
       "\\hline\n",
       "\t Levels: 1-2 & 1.293750 & 0.6211597 & 0.4146196 & 0.678420390 & 0.3924375 &  4.681626 & NOBS & Long COVID & Symptoms Levels\\\\\n",
       "\t Levels: 3-4 & 1.975610 & 0.5980999 & 1.1384002 & 0.254953410 & 0.6291190 &  6.880537 & NOBS & Long COVID & Symptoms Levels\\\\\n",
       "\t Levels: >=5 & 3.518182 & 0.6162965 & 2.0411349 & 0.041237423 & 1.0824457 & 12.665148 & NOBS & Long COVID & Symptoms Levels\\\\\n",
       "\t Levels: 1-2 & 1.153846 & 0.6364967 & 0.2248257 & 0.822114846 & 0.3397558 &  4.288767 & OBS  & Long COVID & Symptoms Levels\\\\\n",
       "\t Levels: 3-4 & 2.500000 & 0.6422615 & 1.4266629 & 0.153677077 & 0.7330114 &  9.437732 & OBS  & Long COVID & Symptoms Levels\\\\\n",
       "\t Levels: >=5 & 6.736842 & 0.6068413 & 3.1434763 & 0.001669539 & 2.1295773 & 23.957595 & OBS  & Long COVID & Symptoms Levels\\\\\n",
       "\\end{tabular}\n"
      ],
      "text/markdown": [
       "\n",
       "A tibble: 6 × 10\n",
       "\n",
       "| term &lt;chr&gt; | OR &lt;dbl&gt; | std.error &lt;dbl&gt; | statistic &lt;dbl&gt; | p.value &lt;dbl&gt; | CI_low &lt;dbl&gt; | CI_high &lt;dbl&gt; | Condition &lt;chr&gt; | Timepoint &lt;chr&gt; | Variable &lt;chr&gt; |\n",
       "|---|---|---|---|---|---|---|---|---|---|\n",
       "| Levels: 1-2 | 1.293750 | 0.6211597 | 0.4146196 | 0.678420390 | 0.3924375 |  4.681626 | NOBS | Long COVID | Symptoms Levels |\n",
       "| Levels: 3-4 | 1.975610 | 0.5980999 | 1.1384002 | 0.254953410 | 0.6291190 |  6.880537 | NOBS | Long COVID | Symptoms Levels |\n",
       "| Levels: &gt;=5 | 3.518182 | 0.6162965 | 2.0411349 | 0.041237423 | 1.0824457 | 12.665148 | NOBS | Long COVID | Symptoms Levels |\n",
       "| Levels: 1-2 | 1.153846 | 0.6364967 | 0.2248257 | 0.822114846 | 0.3397558 |  4.288767 | OBS  | Long COVID | Symptoms Levels |\n",
       "| Levels: 3-4 | 2.500000 | 0.6422615 | 1.4266629 | 0.153677077 | 0.7330114 |  9.437732 | OBS  | Long COVID | Symptoms Levels |\n",
       "| Levels: &gt;=5 | 6.736842 | 0.6068413 | 3.1434763 | 0.001669539 | 2.1295773 | 23.957595 | OBS  | Long COVID | Symptoms Levels |\n",
       "\n"
      ],
      "text/plain": [
       "  term        OR       std.error statistic p.value     CI_low    CI_high  \n",
       "1 Levels: 1-2 1.293750 0.6211597 0.4146196 0.678420390 0.3924375  4.681626\n",
       "2 Levels: 3-4 1.975610 0.5980999 1.1384002 0.254953410 0.6291190  6.880537\n",
       "3 Levels: >=5 3.518182 0.6162965 2.0411349 0.041237423 1.0824457 12.665148\n",
       "4 Levels: 1-2 1.153846 0.6364967 0.2248257 0.822114846 0.3397558  4.288767\n",
       "5 Levels: 3-4 2.500000 0.6422615 1.4266629 0.153677077 0.7330114  9.437732\n",
       "6 Levels: >=5 6.736842 0.6068413 3.1434763 0.001669539 2.1295773 23.957595\n",
       "  Condition Timepoint  Variable       \n",
       "1 NOBS      Long COVID Symptoms Levels\n",
       "2 NOBS      Long COVID Symptoms Levels\n",
       "3 NOBS      Long COVID Symptoms Levels\n",
       "4 OBS       Long COVID Symptoms Levels\n",
       "5 OBS       Long COVID Symptoms Levels\n",
       "6 OBS       Long COVID Symptoms Levels"
      ]
     },
     "metadata": {},
     "output_type": "display_data"
    }
   ],
   "source": [
    "results <- bind_rows(res_nobs,res_obs) %>%\n",
    "    mutate(\n",
    "        term = gsub(\"NIVEIS\", \"Levels: \", term),\n",
    "    Condition = rep(c(\"NOBS\", \"OBS\"), each = 3),\n",
    "    Timepoint = \"Long COVID\",\n",
    "    Variable = \"Symptoms Levels\") %>%\n",
    "    rename(OR = estimate, CI_low = conf.low, CI_high = conf.high)\n",
    "head(results)"
   ]
  },
  {
   "cell_type": "code",
   "execution_count": 17,
   "id": "3249bd0a-a482-4b03-98f6-72923e93f011",
   "metadata": {},
   "outputs": [
    {
     "data": {
      "image/png": "[encoded data removed]",
      "text/plain": [
       "plot without title"
      ]
     },
     "metadata": {
      "image/png": {
       "height": 420,
       "width": 420
      }
     },
     "output_type": "display_data"
    }
   ],
   "source": [
    "ggplot(results, aes(x = OR, y = fct_rev(term), color = Condition)) +\n",
    "  geom_point(position = position_dodge(width = 0.5), size = 2.5) +\n",
    "  geom_errorbarh(aes(xmin = CI_low, xmax = CI_high),\n",
    "                 position = position_dodge(width = 0.5),\n",
    "                 height = 0.2) +\n",
    "  geom_vline(xintercept = 1, linetype = \"dashed\", color = \"gray30\") + \n",
    "  scale_x_log10(breaks = c(0.3, 1, 2, 5, 10, 15), limits = c(0.3, 50)) +\n",
    "  scale_color_manual(values = c(\"OBS\" = \"#9F1C20\", \"NOBS\" = \"#9F9FA3\")) +\n",
    "  theme_minimal() +\n",
    "  labs(\n",
    "    x = \"Adjusted odds ratio (95% CI)\",\n",
    "    y = NULL,\n",
    "    color = NULL\n",
    "  ) +\n",
    "  theme_minimal(base_size = 14) +\n",
    "  theme(\n",
    "    axis.text.y = element_text(size = 14, color = \"black\", hjust = 0),\n",
    "    axis.text.x = element_text(size = 12, color = \"black\"),\n",
    "    legend.position = \"bottom\",\n",
    "    panel.grid.major = element_blank(),\n",
    "    panel.grid.minor = element_blank() \n",
    "  )"
   ]
  },
  {
   "cell_type": "markdown",
   "id": "032aac07-bbae-44e0-8e5f-85b231b20258",
   "metadata": {},
   "source": [
    "# Return (3-Months)"
   ]
  },
  {
   "cell_type": "code",
   "execution_count": 18,
   "id": "0e3ee89b-9037-4f95-b6b9-33fdd8f52060",
   "metadata": {},
   "outputs": [
    {
     "data": {
      "text/html": [
       "<table class=\"dataframe\">\n",
       "<caption>A data.frame: 6 × 23</caption>\n",
       "<thead>\n",
       "\t<tr><th></th><th scope=col>ID</th><th scope=col>COVIDEO</th><th scope=col>CONDITION</th><th scope=col>IMC</th><th scope=col>AGE</th><th scope=col>SEX</th><th scope=col>ETNIA</th><th scope=col>EVENT</th><th scope=col>SEVERITY</th><th scope=col>CEFALEIA</th><th scope=col>⋯</th><th scope=col>ALT_OLFATO</th><th scope=col>ALT_PALADAR</th><th scope=col>FADIGA</th><th scope=col>DOR_TORAC</th><th scope=col>ANOREXIA</th><th scope=col>DISFAGIA</th><th scope=col>DISFONIA</th><th scope=col>N_SINTOMAS</th><th scope=col>SCORE_SAUDE</th><th scope=col>PCR</th></tr>\n",
       "\t<tr><th></th><th scope=col>&lt;int&gt;</th><th scope=col>&lt;int&gt;</th><th scope=col>&lt;chr&gt;</th><th scope=col>&lt;dbl&gt;</th><th scope=col>&lt;dbl&gt;</th><th scope=col>&lt;chr&gt;</th><th scope=col>&lt;chr&gt;</th><th scope=col>&lt;chr&gt;</th><th scope=col>&lt;chr&gt;</th><th scope=col>&lt;int&gt;</th><th scope=col>⋯</th><th scope=col>&lt;int&gt;</th><th scope=col>&lt;int&gt;</th><th scope=col>&lt;int&gt;</th><th scope=col>&lt;int&gt;</th><th scope=col>&lt;int&gt;</th><th scope=col>&lt;int&gt;</th><th scope=col>&lt;int&gt;</th><th scope=col>&lt;int&gt;</th><th scope=col>&lt;int&gt;</th><th scope=col>&lt;dbl&gt;</th></tr>\n",
       "</thead>\n",
       "<tbody>\n",
       "\t<tr><th scope=row>1</th><td> 29</td><td> 29</td><td>NOBS</td><td>28.71</td><td>72.8</td><td>Masculino</td><td>Preta    </td><td>Retorno 3 Meses</td><td>Grave   </td><td> 0</td><td>⋯</td><td> 0</td><td> 0</td><td> 0</td><td> 1</td><td> 0</td><td> 0</td><td> 0</td><td>2</td><td> 50</td><td> 5</td></tr>\n",
       "\t<tr><th scope=row>2</th><td> 85</td><td> 85</td><td>NOBS</td><td>25.22</td><td>82.9</td><td>Feminino </td><td>Parda    </td><td>Retorno 3 Meses</td><td>Grave   </td><td>NA</td><td>⋯</td><td>NA</td><td>NA</td><td>NA</td><td>NA</td><td>NA</td><td>NA</td><td>NA</td><td>0</td><td> NA</td><td> 5</td></tr>\n",
       "\t<tr><th scope=row>3</th><td>339</td><td>339</td><td>OBS </td><td>33.27</td><td>51.1</td><td>Feminino </td><td>Parda    </td><td>Retorno 3 Meses</td><td>Grave   </td><td> 1</td><td>⋯</td><td> 1</td><td> 1</td><td> 1</td><td> 1</td><td> 1</td><td> 0</td><td> 0</td><td>8</td><td> 60</td><td>61</td></tr>\n",
       "\t<tr><th scope=row>4</th><td>397</td><td>397</td><td>NOBS</td><td>27.85</td><td>69.8</td><td>Feminino </td><td>Preta    </td><td>Retorno 3 Meses</td><td>Moderado</td><td> 0</td><td>⋯</td><td> 0</td><td> 0</td><td> 0</td><td> 0</td><td> 0</td><td> 0</td><td> 0</td><td>0</td><td> 90</td><td> 5</td></tr>\n",
       "\t<tr><th scope=row>5</th><td>447</td><td>447</td><td>NOBS</td><td>29.76</td><td>52.9</td><td>Masculino</td><td>Preta    </td><td>Retorno 3 Meses</td><td>Grave   </td><td> 1</td><td>⋯</td><td> 0</td><td> 0</td><td> 1</td><td> 1</td><td> 0</td><td> 0</td><td> 0</td><td>4</td><td>100</td><td>NA</td></tr>\n",
       "\t<tr><th scope=row>6</th><td>642</td><td>642</td><td>OBS </td><td>30.39</td><td>57.6</td><td>Feminino </td><td>Preta    </td><td>Retorno 3 Meses</td><td>Grave   </td><td> 1</td><td>⋯</td><td> 0</td><td> 0</td><td> 1</td><td> 0</td><td> 1</td><td> 0</td><td> 0</td><td>4</td><td> 50</td><td>17</td></tr>\n",
       "</tbody>\n",
       "</table>\n"
      ],
      "text/latex": [
       "A data.frame: 6 × 23\n",
       "\\begin{tabular}{r|lllllllllllllllllllll}\n",
       "  & ID & COVIDEO & CONDITION & IMC & AGE & SEX & ETNIA & EVENT & SEVERITY & CEFALEIA & ⋯ & ALT\\_OLFATO & ALT\\_PALADAR & FADIGA & DOR\\_TORAC & ANOREXIA & DISFAGIA & DISFONIA & N\\_SINTOMAS & SCORE\\_SAUDE & PCR\\\\\n",
       "  & <int> & <int> & <chr> & <dbl> & <dbl> & <chr> & <chr> & <chr> & <chr> & <int> & ⋯ & <int> & <int> & <int> & <int> & <int> & <int> & <int> & <int> & <int> & <dbl>\\\\\n",
       "\\hline\n",
       "\t1 &  29 &  29 & NOBS & 28.71 & 72.8 & Masculino & Preta     & Retorno 3 Meses & Grave    &  0 & ⋯ &  0 &  0 &  0 &  1 &  0 &  0 &  0 & 2 &  50 &  5\\\\\n",
       "\t2 &  85 &  85 & NOBS & 25.22 & 82.9 & Feminino  & Parda     & Retorno 3 Meses & Grave    & NA & ⋯ & NA & NA & NA & NA & NA & NA & NA & 0 &  NA &  5\\\\\n",
       "\t3 & 339 & 339 & OBS  & 33.27 & 51.1 & Feminino  & Parda     & Retorno 3 Meses & Grave    &  1 & ⋯ &  1 &  1 &  1 &  1 &  1 &  0 &  0 & 8 &  60 & 61\\\\\n",
       "\t4 & 397 & 397 & NOBS & 27.85 & 69.8 & Feminino  & Preta     & Retorno 3 Meses & Moderado &  0 & ⋯ &  0 &  0 &  0 &  0 &  0 &  0 &  0 & 0 &  90 &  5\\\\\n",
       "\t5 & 447 & 447 & NOBS & 29.76 & 52.9 & Masculino & Preta     & Retorno 3 Meses & Grave    &  1 & ⋯ &  0 &  0 &  1 &  1 &  0 &  0 &  0 & 4 & 100 & NA\\\\\n",
       "\t6 & 642 & 642 & OBS  & 30.39 & 57.6 & Feminino  & Preta     & Retorno 3 Meses & Grave    &  1 & ⋯ &  0 &  0 &  1 &  0 &  1 &  0 &  0 & 4 &  50 & 17\\\\\n",
       "\\end{tabular}\n"
      ],
      "text/markdown": [
       "\n",
       "A data.frame: 6 × 23\n",
       "\n",
       "| <!--/--> | ID &lt;int&gt; | COVIDEO &lt;int&gt; | CONDITION &lt;chr&gt; | IMC &lt;dbl&gt; | AGE &lt;dbl&gt; | SEX &lt;chr&gt; | ETNIA &lt;chr&gt; | EVENT &lt;chr&gt; | SEVERITY &lt;chr&gt; | CEFALEIA &lt;int&gt; | ⋯ ⋯ | ALT_OLFATO &lt;int&gt; | ALT_PALADAR &lt;int&gt; | FADIGA &lt;int&gt; | DOR_TORAC &lt;int&gt; | ANOREXIA &lt;int&gt; | DISFAGIA &lt;int&gt; | DISFONIA &lt;int&gt; | N_SINTOMAS &lt;int&gt; | SCORE_SAUDE &lt;int&gt; | PCR &lt;dbl&gt; |\n",
       "|---|---|---|---|---|---|---|---|---|---|---|---|---|---|---|---|---|---|---|---|---|---|\n",
       "| 1 |  29 |  29 | NOBS | 28.71 | 72.8 | Masculino | Preta     | Retorno 3 Meses | Grave    |  0 | ⋯ |  0 |  0 |  0 |  1 |  0 |  0 |  0 | 2 |  50 |  5 |\n",
       "| 2 |  85 |  85 | NOBS | 25.22 | 82.9 | Feminino  | Parda     | Retorno 3 Meses | Grave    | NA | ⋯ | NA | NA | NA | NA | NA | NA | NA | 0 |  NA |  5 |\n",
       "| 3 | 339 | 339 | OBS  | 33.27 | 51.1 | Feminino  | Parda     | Retorno 3 Meses | Grave    |  1 | ⋯ |  1 |  1 |  1 |  1 |  1 |  0 |  0 | 8 |  60 | 61 |\n",
       "| 4 | 397 | 397 | NOBS | 27.85 | 69.8 | Feminino  | Preta     | Retorno 3 Meses | Moderado |  0 | ⋯ |  0 |  0 |  0 |  0 |  0 |  0 |  0 | 0 |  90 |  5 |\n",
       "| 5 | 447 | 447 | NOBS | 29.76 | 52.9 | Masculino | Preta     | Retorno 3 Meses | Grave    |  1 | ⋯ |  0 |  0 |  1 |  1 |  0 |  0 |  0 | 4 | 100 | NA |\n",
       "| 6 | 642 | 642 | OBS  | 30.39 | 57.6 | Feminino  | Preta     | Retorno 3 Meses | Grave    |  1 | ⋯ |  0 |  0 |  1 |  0 |  1 |  0 |  0 | 4 |  50 | 17 |\n",
       "\n"
      ],
      "text/plain": [
       "  ID  COVIDEO CONDITION IMC   AGE  SEX       ETNIA     EVENT           SEVERITY\n",
       "1  29  29     NOBS      28.71 72.8 Masculino Preta     Retorno 3 Meses Grave   \n",
       "2  85  85     NOBS      25.22 82.9 Feminino  Parda     Retorno 3 Meses Grave   \n",
       "3 339 339     OBS       33.27 51.1 Feminino  Parda     Retorno 3 Meses Grave   \n",
       "4 397 397     NOBS      27.85 69.8 Feminino  Preta     Retorno 3 Meses Moderado\n",
       "5 447 447     NOBS      29.76 52.9 Masculino Preta     Retorno 3 Meses Grave   \n",
       "6 642 642     OBS       30.39 57.6 Feminino  Preta     Retorno 3 Meses Grave   \n",
       "  CEFALEIA ⋯ ALT_OLFATO ALT_PALADAR FADIGA DOR_TORAC ANOREXIA DISFAGIA DISFONIA\n",
       "1  0       ⋯  0          0           0      1         0        0        0      \n",
       "2 NA       ⋯ NA         NA          NA     NA        NA       NA       NA      \n",
       "3  1       ⋯  1          1           1      1         1        0        0      \n",
       "4  0       ⋯  0          0           0      0         0        0        0      \n",
       "5  1       ⋯  0          0           1      1         0        0        0      \n",
       "6  1       ⋯  0          0           1      0         1        0        0      \n",
       "  N_SINTOMAS SCORE_SAUDE PCR\n",
       "1 2           50          5 \n",
       "2 0           NA          5 \n",
       "3 8           60         61 \n",
       "4 0           90          5 \n",
       "5 4          100         NA \n",
       "6 4           50         17 "
      ]
     },
     "metadata": {},
     "output_type": "display_data"
    }
   ],
   "source": [
    "raw_obs_rtn <- read.csv2(\"../../DATA/new_table_obs_return.csv\", header = TRUE, sep = \";\")\n",
    "head(raw_obs_rtn)"
   ]
  },
  {
   "cell_type": "code",
   "execution_count": 19,
   "id": "3f774fb2-c797-4441-8ad2-4e1a8b225f0d",
   "metadata": {},
   "outputs": [
    {
     "data": {
      "text/html": [
       "<table class=\"dataframe\">\n",
       "<caption>A data.frame: 6 × 15</caption>\n",
       "<thead>\n",
       "\t<tr><th></th><th scope=col>CONDITION</th><th scope=col>SEX</th><th scope=col>CEFALEIA</th><th scope=col>TOSSE</th><th scope=col>DOR_CORPO</th><th scope=col>DISPNEIA</th><th scope=col>ALT_OLFATO</th><th scope=col>ALT_PALADAR</th><th scope=col>FADIGA</th><th scope=col>DOR_TORAC</th><th scope=col>ANOREXIA</th><th scope=col>DISFAGIA</th><th scope=col>DISFONIA</th><th scope=col>N_SINTOMAS</th><th scope=col>NIVEIS</th></tr>\n",
       "\t<tr><th></th><th scope=col>&lt;chr&gt;</th><th scope=col>&lt;chr&gt;</th><th scope=col>&lt;int&gt;</th><th scope=col>&lt;int&gt;</th><th scope=col>&lt;int&gt;</th><th scope=col>&lt;int&gt;</th><th scope=col>&lt;int&gt;</th><th scope=col>&lt;int&gt;</th><th scope=col>&lt;int&gt;</th><th scope=col>&lt;int&gt;</th><th scope=col>&lt;int&gt;</th><th scope=col>&lt;int&gt;</th><th scope=col>&lt;int&gt;</th><th scope=col>&lt;int&gt;</th><th scope=col>&lt;chr&gt;</th></tr>\n",
       "</thead>\n",
       "<tbody>\n",
       "\t<tr><th scope=row>1</th><td>NOBS</td><td>Masculino</td><td>0</td><td>0</td><td>0</td><td>1</td><td>0</td><td>0</td><td>0</td><td>1</td><td>0</td><td>0</td><td>0</td><td>2</td><td>1-2 </td></tr>\n",
       "\t<tr><th scope=row>3</th><td>OBS </td><td>Feminino </td><td>1</td><td>1</td><td>1</td><td>0</td><td>1</td><td>1</td><td>1</td><td>1</td><td>1</td><td>0</td><td>0</td><td>8</td><td>&gt;=5 </td></tr>\n",
       "\t<tr><th scope=row>4</th><td>NOBS</td><td>Feminino </td><td>0</td><td>0</td><td>0</td><td>0</td><td>0</td><td>0</td><td>0</td><td>0</td><td>0</td><td>0</td><td>0</td><td>0</td><td>None</td></tr>\n",
       "\t<tr><th scope=row>5</th><td>NOBS</td><td>Masculino</td><td>1</td><td>0</td><td>1</td><td>0</td><td>0</td><td>0</td><td>1</td><td>1</td><td>0</td><td>0</td><td>0</td><td>4</td><td>3-4 </td></tr>\n",
       "\t<tr><th scope=row>6</th><td>OBS </td><td>Feminino </td><td>1</td><td>0</td><td>1</td><td>0</td><td>0</td><td>0</td><td>1</td><td>0</td><td>1</td><td>0</td><td>0</td><td>4</td><td>3-4 </td></tr>\n",
       "\t<tr><th scope=row>7</th><td>NOBS</td><td>Feminino </td><td>0</td><td>1</td><td>0</td><td>1</td><td>1</td><td>1</td><td>0</td><td>0</td><td>0</td><td>0</td><td>0</td><td>4</td><td>3-4 </td></tr>\n",
       "</tbody>\n",
       "</table>\n"
      ],
      "text/latex": [
       "A data.frame: 6 × 15\n",
       "\\begin{tabular}{r|lllllllllllllll}\n",
       "  & CONDITION & SEX & CEFALEIA & TOSSE & DOR\\_CORPO & DISPNEIA & ALT\\_OLFATO & ALT\\_PALADAR & FADIGA & DOR\\_TORAC & ANOREXIA & DISFAGIA & DISFONIA & N\\_SINTOMAS & NIVEIS\\\\\n",
       "  & <chr> & <chr> & <int> & <int> & <int> & <int> & <int> & <int> & <int> & <int> & <int> & <int> & <int> & <int> & <chr>\\\\\n",
       "\\hline\n",
       "\t1 & NOBS & Masculino & 0 & 0 & 0 & 1 & 0 & 0 & 0 & 1 & 0 & 0 & 0 & 2 & 1-2 \\\\\n",
       "\t3 & OBS  & Feminino  & 1 & 1 & 1 & 0 & 1 & 1 & 1 & 1 & 1 & 0 & 0 & 8 & >=5 \\\\\n",
       "\t4 & NOBS & Feminino  & 0 & 0 & 0 & 0 & 0 & 0 & 0 & 0 & 0 & 0 & 0 & 0 & None\\\\\n",
       "\t5 & NOBS & Masculino & 1 & 0 & 1 & 0 & 0 & 0 & 1 & 1 & 0 & 0 & 0 & 4 & 3-4 \\\\\n",
       "\t6 & OBS  & Feminino  & 1 & 0 & 1 & 0 & 0 & 0 & 1 & 0 & 1 & 0 & 0 & 4 & 3-4 \\\\\n",
       "\t7 & NOBS & Feminino  & 0 & 1 & 0 & 1 & 1 & 1 & 0 & 0 & 0 & 0 & 0 & 4 & 3-4 \\\\\n",
       "\\end{tabular}\n"
      ],
      "text/markdown": [
       "\n",
       "A data.frame: 6 × 15\n",
       "\n",
       "| <!--/--> | CONDITION &lt;chr&gt; | SEX &lt;chr&gt; | CEFALEIA &lt;int&gt; | TOSSE &lt;int&gt; | DOR_CORPO &lt;int&gt; | DISPNEIA &lt;int&gt; | ALT_OLFATO &lt;int&gt; | ALT_PALADAR &lt;int&gt; | FADIGA &lt;int&gt; | DOR_TORAC &lt;int&gt; | ANOREXIA &lt;int&gt; | DISFAGIA &lt;int&gt; | DISFONIA &lt;int&gt; | N_SINTOMAS &lt;int&gt; | NIVEIS &lt;chr&gt; |\n",
       "|---|---|---|---|---|---|---|---|---|---|---|---|---|---|---|---|\n",
       "| 1 | NOBS | Masculino | 0 | 0 | 0 | 1 | 0 | 0 | 0 | 1 | 0 | 0 | 0 | 2 | 1-2  |\n",
       "| 3 | OBS  | Feminino  | 1 | 1 | 1 | 0 | 1 | 1 | 1 | 1 | 1 | 0 | 0 | 8 | &gt;=5  |\n",
       "| 4 | NOBS | Feminino  | 0 | 0 | 0 | 0 | 0 | 0 | 0 | 0 | 0 | 0 | 0 | 0 | None |\n",
       "| 5 | NOBS | Masculino | 1 | 0 | 1 | 0 | 0 | 0 | 1 | 1 | 0 | 0 | 0 | 4 | 3-4  |\n",
       "| 6 | OBS  | Feminino  | 1 | 0 | 1 | 0 | 0 | 0 | 1 | 0 | 1 | 0 | 0 | 4 | 3-4  |\n",
       "| 7 | NOBS | Feminino  | 0 | 1 | 0 | 1 | 1 | 1 | 0 | 0 | 0 | 0 | 0 | 4 | 3-4  |\n",
       "\n"
      ],
      "text/plain": [
       "  CONDITION SEX       CEFALEIA TOSSE DOR_CORPO DISPNEIA ALT_OLFATO ALT_PALADAR\n",
       "1 NOBS      Masculino 0        0     0         1        0          0          \n",
       "3 OBS       Feminino  1        1     1         0        1          1          \n",
       "4 NOBS      Feminino  0        0     0         0        0          0          \n",
       "5 NOBS      Masculino 1        0     1         0        0          0          \n",
       "6 OBS       Feminino  1        0     1         0        0          0          \n",
       "7 NOBS      Feminino  0        1     0         1        1          1          \n",
       "  FADIGA DOR_TORAC ANOREXIA DISFAGIA DISFONIA N_SINTOMAS NIVEIS\n",
       "1 0      1         0        0        0        2          1-2   \n",
       "3 1      1         1        0        0        8          >=5   \n",
       "4 0      0         0        0        0        0          None  \n",
       "5 1      1         0        0        0        4          3-4   \n",
       "6 1      0         1        0        0        4          3-4   \n",
       "7 0      0         0        0        0        4          3-4   "
      ]
     },
     "metadata": {},
     "output_type": "display_data"
    }
   ],
   "source": [
    "obs_rtn <- raw_obs_rtn %>%\n",
    "  select(-c(ID,COVIDEO, IMC, AGE, SEVERITY, ETNIA, EVENT, SEVERITY, PCR, SCORE_SAUDE)) %>%\n",
    "  na.omit() %>%\n",
    "  mutate(\n",
    "    NIVEIS = ifelse(N_SINTOMAS >= 5, \">=5\", \n",
    "                    ifelse(N_SINTOMAS >=3 & N_SINTOMAS<=4, \"3-4\",\n",
    "                    ifelse(N_SINTOMAS >=1 & N_SINTOMAS<=2, \"1-2\", \"None\")))\n",
    "  )\n",
    "head(obs_rtn)"
   ]
  },
  {
   "cell_type": "code",
   "execution_count": 20,
   "id": "99d77e57-d6d0-4841-bbf2-bf7e8216aa81",
   "metadata": {},
   "outputs": [],
   "source": [
    "rlog_rtn <- obs_rtn %>%\n",
    "  mutate(\n",
    "    GROUP = (paste(CONDITION, SEX, sep = \"_\")),\n",
    "    OUT = ifelse(GROUP == \"OBS_Feminino\" | GROUP == \"NOBS_Feminino\", 1, 0),\n",
    "    NIVEIS = factor(NIVEIS, levels = c(\"None\", \"1-2\", \"3-4\", \">=5\")))"
   ]
  },
  {
   "cell_type": "code",
   "execution_count": 21,
   "id": "fc973899-0ebf-46fe-a3a6-51222a0a063c",
   "metadata": {},
   "outputs": [
    {
     "data": {
      "text/html": [
       "<table class=\"dataframe\">\n",
       "<caption>A data.frame: 6 × 17</caption>\n",
       "<thead>\n",
       "\t<tr><th></th><th scope=col>CONDITION</th><th scope=col>SEX</th><th scope=col>CEFALEIA</th><th scope=col>TOSSE</th><th scope=col>DOR_CORPO</th><th scope=col>DISPNEIA</th><th scope=col>ALT_OLFATO</th><th scope=col>ALT_PALADAR</th><th scope=col>FADIGA</th><th scope=col>DOR_TORAC</th><th scope=col>ANOREXIA</th><th scope=col>DISFAGIA</th><th scope=col>DISFONIA</th><th scope=col>N_SINTOMAS</th><th scope=col>NIVEIS</th><th scope=col>GROUP</th><th scope=col>OUT</th></tr>\n",
       "\t<tr><th></th><th scope=col>&lt;chr&gt;</th><th scope=col>&lt;chr&gt;</th><th scope=col>&lt;int&gt;</th><th scope=col>&lt;int&gt;</th><th scope=col>&lt;int&gt;</th><th scope=col>&lt;int&gt;</th><th scope=col>&lt;int&gt;</th><th scope=col>&lt;int&gt;</th><th scope=col>&lt;int&gt;</th><th scope=col>&lt;int&gt;</th><th scope=col>&lt;int&gt;</th><th scope=col>&lt;int&gt;</th><th scope=col>&lt;int&gt;</th><th scope=col>&lt;int&gt;</th><th scope=col>&lt;fct&gt;</th><th scope=col>&lt;chr&gt;</th><th scope=col>&lt;dbl&gt;</th></tr>\n",
       "</thead>\n",
       "<tbody>\n",
       "\t<tr><th scope=row>1</th><td>NOBS</td><td>Masculino</td><td>0</td><td>0</td><td>0</td><td>1</td><td>0</td><td>0</td><td>0</td><td>1</td><td>0</td><td>0</td><td>0</td><td>2</td><td>1-2 </td><td>NOBS_Masculino</td><td>0</td></tr>\n",
       "\t<tr><th scope=row>3</th><td>OBS </td><td>Feminino </td><td>1</td><td>1</td><td>1</td><td>0</td><td>1</td><td>1</td><td>1</td><td>1</td><td>1</td><td>0</td><td>0</td><td>8</td><td>&gt;=5 </td><td><span style=white-space:pre-wrap>OBS_Feminino  </span></td><td>1</td></tr>\n",
       "\t<tr><th scope=row>4</th><td>NOBS</td><td>Feminino </td><td>0</td><td>0</td><td>0</td><td>0</td><td>0</td><td>0</td><td>0</td><td>0</td><td>0</td><td>0</td><td>0</td><td>0</td><td>None</td><td>NOBS_Feminino </td><td>1</td></tr>\n",
       "\t<tr><th scope=row>5</th><td>NOBS</td><td>Masculino</td><td>1</td><td>0</td><td>1</td><td>0</td><td>0</td><td>0</td><td>1</td><td>1</td><td>0</td><td>0</td><td>0</td><td>4</td><td>3-4 </td><td>NOBS_Masculino</td><td>0</td></tr>\n",
       "\t<tr><th scope=row>6</th><td>OBS </td><td>Feminino </td><td>1</td><td>0</td><td>1</td><td>0</td><td>0</td><td>0</td><td>1</td><td>0</td><td>1</td><td>0</td><td>0</td><td>4</td><td>3-4 </td><td>OBS_Feminino  </td><td>1</td></tr>\n",
       "\t<tr><th scope=row>7</th><td>NOBS</td><td>Feminino </td><td>0</td><td>1</td><td>0</td><td>1</td><td>1</td><td>1</td><td>0</td><td>0</td><td>0</td><td>0</td><td>0</td><td>4</td><td>3-4 </td><td>NOBS_Feminino </td><td>1</td></tr>\n",
       "</tbody>\n",
       "</table>\n"
      ],
      "text/latex": [
       "A data.frame: 6 × 17\n",
       "\\begin{tabular}{r|lllllllllllllllll}\n",
       "  & CONDITION & SEX & CEFALEIA & TOSSE & DOR\\_CORPO & DISPNEIA & ALT\\_OLFATO & ALT\\_PALADAR & FADIGA & DOR\\_TORAC & ANOREXIA & DISFAGIA & DISFONIA & N\\_SINTOMAS & NIVEIS & GROUP & OUT\\\\\n",
       "  & <chr> & <chr> & <int> & <int> & <int> & <int> & <int> & <int> & <int> & <int> & <int> & <int> & <int> & <int> & <fct> & <chr> & <dbl>\\\\\n",
       "\\hline\n",
       "\t1 & NOBS & Masculino & 0 & 0 & 0 & 1 & 0 & 0 & 0 & 1 & 0 & 0 & 0 & 2 & 1-2  & NOBS\\_Masculino & 0\\\\\n",
       "\t3 & OBS  & Feminino  & 1 & 1 & 1 & 0 & 1 & 1 & 1 & 1 & 1 & 0 & 0 & 8 & >=5  & OBS\\_Feminino   & 1\\\\\n",
       "\t4 & NOBS & Feminino  & 0 & 0 & 0 & 0 & 0 & 0 & 0 & 0 & 0 & 0 & 0 & 0 & None & NOBS\\_Feminino  & 1\\\\\n",
       "\t5 & NOBS & Masculino & 1 & 0 & 1 & 0 & 0 & 0 & 1 & 1 & 0 & 0 & 0 & 4 & 3-4  & NOBS\\_Masculino & 0\\\\\n",
       "\t6 & OBS  & Feminino  & 1 & 0 & 1 & 0 & 0 & 0 & 1 & 0 & 1 & 0 & 0 & 4 & 3-4  & OBS\\_Feminino   & 1\\\\\n",
       "\t7 & NOBS & Feminino  & 0 & 1 & 0 & 1 & 1 & 1 & 0 & 0 & 0 & 0 & 0 & 4 & 3-4  & NOBS\\_Feminino  & 1\\\\\n",
       "\\end{tabular}\n"
      ],
      "text/markdown": [
       "\n",
       "A data.frame: 6 × 17\n",
       "\n",
       "| <!--/--> | CONDITION &lt;chr&gt; | SEX &lt;chr&gt; | CEFALEIA &lt;int&gt; | TOSSE &lt;int&gt; | DOR_CORPO &lt;int&gt; | DISPNEIA &lt;int&gt; | ALT_OLFATO &lt;int&gt; | ALT_PALADAR &lt;int&gt; | FADIGA &lt;int&gt; | DOR_TORAC &lt;int&gt; | ANOREXIA &lt;int&gt; | DISFAGIA &lt;int&gt; | DISFONIA &lt;int&gt; | N_SINTOMAS &lt;int&gt; | NIVEIS &lt;fct&gt; | GROUP &lt;chr&gt; | OUT &lt;dbl&gt; |\n",
       "|---|---|---|---|---|---|---|---|---|---|---|---|---|---|---|---|---|---|\n",
       "| 1 | NOBS | Masculino | 0 | 0 | 0 | 1 | 0 | 0 | 0 | 1 | 0 | 0 | 0 | 2 | 1-2  | NOBS_Masculino | 0 |\n",
       "| 3 | OBS  | Feminino  | 1 | 1 | 1 | 0 | 1 | 1 | 1 | 1 | 1 | 0 | 0 | 8 | &gt;=5  | OBS_Feminino   | 1 |\n",
       "| 4 | NOBS | Feminino  | 0 | 0 | 0 | 0 | 0 | 0 | 0 | 0 | 0 | 0 | 0 | 0 | None | NOBS_Feminino  | 1 |\n",
       "| 5 | NOBS | Masculino | 1 | 0 | 1 | 0 | 0 | 0 | 1 | 1 | 0 | 0 | 0 | 4 | 3-4  | NOBS_Masculino | 0 |\n",
       "| 6 | OBS  | Feminino  | 1 | 0 | 1 | 0 | 0 | 0 | 1 | 0 | 1 | 0 | 0 | 4 | 3-4  | OBS_Feminino   | 1 |\n",
       "| 7 | NOBS | Feminino  | 0 | 1 | 0 | 1 | 1 | 1 | 0 | 0 | 0 | 0 | 0 | 4 | 3-4  | NOBS_Feminino  | 1 |\n",
       "\n"
      ],
      "text/plain": [
       "  CONDITION SEX       CEFALEIA TOSSE DOR_CORPO DISPNEIA ALT_OLFATO ALT_PALADAR\n",
       "1 NOBS      Masculino 0        0     0         1        0          0          \n",
       "3 OBS       Feminino  1        1     1         0        1          1          \n",
       "4 NOBS      Feminino  0        0     0         0        0          0          \n",
       "5 NOBS      Masculino 1        0     1         0        0          0          \n",
       "6 OBS       Feminino  1        0     1         0        0          0          \n",
       "7 NOBS      Feminino  0        1     0         1        1          1          \n",
       "  FADIGA DOR_TORAC ANOREXIA DISFAGIA DISFONIA N_SINTOMAS NIVEIS GROUP         \n",
       "1 0      1         0        0        0        2          1-2    NOBS_Masculino\n",
       "3 1      1         1        0        0        8          >=5    OBS_Feminino  \n",
       "4 0      0         0        0        0        0          None   NOBS_Feminino \n",
       "5 1      1         0        0        0        4          3-4    NOBS_Masculino\n",
       "6 1      0         1        0        0        4          3-4    OBS_Feminino  \n",
       "7 0      0         0        0        0        4          3-4    NOBS_Feminino \n",
       "  OUT\n",
       "1 0  \n",
       "3 1  \n",
       "4 1  \n",
       "5 0  \n",
       "6 1  \n",
       "7 1  "
      ]
     },
     "metadata": {},
     "output_type": "display_data"
    }
   ],
   "source": [
    "head(rlog_rtn)"
   ]
  },
  {
   "cell_type": "code",
   "execution_count": 22,
   "id": "a01e57d9-4a41-4805-98ad-edc56bd16f9d",
   "metadata": {},
   "outputs": [],
   "source": [
    "model_rtn <- function(x) {\n",
    "    glm(OUT ~ NIVEIS, data = filter(rlog_rtn, CONDITION == x),\n",
    "        family = binomial)\n",
    "    }"
   ]
  },
  {
   "cell_type": "code",
   "execution_count": 23,
   "id": "e3e4dcf3-9404-463d-a437-f03128b1f9f7",
   "metadata": {},
   "outputs": [
    {
     "data": {
      "text/plain": [
       "\n",
       "Call:  glm(formula = OUT ~ NIVEIS, family = binomial, data = filter(rlog_rtn, \n",
       "    CONDITION == x))\n",
       "\n",
       "Coefficients:\n",
       "(Intercept)    NIVEIS1-2    NIVEIS3-4    NIVEIS>=5  \n",
       "     -1.281        1.281        3.440        2.434  \n",
       "\n",
       "Degrees of Freedom: 114 Total (i.e. Null);  111 Residual\n",
       "Null Deviance:\t    154.8 \n",
       "Residual Deviance: 123.6 \tAIC: 131.6"
      ]
     },
     "metadata": {},
     "output_type": "display_data"
    },
    {
     "data": {
      "text/plain": [
       "\n",
       "Call:\n",
       "glm(formula = OUT ~ NIVEIS, family = binomial, data = filter(rlog_rtn, \n",
       "    CONDITION == x))\n",
       "\n",
       "Coefficients:\n",
       "            Estimate Std. Error z value Pr(>|z|)    \n",
       "(Intercept)  -1.2809     0.5055  -2.534 0.011281 *  \n",
       "NIVEIS1-2     1.2809     0.6007   2.132 0.032968 *  \n",
       "NIVEIS3-4     3.4404     0.7920   4.344  1.4e-05 ***\n",
       "NIVEIS>=5     2.4336     0.6891   3.532 0.000413 ***\n",
       "---\n",
       "Signif. codes:  0 ‘***’ 0.001 ‘**’ 0.01 ‘*’ 0.05 ‘.’ 0.1 ‘ ’ 1\n",
       "\n",
       "(Dispersion parameter for binomial family taken to be 1)\n",
       "\n",
       "    Null deviance: 154.79  on 114  degrees of freedom\n",
       "Residual deviance: 123.61  on 111  degrees of freedom\n",
       "AIC: 131.61\n",
       "\n",
       "Number of Fisher Scoring iterations: 4\n"
      ]
     },
     "metadata": {},
     "output_type": "display_data"
    }
   ],
   "source": [
    "model_obs_rtn <- model_rtn(\"OBS\")\n",
    "model_obs_rtn\n",
    "summary(model_obs_rtn)"
   ]
  },
  {
   "cell_type": "code",
   "execution_count": 24,
   "id": "9d616b1c-4a65-4244-8aed-401cef390b45",
   "metadata": {},
   "outputs": [
    {
     "data": {
      "text/plain": [
       "\n",
       "Call:  glm(formula = OUT ~ NIVEIS, family = binomial, data = filter(rlog_rtn, \n",
       "    CONDITION == x))\n",
       "\n",
       "Coefficients:\n",
       "(Intercept)    NIVEIS1-2    NIVEIS3-4    NIVEIS>=5  \n",
       "    -0.4925       0.3791       1.4910       0.8109  \n",
       "\n",
       "Degrees of Freedom: 126 Total (i.e. Null);  123 Residual\n",
       "Null Deviance:\t    175.9 \n",
       "Residual Deviance: 168 \tAIC: 176"
      ]
     },
     "metadata": {},
     "output_type": "display_data"
    },
    {
     "data": {
      "text/plain": [
       "\n",
       "Call:\n",
       "glm(formula = OUT ~ NIVEIS, family = binomial, data = filter(rlog_rtn, \n",
       "    CONDITION == x))\n",
       "\n",
       "Coefficients:\n",
       "            Estimate Std. Error z value Pr(>|z|)  \n",
       "(Intercept)  -0.4925     0.3827  -1.287   0.1982  \n",
       "NIVEIS1-2     0.3791     0.4714   0.804   0.4212  \n",
       "NIVEIS3-4     1.4910     0.5848   2.550   0.0108 *\n",
       "NIVEIS>=5     0.8109     0.6020   1.347   0.1779  \n",
       "---\n",
       "Signif. codes:  0 ‘***’ 0.001 ‘**’ 0.01 ‘*’ 0.05 ‘.’ 0.1 ‘ ’ 1\n",
       "\n",
       "(Dispersion parameter for binomial family taken to be 1)\n",
       "\n",
       "    Null deviance: 175.86  on 126  degrees of freedom\n",
       "Residual deviance: 167.95  on 123  degrees of freedom\n",
       "AIC: 175.95\n",
       "\n",
       "Number of Fisher Scoring iterations: 4\n"
      ]
     },
     "metadata": {},
     "output_type": "display_data"
    }
   ],
   "source": [
    "model_nobs_rtn <- model_rtn(\"NOBS\")\n",
    "model_nobs_rtn\n",
    "summary(model_nobs_rtn)"
   ]
  },
  {
   "cell_type": "code",
   "execution_count": 25,
   "id": "943e804b-1a37-4080-85b6-ec50bebb2e72",
   "metadata": {},
   "outputs": [],
   "source": [
    "extract_rtn_OR <- function(model_rtn) {\n",
    "    tidy(model_rtn, conf.int = TRUE, exponentiate = TRUE) %>%\n",
    "    filter(term != \"(Intercept)\")\n",
    "    }"
   ]
  },
  {
   "cell_type": "code",
   "execution_count": 26,
   "id": "913c371a-c759-4d91-ba92-66e53d113df5",
   "metadata": {},
   "outputs": [
    {
     "data": {
      "text/html": [
       "<table class=\"dataframe\">\n",
       "<caption>A tibble: 3 × 7</caption>\n",
       "<thead>\n",
       "\t<tr><th scope=col>term</th><th scope=col>estimate</th><th scope=col>std.error</th><th scope=col>statistic</th><th scope=col>p.value</th><th scope=col>conf.low</th><th scope=col>conf.high</th></tr>\n",
       "\t<tr><th scope=col>&lt;chr&gt;</th><th scope=col>&lt;dbl&gt;</th><th scope=col>&lt;dbl&gt;</th><th scope=col>&lt;dbl&gt;</th><th scope=col>&lt;dbl&gt;</th><th scope=col>&lt;dbl&gt;</th><th scope=col>&lt;dbl&gt;</th></tr>\n",
       "</thead>\n",
       "<tbody>\n",
       "\t<tr><td>NIVEIS1-2</td><td> 3.6</td><td>0.6006816</td><td>2.132467</td><td>3.296847e-02</td><td>1.166530</td><td> 12.72957</td></tr>\n",
       "\t<tr><td>NIVEIS3-4</td><td>31.2</td><td>0.7920275</td><td>4.343811</td><td>1.400319e-05</td><td>7.485421</td><td>176.96884</td></tr>\n",
       "\t<tr><td>NIVEIS&gt;=5</td><td>11.4</td><td>0.6890959</td><td>3.531603</td><td>4.130485e-04</td><td>3.167651</td><td> 48.59308</td></tr>\n",
       "</tbody>\n",
       "</table>\n"
      ],
      "text/latex": [
       "A tibble: 3 × 7\n",
       "\\begin{tabular}{lllllll}\n",
       " term & estimate & std.error & statistic & p.value & conf.low & conf.high\\\\\n",
       " <chr> & <dbl> & <dbl> & <dbl> & <dbl> & <dbl> & <dbl>\\\\\n",
       "\\hline\n",
       "\t NIVEIS1-2 &  3.6 & 0.6006816 & 2.132467 & 3.296847e-02 & 1.166530 &  12.72957\\\\\n",
       "\t NIVEIS3-4 & 31.2 & 0.7920275 & 4.343811 & 1.400319e-05 & 7.485421 & 176.96884\\\\\n",
       "\t NIVEIS>=5 & 11.4 & 0.6890959 & 3.531603 & 4.130485e-04 & 3.167651 &  48.59308\\\\\n",
       "\\end{tabular}\n"
      ],
      "text/markdown": [
       "\n",
       "A tibble: 3 × 7\n",
       "\n",
       "| term &lt;chr&gt; | estimate &lt;dbl&gt; | std.error &lt;dbl&gt; | statistic &lt;dbl&gt; | p.value &lt;dbl&gt; | conf.low &lt;dbl&gt; | conf.high &lt;dbl&gt; |\n",
       "|---|---|---|---|---|---|---|\n",
       "| NIVEIS1-2 |  3.6 | 0.6006816 | 2.132467 | 3.296847e-02 | 1.166530 |  12.72957 |\n",
       "| NIVEIS3-4 | 31.2 | 0.7920275 | 4.343811 | 1.400319e-05 | 7.485421 | 176.96884 |\n",
       "| NIVEIS&gt;=5 | 11.4 | 0.6890959 | 3.531603 | 4.130485e-04 | 3.167651 |  48.59308 |\n",
       "\n"
      ],
      "text/plain": [
       "  term      estimate std.error statistic p.value      conf.low conf.high\n",
       "1 NIVEIS1-2  3.6     0.6006816 2.132467  3.296847e-02 1.166530  12.72957\n",
       "2 NIVEIS3-4 31.2     0.7920275 4.343811  1.400319e-05 7.485421 176.96884\n",
       "3 NIVEIS>=5 11.4     0.6890959 3.531603  4.130485e-04 3.167651  48.59308"
      ]
     },
     "metadata": {},
     "output_type": "display_data"
    }
   ],
   "source": [
    "extract_rtn_OR(model_obs_rtn)"
   ]
  },
  {
   "cell_type": "code",
   "execution_count": 27,
   "id": "a19d0220-cbfb-4a13-a38b-a84394d8c01e",
   "metadata": {},
   "outputs": [
    {
     "data": {
      "text/html": [
       "<table class=\"dataframe\">\n",
       "<caption>A tibble: 3 × 7</caption>\n",
       "<thead>\n",
       "\t<tr><th scope=col>term</th><th scope=col>estimate</th><th scope=col>std.error</th><th scope=col>statistic</th><th scope=col>p.value</th><th scope=col>conf.low</th><th scope=col>conf.high</th></tr>\n",
       "\t<tr><th scope=col>&lt;chr&gt;</th><th scope=col>&lt;dbl&gt;</th><th scope=col>&lt;dbl&gt;</th><th scope=col>&lt;dbl&gt;</th><th scope=col>&lt;dbl&gt;</th><th scope=col>&lt;dbl&gt;</th><th scope=col>&lt;dbl&gt;</th></tr>\n",
       "</thead>\n",
       "<tbody>\n",
       "\t<tr><td>NIVEIS1-2</td><td>1.461039</td><td>0.4713586</td><td>0.8043723</td><td>0.42118199</td><td>0.5849690</td><td> 3.755306</td></tr>\n",
       "\t<tr><td>NIVEIS3-4</td><td>4.441558</td><td>0.5847675</td><td>2.5497403</td><td>0.01078032</td><td>1.4606195</td><td>14.730212</td></tr>\n",
       "\t<tr><td>NIVEIS&gt;=5</td><td>2.250000</td><td>0.6019749</td><td>1.3471164</td><td>0.17794274</td><td>0.7003072</td><td> 7.559950</td></tr>\n",
       "</tbody>\n",
       "</table>\n"
      ],
      "text/latex": [
       "A tibble: 3 × 7\n",
       "\\begin{tabular}{lllllll}\n",
       " term & estimate & std.error & statistic & p.value & conf.low & conf.high\\\\\n",
       " <chr> & <dbl> & <dbl> & <dbl> & <dbl> & <dbl> & <dbl>\\\\\n",
       "\\hline\n",
       "\t NIVEIS1-2 & 1.461039 & 0.4713586 & 0.8043723 & 0.42118199 & 0.5849690 &  3.755306\\\\\n",
       "\t NIVEIS3-4 & 4.441558 & 0.5847675 & 2.5497403 & 0.01078032 & 1.4606195 & 14.730212\\\\\n",
       "\t NIVEIS>=5 & 2.250000 & 0.6019749 & 1.3471164 & 0.17794274 & 0.7003072 &  7.559950\\\\\n",
       "\\end{tabular}\n"
      ],
      "text/markdown": [
       "\n",
       "A tibble: 3 × 7\n",
       "\n",
       "| term &lt;chr&gt; | estimate &lt;dbl&gt; | std.error &lt;dbl&gt; | statistic &lt;dbl&gt; | p.value &lt;dbl&gt; | conf.low &lt;dbl&gt; | conf.high &lt;dbl&gt; |\n",
       "|---|---|---|---|---|---|---|\n",
       "| NIVEIS1-2 | 1.461039 | 0.4713586 | 0.8043723 | 0.42118199 | 0.5849690 |  3.755306 |\n",
       "| NIVEIS3-4 | 4.441558 | 0.5847675 | 2.5497403 | 0.01078032 | 1.4606195 | 14.730212 |\n",
       "| NIVEIS&gt;=5 | 2.250000 | 0.6019749 | 1.3471164 | 0.17794274 | 0.7003072 |  7.559950 |\n",
       "\n"
      ],
      "text/plain": [
       "  term      estimate std.error statistic p.value    conf.low  conf.high\n",
       "1 NIVEIS1-2 1.461039 0.4713586 0.8043723 0.42118199 0.5849690  3.755306\n",
       "2 NIVEIS3-4 4.441558 0.5847675 2.5497403 0.01078032 1.4606195 14.730212\n",
       "3 NIVEIS>=5 2.250000 0.6019749 1.3471164 0.17794274 0.7003072  7.559950"
      ]
     },
     "metadata": {},
     "output_type": "display_data"
    }
   ],
   "source": [
    "extract_rtn_OR(model_nobs_rtn)"
   ]
  },
  {
   "cell_type": "code",
   "execution_count": 28,
   "id": "22e0a86f-631c-4088-a921-a760aad2044b",
   "metadata": {},
   "outputs": [],
   "source": [
    "res_rtn_obs <- extract_OR(model_obs_rtn)\n",
    "res_rtn_nobs <- extract_OR(model_nobs_rtn)"
   ]
  },
  {
   "cell_type": "code",
   "execution_count": 29,
   "id": "f6d770c0-b3b5-4451-9f0f-dbd48ad71d44",
   "metadata": {},
   "outputs": [
    {
     "data": {
      "text/html": [
       "<table class=\"dataframe\">\n",
       "<caption>A tibble: 6 × 10</caption>\n",
       "<thead>\n",
       "\t<tr><th scope=col>term</th><th scope=col>OR</th><th scope=col>std.error</th><th scope=col>statistic</th><th scope=col>p.value</th><th scope=col>CI_low</th><th scope=col>CI_high</th><th scope=col>Condition</th><th scope=col>Timepoint</th><th scope=col>Variable</th></tr>\n",
       "\t<tr><th scope=col>&lt;chr&gt;</th><th scope=col>&lt;dbl&gt;</th><th scope=col>&lt;dbl&gt;</th><th scope=col>&lt;dbl&gt;</th><th scope=col>&lt;dbl&gt;</th><th scope=col>&lt;dbl&gt;</th><th scope=col>&lt;dbl&gt;</th><th scope=col>&lt;chr&gt;</th><th scope=col>&lt;chr&gt;</th><th scope=col>&lt;chr&gt;</th></tr>\n",
       "</thead>\n",
       "<tbody>\n",
       "\t<tr><td>Levels: 1-2</td><td> 1.461039</td><td>0.4713586</td><td>0.8043723</td><td>4.211820e-01</td><td>0.5849690</td><td>  3.755306</td><td>NOBS</td><td>Post-COVID</td><td>Symptoms Levels</td></tr>\n",
       "\t<tr><td>Levels: 3-4</td><td> 4.441558</td><td>0.5847675</td><td>2.5497403</td><td>1.078032e-02</td><td>1.4606195</td><td> 14.730212</td><td>NOBS</td><td>Post-COVID</td><td>Symptoms Levels</td></tr>\n",
       "\t<tr><td>Levels: &gt;=5</td><td> 2.250000</td><td>0.6019749</td><td>1.3471164</td><td>1.779427e-01</td><td>0.7003072</td><td><span style=white-space:pre-wrap>  7.559950</span></td><td>NOBS</td><td>Post-COVID</td><td>Symptoms Levels</td></tr>\n",
       "\t<tr><td>Levels: 1-2</td><td> 3.600000</td><td>0.6006816</td><td>2.1324671</td><td>3.296847e-02</td><td>1.1665302</td><td> 12.729565</td><td>OBS </td><td>Post-COVID</td><td>Symptoms Levels</td></tr>\n",
       "\t<tr><td>Levels: 3-4</td><td>31.200000</td><td>0.7920275</td><td>4.3438112</td><td>1.400319e-05</td><td>7.4854208</td><td>176.968841</td><td>OBS </td><td>Post-COVID</td><td>Symptoms Levels</td></tr>\n",
       "\t<tr><td>Levels: &gt;=5</td><td>11.400000</td><td>0.6890959</td><td>3.5316033</td><td>4.130485e-04</td><td>3.1676509</td><td> 48.593080</td><td>OBS </td><td>Post-COVID</td><td>Symptoms Levels</td></tr>\n",
       "</tbody>\n",
       "</table>\n"
      ],
      "text/latex": [
       "A tibble: 6 × 10\n",
       "\\begin{tabular}{llllllllll}\n",
       " term & OR & std.error & statistic & p.value & CI\\_low & CI\\_high & Condition & Timepoint & Variable\\\\\n",
       " <chr> & <dbl> & <dbl> & <dbl> & <dbl> & <dbl> & <dbl> & <chr> & <chr> & <chr>\\\\\n",
       "\\hline\n",
       "\t Levels: 1-2 &  1.461039 & 0.4713586 & 0.8043723 & 4.211820e-01 & 0.5849690 &   3.755306 & NOBS & Post-COVID & Symptoms Levels\\\\\n",
       "\t Levels: 3-4 &  4.441558 & 0.5847675 & 2.5497403 & 1.078032e-02 & 1.4606195 &  14.730212 & NOBS & Post-COVID & Symptoms Levels\\\\\n",
       "\t Levels: >=5 &  2.250000 & 0.6019749 & 1.3471164 & 1.779427e-01 & 0.7003072 &   7.559950 & NOBS & Post-COVID & Symptoms Levels\\\\\n",
       "\t Levels: 1-2 &  3.600000 & 0.6006816 & 2.1324671 & 3.296847e-02 & 1.1665302 &  12.729565 & OBS  & Post-COVID & Symptoms Levels\\\\\n",
       "\t Levels: 3-4 & 31.200000 & 0.7920275 & 4.3438112 & 1.400319e-05 & 7.4854208 & 176.968841 & OBS  & Post-COVID & Symptoms Levels\\\\\n",
       "\t Levels: >=5 & 11.400000 & 0.6890959 & 3.5316033 & 4.130485e-04 & 3.1676509 &  48.593080 & OBS  & Post-COVID & Symptoms Levels\\\\\n",
       "\\end{tabular}\n"
      ],
      "text/markdown": [
       "\n",
       "A tibble: 6 × 10\n",
       "\n",
       "| term &lt;chr&gt; | OR &lt;dbl&gt; | std.error &lt;dbl&gt; | statistic &lt;dbl&gt; | p.value &lt;dbl&gt; | CI_low &lt;dbl&gt; | CI_high &lt;dbl&gt; | Condition &lt;chr&gt; | Timepoint &lt;chr&gt; | Variable &lt;chr&gt; |\n",
       "|---|---|---|---|---|---|---|---|---|---|\n",
       "| Levels: 1-2 |  1.461039 | 0.4713586 | 0.8043723 | 4.211820e-01 | 0.5849690 |   3.755306 | NOBS | Post-COVID | Symptoms Levels |\n",
       "| Levels: 3-4 |  4.441558 | 0.5847675 | 2.5497403 | 1.078032e-02 | 1.4606195 |  14.730212 | NOBS | Post-COVID | Symptoms Levels |\n",
       "| Levels: &gt;=5 |  2.250000 | 0.6019749 | 1.3471164 | 1.779427e-01 | 0.7003072 |   7.559950 | NOBS | Post-COVID | Symptoms Levels |\n",
       "| Levels: 1-2 |  3.600000 | 0.6006816 | 2.1324671 | 3.296847e-02 | 1.1665302 |  12.729565 | OBS  | Post-COVID | Symptoms Levels |\n",
       "| Levels: 3-4 | 31.200000 | 0.7920275 | 4.3438112 | 1.400319e-05 | 7.4854208 | 176.968841 | OBS  | Post-COVID | Symptoms Levels |\n",
       "| Levels: &gt;=5 | 11.400000 | 0.6890959 | 3.5316033 | 4.130485e-04 | 3.1676509 |  48.593080 | OBS  | Post-COVID | Symptoms Levels |\n",
       "\n"
      ],
      "text/plain": [
       "  term        OR        std.error statistic p.value      CI_low    CI_high   \n",
       "1 Levels: 1-2  1.461039 0.4713586 0.8043723 4.211820e-01 0.5849690   3.755306\n",
       "2 Levels: 3-4  4.441558 0.5847675 2.5497403 1.078032e-02 1.4606195  14.730212\n",
       "3 Levels: >=5  2.250000 0.6019749 1.3471164 1.779427e-01 0.7003072   7.559950\n",
       "4 Levels: 1-2  3.600000 0.6006816 2.1324671 3.296847e-02 1.1665302  12.729565\n",
       "5 Levels: 3-4 31.200000 0.7920275 4.3438112 1.400319e-05 7.4854208 176.968841\n",
       "6 Levels: >=5 11.400000 0.6890959 3.5316033 4.130485e-04 3.1676509  48.593080\n",
       "  Condition Timepoint  Variable       \n",
       "1 NOBS      Post-COVID Symptoms Levels\n",
       "2 NOBS      Post-COVID Symptoms Levels\n",
       "3 NOBS      Post-COVID Symptoms Levels\n",
       "4 OBS       Post-COVID Symptoms Levels\n",
       "5 OBS       Post-COVID Symptoms Levels\n",
       "6 OBS       Post-COVID Symptoms Levels"
      ]
     },
     "metadata": {},
     "output_type": "display_data"
    }
   ],
   "source": [
    "results_rtn <- bind_rows(res_rtn_nobs,res_rtn_obs) %>%\n",
    "    mutate(\n",
    "        term = gsub(\"NIVEIS\", \"Levels: \", term),\n",
    "    Condition = rep(c(\"NOBS\", \"OBS\"), each = 3),\n",
    "    Timepoint = \"Post-COVID\",\n",
    "    Variable = \"Symptoms Levels\") %>%\n",
    "    rename(OR = estimate, CI_low = conf.low, CI_high = conf.high)\n",
    "head(results_rtn)"
   ]
  },
  {
   "cell_type": "code",
   "execution_count": 30,
   "id": "a59531a7-8e87-450f-9cc3-c5fdeca926ba",
   "metadata": {},
   "outputs": [
    {
     "data": {
      "text/html": [
       "<table class=\"dataframe\">\n",
       "<caption>A tibble: 6 × 10</caption>\n",
       "<thead>\n",
       "\t<tr><th scope=col>term</th><th scope=col>OR</th><th scope=col>std.error</th><th scope=col>statistic</th><th scope=col>p.value</th><th scope=col>CI_low</th><th scope=col>CI_high</th><th scope=col>Condition</th><th scope=col>Timepoint</th><th scope=col>Variable</th></tr>\n",
       "\t<tr><th scope=col>&lt;chr&gt;</th><th scope=col>&lt;dbl&gt;</th><th scope=col>&lt;dbl&gt;</th><th scope=col>&lt;dbl&gt;</th><th scope=col>&lt;dbl&gt;</th><th scope=col>&lt;dbl&gt;</th><th scope=col>&lt;dbl&gt;</th><th scope=col>&lt;chr&gt;</th><th scope=col>&lt;chr&gt;</th><th scope=col>&lt;chr&gt;</th></tr>\n",
       "</thead>\n",
       "<tbody>\n",
       "\t<tr><td>Levels: 1-2</td><td>1.293750</td><td>0.6211597</td><td>0.4146196</td><td>0.678420390</td><td>0.3924375</td><td> 4.681626</td><td>NOBS</td><td>Long COVID</td><td>Symptoms Levels</td></tr>\n",
       "\t<tr><td>Levels: 3-4</td><td>1.975610</td><td>0.5980999</td><td>1.1384002</td><td>0.254953410</td><td>0.6291190</td><td> 6.880537</td><td>NOBS</td><td>Long COVID</td><td>Symptoms Levels</td></tr>\n",
       "\t<tr><td>Levels: &gt;=5</td><td>3.518182</td><td>0.6162965</td><td>2.0411349</td><td>0.041237423</td><td>1.0824457</td><td>12.665148</td><td>NOBS</td><td>Long COVID</td><td>Symptoms Levels</td></tr>\n",
       "\t<tr><td>Levels: 1-2</td><td>1.153846</td><td>0.6364967</td><td>0.2248257</td><td>0.822114846</td><td>0.3397558</td><td> 4.288767</td><td>OBS </td><td>Long COVID</td><td>Symptoms Levels</td></tr>\n",
       "\t<tr><td>Levels: 3-4</td><td>2.500000</td><td>0.6422615</td><td>1.4266629</td><td>0.153677077</td><td>0.7330114</td><td> 9.437732</td><td>OBS </td><td>Long COVID</td><td>Symptoms Levels</td></tr>\n",
       "\t<tr><td>Levels: &gt;=5</td><td>6.736842</td><td>0.6068413</td><td>3.1434763</td><td>0.001669539</td><td>2.1295773</td><td>23.957595</td><td>OBS </td><td>Long COVID</td><td>Symptoms Levels</td></tr>\n",
       "</tbody>\n",
       "</table>\n"
      ],
      "text/latex": [
       "A tibble: 6 × 10\n",
       "\\begin{tabular}{llllllllll}\n",
       " term & OR & std.error & statistic & p.value & CI\\_low & CI\\_high & Condition & Timepoint & Variable\\\\\n",
       " <chr> & <dbl> & <dbl> & <dbl> & <dbl> & <dbl> & <dbl> & <chr> & <chr> & <chr>\\\\\n",
       "\\hline\n",
       "\t Levels: 1-2 & 1.293750 & 0.6211597 & 0.4146196 & 0.678420390 & 0.3924375 &  4.681626 & NOBS & Long COVID & Symptoms Levels\\\\\n",
       "\t Levels: 3-4 & 1.975610 & 0.5980999 & 1.1384002 & 0.254953410 & 0.6291190 &  6.880537 & NOBS & Long COVID & Symptoms Levels\\\\\n",
       "\t Levels: >=5 & 3.518182 & 0.6162965 & 2.0411349 & 0.041237423 & 1.0824457 & 12.665148 & NOBS & Long COVID & Symptoms Levels\\\\\n",
       "\t Levels: 1-2 & 1.153846 & 0.6364967 & 0.2248257 & 0.822114846 & 0.3397558 &  4.288767 & OBS  & Long COVID & Symptoms Levels\\\\\n",
       "\t Levels: 3-4 & 2.500000 & 0.6422615 & 1.4266629 & 0.153677077 & 0.7330114 &  9.437732 & OBS  & Long COVID & Symptoms Levels\\\\\n",
       "\t Levels: >=5 & 6.736842 & 0.6068413 & 3.1434763 & 0.001669539 & 2.1295773 & 23.957595 & OBS  & Long COVID & Symptoms Levels\\\\\n",
       "\\end{tabular}\n"
      ],
      "text/markdown": [
       "\n",
       "A tibble: 6 × 10\n",
       "\n",
       "| term &lt;chr&gt; | OR &lt;dbl&gt; | std.error &lt;dbl&gt; | statistic &lt;dbl&gt; | p.value &lt;dbl&gt; | CI_low &lt;dbl&gt; | CI_high &lt;dbl&gt; | Condition &lt;chr&gt; | Timepoint &lt;chr&gt; | Variable &lt;chr&gt; |\n",
       "|---|---|---|---|---|---|---|---|---|---|\n",
       "| Levels: 1-2 | 1.293750 | 0.6211597 | 0.4146196 | 0.678420390 | 0.3924375 |  4.681626 | NOBS | Long COVID | Symptoms Levels |\n",
       "| Levels: 3-4 | 1.975610 | 0.5980999 | 1.1384002 | 0.254953410 | 0.6291190 |  6.880537 | NOBS | Long COVID | Symptoms Levels |\n",
       "| Levels: &gt;=5 | 3.518182 | 0.6162965 | 2.0411349 | 0.041237423 | 1.0824457 | 12.665148 | NOBS | Long COVID | Symptoms Levels |\n",
       "| Levels: 1-2 | 1.153846 | 0.6364967 | 0.2248257 | 0.822114846 | 0.3397558 |  4.288767 | OBS  | Long COVID | Symptoms Levels |\n",
       "| Levels: 3-4 | 2.500000 | 0.6422615 | 1.4266629 | 0.153677077 | 0.7330114 |  9.437732 | OBS  | Long COVID | Symptoms Levels |\n",
       "| Levels: &gt;=5 | 6.736842 | 0.6068413 | 3.1434763 | 0.001669539 | 2.1295773 | 23.957595 | OBS  | Long COVID | Symptoms Levels |\n",
       "\n"
      ],
      "text/plain": [
       "  term        OR       std.error statistic p.value     CI_low    CI_high  \n",
       "1 Levels: 1-2 1.293750 0.6211597 0.4146196 0.678420390 0.3924375  4.681626\n",
       "2 Levels: 3-4 1.975610 0.5980999 1.1384002 0.254953410 0.6291190  6.880537\n",
       "3 Levels: >=5 3.518182 0.6162965 2.0411349 0.041237423 1.0824457 12.665148\n",
       "4 Levels: 1-2 1.153846 0.6364967 0.2248257 0.822114846 0.3397558  4.288767\n",
       "5 Levels: 3-4 2.500000 0.6422615 1.4266629 0.153677077 0.7330114  9.437732\n",
       "6 Levels: >=5 6.736842 0.6068413 3.1434763 0.001669539 2.1295773 23.957595\n",
       "  Condition Timepoint  Variable       \n",
       "1 NOBS      Long COVID Symptoms Levels\n",
       "2 NOBS      Long COVID Symptoms Levels\n",
       "3 NOBS      Long COVID Symptoms Levels\n",
       "4 OBS       Long COVID Symptoms Levels\n",
       "5 OBS       Long COVID Symptoms Levels\n",
       "6 OBS       Long COVID Symptoms Levels"
      ]
     },
     "metadata": {},
     "output_type": "display_data"
    }
   ],
   "source": [
    "head(results)"
   ]
  },
  {
   "cell_type": "code",
   "execution_count": 31,
   "id": "b01eb4a0-a538-4c5e-9653-345745d11df5",
   "metadata": {},
   "outputs": [
    {
     "data": {
      "text/html": [
       "<table class=\"dataframe\">\n",
       "<caption>A tibble: 6 × 10</caption>\n",
       "<thead>\n",
       "\t<tr><th scope=col>term</th><th scope=col>OR</th><th scope=col>std.error</th><th scope=col>statistic</th><th scope=col>p.value</th><th scope=col>CI_low</th><th scope=col>CI_high</th><th scope=col>Condition</th><th scope=col>Timepoint</th><th scope=col>Variable</th></tr>\n",
       "\t<tr><th scope=col>&lt;chr&gt;</th><th scope=col>&lt;dbl&gt;</th><th scope=col>&lt;dbl&gt;</th><th scope=col>&lt;dbl&gt;</th><th scope=col>&lt;dbl&gt;</th><th scope=col>&lt;dbl&gt;</th><th scope=col>&lt;dbl&gt;</th><th scope=col>&lt;chr&gt;</th><th scope=col>&lt;chr&gt;</th><th scope=col>&lt;chr&gt;</th></tr>\n",
       "</thead>\n",
       "<tbody>\n",
       "\t<tr><td>Levels: 1-2</td><td> 1.461039</td><td>0.4713586</td><td>0.8043723</td><td>4.211820e-01</td><td>0.5849690</td><td>  3.755306</td><td>NOBS</td><td>Post-COVID</td><td>Symptoms Levels</td></tr>\n",
       "\t<tr><td>Levels: 3-4</td><td> 4.441558</td><td>0.5847675</td><td>2.5497403</td><td>1.078032e-02</td><td>1.4606195</td><td> 14.730212</td><td>NOBS</td><td>Post-COVID</td><td>Symptoms Levels</td></tr>\n",
       "\t<tr><td>Levels: &gt;=5</td><td> 2.250000</td><td>0.6019749</td><td>1.3471164</td><td>1.779427e-01</td><td>0.7003072</td><td><span style=white-space:pre-wrap>  7.559950</span></td><td>NOBS</td><td>Post-COVID</td><td>Symptoms Levels</td></tr>\n",
       "\t<tr><td>Levels: 1-2</td><td> 3.600000</td><td>0.6006816</td><td>2.1324671</td><td>3.296847e-02</td><td>1.1665302</td><td> 12.729565</td><td>OBS </td><td>Post-COVID</td><td>Symptoms Levels</td></tr>\n",
       "\t<tr><td>Levels: 3-4</td><td>31.200000</td><td>0.7920275</td><td>4.3438112</td><td>1.400319e-05</td><td>7.4854208</td><td>176.968841</td><td>OBS </td><td>Post-COVID</td><td>Symptoms Levels</td></tr>\n",
       "\t<tr><td>Levels: &gt;=5</td><td>11.400000</td><td>0.6890959</td><td>3.5316033</td><td>4.130485e-04</td><td>3.1676509</td><td> 48.593080</td><td>OBS </td><td>Post-COVID</td><td>Symptoms Levels</td></tr>\n",
       "</tbody>\n",
       "</table>\n"
      ],
      "text/latex": [
       "A tibble: 6 × 10\n",
       "\\begin{tabular}{llllllllll}\n",
       " term & OR & std.error & statistic & p.value & CI\\_low & CI\\_high & Condition & Timepoint & Variable\\\\\n",
       " <chr> & <dbl> & <dbl> & <dbl> & <dbl> & <dbl> & <dbl> & <chr> & <chr> & <chr>\\\\\n",
       "\\hline\n",
       "\t Levels: 1-2 &  1.461039 & 0.4713586 & 0.8043723 & 4.211820e-01 & 0.5849690 &   3.755306 & NOBS & Post-COVID & Symptoms Levels\\\\\n",
       "\t Levels: 3-4 &  4.441558 & 0.5847675 & 2.5497403 & 1.078032e-02 & 1.4606195 &  14.730212 & NOBS & Post-COVID & Symptoms Levels\\\\\n",
       "\t Levels: >=5 &  2.250000 & 0.6019749 & 1.3471164 & 1.779427e-01 & 0.7003072 &   7.559950 & NOBS & Post-COVID & Symptoms Levels\\\\\n",
       "\t Levels: 1-2 &  3.600000 & 0.6006816 & 2.1324671 & 3.296847e-02 & 1.1665302 &  12.729565 & OBS  & Post-COVID & Symptoms Levels\\\\\n",
       "\t Levels: 3-4 & 31.200000 & 0.7920275 & 4.3438112 & 1.400319e-05 & 7.4854208 & 176.968841 & OBS  & Post-COVID & Symptoms Levels\\\\\n",
       "\t Levels: >=5 & 11.400000 & 0.6890959 & 3.5316033 & 4.130485e-04 & 3.1676509 &  48.593080 & OBS  & Post-COVID & Symptoms Levels\\\\\n",
       "\\end{tabular}\n"
      ],
      "text/markdown": [
       "\n",
       "A tibble: 6 × 10\n",
       "\n",
       "| term &lt;chr&gt; | OR &lt;dbl&gt; | std.error &lt;dbl&gt; | statistic &lt;dbl&gt; | p.value &lt;dbl&gt; | CI_low &lt;dbl&gt; | CI_high &lt;dbl&gt; | Condition &lt;chr&gt; | Timepoint &lt;chr&gt; | Variable &lt;chr&gt; |\n",
       "|---|---|---|---|---|---|---|---|---|---|\n",
       "| Levels: 1-2 |  1.461039 | 0.4713586 | 0.8043723 | 4.211820e-01 | 0.5849690 |   3.755306 | NOBS | Post-COVID | Symptoms Levels |\n",
       "| Levels: 3-4 |  4.441558 | 0.5847675 | 2.5497403 | 1.078032e-02 | 1.4606195 |  14.730212 | NOBS | Post-COVID | Symptoms Levels |\n",
       "| Levels: &gt;=5 |  2.250000 | 0.6019749 | 1.3471164 | 1.779427e-01 | 0.7003072 |   7.559950 | NOBS | Post-COVID | Symptoms Levels |\n",
       "| Levels: 1-2 |  3.600000 | 0.6006816 | 2.1324671 | 3.296847e-02 | 1.1665302 |  12.729565 | OBS  | Post-COVID | Symptoms Levels |\n",
       "| Levels: 3-4 | 31.200000 | 0.7920275 | 4.3438112 | 1.400319e-05 | 7.4854208 | 176.968841 | OBS  | Post-COVID | Symptoms Levels |\n",
       "| Levels: &gt;=5 | 11.400000 | 0.6890959 | 3.5316033 | 4.130485e-04 | 3.1676509 |  48.593080 | OBS  | Post-COVID | Symptoms Levels |\n",
       "\n"
      ],
      "text/plain": [
       "  term        OR        std.error statistic p.value      CI_low    CI_high   \n",
       "1 Levels: 1-2  1.461039 0.4713586 0.8043723 4.211820e-01 0.5849690   3.755306\n",
       "2 Levels: 3-4  4.441558 0.5847675 2.5497403 1.078032e-02 1.4606195  14.730212\n",
       "3 Levels: >=5  2.250000 0.6019749 1.3471164 1.779427e-01 0.7003072   7.559950\n",
       "4 Levels: 1-2  3.600000 0.6006816 2.1324671 3.296847e-02 1.1665302  12.729565\n",
       "5 Levels: 3-4 31.200000 0.7920275 4.3438112 1.400319e-05 7.4854208 176.968841\n",
       "6 Levels: >=5 11.400000 0.6890959 3.5316033 4.130485e-04 3.1676509  48.593080\n",
       "  Condition Timepoint  Variable       \n",
       "1 NOBS      Post-COVID Symptoms Levels\n",
       "2 NOBS      Post-COVID Symptoms Levels\n",
       "3 NOBS      Post-COVID Symptoms Levels\n",
       "4 OBS       Post-COVID Symptoms Levels\n",
       "5 OBS       Post-COVID Symptoms Levels\n",
       "6 OBS       Post-COVID Symptoms Levels"
      ]
     },
     "metadata": {},
     "output_type": "display_data"
    }
   ],
   "source": [
    "head(results_rtn)"
   ]
  },
  {
   "cell_type": "code",
   "execution_count": 32,
   "id": "8277184d-cf24-4be8-8f8f-76a24c23770e",
   "metadata": {},
   "outputs": [
    {
     "data": {
      "image/png": "[encoded data removed]",
      "text/plain": [
       "plot without title"
      ]
     },
     "metadata": {
      "image/png": {
       "height": 420,
       "width": 420
      }
     },
     "output_type": "display_data"
    }
   ],
   "source": [
    "ggplot(results_rtn, aes(x = OR, y = fct_rev(term), color = Condition)) +\n",
    "  geom_point(position = position_dodge(width = 0.5), size = 2.5) +\n",
    "  geom_errorbarh(aes(xmin = CI_low, xmax = CI_high),\n",
    "                 position = position_dodge(width = 0.5),\n",
    "                 height = 0.2) +\n",
    "  geom_vline(xintercept = 1, linetype = \"dashed\", color = \"gray30\") + \n",
    "  scale_x_log10(breaks = c(0.3, 1, 2, 5, 10, 100), limits = c(0.3, 250)) +\n",
    "  scale_color_manual(values = c(\"OBS\" = \"#9F1C20\", \"NOBS\" = \"#9F9FA3\")) +\n",
    "  theme_minimal() +\n",
    "  labs(\n",
    "    x = \"Adjusted odds ratio (95% CI)\",\n",
    "    y = NULL,\n",
    "    color = NULL\n",
    "  ) +\n",
    "  theme_minimal(base_size = 14) +\n",
    "  theme(\n",
    "    axis.text.y = element_text(size = 14, color = \"black\", hjust = 0),\n",
    "    axis.text.x = element_text(size = 12, color = \"black\"),\n",
    "    legend.position = \"bottom\",\n",
    "    panel.grid.major = element_blank(),\n",
    "    panel.grid.minor = element_blank() \n",
    "  )"
   ]
  },
  {
   "cell_type": "code",
   "execution_count": 33,
   "id": "4d7833ee-39ea-4085-a19b-13284b4eab4c",
   "metadata": {},
   "outputs": [
    {
     "data": {
      "text/html": [
       "<table class=\"dataframe\">\n",
       "<caption>A tibble: 12 × 10</caption>\n",
       "<thead>\n",
       "\t<tr><th scope=col>term</th><th scope=col>OR</th><th scope=col>std.error</th><th scope=col>statistic</th><th scope=col>p.value</th><th scope=col>CI_low</th><th scope=col>CI_high</th><th scope=col>Condition</th><th scope=col>Timepoint</th><th scope=col>Variable</th></tr>\n",
       "\t<tr><th scope=col>&lt;chr&gt;</th><th scope=col>&lt;dbl&gt;</th><th scope=col>&lt;dbl&gt;</th><th scope=col>&lt;dbl&gt;</th><th scope=col>&lt;dbl&gt;</th><th scope=col>&lt;dbl&gt;</th><th scope=col>&lt;dbl&gt;</th><th scope=col>&lt;chr&gt;</th><th scope=col>&lt;chr&gt;</th><th scope=col>&lt;chr&gt;</th></tr>\n",
       "</thead>\n",
       "<tbody>\n",
       "\t<tr><td>Levels: 1-2</td><td> 1.293750</td><td>0.6211597</td><td>0.4146196</td><td>6.784204e-01</td><td>0.3924375</td><td>  4.681626</td><td>NOBS</td><td>Long COVID</td><td>Symptoms Levels</td></tr>\n",
       "\t<tr><td>Levels: 3-4</td><td> 1.975610</td><td>0.5980999</td><td>1.1384002</td><td>2.549534e-01</td><td>0.6291190</td><td>  6.880537</td><td>NOBS</td><td>Long COVID</td><td>Symptoms Levels</td></tr>\n",
       "\t<tr><td>Levels: &gt;=5</td><td> 3.518182</td><td>0.6162965</td><td>2.0411349</td><td>4.123742e-02</td><td>1.0824457</td><td> 12.665148</td><td>NOBS</td><td>Long COVID</td><td>Symptoms Levels</td></tr>\n",
       "\t<tr><td>Levels: 1-2</td><td> 1.153846</td><td>0.6364967</td><td>0.2248257</td><td>8.221148e-01</td><td>0.3397558</td><td>  4.288767</td><td>OBS </td><td>Long COVID</td><td>Symptoms Levels</td></tr>\n",
       "\t<tr><td>Levels: 3-4</td><td> 2.500000</td><td>0.6422615</td><td>1.4266629</td><td>1.536771e-01</td><td>0.7330114</td><td>  9.437732</td><td>OBS </td><td>Long COVID</td><td>Symptoms Levels</td></tr>\n",
       "\t<tr><td>Levels: &gt;=5</td><td> 6.736842</td><td>0.6068413</td><td>3.1434763</td><td>1.669539e-03</td><td>2.1295773</td><td> 23.957595</td><td>OBS </td><td>Long COVID</td><td>Symptoms Levels</td></tr>\n",
       "\t<tr><td>Levels: 1-2</td><td> 1.461039</td><td>0.4713586</td><td>0.8043723</td><td>4.211820e-01</td><td>0.5849690</td><td>  3.755306</td><td>NOBS</td><td>Post-COVID</td><td>Symptoms Levels</td></tr>\n",
       "\t<tr><td>Levels: 3-4</td><td> 4.441558</td><td>0.5847675</td><td>2.5497403</td><td>1.078032e-02</td><td>1.4606195</td><td> 14.730212</td><td>NOBS</td><td>Post-COVID</td><td>Symptoms Levels</td></tr>\n",
       "\t<tr><td>Levels: &gt;=5</td><td> 2.250000</td><td>0.6019749</td><td>1.3471164</td><td>1.779427e-01</td><td>0.7003072</td><td><span style=white-space:pre-wrap>  7.559950</span></td><td>NOBS</td><td>Post-COVID</td><td>Symptoms Levels</td></tr>\n",
       "\t<tr><td>Levels: 1-2</td><td> 3.600000</td><td>0.6006816</td><td>2.1324671</td><td>3.296847e-02</td><td>1.1665302</td><td> 12.729565</td><td>OBS </td><td>Post-COVID</td><td>Symptoms Levels</td></tr>\n",
       "\t<tr><td>Levels: 3-4</td><td>31.200000</td><td>0.7920275</td><td>4.3438112</td><td>1.400319e-05</td><td>7.4854208</td><td>176.968841</td><td>OBS </td><td>Post-COVID</td><td>Symptoms Levels</td></tr>\n",
       "\t<tr><td>Levels: &gt;=5</td><td>11.400000</td><td>0.6890959</td><td>3.5316033</td><td>4.130485e-04</td><td>3.1676509</td><td> 48.593080</td><td>OBS </td><td>Post-COVID</td><td>Symptoms Levels</td></tr>\n",
       "</tbody>\n",
       "</table>\n"
      ],
      "text/latex": [
       "A tibble: 12 × 10\n",
       "\\begin{tabular}{llllllllll}\n",
       " term & OR & std.error & statistic & p.value & CI\\_low & CI\\_high & Condition & Timepoint & Variable\\\\\n",
       " <chr> & <dbl> & <dbl> & <dbl> & <dbl> & <dbl> & <dbl> & <chr> & <chr> & <chr>\\\\\n",
       "\\hline\n",
       "\t Levels: 1-2 &  1.293750 & 0.6211597 & 0.4146196 & 6.784204e-01 & 0.3924375 &   4.681626 & NOBS & Long COVID & Symptoms Levels\\\\\n",
       "\t Levels: 3-4 &  1.975610 & 0.5980999 & 1.1384002 & 2.549534e-01 & 0.6291190 &   6.880537 & NOBS & Long COVID & Symptoms Levels\\\\\n",
       "\t Levels: >=5 &  3.518182 & 0.6162965 & 2.0411349 & 4.123742e-02 & 1.0824457 &  12.665148 & NOBS & Long COVID & Symptoms Levels\\\\\n",
       "\t Levels: 1-2 &  1.153846 & 0.6364967 & 0.2248257 & 8.221148e-01 & 0.3397558 &   4.288767 & OBS  & Long COVID & Symptoms Levels\\\\\n",
       "\t Levels: 3-4 &  2.500000 & 0.6422615 & 1.4266629 & 1.536771e-01 & 0.7330114 &   9.437732 & OBS  & Long COVID & Symptoms Levels\\\\\n",
       "\t Levels: >=5 &  6.736842 & 0.6068413 & 3.1434763 & 1.669539e-03 & 2.1295773 &  23.957595 & OBS  & Long COVID & Symptoms Levels\\\\\n",
       "\t Levels: 1-2 &  1.461039 & 0.4713586 & 0.8043723 & 4.211820e-01 & 0.5849690 &   3.755306 & NOBS & Post-COVID & Symptoms Levels\\\\\n",
       "\t Levels: 3-4 &  4.441558 & 0.5847675 & 2.5497403 & 1.078032e-02 & 1.4606195 &  14.730212 & NOBS & Post-COVID & Symptoms Levels\\\\\n",
       "\t Levels: >=5 &  2.250000 & 0.6019749 & 1.3471164 & 1.779427e-01 & 0.7003072 &   7.559950 & NOBS & Post-COVID & Symptoms Levels\\\\\n",
       "\t Levels: 1-2 &  3.600000 & 0.6006816 & 2.1324671 & 3.296847e-02 & 1.1665302 &  12.729565 & OBS  & Post-COVID & Symptoms Levels\\\\\n",
       "\t Levels: 3-4 & 31.200000 & 0.7920275 & 4.3438112 & 1.400319e-05 & 7.4854208 & 176.968841 & OBS  & Post-COVID & Symptoms Levels\\\\\n",
       "\t Levels: >=5 & 11.400000 & 0.6890959 & 3.5316033 & 4.130485e-04 & 3.1676509 &  48.593080 & OBS  & Post-COVID & Symptoms Levels\\\\\n",
       "\\end{tabular}\n"
      ],
      "text/markdown": [
       "\n",
       "A tibble: 12 × 10\n",
       "\n",
       "| term &lt;chr&gt; | OR &lt;dbl&gt; | std.error &lt;dbl&gt; | statistic &lt;dbl&gt; | p.value &lt;dbl&gt; | CI_low &lt;dbl&gt; | CI_high &lt;dbl&gt; | Condition &lt;chr&gt; | Timepoint &lt;chr&gt; | Variable &lt;chr&gt; |\n",
       "|---|---|---|---|---|---|---|---|---|---|\n",
       "| Levels: 1-2 |  1.293750 | 0.6211597 | 0.4146196 | 6.784204e-01 | 0.3924375 |   4.681626 | NOBS | Long COVID | Symptoms Levels |\n",
       "| Levels: 3-4 |  1.975610 | 0.5980999 | 1.1384002 | 2.549534e-01 | 0.6291190 |   6.880537 | NOBS | Long COVID | Symptoms Levels |\n",
       "| Levels: &gt;=5 |  3.518182 | 0.6162965 | 2.0411349 | 4.123742e-02 | 1.0824457 |  12.665148 | NOBS | Long COVID | Symptoms Levels |\n",
       "| Levels: 1-2 |  1.153846 | 0.6364967 | 0.2248257 | 8.221148e-01 | 0.3397558 |   4.288767 | OBS  | Long COVID | Symptoms Levels |\n",
       "| Levels: 3-4 |  2.500000 | 0.6422615 | 1.4266629 | 1.536771e-01 | 0.7330114 |   9.437732 | OBS  | Long COVID | Symptoms Levels |\n",
       "| Levels: &gt;=5 |  6.736842 | 0.6068413 | 3.1434763 | 1.669539e-03 | 2.1295773 |  23.957595 | OBS  | Long COVID | Symptoms Levels |\n",
       "| Levels: 1-2 |  1.461039 | 0.4713586 | 0.8043723 | 4.211820e-01 | 0.5849690 |   3.755306 | NOBS | Post-COVID | Symptoms Levels |\n",
       "| Levels: 3-4 |  4.441558 | 0.5847675 | 2.5497403 | 1.078032e-02 | 1.4606195 |  14.730212 | NOBS | Post-COVID | Symptoms Levels |\n",
       "| Levels: &gt;=5 |  2.250000 | 0.6019749 | 1.3471164 | 1.779427e-01 | 0.7003072 |   7.559950 | NOBS | Post-COVID | Symptoms Levels |\n",
       "| Levels: 1-2 |  3.600000 | 0.6006816 | 2.1324671 | 3.296847e-02 | 1.1665302 |  12.729565 | OBS  | Post-COVID | Symptoms Levels |\n",
       "| Levels: 3-4 | 31.200000 | 0.7920275 | 4.3438112 | 1.400319e-05 | 7.4854208 | 176.968841 | OBS  | Post-COVID | Symptoms Levels |\n",
       "| Levels: &gt;=5 | 11.400000 | 0.6890959 | 3.5316033 | 4.130485e-04 | 3.1676509 |  48.593080 | OBS  | Post-COVID | Symptoms Levels |\n",
       "\n"
      ],
      "text/plain": [
       "   term        OR        std.error statistic p.value      CI_low    CI_high   \n",
       "1  Levels: 1-2  1.293750 0.6211597 0.4146196 6.784204e-01 0.3924375   4.681626\n",
       "2  Levels: 3-4  1.975610 0.5980999 1.1384002 2.549534e-01 0.6291190   6.880537\n",
       "3  Levels: >=5  3.518182 0.6162965 2.0411349 4.123742e-02 1.0824457  12.665148\n",
       "4  Levels: 1-2  1.153846 0.6364967 0.2248257 8.221148e-01 0.3397558   4.288767\n",
       "5  Levels: 3-4  2.500000 0.6422615 1.4266629 1.536771e-01 0.7330114   9.437732\n",
       "6  Levels: >=5  6.736842 0.6068413 3.1434763 1.669539e-03 2.1295773  23.957595\n",
       "7  Levels: 1-2  1.461039 0.4713586 0.8043723 4.211820e-01 0.5849690   3.755306\n",
       "8  Levels: 3-4  4.441558 0.5847675 2.5497403 1.078032e-02 1.4606195  14.730212\n",
       "9  Levels: >=5  2.250000 0.6019749 1.3471164 1.779427e-01 0.7003072   7.559950\n",
       "10 Levels: 1-2  3.600000 0.6006816 2.1324671 3.296847e-02 1.1665302  12.729565\n",
       "11 Levels: 3-4 31.200000 0.7920275 4.3438112 1.400319e-05 7.4854208 176.968841\n",
       "12 Levels: >=5 11.400000 0.6890959 3.5316033 4.130485e-04 3.1676509  48.593080\n",
       "   Condition Timepoint  Variable       \n",
       "1  NOBS      Long COVID Symptoms Levels\n",
       "2  NOBS      Long COVID Symptoms Levels\n",
       "3  NOBS      Long COVID Symptoms Levels\n",
       "4  OBS       Long COVID Symptoms Levels\n",
       "5  OBS       Long COVID Symptoms Levels\n",
       "6  OBS       Long COVID Symptoms Levels\n",
       "7  NOBS      Post-COVID Symptoms Levels\n",
       "8  NOBS      Post-COVID Symptoms Levels\n",
       "9  NOBS      Post-COVID Symptoms Levels\n",
       "10 OBS       Post-COVID Symptoms Levels\n",
       "11 OBS       Post-COVID Symptoms Levels\n",
       "12 OBS       Post-COVID Symptoms Levels"
      ]
     },
     "metadata": {},
     "output_type": "display_data"
    }
   ],
   "source": [
    "all_results <- bind_rows(results, results_rtn)\n",
    "all_results"
   ]
  },
  {
   "cell_type": "code",
   "execution_count": 34,
   "id": "c9f840b9-1769-4cb2-a6c1-f21572f1e899",
   "metadata": {},
   "outputs": [
    {
     "data": {
      "image/png": "[encoded data removed]",
      "text/plain": [
       "plot without title"
      ]
     },
     "metadata": {
      "image/png": {
       "height": 420,
       "width": 420
      }
     },
     "output_type": "display_data"
    }
   ],
   "source": [
    "# Forest plot com facet por Timepoint\n",
    "ggplot(all_results, aes(x = OR, y = fct_rev(term), color = Condition)) +\n",
    "  geom_point(position = position_dodge(width = 0.5), size = 2.5) +\n",
    "  geom_errorbarh(aes(xmin = CI_low, xmax = CI_high),\n",
    "                 position = position_dodge(width = 0.5),\n",
    "                 height = 0.2) +\n",
    "  geom_vline(xintercept = 1, linetype = \"dashed\", color = \"gray30\") +\n",
    "  scale_x_log10(breaks = c(0.3, 1, 2, 5, 10, 100), limits = c(0.3, 250)) +\n",
    "  scale_color_manual(values = c(\"OBS\" = \"#9F1C20\", \"NOBS\" = \"#9F9FA3\")) +\n",
    "  theme_minimal(base_size = 14) +\n",
    "  labs(\n",
    "    x = \"Adjusted odds ratio (95% CI)\",\n",
    "    y = NULL,\n",
    "    color = NULL\n",
    "  ) +\n",
    "  theme(\n",
    "    axis.text.y = element_text(size = 14, color = \"black\", hjust = 0),\n",
    "    axis.text.x = element_text(size = 12, color = \"black\"),\n",
    "    legend.position = \"bottom\",\n",
    "    panel.grid.major = element_blank(),\n",
    "    panel.grid.minor = element_blank()\n",
    "  ) +\n",
    "  facet_grid(~ Timepoint)"
   ]
  },
  {
   "cell_type": "code",
   "execution_count": 35,
   "id": "38be7e73-09bb-45fe-acf5-ca5c0a35b6c3",
   "metadata": {
    "vscode": {
     "languageId": "r"
    }
   },
   "outputs": [
    {
     "data": {
      "text/html": [
       "<table class=\"dataframe\">\n",
       "<caption>A data.frame: 6 × 2</caption>\n",
       "<thead>\n",
       "\t<tr><th></th><th scope=col>NOBS</th><th scope=col>NIVEIS</th></tr>\n",
       "\t<tr><th></th><th scope=col>&lt;fct&gt;</th><th scope=col>&lt;fct&gt;</th></tr>\n",
       "</thead>\n",
       "<tbody>\n",
       "\t<tr><th scope=row>1</th><td>NOBS_Masculino</td><td>1-2 </td></tr>\n",
       "\t<tr><th scope=row>2</th><td>NOBS_Feminino </td><td>None</td></tr>\n",
       "\t<tr><th scope=row>3</th><td>NOBS_Masculino</td><td>3-4 </td></tr>\n",
       "\t<tr><th scope=row>4</th><td>NOBS_Feminino </td><td>3-4 </td></tr>\n",
       "\t<tr><th scope=row>5</th><td>NOBS_Masculino</td><td>None</td></tr>\n",
       "\t<tr><th scope=row>6</th><td>NOBS_Masculino</td><td>1-2 </td></tr>\n",
       "</tbody>\n",
       "</table>\n"
      ],
      "text/latex": [
       "A data.frame: 6 × 2\n",
       "\\begin{tabular}{r|ll}\n",
       "  & NOBS & NIVEIS\\\\\n",
       "  & <fct> & <fct>\\\\\n",
       "\\hline\n",
       "\t1 & NOBS\\_Masculino & 1-2 \\\\\n",
       "\t2 & NOBS\\_Feminino  & None\\\\\n",
       "\t3 & NOBS\\_Masculino & 3-4 \\\\\n",
       "\t4 & NOBS\\_Feminino  & 3-4 \\\\\n",
       "\t5 & NOBS\\_Masculino & None\\\\\n",
       "\t6 & NOBS\\_Masculino & 1-2 \\\\\n",
       "\\end{tabular}\n"
      ],
      "text/markdown": [
       "\n",
       "A data.frame: 6 × 2\n",
       "\n",
       "| <!--/--> | NOBS &lt;fct&gt; | NIVEIS &lt;fct&gt; |\n",
       "|---|---|---|\n",
       "| 1 | NOBS_Masculino | 1-2  |\n",
       "| 2 | NOBS_Feminino  | None |\n",
       "| 3 | NOBS_Masculino | 3-4  |\n",
       "| 4 | NOBS_Feminino  | 3-4  |\n",
       "| 5 | NOBS_Masculino | None |\n",
       "| 6 | NOBS_Masculino | 1-2  |\n",
       "\n"
      ],
      "text/plain": [
       "  NOBS           NIVEIS\n",
       "1 NOBS_Masculino 1-2   \n",
       "2 NOBS_Feminino  None  \n",
       "3 NOBS_Masculino 3-4   \n",
       "4 NOBS_Feminino  3-4   \n",
       "5 NOBS_Masculino None  \n",
       "6 NOBS_Masculino 1-2   "
      ]
     },
     "metadata": {},
     "output_type": "display_data"
    }
   ],
   "source": [
    "rlog_nobs_rtn <- obs_rtn %>%\n",
    "  filter(CONDITION == \"NOBS\") %>%\n",
    "  mutate(\n",
    "    NOBS = factor(paste(CONDITION, SEX, sep = \"_\"), levels = c(\"NOBS_Masculino\", \"NOBS_Feminino\")),\n",
    "    NIVEIS = factor(NIVEIS)) %>%  \n",
    "  select(NOBS, NIVEIS) \n",
    "head(rlog_nobs_rtn)"
   ]
  },
  {
   "cell_type": "markdown",
   "id": "3848444f-e78b-44fb-83b0-2c89c4c053ad",
   "metadata": {},
   "source": [
    "### Add baseline"
   ]
  },
  {
   "cell_type": "code",
   "execution_count": 36,
   "id": "c0325cf5-535c-42f8-8694-43d7a4c06923",
   "metadata": {},
   "outputs": [],
   "source": [
    "# Add\"None\" information\n",
    "baseline <- all_results %>%\n",
    "  distinct(Timepoint, Condition, Variable) %>% \n",
    "  mutate(\n",
    "    term = \"None\",\n",
    "    OR = 1,\n",
    "    std.error = NA,\n",
    "    statistic = NA,\n",
    "    p.value = NA,\n",
    "    CI_low = 1,\n",
    "    CI_high = 1\n",
    "  )\n",
    "\n",
    "# Junta baseline com os resultados\n",
    "all_results_plot <- bind_rows(all_results, baseline)"
   ]
  },
  {
   "cell_type": "code",
   "execution_count": 37,
   "id": "2998d58e-cb6b-44b1-8928-a02a0d12270c",
   "metadata": {},
   "outputs": [],
   "source": [
    "all_results_plot <- all_results_plot %>%\n",
    "  mutate(\n",
    "    term = factor(term, levels = c(\"None\", \"Levels: 1-2\", \"Levels: 3-4\", \"Levels: >=5\"))\n",
    "  )"
   ]
  },
  {
   "cell_type": "code",
   "execution_count": 38,
   "id": "affa0049-08c7-4bad-b0e4-237060b3763f",
   "metadata": {},
   "outputs": [
    {
     "data": {
      "text/html": [
       "<table class=\"dataframe\">\n",
       "<caption>A tibble: 16 × 10</caption>\n",
       "<thead>\n",
       "\t<tr><th scope=col>term</th><th scope=col>OR</th><th scope=col>std.error</th><th scope=col>statistic</th><th scope=col>p.value</th><th scope=col>CI_low</th><th scope=col>CI_high</th><th scope=col>Condition</th><th scope=col>Timepoint</th><th scope=col>Variable</th></tr>\n",
       "\t<tr><th scope=col>&lt;fct&gt;</th><th scope=col>&lt;dbl&gt;</th><th scope=col>&lt;dbl&gt;</th><th scope=col>&lt;dbl&gt;</th><th scope=col>&lt;dbl&gt;</th><th scope=col>&lt;dbl&gt;</th><th scope=col>&lt;dbl&gt;</th><th scope=col>&lt;chr&gt;</th><th scope=col>&lt;chr&gt;</th><th scope=col>&lt;chr&gt;</th></tr>\n",
       "</thead>\n",
       "<tbody>\n",
       "\t<tr><td>Levels: 1-2</td><td> 1.293750</td><td>0.6211597</td><td>0.4146196</td><td>6.784204e-01</td><td>0.3924375</td><td>  4.681626</td><td>NOBS</td><td>Long COVID</td><td>Symptoms Levels</td></tr>\n",
       "\t<tr><td>Levels: 3-4</td><td> 1.975610</td><td>0.5980999</td><td>1.1384002</td><td>2.549534e-01</td><td>0.6291190</td><td>  6.880537</td><td>NOBS</td><td>Long COVID</td><td>Symptoms Levels</td></tr>\n",
       "\t<tr><td>Levels: &gt;=5</td><td> 3.518182</td><td>0.6162965</td><td>2.0411349</td><td>4.123742e-02</td><td>1.0824457</td><td> 12.665148</td><td>NOBS</td><td>Long COVID</td><td>Symptoms Levels</td></tr>\n",
       "\t<tr><td>Levels: 1-2</td><td> 1.153846</td><td>0.6364967</td><td>0.2248257</td><td>8.221148e-01</td><td>0.3397558</td><td>  4.288767</td><td>OBS </td><td>Long COVID</td><td>Symptoms Levels</td></tr>\n",
       "\t<tr><td>Levels: 3-4</td><td> 2.500000</td><td>0.6422615</td><td>1.4266629</td><td>1.536771e-01</td><td>0.7330114</td><td>  9.437732</td><td>OBS </td><td>Long COVID</td><td>Symptoms Levels</td></tr>\n",
       "\t<tr><td>Levels: &gt;=5</td><td> 6.736842</td><td>0.6068413</td><td>3.1434763</td><td>1.669539e-03</td><td>2.1295773</td><td> 23.957595</td><td>OBS </td><td>Long COVID</td><td>Symptoms Levels</td></tr>\n",
       "\t<tr><td>Levels: 1-2</td><td> 1.461039</td><td>0.4713586</td><td>0.8043723</td><td>4.211820e-01</td><td>0.5849690</td><td>  3.755306</td><td>NOBS</td><td>Post-COVID</td><td>Symptoms Levels</td></tr>\n",
       "\t<tr><td>Levels: 3-4</td><td> 4.441558</td><td>0.5847675</td><td>2.5497403</td><td>1.078032e-02</td><td>1.4606195</td><td> 14.730212</td><td>NOBS</td><td>Post-COVID</td><td>Symptoms Levels</td></tr>\n",
       "\t<tr><td>Levels: &gt;=5</td><td> 2.250000</td><td>0.6019749</td><td>1.3471164</td><td>1.779427e-01</td><td>0.7003072</td><td><span style=white-space:pre-wrap>  7.559950</span></td><td>NOBS</td><td>Post-COVID</td><td>Symptoms Levels</td></tr>\n",
       "\t<tr><td>Levels: 1-2</td><td> 3.600000</td><td>0.6006816</td><td>2.1324671</td><td>3.296847e-02</td><td>1.1665302</td><td> 12.729565</td><td>OBS </td><td>Post-COVID</td><td>Symptoms Levels</td></tr>\n",
       "\t<tr><td>Levels: 3-4</td><td>31.200000</td><td>0.7920275</td><td>4.3438112</td><td>1.400319e-05</td><td>7.4854208</td><td>176.968841</td><td>OBS </td><td>Post-COVID</td><td>Symptoms Levels</td></tr>\n",
       "\t<tr><td>Levels: &gt;=5</td><td>11.400000</td><td>0.6890959</td><td>3.5316033</td><td>4.130485e-04</td><td>3.1676509</td><td> 48.593080</td><td>OBS </td><td>Post-COVID</td><td>Symptoms Levels</td></tr>\n",
       "\t<tr><td>None       </td><td> 1.000000</td><td>       NA</td><td>       NA</td><td>          NA</td><td>1.0000000</td><td>  1.000000</td><td>NOBS</td><td>Long COVID</td><td>Symptoms Levels</td></tr>\n",
       "\t<tr><td>None       </td><td> 1.000000</td><td>       NA</td><td>       NA</td><td>          NA</td><td>1.0000000</td><td>  1.000000</td><td>OBS </td><td>Long COVID</td><td>Symptoms Levels</td></tr>\n",
       "\t<tr><td>None       </td><td> 1.000000</td><td>       NA</td><td>       NA</td><td>          NA</td><td>1.0000000</td><td>  1.000000</td><td>NOBS</td><td>Post-COVID</td><td>Symptoms Levels</td></tr>\n",
       "\t<tr><td>None       </td><td> 1.000000</td><td>       NA</td><td>       NA</td><td>          NA</td><td>1.0000000</td><td>  1.000000</td><td>OBS </td><td>Post-COVID</td><td>Symptoms Levels</td></tr>\n",
       "</tbody>\n",
       "</table>\n"
      ],
      "text/latex": [
       "A tibble: 16 × 10\n",
       "\\begin{tabular}{llllllllll}\n",
       " term & OR & std.error & statistic & p.value & CI\\_low & CI\\_high & Condition & Timepoint & Variable\\\\\n",
       " <fct> & <dbl> & <dbl> & <dbl> & <dbl> & <dbl> & <dbl> & <chr> & <chr> & <chr>\\\\\n",
       "\\hline\n",
       "\t Levels: 1-2 &  1.293750 & 0.6211597 & 0.4146196 & 6.784204e-01 & 0.3924375 &   4.681626 & NOBS & Long COVID & Symptoms Levels\\\\\n",
       "\t Levels: 3-4 &  1.975610 & 0.5980999 & 1.1384002 & 2.549534e-01 & 0.6291190 &   6.880537 & NOBS & Long COVID & Symptoms Levels\\\\\n",
       "\t Levels: >=5 &  3.518182 & 0.6162965 & 2.0411349 & 4.123742e-02 & 1.0824457 &  12.665148 & NOBS & Long COVID & Symptoms Levels\\\\\n",
       "\t Levels: 1-2 &  1.153846 & 0.6364967 & 0.2248257 & 8.221148e-01 & 0.3397558 &   4.288767 & OBS  & Long COVID & Symptoms Levels\\\\\n",
       "\t Levels: 3-4 &  2.500000 & 0.6422615 & 1.4266629 & 1.536771e-01 & 0.7330114 &   9.437732 & OBS  & Long COVID & Symptoms Levels\\\\\n",
       "\t Levels: >=5 &  6.736842 & 0.6068413 & 3.1434763 & 1.669539e-03 & 2.1295773 &  23.957595 & OBS  & Long COVID & Symptoms Levels\\\\\n",
       "\t Levels: 1-2 &  1.461039 & 0.4713586 & 0.8043723 & 4.211820e-01 & 0.5849690 &   3.755306 & NOBS & Post-COVID & Symptoms Levels\\\\\n",
       "\t Levels: 3-4 &  4.441558 & 0.5847675 & 2.5497403 & 1.078032e-02 & 1.4606195 &  14.730212 & NOBS & Post-COVID & Symptoms Levels\\\\\n",
       "\t Levels: >=5 &  2.250000 & 0.6019749 & 1.3471164 & 1.779427e-01 & 0.7003072 &   7.559950 & NOBS & Post-COVID & Symptoms Levels\\\\\n",
       "\t Levels: 1-2 &  3.600000 & 0.6006816 & 2.1324671 & 3.296847e-02 & 1.1665302 &  12.729565 & OBS  & Post-COVID & Symptoms Levels\\\\\n",
       "\t Levels: 3-4 & 31.200000 & 0.7920275 & 4.3438112 & 1.400319e-05 & 7.4854208 & 176.968841 & OBS  & Post-COVID & Symptoms Levels\\\\\n",
       "\t Levels: >=5 & 11.400000 & 0.6890959 & 3.5316033 & 4.130485e-04 & 3.1676509 &  48.593080 & OBS  & Post-COVID & Symptoms Levels\\\\\n",
       "\t None        &  1.000000 &        NA &        NA &           NA & 1.0000000 &   1.000000 & NOBS & Long COVID & Symptoms Levels\\\\\n",
       "\t None        &  1.000000 &        NA &        NA &           NA & 1.0000000 &   1.000000 & OBS  & Long COVID & Symptoms Levels\\\\\n",
       "\t None        &  1.000000 &        NA &        NA &           NA & 1.0000000 &   1.000000 & NOBS & Post-COVID & Symptoms Levels\\\\\n",
       "\t None        &  1.000000 &        NA &        NA &           NA & 1.0000000 &   1.000000 & OBS  & Post-COVID & Symptoms Levels\\\\\n",
       "\\end{tabular}\n"
      ],
      "text/markdown": [
       "\n",
       "A tibble: 16 × 10\n",
       "\n",
       "| term &lt;fct&gt; | OR &lt;dbl&gt; | std.error &lt;dbl&gt; | statistic &lt;dbl&gt; | p.value &lt;dbl&gt; | CI_low &lt;dbl&gt; | CI_high &lt;dbl&gt; | Condition &lt;chr&gt; | Timepoint &lt;chr&gt; | Variable &lt;chr&gt; |\n",
       "|---|---|---|---|---|---|---|---|---|---|\n",
       "| Levels: 1-2 |  1.293750 | 0.6211597 | 0.4146196 | 6.784204e-01 | 0.3924375 |   4.681626 | NOBS | Long COVID | Symptoms Levels |\n",
       "| Levels: 3-4 |  1.975610 | 0.5980999 | 1.1384002 | 2.549534e-01 | 0.6291190 |   6.880537 | NOBS | Long COVID | Symptoms Levels |\n",
       "| Levels: &gt;=5 |  3.518182 | 0.6162965 | 2.0411349 | 4.123742e-02 | 1.0824457 |  12.665148 | NOBS | Long COVID | Symptoms Levels |\n",
       "| Levels: 1-2 |  1.153846 | 0.6364967 | 0.2248257 | 8.221148e-01 | 0.3397558 |   4.288767 | OBS  | Long COVID | Symptoms Levels |\n",
       "| Levels: 3-4 |  2.500000 | 0.6422615 | 1.4266629 | 1.536771e-01 | 0.7330114 |   9.437732 | OBS  | Long COVID | Symptoms Levels |\n",
       "| Levels: &gt;=5 |  6.736842 | 0.6068413 | 3.1434763 | 1.669539e-03 | 2.1295773 |  23.957595 | OBS  | Long COVID | Symptoms Levels |\n",
       "| Levels: 1-2 |  1.461039 | 0.4713586 | 0.8043723 | 4.211820e-01 | 0.5849690 |   3.755306 | NOBS | Post-COVID | Symptoms Levels |\n",
       "| Levels: 3-4 |  4.441558 | 0.5847675 | 2.5497403 | 1.078032e-02 | 1.4606195 |  14.730212 | NOBS | Post-COVID | Symptoms Levels |\n",
       "| Levels: &gt;=5 |  2.250000 | 0.6019749 | 1.3471164 | 1.779427e-01 | 0.7003072 |   7.559950 | NOBS | Post-COVID | Symptoms Levels |\n",
       "| Levels: 1-2 |  3.600000 | 0.6006816 | 2.1324671 | 3.296847e-02 | 1.1665302 |  12.729565 | OBS  | Post-COVID | Symptoms Levels |\n",
       "| Levels: 3-4 | 31.200000 | 0.7920275 | 4.3438112 | 1.400319e-05 | 7.4854208 | 176.968841 | OBS  | Post-COVID | Symptoms Levels |\n",
       "| Levels: &gt;=5 | 11.400000 | 0.6890959 | 3.5316033 | 4.130485e-04 | 3.1676509 |  48.593080 | OBS  | Post-COVID | Symptoms Levels |\n",
       "| None        |  1.000000 |        NA |        NA |           NA | 1.0000000 |   1.000000 | NOBS | Long COVID | Symptoms Levels |\n",
       "| None        |  1.000000 |        NA |        NA |           NA | 1.0000000 |   1.000000 | OBS  | Long COVID | Symptoms Levels |\n",
       "| None        |  1.000000 |        NA |        NA |           NA | 1.0000000 |   1.000000 | NOBS | Post-COVID | Symptoms Levels |\n",
       "| None        |  1.000000 |        NA |        NA |           NA | 1.0000000 |   1.000000 | OBS  | Post-COVID | Symptoms Levels |\n",
       "\n"
      ],
      "text/plain": [
       "   term        OR        std.error statistic p.value      CI_low    CI_high   \n",
       "1  Levels: 1-2  1.293750 0.6211597 0.4146196 6.784204e-01 0.3924375   4.681626\n",
       "2  Levels: 3-4  1.975610 0.5980999 1.1384002 2.549534e-01 0.6291190   6.880537\n",
       "3  Levels: >=5  3.518182 0.6162965 2.0411349 4.123742e-02 1.0824457  12.665148\n",
       "4  Levels: 1-2  1.153846 0.6364967 0.2248257 8.221148e-01 0.3397558   4.288767\n",
       "5  Levels: 3-4  2.500000 0.6422615 1.4266629 1.536771e-01 0.7330114   9.437732\n",
       "6  Levels: >=5  6.736842 0.6068413 3.1434763 1.669539e-03 2.1295773  23.957595\n",
       "7  Levels: 1-2  1.461039 0.4713586 0.8043723 4.211820e-01 0.5849690   3.755306\n",
       "8  Levels: 3-4  4.441558 0.5847675 2.5497403 1.078032e-02 1.4606195  14.730212\n",
       "9  Levels: >=5  2.250000 0.6019749 1.3471164 1.779427e-01 0.7003072   7.559950\n",
       "10 Levels: 1-2  3.600000 0.6006816 2.1324671 3.296847e-02 1.1665302  12.729565\n",
       "11 Levels: 3-4 31.200000 0.7920275 4.3438112 1.400319e-05 7.4854208 176.968841\n",
       "12 Levels: >=5 11.400000 0.6890959 3.5316033 4.130485e-04 3.1676509  48.593080\n",
       "13 None         1.000000        NA        NA           NA 1.0000000   1.000000\n",
       "14 None         1.000000        NA        NA           NA 1.0000000   1.000000\n",
       "15 None         1.000000        NA        NA           NA 1.0000000   1.000000\n",
       "16 None         1.000000        NA        NA           NA 1.0000000   1.000000\n",
       "   Condition Timepoint  Variable       \n",
       "1  NOBS      Long COVID Symptoms Levels\n",
       "2  NOBS      Long COVID Symptoms Levels\n",
       "3  NOBS      Long COVID Symptoms Levels\n",
       "4  OBS       Long COVID Symptoms Levels\n",
       "5  OBS       Long COVID Symptoms Levels\n",
       "6  OBS       Long COVID Symptoms Levels\n",
       "7  NOBS      Post-COVID Symptoms Levels\n",
       "8  NOBS      Post-COVID Symptoms Levels\n",
       "9  NOBS      Post-COVID Symptoms Levels\n",
       "10 OBS       Post-COVID Symptoms Levels\n",
       "11 OBS       Post-COVID Symptoms Levels\n",
       "12 OBS       Post-COVID Symptoms Levels\n",
       "13 NOBS      Long COVID Symptoms Levels\n",
       "14 OBS       Long COVID Symptoms Levels\n",
       "15 NOBS      Post-COVID Symptoms Levels\n",
       "16 OBS       Post-COVID Symptoms Levels"
      ]
     },
     "metadata": {},
     "output_type": "display_data"
    }
   ],
   "source": [
    "all_results_plot"
   ]
  },
  {
   "cell_type": "code",
   "execution_count": 39,
   "id": "e6ecfe7a-3007-4988-8110-59ac4ea70382",
   "metadata": {},
   "outputs": [
    {
     "data": {
      "image/png": "[encoded data removed]",
      "text/plain": [
       "plot without title"
      ]
     },
     "metadata": {
      "image/png": {
       "height": 420,
       "width": 420
      }
     },
     "output_type": "display_data"
    }
   ],
   "source": [
    "ggplot(all_results_plot, aes(x = OR, y = fct_rev(term), color = Condition)) +\n",
    "  geom_point(position = position_dodge(width = 0.5), size = 2.5) +\n",
    "  geom_errorbarh(aes(xmin = CI_low, xmax = CI_high),\n",
    "                 position = position_dodge(width = 0.5),\n",
    "                 height = 0.2) +\n",
    "  geom_vline(xintercept = 1, linetype = \"dashed\", color = \"gray30\") + \n",
    "  scale_x_log10(breaks = c(0.3, 1, 10, 100)) +\n",
    "  scale_color_manual(values = c(\"OBS\" = \"#9F1C20\", \"NOBS\" = \"#9F9FA3\")) +\n",
    "  theme_bw(base_size = 14) +\n",
    "  labs(\n",
    "    x = \"Adjusted odds ratio (95% CI)\",\n",
    "    y = NULL,\n",
    "    color = NULL\n",
    "  ) +\n",
    "  theme(\n",
    "    axis.text.y = element_text(size = 12, color = \"black\", hjust = 0),\n",
    "    axis.text.x = element_text(size = 12, color = \"black\"),\n",
    "    legend.position = \"bottom\",\n",
    "    panel.grid.major = element_blank(),\n",
    "    panel.grid.minor = element_blank(),\n",
    "#    strip.background = element_rect(fill = \"grey90\",color = \"grey90\",linewidth = 0.8),\n",
    "#  strip.text = element_text(size = 14,color = \"black\")\n",
    "  ) +\n",
    "  facet_wrap(~ Timepoint, scales = \"free_x\")\n",
    "ggsave(\"combinedForestPlot_femaleVsmale.tiff\", width = 8, height = 7, dpi = 300)"
   ]
  },
  {
   "cell_type": "markdown",
   "id": "daabfeea-d2ff-4ea6-bfd5-86f3bab4b13c",
   "metadata": {},
   "source": [
    "## Female vs. Female (2-Months)"
   ]
  },
  {
   "cell_type": "code",
   "execution_count": 65,
   "id": "1a4c9c3e-31b7-4b8b-b767-804ae0781909",
   "metadata": {},
   "outputs": [],
   "source": [
    "rlog_fem_adm <- rlog_obs %>%\n",
    "  filter(SEX == \"Feminino\") %>%\n",
    "  mutate(\n",
    "    GROUP = factor(paste(CONDITION, SEX, sep = \"_\"), levels = c(\"NOBS_Feminino\", \"OBS_Feminino\")),\n",
    "    OUT = factor(ifelse(GROUP == \"OBS_Feminino\", 1, 0), levels = c(0,1)),\n",
    "    NIVEIS = factor(NIVEIS, levels = c(\"None\", \"1-2\", \"3-4\", \">=5\"))) "
   ]
  },
  {
   "cell_type": "code",
   "execution_count": 47,
   "id": "a978a6dd-cc87-487e-9c77-babc3861c694",
   "metadata": {},
   "outputs": [
    {
     "data": {
      "text/html": [
       "<table class=\"dataframe\">\n",
       "<caption>A data.frame: 6 × 18</caption>\n",
       "<thead>\n",
       "\t<tr><th></th><th scope=col>CONDITION</th><th scope=col>SEX</th><th scope=col>CEFALEIA</th><th scope=col>TOSSE</th><th scope=col>DISPNEIA</th><th scope=col>DOR_CORPO</th><th scope=col>FADIGA</th><th scope=col>DOR_TORAC</th><th scope=col>ANOREXIA</th><th scope=col>DISFAGIA</th><th scope=col>DISFONIA</th><th scope=col>ALT_PALADAR</th><th scope=col>ALT_OLFATO</th><th scope=col>LIM_MOTORA</th><th scope=col>N_SINTOMAS</th><th scope=col>NIVEIS</th><th scope=col>GROUP</th><th scope=col>OUT</th></tr>\n",
       "\t<tr><th></th><th scope=col>&lt;chr&gt;</th><th scope=col>&lt;chr&gt;</th><th scope=col>&lt;int&gt;</th><th scope=col>&lt;int&gt;</th><th scope=col>&lt;int&gt;</th><th scope=col>&lt;int&gt;</th><th scope=col>&lt;int&gt;</th><th scope=col>&lt;int&gt;</th><th scope=col>&lt;int&gt;</th><th scope=col>&lt;int&gt;</th><th scope=col>&lt;int&gt;</th><th scope=col>&lt;int&gt;</th><th scope=col>&lt;int&gt;</th><th scope=col>&lt;int&gt;</th><th scope=col>&lt;int&gt;</th><th scope=col>&lt;fct&gt;</th><th scope=col>&lt;fct&gt;</th><th scope=col>&lt;fct&gt;</th></tr>\n",
       "</thead>\n",
       "<tbody>\n",
       "\t<tr><th scope=row>1</th><td>NOBS</td><td>Feminino</td><td>0</td><td>1</td><td>1</td><td>0</td><td>1</td><td>0</td><td>0</td><td>0</td><td>0</td><td>0</td><td>0</td><td>1</td><td>4</td><td>3-4</td><td>NOBS_Feminino</td><td>0</td></tr>\n",
       "\t<tr><th scope=row>2</th><td>NOBS</td><td>Feminino</td><td>0</td><td>0</td><td>1</td><td>0</td><td>1</td><td>0</td><td>0</td><td>0</td><td>0</td><td>0</td><td>0</td><td>0</td><td>2</td><td>1-2</td><td>NOBS_Feminino</td><td>0</td></tr>\n",
       "\t<tr><th scope=row>3</th><td>NOBS</td><td>Feminino</td><td>0</td><td>1</td><td>1</td><td>0</td><td>1</td><td>0</td><td>1</td><td>0</td><td>0</td><td>1</td><td>1</td><td>0</td><td>6</td><td>&gt;=5</td><td>NOBS_Feminino</td><td>0</td></tr>\n",
       "\t<tr><th scope=row>4</th><td>OBS </td><td>Feminino</td><td>0</td><td>1</td><td>1</td><td>0</td><td>0</td><td>0</td><td>0</td><td>0</td><td>0</td><td>0</td><td>0</td><td>0</td><td>2</td><td>1-2</td><td>OBS_Feminino </td><td>1</td></tr>\n",
       "\t<tr><th scope=row>5</th><td>NOBS</td><td>Feminino</td><td>0</td><td>0</td><td>0</td><td>0</td><td>1</td><td>0</td><td>0</td><td>0</td><td>0</td><td>0</td><td>0</td><td>0</td><td>1</td><td>1-2</td><td>NOBS_Feminino</td><td>0</td></tr>\n",
       "\t<tr><th scope=row>6</th><td>NOBS</td><td>Feminino</td><td>0</td><td>0</td><td>1</td><td>0</td><td>1</td><td>0</td><td>0</td><td>0</td><td>0</td><td>0</td><td>0</td><td>1</td><td>3</td><td>3-4</td><td>NOBS_Feminino</td><td>0</td></tr>\n",
       "</tbody>\n",
       "</table>\n"
      ],
      "text/latex": [
       "A data.frame: 6 × 18\n",
       "\\begin{tabular}{r|llllllllllllllllll}\n",
       "  & CONDITION & SEX & CEFALEIA & TOSSE & DISPNEIA & DOR\\_CORPO & FADIGA & DOR\\_TORAC & ANOREXIA & DISFAGIA & DISFONIA & ALT\\_PALADAR & ALT\\_OLFATO & LIM\\_MOTORA & N\\_SINTOMAS & NIVEIS & GROUP & OUT\\\\\n",
       "  & <chr> & <chr> & <int> & <int> & <int> & <int> & <int> & <int> & <int> & <int> & <int> & <int> & <int> & <int> & <int> & <fct> & <fct> & <fct>\\\\\n",
       "\\hline\n",
       "\t1 & NOBS & Feminino & 0 & 1 & 1 & 0 & 1 & 0 & 0 & 0 & 0 & 0 & 0 & 1 & 4 & 3-4 & NOBS\\_Feminino & 0\\\\\n",
       "\t2 & NOBS & Feminino & 0 & 0 & 1 & 0 & 1 & 0 & 0 & 0 & 0 & 0 & 0 & 0 & 2 & 1-2 & NOBS\\_Feminino & 0\\\\\n",
       "\t3 & NOBS & Feminino & 0 & 1 & 1 & 0 & 1 & 0 & 1 & 0 & 0 & 1 & 1 & 0 & 6 & >=5 & NOBS\\_Feminino & 0\\\\\n",
       "\t4 & OBS  & Feminino & 0 & 1 & 1 & 0 & 0 & 0 & 0 & 0 & 0 & 0 & 0 & 0 & 2 & 1-2 & OBS\\_Feminino  & 1\\\\\n",
       "\t5 & NOBS & Feminino & 0 & 0 & 0 & 0 & 1 & 0 & 0 & 0 & 0 & 0 & 0 & 0 & 1 & 1-2 & NOBS\\_Feminino & 0\\\\\n",
       "\t6 & NOBS & Feminino & 0 & 0 & 1 & 0 & 1 & 0 & 0 & 0 & 0 & 0 & 0 & 1 & 3 & 3-4 & NOBS\\_Feminino & 0\\\\\n",
       "\\end{tabular}\n"
      ],
      "text/markdown": [
       "\n",
       "A data.frame: 6 × 18\n",
       "\n",
       "| <!--/--> | CONDITION &lt;chr&gt; | SEX &lt;chr&gt; | CEFALEIA &lt;int&gt; | TOSSE &lt;int&gt; | DISPNEIA &lt;int&gt; | DOR_CORPO &lt;int&gt; | FADIGA &lt;int&gt; | DOR_TORAC &lt;int&gt; | ANOREXIA &lt;int&gt; | DISFAGIA &lt;int&gt; | DISFONIA &lt;int&gt; | ALT_PALADAR &lt;int&gt; | ALT_OLFATO &lt;int&gt; | LIM_MOTORA &lt;int&gt; | N_SINTOMAS &lt;int&gt; | NIVEIS &lt;fct&gt; | GROUP &lt;fct&gt; | OUT &lt;fct&gt; |\n",
       "|---|---|---|---|---|---|---|---|---|---|---|---|---|---|---|---|---|---|---|\n",
       "| 1 | NOBS | Feminino | 0 | 1 | 1 | 0 | 1 | 0 | 0 | 0 | 0 | 0 | 0 | 1 | 4 | 3-4 | NOBS_Feminino | 0 |\n",
       "| 2 | NOBS | Feminino | 0 | 0 | 1 | 0 | 1 | 0 | 0 | 0 | 0 | 0 | 0 | 0 | 2 | 1-2 | NOBS_Feminino | 0 |\n",
       "| 3 | NOBS | Feminino | 0 | 1 | 1 | 0 | 1 | 0 | 1 | 0 | 0 | 1 | 1 | 0 | 6 | &gt;=5 | NOBS_Feminino | 0 |\n",
       "| 4 | OBS  | Feminino | 0 | 1 | 1 | 0 | 0 | 0 | 0 | 0 | 0 | 0 | 0 | 0 | 2 | 1-2 | OBS_Feminino  | 1 |\n",
       "| 5 | NOBS | Feminino | 0 | 0 | 0 | 0 | 1 | 0 | 0 | 0 | 0 | 0 | 0 | 0 | 1 | 1-2 | NOBS_Feminino | 0 |\n",
       "| 6 | NOBS | Feminino | 0 | 0 | 1 | 0 | 1 | 0 | 0 | 0 | 0 | 0 | 0 | 1 | 3 | 3-4 | NOBS_Feminino | 0 |\n",
       "\n"
      ],
      "text/plain": [
       "  CONDITION SEX      CEFALEIA TOSSE DISPNEIA DOR_CORPO FADIGA DOR_TORAC\n",
       "1 NOBS      Feminino 0        1     1        0         1      0        \n",
       "2 NOBS      Feminino 0        0     1        0         1      0        \n",
       "3 NOBS      Feminino 0        1     1        0         1      0        \n",
       "4 OBS       Feminino 0        1     1        0         0      0        \n",
       "5 NOBS      Feminino 0        0     0        0         1      0        \n",
       "6 NOBS      Feminino 0        0     1        0         1      0        \n",
       "  ANOREXIA DISFAGIA DISFONIA ALT_PALADAR ALT_OLFATO LIM_MOTORA N_SINTOMAS\n",
       "1 0        0        0        0           0          1          4         \n",
       "2 0        0        0        0           0          0          2         \n",
       "3 1        0        0        1           1          0          6         \n",
       "4 0        0        0        0           0          0          2         \n",
       "5 0        0        0        0           0          0          1         \n",
       "6 0        0        0        0           0          1          3         \n",
       "  NIVEIS GROUP         OUT\n",
       "1 3-4    NOBS_Feminino 0  \n",
       "2 1-2    NOBS_Feminino 0  \n",
       "3 >=5    NOBS_Feminino 0  \n",
       "4 1-2    OBS_Feminino  1  \n",
       "5 1-2    NOBS_Feminino 0  \n",
       "6 3-4    NOBS_Feminino 0  "
      ]
     },
     "metadata": {},
     "output_type": "display_data"
    }
   ],
   "source": [
    "head(rlog_fem_adm)"
   ]
  },
  {
   "cell_type": "code",
   "execution_count": 51,
   "id": "18ce8679-fa69-42d9-8b25-a99f2489ca7c",
   "metadata": {},
   "outputs": [
    {
     "data": {
      "text/plain": [
       "\n",
       "Call:\n",
       "glm(formula = OUT ~ NIVEIS, family = \"binomial\", data = rlog_fem_adm)\n",
       "\n",
       "Coefficients:\n",
       "              Estimate Std. Error z value Pr(>|z|)\n",
       "(Intercept) -2.541e-16  6.325e-01   0.000    1.000\n",
       "NIVEIS1-2   -4.274e-01  7.142e-01  -0.598    0.550\n",
       "NIVEIS3-4   -8.109e-01  6.872e-01  -1.180    0.238\n",
       "NIVEIS>=5    3.977e-01  6.625e-01   0.600    0.548\n",
       "\n",
       "(Dispersion parameter for binomial family taken to be 1)\n",
       "\n",
       "    Null deviance: 304.33  on 219  degrees of freedom\n",
       "Residual deviance: 289.27  on 216  degrees of freedom\n",
       "AIC: 297.27\n",
       "\n",
       "Number of Fisher Scoring iterations: 4\n"
      ]
     },
     "metadata": {},
     "output_type": "display_data"
    }
   ],
   "source": [
    "summary(glm(OUT ~ NIVEIS, data = rlog_fem_adm, family = \"binomial\"))"
   ]
  },
  {
   "cell_type": "markdown",
   "id": "012b142e-3306-4dd0-b15b-9c94ee8b9039",
   "metadata": {},
   "source": [
    "## Men vs. Men (2-Months)"
   ]
  },
  {
   "cell_type": "code",
   "execution_count": 66,
   "id": "ccd58cc7-0ae5-43ef-8d9b-c79d3aa24255",
   "metadata": {},
   "outputs": [],
   "source": [
    "rlog_male_adm <- rlog_obs %>%\n",
    "  filter(SEX == \"Masculino\") %>%\n",
    "  mutate(\n",
    "    GROUP = factor(paste(CONDITION, SEX, sep = \"_\"), levels = c(\"NOBS_Masculino\", \"OBS_Masculino\")),\n",
    "    OUT = factor(ifelse(GROUP == \"OBS_Masculino\", 1, 0), levels = c(0,1)),\n",
    "    NIVEIS = factor(NIVEIS, levels = c(\"None\", \"1-2\", \"3-4\", \">=5\"))) "
   ]
  },
  {
   "cell_type": "code",
   "execution_count": 68,
   "id": "3186871e-f2a7-4782-b9c7-0c3a2dccee0a",
   "metadata": {},
   "outputs": [
    {
     "data": {
      "text/html": [
       "<table class=\"dataframe\">\n",
       "<caption>A data.frame: 6 × 18</caption>\n",
       "<thead>\n",
       "\t<tr><th></th><th scope=col>CONDITION</th><th scope=col>SEX</th><th scope=col>CEFALEIA</th><th scope=col>TOSSE</th><th scope=col>DISPNEIA</th><th scope=col>DOR_CORPO</th><th scope=col>FADIGA</th><th scope=col>DOR_TORAC</th><th scope=col>ANOREXIA</th><th scope=col>DISFAGIA</th><th scope=col>DISFONIA</th><th scope=col>ALT_PALADAR</th><th scope=col>ALT_OLFATO</th><th scope=col>LIM_MOTORA</th><th scope=col>N_SINTOMAS</th><th scope=col>NIVEIS</th><th scope=col>GROUP</th><th scope=col>OUT</th></tr>\n",
       "\t<tr><th></th><th scope=col>&lt;chr&gt;</th><th scope=col>&lt;chr&gt;</th><th scope=col>&lt;int&gt;</th><th scope=col>&lt;int&gt;</th><th scope=col>&lt;int&gt;</th><th scope=col>&lt;int&gt;</th><th scope=col>&lt;int&gt;</th><th scope=col>&lt;int&gt;</th><th scope=col>&lt;int&gt;</th><th scope=col>&lt;int&gt;</th><th scope=col>&lt;int&gt;</th><th scope=col>&lt;int&gt;</th><th scope=col>&lt;int&gt;</th><th scope=col>&lt;int&gt;</th><th scope=col>&lt;int&gt;</th><th scope=col>&lt;fct&gt;</th><th scope=col>&lt;fct&gt;</th><th scope=col>&lt;fct&gt;</th></tr>\n",
       "</thead>\n",
       "<tbody>\n",
       "\t<tr><th scope=row>1</th><td>NOBS</td><td>Masculino</td><td>0</td><td>0</td><td>1</td><td>0</td><td>0</td><td>0</td><td>0</td><td>0</td><td>0</td><td>1</td><td>0</td><td>0</td><td>2</td><td>1-2</td><td>NOBS_Masculino</td><td>0</td></tr>\n",
       "\t<tr><th scope=row>2</th><td>OBS </td><td>Masculino</td><td>0</td><td>0</td><td>1</td><td>0</td><td>1</td><td>0</td><td>1</td><td>0</td><td>0</td><td>0</td><td>0</td><td>0</td><td>3</td><td>3-4</td><td>OBS_Masculino </td><td>1</td></tr>\n",
       "\t<tr><th scope=row>3</th><td>NOBS</td><td>Masculino</td><td>0</td><td>1</td><td>1</td><td>0</td><td>0</td><td>0</td><td>0</td><td>0</td><td>0</td><td>0</td><td>0</td><td>0</td><td>2</td><td>1-2</td><td>NOBS_Masculino</td><td>0</td></tr>\n",
       "\t<tr><th scope=row>4</th><td>OBS </td><td>Masculino</td><td>0</td><td>1</td><td>1</td><td>0</td><td>0</td><td>0</td><td>0</td><td>0</td><td>0</td><td>0</td><td>0</td><td>0</td><td>2</td><td>1-2</td><td>OBS_Masculino </td><td>1</td></tr>\n",
       "\t<tr><th scope=row>5</th><td>OBS </td><td>Masculino</td><td>0</td><td>0</td><td>0</td><td>0</td><td>1</td><td>0</td><td>0</td><td>0</td><td>0</td><td>0</td><td>0</td><td>0</td><td>1</td><td>1-2</td><td>OBS_Masculino </td><td>1</td></tr>\n",
       "\t<tr><th scope=row>6</th><td>NOBS</td><td>Masculino</td><td>0</td><td>1</td><td>1</td><td>0</td><td>1</td><td>0</td><td>0</td><td>0</td><td>0</td><td>0</td><td>0</td><td>0</td><td>3</td><td>3-4</td><td>NOBS_Masculino</td><td>0</td></tr>\n",
       "</tbody>\n",
       "</table>\n"
      ],
      "text/latex": [
       "A data.frame: 6 × 18\n",
       "\\begin{tabular}{r|llllllllllllllllll}\n",
       "  & CONDITION & SEX & CEFALEIA & TOSSE & DISPNEIA & DOR\\_CORPO & FADIGA & DOR\\_TORAC & ANOREXIA & DISFAGIA & DISFONIA & ALT\\_PALADAR & ALT\\_OLFATO & LIM\\_MOTORA & N\\_SINTOMAS & NIVEIS & GROUP & OUT\\\\\n",
       "  & <chr> & <chr> & <int> & <int> & <int> & <int> & <int> & <int> & <int> & <int> & <int> & <int> & <int> & <int> & <int> & <fct> & <fct> & <fct>\\\\\n",
       "\\hline\n",
       "\t1 & NOBS & Masculino & 0 & 0 & 1 & 0 & 0 & 0 & 0 & 0 & 0 & 1 & 0 & 0 & 2 & 1-2 & NOBS\\_Masculino & 0\\\\\n",
       "\t2 & OBS  & Masculino & 0 & 0 & 1 & 0 & 1 & 0 & 1 & 0 & 0 & 0 & 0 & 0 & 3 & 3-4 & OBS\\_Masculino  & 1\\\\\n",
       "\t3 & NOBS & Masculino & 0 & 1 & 1 & 0 & 0 & 0 & 0 & 0 & 0 & 0 & 0 & 0 & 2 & 1-2 & NOBS\\_Masculino & 0\\\\\n",
       "\t4 & OBS  & Masculino & 0 & 1 & 1 & 0 & 0 & 0 & 0 & 0 & 0 & 0 & 0 & 0 & 2 & 1-2 & OBS\\_Masculino  & 1\\\\\n",
       "\t5 & OBS  & Masculino & 0 & 0 & 0 & 0 & 1 & 0 & 0 & 0 & 0 & 0 & 0 & 0 & 1 & 1-2 & OBS\\_Masculino  & 1\\\\\n",
       "\t6 & NOBS & Masculino & 0 & 1 & 1 & 0 & 1 & 0 & 0 & 0 & 0 & 0 & 0 & 0 & 3 & 3-4 & NOBS\\_Masculino & 0\\\\\n",
       "\\end{tabular}\n"
      ],
      "text/markdown": [
       "\n",
       "A data.frame: 6 × 18\n",
       "\n",
       "| <!--/--> | CONDITION &lt;chr&gt; | SEX &lt;chr&gt; | CEFALEIA &lt;int&gt; | TOSSE &lt;int&gt; | DISPNEIA &lt;int&gt; | DOR_CORPO &lt;int&gt; | FADIGA &lt;int&gt; | DOR_TORAC &lt;int&gt; | ANOREXIA &lt;int&gt; | DISFAGIA &lt;int&gt; | DISFONIA &lt;int&gt; | ALT_PALADAR &lt;int&gt; | ALT_OLFATO &lt;int&gt; | LIM_MOTORA &lt;int&gt; | N_SINTOMAS &lt;int&gt; | NIVEIS &lt;fct&gt; | GROUP &lt;fct&gt; | OUT &lt;fct&gt; |\n",
       "|---|---|---|---|---|---|---|---|---|---|---|---|---|---|---|---|---|---|---|\n",
       "| 1 | NOBS | Masculino | 0 | 0 | 1 | 0 | 0 | 0 | 0 | 0 | 0 | 1 | 0 | 0 | 2 | 1-2 | NOBS_Masculino | 0 |\n",
       "| 2 | OBS  | Masculino | 0 | 0 | 1 | 0 | 1 | 0 | 1 | 0 | 0 | 0 | 0 | 0 | 3 | 3-4 | OBS_Masculino  | 1 |\n",
       "| 3 | NOBS | Masculino | 0 | 1 | 1 | 0 | 0 | 0 | 0 | 0 | 0 | 0 | 0 | 0 | 2 | 1-2 | NOBS_Masculino | 0 |\n",
       "| 4 | OBS  | Masculino | 0 | 1 | 1 | 0 | 0 | 0 | 0 | 0 | 0 | 0 | 0 | 0 | 2 | 1-2 | OBS_Masculino  | 1 |\n",
       "| 5 | OBS  | Masculino | 0 | 0 | 0 | 0 | 1 | 0 | 0 | 0 | 0 | 0 | 0 | 0 | 1 | 1-2 | OBS_Masculino  | 1 |\n",
       "| 6 | NOBS | Masculino | 0 | 1 | 1 | 0 | 1 | 0 | 0 | 0 | 0 | 0 | 0 | 0 | 3 | 3-4 | NOBS_Masculino | 0 |\n",
       "\n"
      ],
      "text/plain": [
       "  CONDITION SEX       CEFALEIA TOSSE DISPNEIA DOR_CORPO FADIGA DOR_TORAC\n",
       "1 NOBS      Masculino 0        0     1        0         0      0        \n",
       "2 OBS       Masculino 0        0     1        0         1      0        \n",
       "3 NOBS      Masculino 0        1     1        0         0      0        \n",
       "4 OBS       Masculino 0        1     1        0         0      0        \n",
       "5 OBS       Masculino 0        0     0        0         1      0        \n",
       "6 NOBS      Masculino 0        1     1        0         1      0        \n",
       "  ANOREXIA DISFAGIA DISFONIA ALT_PALADAR ALT_OLFATO LIM_MOTORA N_SINTOMAS\n",
       "1 0        0        0        1           0          0          2         \n",
       "2 1        0        0        0           0          0          3         \n",
       "3 0        0        0        0           0          0          2         \n",
       "4 0        0        0        0           0          0          2         \n",
       "5 0        0        0        0           0          0          1         \n",
       "6 0        0        0        0           0          0          3         \n",
       "  NIVEIS GROUP          OUT\n",
       "1 1-2    NOBS_Masculino 0  \n",
       "2 3-4    OBS_Masculino  1  \n",
       "3 1-2    NOBS_Masculino 0  \n",
       "4 1-2    OBS_Masculino  1  \n",
       "5 1-2    OBS_Masculino  1  \n",
       "6 3-4    NOBS_Masculino 0  "
      ]
     },
     "metadata": {},
     "output_type": "display_data"
    }
   ],
   "source": [
    "head(rlog_male_adm)"
   ]
  },
  {
   "cell_type": "code",
   "execution_count": 67,
   "id": "d766e2bc-9b90-4776-9337-fa7e56667319",
   "metadata": {},
   "outputs": [
    {
     "data": {
      "text/plain": [
       "\n",
       "Call:\n",
       "glm(formula = OUT ~ NIVEIS, family = \"binomial\", data = rlog_male_adm)\n",
       "\n",
       "Coefficients:\n",
       "            Estimate Std. Error z value Pr(>|z|)  \n",
       "(Intercept)   0.1054     0.4595   0.229   0.8186  \n",
       "NIVEIS1-2    -0.3130     0.5299  -0.591   0.5548  \n",
       "NIVEIS3-4    -1.0463     0.5459  -1.917   0.0553 .\n",
       "NIVEIS>=5    -0.2520     0.5561  -0.453   0.6505  \n",
       "---\n",
       "Signif. codes:  0 ‘***’ 0.001 ‘**’ 0.01 ‘*’ 0.05 ‘.’ 0.1 ‘ ’ 1\n",
       "\n",
       "(Dispersion parameter for binomial family taken to be 1)\n",
       "\n",
       "    Null deviance: 236.34  on 174  degrees of freedom\n",
       "Residual deviance: 230.36  on 171  degrees of freedom\n",
       "AIC: 238.36\n",
       "\n",
       "Number of Fisher Scoring iterations: 4\n"
      ]
     },
     "metadata": {},
     "output_type": "display_data"
    }
   ],
   "source": [
    "summary(glm(OUT ~ NIVEIS, data = rlog_male_adm, family = \"binomial\"))"
   ]
  },
  {
   "cell_type": "code",
   "execution_count": 88,
   "id": "732778ba-ab13-4b75-b985-d8497b907b86",
   "metadata": {},
   "outputs": [
    {
     "data": {
      "text/html": [
       "<table class=\"dataframe\">\n",
       "<caption>A data.frame: 6 × 18</caption>\n",
       "<thead>\n",
       "\t<tr><th></th><th scope=col>CONDITION</th><th scope=col>SEX</th><th scope=col>CEFALEIA</th><th scope=col>TOSSE</th><th scope=col>DISPNEIA</th><th scope=col>DOR_CORPO</th><th scope=col>FADIGA</th><th scope=col>DOR_TORAC</th><th scope=col>ANOREXIA</th><th scope=col>DISFAGIA</th><th scope=col>DISFONIA</th><th scope=col>ALT_PALADAR</th><th scope=col>ALT_OLFATO</th><th scope=col>LIM_MOTORA</th><th scope=col>N_SINTOMAS</th><th scope=col>NIVEIS</th><th scope=col>GROUP</th><th scope=col>OUT</th></tr>\n",
       "\t<tr><th></th><th scope=col>&lt;chr&gt;</th><th scope=col>&lt;chr&gt;</th><th scope=col>&lt;int&gt;</th><th scope=col>&lt;int&gt;</th><th scope=col>&lt;int&gt;</th><th scope=col>&lt;int&gt;</th><th scope=col>&lt;int&gt;</th><th scope=col>&lt;int&gt;</th><th scope=col>&lt;int&gt;</th><th scope=col>&lt;int&gt;</th><th scope=col>&lt;int&gt;</th><th scope=col>&lt;int&gt;</th><th scope=col>&lt;int&gt;</th><th scope=col>&lt;int&gt;</th><th scope=col>&lt;int&gt;</th><th scope=col>&lt;fct&gt;</th><th scope=col>&lt;fct&gt;</th><th scope=col>&lt;fct&gt;</th></tr>\n",
       "</thead>\n",
       "<tbody>\n",
       "\t<tr><th scope=row>2</th><td>NOBS</td><td>Feminino </td><td>0</td><td>1</td><td>1</td><td>0</td><td>1</td><td>0</td><td>0</td><td>0</td><td>0</td><td>0</td><td>0</td><td>1</td><td>4</td><td>3-4</td><td>NOBS_Feminino </td><td>1</td></tr>\n",
       "\t<tr><th scope=row>4</th><td>NOBS</td><td>Feminino </td><td>0</td><td>0</td><td>1</td><td>0</td><td>1</td><td>0</td><td>0</td><td>0</td><td>0</td><td>0</td><td>0</td><td>0</td><td>2</td><td>1-2</td><td>NOBS_Feminino </td><td>1</td></tr>\n",
       "\t<tr><th scope=row>5</th><td>NOBS</td><td>Masculino</td><td>0</td><td>0</td><td>1</td><td>0</td><td>0</td><td>0</td><td>0</td><td>0</td><td>0</td><td>1</td><td>0</td><td>0</td><td>2</td><td>1-2</td><td>NOBS_Masculino</td><td>0</td></tr>\n",
       "\t<tr><th scope=row>7</th><td>NOBS</td><td>Feminino </td><td>0</td><td>1</td><td>1</td><td>0</td><td>1</td><td>0</td><td>1</td><td>0</td><td>0</td><td>1</td><td>1</td><td>0</td><td>6</td><td>&gt;=5</td><td>NOBS_Feminino </td><td>1</td></tr>\n",
       "\t<tr><th scope=row>8</th><td>OBS </td><td>Masculino</td><td>0</td><td>0</td><td>1</td><td>0</td><td>1</td><td>0</td><td>1</td><td>0</td><td>0</td><td>0</td><td>0</td><td>0</td><td>3</td><td>3-4</td><td>OBS_Masculino </td><td>0</td></tr>\n",
       "\t<tr><th scope=row>9</th><td>NOBS</td><td>Masculino</td><td>0</td><td>1</td><td>1</td><td>0</td><td>0</td><td>0</td><td>0</td><td>0</td><td>0</td><td>0</td><td>0</td><td>0</td><td>2</td><td>1-2</td><td>NOBS_Masculino</td><td>0</td></tr>\n",
       "</tbody>\n",
       "</table>\n"
      ],
      "text/latex": [
       "A data.frame: 6 × 18\n",
       "\\begin{tabular}{r|llllllllllllllllll}\n",
       "  & CONDITION & SEX & CEFALEIA & TOSSE & DISPNEIA & DOR\\_CORPO & FADIGA & DOR\\_TORAC & ANOREXIA & DISFAGIA & DISFONIA & ALT\\_PALADAR & ALT\\_OLFATO & LIM\\_MOTORA & N\\_SINTOMAS & NIVEIS & GROUP & OUT\\\\\n",
       "  & <chr> & <chr> & <int> & <int> & <int> & <int> & <int> & <int> & <int> & <int> & <int> & <int> & <int> & <int> & <int> & <fct> & <fct> & <fct>\\\\\n",
       "\\hline\n",
       "\t2 & NOBS & Feminino  & 0 & 1 & 1 & 0 & 1 & 0 & 0 & 0 & 0 & 0 & 0 & 1 & 4 & 3-4 & NOBS\\_Feminino  & 1\\\\\n",
       "\t4 & NOBS & Feminino  & 0 & 0 & 1 & 0 & 1 & 0 & 0 & 0 & 0 & 0 & 0 & 0 & 2 & 1-2 & NOBS\\_Feminino  & 1\\\\\n",
       "\t5 & NOBS & Masculino & 0 & 0 & 1 & 0 & 0 & 0 & 0 & 0 & 0 & 1 & 0 & 0 & 2 & 1-2 & NOBS\\_Masculino & 0\\\\\n",
       "\t7 & NOBS & Feminino  & 0 & 1 & 1 & 0 & 1 & 0 & 1 & 0 & 0 & 1 & 1 & 0 & 6 & >=5 & NOBS\\_Feminino  & 1\\\\\n",
       "\t8 & OBS  & Masculino & 0 & 0 & 1 & 0 & 1 & 0 & 1 & 0 & 0 & 0 & 0 & 0 & 3 & 3-4 & OBS\\_Masculino  & 0\\\\\n",
       "\t9 & NOBS & Masculino & 0 & 1 & 1 & 0 & 0 & 0 & 0 & 0 & 0 & 0 & 0 & 0 & 2 & 1-2 & NOBS\\_Masculino & 0\\\\\n",
       "\\end{tabular}\n"
      ],
      "text/markdown": [
       "\n",
       "A data.frame: 6 × 18\n",
       "\n",
       "| <!--/--> | CONDITION &lt;chr&gt; | SEX &lt;chr&gt; | CEFALEIA &lt;int&gt; | TOSSE &lt;int&gt; | DISPNEIA &lt;int&gt; | DOR_CORPO &lt;int&gt; | FADIGA &lt;int&gt; | DOR_TORAC &lt;int&gt; | ANOREXIA &lt;int&gt; | DISFAGIA &lt;int&gt; | DISFONIA &lt;int&gt; | ALT_PALADAR &lt;int&gt; | ALT_OLFATO &lt;int&gt; | LIM_MOTORA &lt;int&gt; | N_SINTOMAS &lt;int&gt; | NIVEIS &lt;fct&gt; | GROUP &lt;fct&gt; | OUT &lt;fct&gt; |\n",
       "|---|---|---|---|---|---|---|---|---|---|---|---|---|---|---|---|---|---|---|\n",
       "| 2 | NOBS | Feminino  | 0 | 1 | 1 | 0 | 1 | 0 | 0 | 0 | 0 | 0 | 0 | 1 | 4 | 3-4 | NOBS_Feminino  | 1 |\n",
       "| 4 | NOBS | Feminino  | 0 | 0 | 1 | 0 | 1 | 0 | 0 | 0 | 0 | 0 | 0 | 0 | 2 | 1-2 | NOBS_Feminino  | 1 |\n",
       "| 5 | NOBS | Masculino | 0 | 0 | 1 | 0 | 0 | 0 | 0 | 0 | 0 | 1 | 0 | 0 | 2 | 1-2 | NOBS_Masculino | 0 |\n",
       "| 7 | NOBS | Feminino  | 0 | 1 | 1 | 0 | 1 | 0 | 1 | 0 | 0 | 1 | 1 | 0 | 6 | &gt;=5 | NOBS_Feminino  | 1 |\n",
       "| 8 | OBS  | Masculino | 0 | 0 | 1 | 0 | 1 | 0 | 1 | 0 | 0 | 0 | 0 | 0 | 3 | 3-4 | OBS_Masculino  | 0 |\n",
       "| 9 | NOBS | Masculino | 0 | 1 | 1 | 0 | 0 | 0 | 0 | 0 | 0 | 0 | 0 | 0 | 2 | 1-2 | NOBS_Masculino | 0 |\n",
       "\n"
      ],
      "text/plain": [
       "  CONDITION SEX       CEFALEIA TOSSE DISPNEIA DOR_CORPO FADIGA DOR_TORAC\n",
       "2 NOBS      Feminino  0        1     1        0         1      0        \n",
       "4 NOBS      Feminino  0        0     1        0         1      0        \n",
       "5 NOBS      Masculino 0        0     1        0         0      0        \n",
       "7 NOBS      Feminino  0        1     1        0         1      0        \n",
       "8 OBS       Masculino 0        0     1        0         1      0        \n",
       "9 NOBS      Masculino 0        1     1        0         0      0        \n",
       "  ANOREXIA DISFAGIA DISFONIA ALT_PALADAR ALT_OLFATO LIM_MOTORA N_SINTOMAS\n",
       "2 0        0        0        0           0          1          4         \n",
       "4 0        0        0        0           0          0          2         \n",
       "5 0        0        0        1           0          0          2         \n",
       "7 1        0        0        1           1          0          6         \n",
       "8 1        0        0        0           0          0          3         \n",
       "9 0        0        0        0           0          0          2         \n",
       "  NIVEIS GROUP          OUT\n",
       "2 3-4    NOBS_Feminino  1  \n",
       "4 1-2    NOBS_Feminino  1  \n",
       "5 1-2    NOBS_Masculino 0  \n",
       "7 >=5    NOBS_Feminino  1  \n",
       "8 3-4    OBS_Masculino  0  \n",
       "9 1-2    NOBS_Masculino 0  "
      ]
     },
     "metadata": {},
     "output_type": "display_data"
    }
   ],
   "source": [
    "rlog_obs %>%\n",
    "  mutate(\n",
    "    GROUP = factor(paste(CONDITION, SEX, sep = \"_\")),\n",
    "    OUT = factor(ifelse(GROUP == \"OBS_Feminino\" | GROUP == \"NOBS_Feminino\", 1, 0), levels = c(0,1)),\n",
    "    NIVEIS = factor(NIVEIS, levels = c(\"None\", \"1-2\", \"3-4\", \">=5\"))) "
   ]
  },
  {
   "cell_type": "code",
   "execution_count": 93,
   "id": "baed5314-44be-4b9b-a861-27fa57b120b0",
   "metadata": {},
   "outputs": [
    {
     "data": {
      "text/html": [
       "<table class=\"dataframe\">\n",
       "<caption>A data.frame: 15 × 18</caption>\n",
       "<thead>\n",
       "\t<tr><th></th><th scope=col>CONDITION</th><th scope=col>SEX</th><th scope=col>CEFALEIA</th><th scope=col>TOSSE</th><th scope=col>DISPNEIA</th><th scope=col>DOR_CORPO</th><th scope=col>FADIGA</th><th scope=col>DOR_TORAC</th><th scope=col>ANOREXIA</th><th scope=col>DISFAGIA</th><th scope=col>DISFONIA</th><th scope=col>ALT_PALADAR</th><th scope=col>ALT_OLFATO</th><th scope=col>LIM_MOTORA</th><th scope=col>N_SINTOMAS</th><th scope=col>NIVEIS</th><th scope=col>GROUP</th><th scope=col>OUT</th></tr>\n",
       "\t<tr><th></th><th scope=col>&lt;chr&gt;</th><th scope=col>&lt;chr&gt;</th><th scope=col>&lt;int&gt;</th><th scope=col>&lt;int&gt;</th><th scope=col>&lt;int&gt;</th><th scope=col>&lt;int&gt;</th><th scope=col>&lt;int&gt;</th><th scope=col>&lt;int&gt;</th><th scope=col>&lt;int&gt;</th><th scope=col>&lt;int&gt;</th><th scope=col>&lt;int&gt;</th><th scope=col>&lt;int&gt;</th><th scope=col>&lt;int&gt;</th><th scope=col>&lt;int&gt;</th><th scope=col>&lt;int&gt;</th><th scope=col>&lt;fct&gt;</th><th scope=col>&lt;fct&gt;</th><th scope=col>&lt;fct&gt;</th></tr>\n",
       "</thead>\n",
       "<tbody>\n",
       "\t<tr><th scope=row>2</th><td>NOBS</td><td>Feminino </td><td>0</td><td>1</td><td>1</td><td>0</td><td>1</td><td>0</td><td>0</td><td>0</td><td>0</td><td>0</td><td>0</td><td>1</td><td>4</td><td>3-4</td><td>NOBS_Feminino </td><td>0</td></tr>\n",
       "\t<tr><th scope=row>4</th><td>NOBS</td><td>Feminino </td><td>0</td><td>0</td><td>1</td><td>0</td><td>1</td><td>0</td><td>0</td><td>0</td><td>0</td><td>0</td><td>0</td><td>0</td><td>2</td><td>1-2</td><td>NOBS_Feminino </td><td>0</td></tr>\n",
       "\t<tr><th scope=row>5</th><td>NOBS</td><td>Masculino</td><td>0</td><td>0</td><td>1</td><td>0</td><td>0</td><td>0</td><td>0</td><td>0</td><td>0</td><td>1</td><td>0</td><td>0</td><td>2</td><td>1-2</td><td>NOBS_Masculino</td><td>0</td></tr>\n",
       "\t<tr><th scope=row>7</th><td>NOBS</td><td>Feminino </td><td>0</td><td>1</td><td>1</td><td>0</td><td>1</td><td>0</td><td>1</td><td>0</td><td>0</td><td>1</td><td>1</td><td>0</td><td>6</td><td>&gt;=5</td><td>NOBS_Feminino </td><td>0</td></tr>\n",
       "\t<tr><th scope=row>8</th><td>OBS </td><td>Masculino</td><td>0</td><td>0</td><td>1</td><td>0</td><td>1</td><td>0</td><td>1</td><td>0</td><td>0</td><td>0</td><td>0</td><td>0</td><td>3</td><td>3-4</td><td>OBS_Masculino </td><td>0</td></tr>\n",
       "\t<tr><th scope=row>9</th><td>NOBS</td><td>Masculino</td><td>0</td><td>1</td><td>1</td><td>0</td><td>0</td><td>0</td><td>0</td><td>0</td><td>0</td><td>0</td><td>0</td><td>0</td><td>2</td><td>1-2</td><td>NOBS_Masculino</td><td>0</td></tr>\n",
       "\t<tr><th scope=row>10</th><td>OBS </td><td>Masculino</td><td>0</td><td>1</td><td>1</td><td>0</td><td>0</td><td>0</td><td>0</td><td>0</td><td>0</td><td>0</td><td>0</td><td>0</td><td>2</td><td>1-2</td><td>OBS_Masculino </td><td>0</td></tr>\n",
       "\t<tr><th scope=row>14</th><td>OBS </td><td>Masculino</td><td>0</td><td>0</td><td>0</td><td>0</td><td>1</td><td>0</td><td>0</td><td>0</td><td>0</td><td>0</td><td>0</td><td>0</td><td>1</td><td>1-2</td><td>OBS_Masculino </td><td>0</td></tr>\n",
       "\t<tr><th scope=row>16</th><td>OBS </td><td>Feminino </td><td>0</td><td>1</td><td>1</td><td>0</td><td>0</td><td>0</td><td>0</td><td>0</td><td>0</td><td>0</td><td>0</td><td>0</td><td>2</td><td>1-2</td><td>OBS_Feminino  </td><td>1</td></tr>\n",
       "\t<tr><th scope=row>20</th><td>NOBS</td><td>Masculino</td><td>0</td><td>1</td><td>1</td><td>0</td><td>1</td><td>0</td><td>0</td><td>0</td><td>0</td><td>0</td><td>0</td><td>0</td><td>3</td><td>3-4</td><td>NOBS_Masculino</td><td>0</td></tr>\n",
       "\t<tr><th scope=row>30</th><td>NOBS</td><td>Masculino</td><td>0</td><td>0</td><td>1</td><td>0</td><td>1</td><td>0</td><td>0</td><td>0</td><td>0</td><td>0</td><td>0</td><td>0</td><td>2</td><td>1-2</td><td>NOBS_Masculino</td><td>0</td></tr>\n",
       "\t<tr><th scope=row>31</th><td>NOBS</td><td>Feminino </td><td>0</td><td>0</td><td>0</td><td>0</td><td>1</td><td>0</td><td>0</td><td>0</td><td>0</td><td>0</td><td>0</td><td>0</td><td>1</td><td>1-2</td><td>NOBS_Feminino </td><td>0</td></tr>\n",
       "\t<tr><th scope=row>32</th><td>NOBS</td><td>Masculino</td><td>0</td><td>0</td><td>1</td><td>0</td><td>0</td><td>0</td><td>0</td><td>0</td><td>0</td><td>0</td><td>0</td><td>0</td><td>1</td><td>1-2</td><td>NOBS_Masculino</td><td>0</td></tr>\n",
       "\t<tr><th scope=row>33</th><td>NOBS</td><td>Feminino </td><td>0</td><td>0</td><td>1</td><td>0</td><td>1</td><td>0</td><td>0</td><td>0</td><td>0</td><td>0</td><td>0</td><td>1</td><td>3</td><td>3-4</td><td>NOBS_Feminino </td><td>0</td></tr>\n",
       "\t<tr><th scope=row>34</th><td>NOBS</td><td>Feminino </td><td>1</td><td>1</td><td>0</td><td>1</td><td>1</td><td>1</td><td>1</td><td>0</td><td>0</td><td>1</td><td>1</td><td>0</td><td>8</td><td>&gt;=5</td><td>NOBS_Feminino </td><td>0</td></tr>\n",
       "</tbody>\n",
       "</table>\n"
      ],
      "text/latex": [
       "A data.frame: 15 × 18\n",
       "\\begin{tabular}{r|llllllllllllllllll}\n",
       "  & CONDITION & SEX & CEFALEIA & TOSSE & DISPNEIA & DOR\\_CORPO & FADIGA & DOR\\_TORAC & ANOREXIA & DISFAGIA & DISFONIA & ALT\\_PALADAR & ALT\\_OLFATO & LIM\\_MOTORA & N\\_SINTOMAS & NIVEIS & GROUP & OUT\\\\\n",
       "  & <chr> & <chr> & <int> & <int> & <int> & <int> & <int> & <int> & <int> & <int> & <int> & <int> & <int> & <int> & <int> & <fct> & <fct> & <fct>\\\\\n",
       "\\hline\n",
       "\t2 & NOBS & Feminino  & 0 & 1 & 1 & 0 & 1 & 0 & 0 & 0 & 0 & 0 & 0 & 1 & 4 & 3-4 & NOBS\\_Feminino  & 0\\\\\n",
       "\t4 & NOBS & Feminino  & 0 & 0 & 1 & 0 & 1 & 0 & 0 & 0 & 0 & 0 & 0 & 0 & 2 & 1-2 & NOBS\\_Feminino  & 0\\\\\n",
       "\t5 & NOBS & Masculino & 0 & 0 & 1 & 0 & 0 & 0 & 0 & 0 & 0 & 1 & 0 & 0 & 2 & 1-2 & NOBS\\_Masculino & 0\\\\\n",
       "\t7 & NOBS & Feminino  & 0 & 1 & 1 & 0 & 1 & 0 & 1 & 0 & 0 & 1 & 1 & 0 & 6 & >=5 & NOBS\\_Feminino  & 0\\\\\n",
       "\t8 & OBS  & Masculino & 0 & 0 & 1 & 0 & 1 & 0 & 1 & 0 & 0 & 0 & 0 & 0 & 3 & 3-4 & OBS\\_Masculino  & 0\\\\\n",
       "\t9 & NOBS & Masculino & 0 & 1 & 1 & 0 & 0 & 0 & 0 & 0 & 0 & 0 & 0 & 0 & 2 & 1-2 & NOBS\\_Masculino & 0\\\\\n",
       "\t10 & OBS  & Masculino & 0 & 1 & 1 & 0 & 0 & 0 & 0 & 0 & 0 & 0 & 0 & 0 & 2 & 1-2 & OBS\\_Masculino  & 0\\\\\n",
       "\t14 & OBS  & Masculino & 0 & 0 & 0 & 0 & 1 & 0 & 0 & 0 & 0 & 0 & 0 & 0 & 1 & 1-2 & OBS\\_Masculino  & 0\\\\\n",
       "\t16 & OBS  & Feminino  & 0 & 1 & 1 & 0 & 0 & 0 & 0 & 0 & 0 & 0 & 0 & 0 & 2 & 1-2 & OBS\\_Feminino   & 1\\\\\n",
       "\t20 & NOBS & Masculino & 0 & 1 & 1 & 0 & 1 & 0 & 0 & 0 & 0 & 0 & 0 & 0 & 3 & 3-4 & NOBS\\_Masculino & 0\\\\\n",
       "\t30 & NOBS & Masculino & 0 & 0 & 1 & 0 & 1 & 0 & 0 & 0 & 0 & 0 & 0 & 0 & 2 & 1-2 & NOBS\\_Masculino & 0\\\\\n",
       "\t31 & NOBS & Feminino  & 0 & 0 & 0 & 0 & 1 & 0 & 0 & 0 & 0 & 0 & 0 & 0 & 1 & 1-2 & NOBS\\_Feminino  & 0\\\\\n",
       "\t32 & NOBS & Masculino & 0 & 0 & 1 & 0 & 0 & 0 & 0 & 0 & 0 & 0 & 0 & 0 & 1 & 1-2 & NOBS\\_Masculino & 0\\\\\n",
       "\t33 & NOBS & Feminino  & 0 & 0 & 1 & 0 & 1 & 0 & 0 & 0 & 0 & 0 & 0 & 1 & 3 & 3-4 & NOBS\\_Feminino  & 0\\\\\n",
       "\t34 & NOBS & Feminino  & 1 & 1 & 0 & 1 & 1 & 1 & 1 & 0 & 0 & 1 & 1 & 0 & 8 & >=5 & NOBS\\_Feminino  & 0\\\\\n",
       "\\end{tabular}\n"
      ],
      "text/markdown": [
       "\n",
       "A data.frame: 15 × 18\n",
       "\n",
       "| <!--/--> | CONDITION &lt;chr&gt; | SEX &lt;chr&gt; | CEFALEIA &lt;int&gt; | TOSSE &lt;int&gt; | DISPNEIA &lt;int&gt; | DOR_CORPO &lt;int&gt; | FADIGA &lt;int&gt; | DOR_TORAC &lt;int&gt; | ANOREXIA &lt;int&gt; | DISFAGIA &lt;int&gt; | DISFONIA &lt;int&gt; | ALT_PALADAR &lt;int&gt; | ALT_OLFATO &lt;int&gt; | LIM_MOTORA &lt;int&gt; | N_SINTOMAS &lt;int&gt; | NIVEIS &lt;fct&gt; | GROUP &lt;fct&gt; | OUT &lt;fct&gt; |\n",
       "|---|---|---|---|---|---|---|---|---|---|---|---|---|---|---|---|---|---|---|\n",
       "| 2 | NOBS | Feminino  | 0 | 1 | 1 | 0 | 1 | 0 | 0 | 0 | 0 | 0 | 0 | 1 | 4 | 3-4 | NOBS_Feminino  | 0 |\n",
       "| 4 | NOBS | Feminino  | 0 | 0 | 1 | 0 | 1 | 0 | 0 | 0 | 0 | 0 | 0 | 0 | 2 | 1-2 | NOBS_Feminino  | 0 |\n",
       "| 5 | NOBS | Masculino | 0 | 0 | 1 | 0 | 0 | 0 | 0 | 0 | 0 | 1 | 0 | 0 | 2 | 1-2 | NOBS_Masculino | 0 |\n",
       "| 7 | NOBS | Feminino  | 0 | 1 | 1 | 0 | 1 | 0 | 1 | 0 | 0 | 1 | 1 | 0 | 6 | &gt;=5 | NOBS_Feminino  | 0 |\n",
       "| 8 | OBS  | Masculino | 0 | 0 | 1 | 0 | 1 | 0 | 1 | 0 | 0 | 0 | 0 | 0 | 3 | 3-4 | OBS_Masculino  | 0 |\n",
       "| 9 | NOBS | Masculino | 0 | 1 | 1 | 0 | 0 | 0 | 0 | 0 | 0 | 0 | 0 | 0 | 2 | 1-2 | NOBS_Masculino | 0 |\n",
       "| 10 | OBS  | Masculino | 0 | 1 | 1 | 0 | 0 | 0 | 0 | 0 | 0 | 0 | 0 | 0 | 2 | 1-2 | OBS_Masculino  | 0 |\n",
       "| 14 | OBS  | Masculino | 0 | 0 | 0 | 0 | 1 | 0 | 0 | 0 | 0 | 0 | 0 | 0 | 1 | 1-2 | OBS_Masculino  | 0 |\n",
       "| 16 | OBS  | Feminino  | 0 | 1 | 1 | 0 | 0 | 0 | 0 | 0 | 0 | 0 | 0 | 0 | 2 | 1-2 | OBS_Feminino   | 1 |\n",
       "| 20 | NOBS | Masculino | 0 | 1 | 1 | 0 | 1 | 0 | 0 | 0 | 0 | 0 | 0 | 0 | 3 | 3-4 | NOBS_Masculino | 0 |\n",
       "| 30 | NOBS | Masculino | 0 | 0 | 1 | 0 | 1 | 0 | 0 | 0 | 0 | 0 | 0 | 0 | 2 | 1-2 | NOBS_Masculino | 0 |\n",
       "| 31 | NOBS | Feminino  | 0 | 0 | 0 | 0 | 1 | 0 | 0 | 0 | 0 | 0 | 0 | 0 | 1 | 1-2 | NOBS_Feminino  | 0 |\n",
       "| 32 | NOBS | Masculino | 0 | 0 | 1 | 0 | 0 | 0 | 0 | 0 | 0 | 0 | 0 | 0 | 1 | 1-2 | NOBS_Masculino | 0 |\n",
       "| 33 | NOBS | Feminino  | 0 | 0 | 1 | 0 | 1 | 0 | 0 | 0 | 0 | 0 | 0 | 1 | 3 | 3-4 | NOBS_Feminino  | 0 |\n",
       "| 34 | NOBS | Feminino  | 1 | 1 | 0 | 1 | 1 | 1 | 1 | 0 | 0 | 1 | 1 | 0 | 8 | &gt;=5 | NOBS_Feminino  | 0 |\n",
       "\n"
      ],
      "text/plain": [
       "   CONDITION SEX       CEFALEIA TOSSE DISPNEIA DOR_CORPO FADIGA DOR_TORAC\n",
       "2  NOBS      Feminino  0        1     1        0         1      0        \n",
       "4  NOBS      Feminino  0        0     1        0         1      0        \n",
       "5  NOBS      Masculino 0        0     1        0         0      0        \n",
       "7  NOBS      Feminino  0        1     1        0         1      0        \n",
       "8  OBS       Masculino 0        0     1        0         1      0        \n",
       "9  NOBS      Masculino 0        1     1        0         0      0        \n",
       "10 OBS       Masculino 0        1     1        0         0      0        \n",
       "14 OBS       Masculino 0        0     0        0         1      0        \n",
       "16 OBS       Feminino  0        1     1        0         0      0        \n",
       "20 NOBS      Masculino 0        1     1        0         1      0        \n",
       "30 NOBS      Masculino 0        0     1        0         1      0        \n",
       "31 NOBS      Feminino  0        0     0        0         1      0        \n",
       "32 NOBS      Masculino 0        0     1        0         0      0        \n",
       "33 NOBS      Feminino  0        0     1        0         1      0        \n",
       "34 NOBS      Feminino  1        1     0        1         1      1        \n",
       "   ANOREXIA DISFAGIA DISFONIA ALT_PALADAR ALT_OLFATO LIM_MOTORA N_SINTOMAS\n",
       "2  0        0        0        0           0          1          4         \n",
       "4  0        0        0        0           0          0          2         \n",
       "5  0        0        0        1           0          0          2         \n",
       "7  1        0        0        1           1          0          6         \n",
       "8  1        0        0        0           0          0          3         \n",
       "9  0        0        0        0           0          0          2         \n",
       "10 0        0        0        0           0          0          2         \n",
       "14 0        0        0        0           0          0          1         \n",
       "16 0        0        0        0           0          0          2         \n",
       "20 0        0        0        0           0          0          3         \n",
       "30 0        0        0        0           0          0          2         \n",
       "31 0        0        0        0           0          0          1         \n",
       "32 0        0        0        0           0          0          1         \n",
       "33 0        0        0        0           0          1          3         \n",
       "34 1        0        0        1           1          0          8         \n",
       "   NIVEIS GROUP          OUT\n",
       "2  3-4    NOBS_Feminino  0  \n",
       "4  1-2    NOBS_Feminino  0  \n",
       "5  1-2    NOBS_Masculino 0  \n",
       "7  >=5    NOBS_Feminino  0  \n",
       "8  3-4    OBS_Masculino  0  \n",
       "9  1-2    NOBS_Masculino 0  \n",
       "10 1-2    OBS_Masculino  0  \n",
       "14 1-2    OBS_Masculino  0  \n",
       "16 1-2    OBS_Feminino   1  \n",
       "20 3-4    NOBS_Masculino 0  \n",
       "30 1-2    NOBS_Masculino 0  \n",
       "31 1-2    NOBS_Feminino  0  \n",
       "32 1-2    NOBS_Masculino 0  \n",
       "33 3-4    NOBS_Feminino  0  \n",
       "34 >=5    NOBS_Feminino  0  "
      ]
     },
     "metadata": {},
     "output_type": "display_data"
    }
   ],
   "source": [
    "rlog_sex_adm <- rlog_obs %>%\n",
    "  mutate(\n",
    "    GROUP = factor(paste(CONDITION, SEX, sep = \"_\")),\n",
    "    OUT = factor(ifelse(GROUP == \"OBS_Feminino\", 1, 0), levels = c(0,1)),\n",
    "    NIVEIS = factor(NIVEIS, levels = c(\"None\", \"1-2\", \"3-4\", \">=5\")))\n",
    "head(rlog_sex_adm, 15)"
   ]
  },
  {
   "cell_type": "code",
   "execution_count": 94,
   "id": "afd335e8-b72c-40a8-8bbf-52789aa44028",
   "metadata": {},
   "outputs": [],
   "source": [
    "modelSex_adm <- function(x) {\n",
    "    glm(OUT ~ NIVEIS, data = filter(rlog_sex_adm, SEX == x),\n",
    "        family = binomial)\n",
    "    }"
   ]
  },
  {
   "cell_type": "code",
   "execution_count": 95,
   "id": "f2b30263-f7dd-4a81-bd20-08c88fb48a22",
   "metadata": {},
   "outputs": [
    {
     "data": {
      "text/plain": [
       "\n",
       "Call:\n",
       "glm(formula = OUT ~ NIVEIS, family = binomial, data = filter(rlog_sex_adm, \n",
       "    SEX == x))\n",
       "\n",
       "Coefficients:\n",
       "              Estimate Std. Error z value Pr(>|z|)\n",
       "(Intercept) -2.541e-16  6.325e-01   0.000    1.000\n",
       "NIVEIS1-2   -4.274e-01  7.142e-01  -0.598    0.550\n",
       "NIVEIS3-4   -8.109e-01  6.872e-01  -1.180    0.238\n",
       "NIVEIS>=5    3.977e-01  6.625e-01   0.600    0.548\n",
       "\n",
       "(Dispersion parameter for binomial family taken to be 1)\n",
       "\n",
       "    Null deviance: 304.33  on 219  degrees of freedom\n",
       "Residual deviance: 289.27  on 216  degrees of freedom\n",
       "AIC: 297.27\n",
       "\n",
       "Number of Fisher Scoring iterations: 4\n"
      ]
     },
     "metadata": {},
     "output_type": "display_data"
    }
   ],
   "source": [
    "model_female_adm <- modelSex_adm(\"Feminino\")\n",
    "summary(model_female_adm)"
   ]
  },
  {
   "cell_type": "code",
   "execution_count": 98,
   "id": "49351453-e5e9-42cb-a370-871656aec5a6",
   "metadata": {},
   "outputs": [
    {
     "data": {
      "text/html": [
       "<table class=\"dataframe\">\n",
       "<caption>A data.frame: 6 × 18</caption>\n",
       "<thead>\n",
       "\t<tr><th></th><th scope=col>CONDITION</th><th scope=col>SEX</th><th scope=col>CEFALEIA</th><th scope=col>TOSSE</th><th scope=col>DISPNEIA</th><th scope=col>DOR_CORPO</th><th scope=col>FADIGA</th><th scope=col>DOR_TORAC</th><th scope=col>ANOREXIA</th><th scope=col>DISFAGIA</th><th scope=col>DISFONIA</th><th scope=col>ALT_PALADAR</th><th scope=col>ALT_OLFATO</th><th scope=col>LIM_MOTORA</th><th scope=col>N_SINTOMAS</th><th scope=col>NIVEIS</th><th scope=col>GROUP</th><th scope=col>OUT</th></tr>\n",
       "\t<tr><th></th><th scope=col>&lt;chr&gt;</th><th scope=col>&lt;chr&gt;</th><th scope=col>&lt;int&gt;</th><th scope=col>&lt;int&gt;</th><th scope=col>&lt;int&gt;</th><th scope=col>&lt;int&gt;</th><th scope=col>&lt;int&gt;</th><th scope=col>&lt;int&gt;</th><th scope=col>&lt;int&gt;</th><th scope=col>&lt;int&gt;</th><th scope=col>&lt;int&gt;</th><th scope=col>&lt;int&gt;</th><th scope=col>&lt;int&gt;</th><th scope=col>&lt;int&gt;</th><th scope=col>&lt;int&gt;</th><th scope=col>&lt;fct&gt;</th><th scope=col>&lt;fct&gt;</th><th scope=col>&lt;fct&gt;</th></tr>\n",
       "</thead>\n",
       "<tbody>\n",
       "\t<tr><th scope=row>2</th><td>NOBS</td><td>Feminino </td><td>0</td><td>1</td><td>1</td><td>0</td><td>1</td><td>0</td><td>0</td><td>0</td><td>0</td><td>0</td><td>0</td><td>1</td><td>4</td><td>3-4</td><td>NOBS_Feminino </td><td>0</td></tr>\n",
       "\t<tr><th scope=row>4</th><td>NOBS</td><td>Feminino </td><td>0</td><td>0</td><td>1</td><td>0</td><td>1</td><td>0</td><td>0</td><td>0</td><td>0</td><td>0</td><td>0</td><td>0</td><td>2</td><td>1-2</td><td>NOBS_Feminino </td><td>0</td></tr>\n",
       "\t<tr><th scope=row>5</th><td>NOBS</td><td>Masculino</td><td>0</td><td>0</td><td>1</td><td>0</td><td>0</td><td>0</td><td>0</td><td>0</td><td>0</td><td>1</td><td>0</td><td>0</td><td>2</td><td>1-2</td><td>NOBS_Masculino</td><td>0</td></tr>\n",
       "\t<tr><th scope=row>7</th><td>NOBS</td><td>Feminino </td><td>0</td><td>1</td><td>1</td><td>0</td><td>1</td><td>0</td><td>1</td><td>0</td><td>0</td><td>1</td><td>1</td><td>0</td><td>6</td><td>&gt;=5</td><td>NOBS_Feminino </td><td>0</td></tr>\n",
       "\t<tr><th scope=row>8</th><td>OBS </td><td>Masculino</td><td>0</td><td>0</td><td>1</td><td>0</td><td>1</td><td>0</td><td>1</td><td>0</td><td>0</td><td>0</td><td>0</td><td>0</td><td>3</td><td>3-4</td><td>OBS_Masculino </td><td>1</td></tr>\n",
       "\t<tr><th scope=row>9</th><td>NOBS</td><td>Masculino</td><td>0</td><td>1</td><td>1</td><td>0</td><td>0</td><td>0</td><td>0</td><td>0</td><td>0</td><td>0</td><td>0</td><td>0</td><td>2</td><td>1-2</td><td>NOBS_Masculino</td><td>0</td></tr>\n",
       "</tbody>\n",
       "</table>\n"
      ],
      "text/latex": [
       "A data.frame: 6 × 18\n",
       "\\begin{tabular}{r|llllllllllllllllll}\n",
       "  & CONDITION & SEX & CEFALEIA & TOSSE & DISPNEIA & DOR\\_CORPO & FADIGA & DOR\\_TORAC & ANOREXIA & DISFAGIA & DISFONIA & ALT\\_PALADAR & ALT\\_OLFATO & LIM\\_MOTORA & N\\_SINTOMAS & NIVEIS & GROUP & OUT\\\\\n",
       "  & <chr> & <chr> & <int> & <int> & <int> & <int> & <int> & <int> & <int> & <int> & <int> & <int> & <int> & <int> & <int> & <fct> & <fct> & <fct>\\\\\n",
       "\\hline\n",
       "\t2 & NOBS & Feminino  & 0 & 1 & 1 & 0 & 1 & 0 & 0 & 0 & 0 & 0 & 0 & 1 & 4 & 3-4 & NOBS\\_Feminino  & 0\\\\\n",
       "\t4 & NOBS & Feminino  & 0 & 0 & 1 & 0 & 1 & 0 & 0 & 0 & 0 & 0 & 0 & 0 & 2 & 1-2 & NOBS\\_Feminino  & 0\\\\\n",
       "\t5 & NOBS & Masculino & 0 & 0 & 1 & 0 & 0 & 0 & 0 & 0 & 0 & 1 & 0 & 0 & 2 & 1-2 & NOBS\\_Masculino & 0\\\\\n",
       "\t7 & NOBS & Feminino  & 0 & 1 & 1 & 0 & 1 & 0 & 1 & 0 & 0 & 1 & 1 & 0 & 6 & >=5 & NOBS\\_Feminino  & 0\\\\\n",
       "\t8 & OBS  & Masculino & 0 & 0 & 1 & 0 & 1 & 0 & 1 & 0 & 0 & 0 & 0 & 0 & 3 & 3-4 & OBS\\_Masculino  & 1\\\\\n",
       "\t9 & NOBS & Masculino & 0 & 1 & 1 & 0 & 0 & 0 & 0 & 0 & 0 & 0 & 0 & 0 & 2 & 1-2 & NOBS\\_Masculino & 0\\\\\n",
       "\\end{tabular}\n"
      ],
      "text/markdown": [
       "\n",
       "A data.frame: 6 × 18\n",
       "\n",
       "| <!--/--> | CONDITION &lt;chr&gt; | SEX &lt;chr&gt; | CEFALEIA &lt;int&gt; | TOSSE &lt;int&gt; | DISPNEIA &lt;int&gt; | DOR_CORPO &lt;int&gt; | FADIGA &lt;int&gt; | DOR_TORAC &lt;int&gt; | ANOREXIA &lt;int&gt; | DISFAGIA &lt;int&gt; | DISFONIA &lt;int&gt; | ALT_PALADAR &lt;int&gt; | ALT_OLFATO &lt;int&gt; | LIM_MOTORA &lt;int&gt; | N_SINTOMAS &lt;int&gt; | NIVEIS &lt;fct&gt; | GROUP &lt;fct&gt; | OUT &lt;fct&gt; |\n",
       "|---|---|---|---|---|---|---|---|---|---|---|---|---|---|---|---|---|---|---|\n",
       "| 2 | NOBS | Feminino  | 0 | 1 | 1 | 0 | 1 | 0 | 0 | 0 | 0 | 0 | 0 | 1 | 4 | 3-4 | NOBS_Feminino  | 0 |\n",
       "| 4 | NOBS | Feminino  | 0 | 0 | 1 | 0 | 1 | 0 | 0 | 0 | 0 | 0 | 0 | 0 | 2 | 1-2 | NOBS_Feminino  | 0 |\n",
       "| 5 | NOBS | Masculino | 0 | 0 | 1 | 0 | 0 | 0 | 0 | 0 | 0 | 1 | 0 | 0 | 2 | 1-2 | NOBS_Masculino | 0 |\n",
       "| 7 | NOBS | Feminino  | 0 | 1 | 1 | 0 | 1 | 0 | 1 | 0 | 0 | 1 | 1 | 0 | 6 | &gt;=5 | NOBS_Feminino  | 0 |\n",
       "| 8 | OBS  | Masculino | 0 | 0 | 1 | 0 | 1 | 0 | 1 | 0 | 0 | 0 | 0 | 0 | 3 | 3-4 | OBS_Masculino  | 1 |\n",
       "| 9 | NOBS | Masculino | 0 | 1 | 1 | 0 | 0 | 0 | 0 | 0 | 0 | 0 | 0 | 0 | 2 | 1-2 | NOBS_Masculino | 0 |\n",
       "\n"
      ],
      "text/plain": [
       "  CONDITION SEX       CEFALEIA TOSSE DISPNEIA DOR_CORPO FADIGA DOR_TORAC\n",
       "2 NOBS      Feminino  0        1     1        0         1      0        \n",
       "4 NOBS      Feminino  0        0     1        0         1      0        \n",
       "5 NOBS      Masculino 0        0     1        0         0      0        \n",
       "7 NOBS      Feminino  0        1     1        0         1      0        \n",
       "8 OBS       Masculino 0        0     1        0         1      0        \n",
       "9 NOBS      Masculino 0        1     1        0         0      0        \n",
       "  ANOREXIA DISFAGIA DISFONIA ALT_PALADAR ALT_OLFATO LIM_MOTORA N_SINTOMAS\n",
       "2 0        0        0        0           0          1          4         \n",
       "4 0        0        0        0           0          0          2         \n",
       "5 0        0        0        1           0          0          2         \n",
       "7 1        0        0        1           1          0          6         \n",
       "8 1        0        0        0           0          0          3         \n",
       "9 0        0        0        0           0          0          2         \n",
       "  NIVEIS GROUP          OUT\n",
       "2 3-4    NOBS_Feminino  0  \n",
       "4 1-2    NOBS_Feminino  0  \n",
       "5 1-2    NOBS_Masculino 0  \n",
       "7 >=5    NOBS_Feminino  0  \n",
       "8 3-4    OBS_Masculino  1  \n",
       "9 1-2    NOBS_Masculino 0  "
      ]
     },
     "metadata": {},
     "output_type": "display_data"
    }
   ],
   "source": [
    "rlog_sex_adm <- rlog_obs %>%\n",
    "  mutate(\n",
    "    GROUP = factor(paste(CONDITION, SEX, sep = \"_\")),\n",
    "    OUT = factor(ifelse(GROUP == \"OBS_Masculino\", 1, 0), levels = c(0,1)),\n",
    "    NIVEIS = factor(NIVEIS, levels = c(\"None\", \"1-2\", \"3-4\", \">=5\")))\n",
    "head(rlog_sex_adm)"
   ]
  },
  {
   "cell_type": "code",
   "execution_count": 99,
   "id": "d1d1ee6e-c123-4dac-bcd9-7f51b4d5f828",
   "metadata": {},
   "outputs": [
    {
     "data": {
      "text/plain": [
       "\n",
       "Call:\n",
       "glm(formula = OUT ~ NIVEIS, family = binomial, data = filter(rlog_sex_adm, \n",
       "    SEX == x))\n",
       "\n",
       "Coefficients:\n",
       "            Estimate Std. Error z value Pr(>|z|)  \n",
       "(Intercept)   0.1054     0.4595   0.229   0.8186  \n",
       "NIVEIS1-2    -0.3130     0.5299  -0.591   0.5548  \n",
       "NIVEIS3-4    -1.0463     0.5459  -1.917   0.0553 .\n",
       "NIVEIS>=5    -0.2520     0.5561  -0.453   0.6505  \n",
       "---\n",
       "Signif. codes:  0 ‘***’ 0.001 ‘**’ 0.01 ‘*’ 0.05 ‘.’ 0.1 ‘ ’ 1\n",
       "\n",
       "(Dispersion parameter for binomial family taken to be 1)\n",
       "\n",
       "    Null deviance: 236.34  on 174  degrees of freedom\n",
       "Residual deviance: 230.36  on 171  degrees of freedom\n",
       "AIC: 238.36\n",
       "\n",
       "Number of Fisher Scoring iterations: 4\n"
      ]
     },
     "metadata": {},
     "output_type": "display_data"
    }
   ],
   "source": [
    "model_male_adm <- modelSex_adm(\"Masculino\")\n",
    "summary(model_male_adm)"
   ]
  },
  {
   "cell_type": "code",
   "execution_count": 101,
   "id": "684d3a78-d6cd-4588-9bdb-0a84a1cb2db7",
   "metadata": {},
   "outputs": [
    {
     "data": {
      "text/html": [
       "<table class=\"dataframe\">\n",
       "<caption>A tibble: 3 × 7</caption>\n",
       "<thead>\n",
       "\t<tr><th scope=col>term</th><th scope=col>estimate</th><th scope=col>std.error</th><th scope=col>statistic</th><th scope=col>p.value</th><th scope=col>conf.low</th><th scope=col>conf.high</th></tr>\n",
       "\t<tr><th scope=col>&lt;chr&gt;</th><th scope=col>&lt;dbl&gt;</th><th scope=col>&lt;dbl&gt;</th><th scope=col>&lt;dbl&gt;</th><th scope=col>&lt;dbl&gt;</th><th scope=col>&lt;dbl&gt;</th><th scope=col>&lt;dbl&gt;</th></tr>\n",
       "</thead>\n",
       "<tbody>\n",
       "\t<tr><td>NIVEIS1-2</td><td>0.6521739</td><td>0.7142443</td><td>-0.5984563</td><td>0.5495355</td><td>0.1557856</td><td>2.714613</td></tr>\n",
       "\t<tr><td>NIVEIS3-4</td><td>0.4444444</td><td>0.6871842</td><td>-1.1800769</td><td>0.2379696</td><td>0.1116682</td><td>1.760523</td></tr>\n",
       "\t<tr><td>NIVEIS&gt;=5</td><td>1.4883721</td><td>0.6624808</td><td> 0.6002936</td><td>0.5483106</td><td>0.3923026</td><td>5.650962</td></tr>\n",
       "</tbody>\n",
       "</table>\n"
      ],
      "text/latex": [
       "A tibble: 3 × 7\n",
       "\\begin{tabular}{lllllll}\n",
       " term & estimate & std.error & statistic & p.value & conf.low & conf.high\\\\\n",
       " <chr> & <dbl> & <dbl> & <dbl> & <dbl> & <dbl> & <dbl>\\\\\n",
       "\\hline\n",
       "\t NIVEIS1-2 & 0.6521739 & 0.7142443 & -0.5984563 & 0.5495355 & 0.1557856 & 2.714613\\\\\n",
       "\t NIVEIS3-4 & 0.4444444 & 0.6871842 & -1.1800769 & 0.2379696 & 0.1116682 & 1.760523\\\\\n",
       "\t NIVEIS>=5 & 1.4883721 & 0.6624808 &  0.6002936 & 0.5483106 & 0.3923026 & 5.650962\\\\\n",
       "\\end{tabular}\n"
      ],
      "text/markdown": [
       "\n",
       "A tibble: 3 × 7\n",
       "\n",
       "| term &lt;chr&gt; | estimate &lt;dbl&gt; | std.error &lt;dbl&gt; | statistic &lt;dbl&gt; | p.value &lt;dbl&gt; | conf.low &lt;dbl&gt; | conf.high &lt;dbl&gt; |\n",
       "|---|---|---|---|---|---|---|\n",
       "| NIVEIS1-2 | 0.6521739 | 0.7142443 | -0.5984563 | 0.5495355 | 0.1557856 | 2.714613 |\n",
       "| NIVEIS3-4 | 0.4444444 | 0.6871842 | -1.1800769 | 0.2379696 | 0.1116682 | 1.760523 |\n",
       "| NIVEIS&gt;=5 | 1.4883721 | 0.6624808 |  0.6002936 | 0.5483106 | 0.3923026 | 5.650962 |\n",
       "\n"
      ],
      "text/plain": [
       "  term      estimate  std.error statistic  p.value   conf.low  conf.high\n",
       "1 NIVEIS1-2 0.6521739 0.7142443 -0.5984563 0.5495355 0.1557856 2.714613 \n",
       "2 NIVEIS3-4 0.4444444 0.6871842 -1.1800769 0.2379696 0.1116682 1.760523 \n",
       "3 NIVEIS>=5 1.4883721 0.6624808  0.6002936 0.5483106 0.3923026 5.650962 "
      ]
     },
     "metadata": {},
     "output_type": "display_data"
    },
    {
     "data": {
      "text/html": [
       "<table class=\"dataframe\">\n",
       "<caption>A tibble: 3 × 7</caption>\n",
       "<thead>\n",
       "\t<tr><th scope=col>term</th><th scope=col>estimate</th><th scope=col>std.error</th><th scope=col>statistic</th><th scope=col>p.value</th><th scope=col>conf.low</th><th scope=col>conf.high</th></tr>\n",
       "\t<tr><th scope=col>&lt;chr&gt;</th><th scope=col>&lt;dbl&gt;</th><th scope=col>&lt;dbl&gt;</th><th scope=col>&lt;dbl&gt;</th><th scope=col>&lt;dbl&gt;</th><th scope=col>&lt;dbl&gt;</th><th scope=col>&lt;dbl&gt;</th></tr>\n",
       "</thead>\n",
       "<tbody>\n",
       "\t<tr><td>NIVEIS1-2</td><td>0.7312500</td><td>0.5299270</td><td>-0.5906471</td><td>0.55475687</td><td>0.2544273</td><td>2.074051</td></tr>\n",
       "\t<tr><td>NIVEIS3-4</td><td>0.3512195</td><td>0.5458949</td><td>-1.9167497</td><td>0.05526974</td><td>0.1178478</td><td>1.021816</td></tr>\n",
       "\t<tr><td>NIVEIS&gt;=5</td><td>0.7772727</td><td>0.5560551</td><td>-0.4531278</td><td>0.65045674</td><td>0.2572113</td><td>2.318863</td></tr>\n",
       "</tbody>\n",
       "</table>\n"
      ],
      "text/latex": [
       "A tibble: 3 × 7\n",
       "\\begin{tabular}{lllllll}\n",
       " term & estimate & std.error & statistic & p.value & conf.low & conf.high\\\\\n",
       " <chr> & <dbl> & <dbl> & <dbl> & <dbl> & <dbl> & <dbl>\\\\\n",
       "\\hline\n",
       "\t NIVEIS1-2 & 0.7312500 & 0.5299270 & -0.5906471 & 0.55475687 & 0.2544273 & 2.074051\\\\\n",
       "\t NIVEIS3-4 & 0.3512195 & 0.5458949 & -1.9167497 & 0.05526974 & 0.1178478 & 1.021816\\\\\n",
       "\t NIVEIS>=5 & 0.7772727 & 0.5560551 & -0.4531278 & 0.65045674 & 0.2572113 & 2.318863\\\\\n",
       "\\end{tabular}\n"
      ],
      "text/markdown": [
       "\n",
       "A tibble: 3 × 7\n",
       "\n",
       "| term &lt;chr&gt; | estimate &lt;dbl&gt; | std.error &lt;dbl&gt; | statistic &lt;dbl&gt; | p.value &lt;dbl&gt; | conf.low &lt;dbl&gt; | conf.high &lt;dbl&gt; |\n",
       "|---|---|---|---|---|---|---|\n",
       "| NIVEIS1-2 | 0.7312500 | 0.5299270 | -0.5906471 | 0.55475687 | 0.2544273 | 2.074051 |\n",
       "| NIVEIS3-4 | 0.3512195 | 0.5458949 | -1.9167497 | 0.05526974 | 0.1178478 | 1.021816 |\n",
       "| NIVEIS&gt;=5 | 0.7772727 | 0.5560551 | -0.4531278 | 0.65045674 | 0.2572113 | 2.318863 |\n",
       "\n"
      ],
      "text/plain": [
       "  term      estimate  std.error statistic  p.value    conf.low  conf.high\n",
       "1 NIVEIS1-2 0.7312500 0.5299270 -0.5906471 0.55475687 0.2544273 2.074051 \n",
       "2 NIVEIS3-4 0.3512195 0.5458949 -1.9167497 0.05526974 0.1178478 1.021816 \n",
       "3 NIVEIS>=5 0.7772727 0.5560551 -0.4531278 0.65045674 0.2572113 2.318863 "
      ]
     },
     "metadata": {},
     "output_type": "display_data"
    }
   ],
   "source": [
    "res_female_adm <- extract_OR(model_female_adm)\n",
    "res_male_adm <- extract_OR(model_male_adm)\n",
    "\n",
    "res_female_adm\n",
    "res_male_adm"
   ]
  },
  {
   "cell_type": "code",
   "execution_count": 105,
   "id": "f11b7f97-57ce-466c-bf75-940b9a007369",
   "metadata": {},
   "outputs": [
    {
     "data": {
      "text/html": [
       "<table class=\"dataframe\">\n",
       "<caption>A tibble: 6 × 10</caption>\n",
       "<thead>\n",
       "\t<tr><th scope=col>term</th><th scope=col>OR</th><th scope=col>std.error</th><th scope=col>statistic</th><th scope=col>p.value</th><th scope=col>CI_low</th><th scope=col>CI_high</th><th scope=col>Condition</th><th scope=col>Timepoint</th><th scope=col>Variable</th></tr>\n",
       "\t<tr><th scope=col>&lt;chr&gt;</th><th scope=col>&lt;dbl&gt;</th><th scope=col>&lt;dbl&gt;</th><th scope=col>&lt;dbl&gt;</th><th scope=col>&lt;dbl&gt;</th><th scope=col>&lt;dbl&gt;</th><th scope=col>&lt;dbl&gt;</th><th scope=col>&lt;chr&gt;</th><th scope=col>&lt;chr&gt;</th><th scope=col>&lt;chr&gt;</th></tr>\n",
       "</thead>\n",
       "<tbody>\n",
       "\t<tr><td>Levels: 1-2</td><td>0.6521739</td><td>0.7142443</td><td>-0.5984563</td><td>0.54953550</td><td>0.1557856</td><td>2.714613</td><td>Women</td><td>Long COVID</td><td>Symptoms Levels</td></tr>\n",
       "\t<tr><td>Levels: 3-4</td><td>0.4444444</td><td>0.6871842</td><td>-1.1800769</td><td>0.23796964</td><td>0.1116682</td><td>1.760523</td><td>Women</td><td>Long COVID</td><td>Symptoms Levels</td></tr>\n",
       "\t<tr><td>Levels: &gt;=5</td><td>1.4883721</td><td>0.6624808</td><td> 0.6002936</td><td>0.54831060</td><td>0.3923026</td><td>5.650962</td><td>Women</td><td>Long COVID</td><td>Symptoms Levels</td></tr>\n",
       "\t<tr><td>Levels: 1-2</td><td>0.7312500</td><td>0.5299270</td><td>-0.5906471</td><td>0.55475687</td><td>0.2544273</td><td>2.074051</td><td>Men  </td><td>Long COVID</td><td>Symptoms Levels</td></tr>\n",
       "\t<tr><td>Levels: 3-4</td><td>0.3512195</td><td>0.5458949</td><td>-1.9167497</td><td>0.05526974</td><td>0.1178478</td><td>1.021816</td><td>Men  </td><td>Long COVID</td><td>Symptoms Levels</td></tr>\n",
       "\t<tr><td>Levels: &gt;=5</td><td>0.7772727</td><td>0.5560551</td><td>-0.4531278</td><td>0.65045674</td><td>0.2572113</td><td>2.318863</td><td><span style=white-space:pre-wrap>Men  </span></td><td>Long COVID</td><td>Symptoms Levels</td></tr>\n",
       "</tbody>\n",
       "</table>\n"
      ],
      "text/latex": [
       "A tibble: 6 × 10\n",
       "\\begin{tabular}{llllllllll}\n",
       " term & OR & std.error & statistic & p.value & CI\\_low & CI\\_high & Condition & Timepoint & Variable\\\\\n",
       " <chr> & <dbl> & <dbl> & <dbl> & <dbl> & <dbl> & <dbl> & <chr> & <chr> & <chr>\\\\\n",
       "\\hline\n",
       "\t Levels: 1-2 & 0.6521739 & 0.7142443 & -0.5984563 & 0.54953550 & 0.1557856 & 2.714613 & Women & Long COVID & Symptoms Levels\\\\\n",
       "\t Levels: 3-4 & 0.4444444 & 0.6871842 & -1.1800769 & 0.23796964 & 0.1116682 & 1.760523 & Women & Long COVID & Symptoms Levels\\\\\n",
       "\t Levels: >=5 & 1.4883721 & 0.6624808 &  0.6002936 & 0.54831060 & 0.3923026 & 5.650962 & Women & Long COVID & Symptoms Levels\\\\\n",
       "\t Levels: 1-2 & 0.7312500 & 0.5299270 & -0.5906471 & 0.55475687 & 0.2544273 & 2.074051 & Men   & Long COVID & Symptoms Levels\\\\\n",
       "\t Levels: 3-4 & 0.3512195 & 0.5458949 & -1.9167497 & 0.05526974 & 0.1178478 & 1.021816 & Men   & Long COVID & Symptoms Levels\\\\\n",
       "\t Levels: >=5 & 0.7772727 & 0.5560551 & -0.4531278 & 0.65045674 & 0.2572113 & 2.318863 & Men   & Long COVID & Symptoms Levels\\\\\n",
       "\\end{tabular}\n"
      ],
      "text/markdown": [
       "\n",
       "A tibble: 6 × 10\n",
       "\n",
       "| term &lt;chr&gt; | OR &lt;dbl&gt; | std.error &lt;dbl&gt; | statistic &lt;dbl&gt; | p.value &lt;dbl&gt; | CI_low &lt;dbl&gt; | CI_high &lt;dbl&gt; | Condition &lt;chr&gt; | Timepoint &lt;chr&gt; | Variable &lt;chr&gt; |\n",
       "|---|---|---|---|---|---|---|---|---|---|\n",
       "| Levels: 1-2 | 0.6521739 | 0.7142443 | -0.5984563 | 0.54953550 | 0.1557856 | 2.714613 | Women | Long COVID | Symptoms Levels |\n",
       "| Levels: 3-4 | 0.4444444 | 0.6871842 | -1.1800769 | 0.23796964 | 0.1116682 | 1.760523 | Women | Long COVID | Symptoms Levels |\n",
       "| Levels: &gt;=5 | 1.4883721 | 0.6624808 |  0.6002936 | 0.54831060 | 0.3923026 | 5.650962 | Women | Long COVID | Symptoms Levels |\n",
       "| Levels: 1-2 | 0.7312500 | 0.5299270 | -0.5906471 | 0.55475687 | 0.2544273 | 2.074051 | Men   | Long COVID | Symptoms Levels |\n",
       "| Levels: 3-4 | 0.3512195 | 0.5458949 | -1.9167497 | 0.05526974 | 0.1178478 | 1.021816 | Men   | Long COVID | Symptoms Levels |\n",
       "| Levels: &gt;=5 | 0.7772727 | 0.5560551 | -0.4531278 | 0.65045674 | 0.2572113 | 2.318863 | Men   | Long COVID | Symptoms Levels |\n",
       "\n"
      ],
      "text/plain": [
       "  term        OR        std.error statistic  p.value    CI_low    CI_high \n",
       "1 Levels: 1-2 0.6521739 0.7142443 -0.5984563 0.54953550 0.1557856 2.714613\n",
       "2 Levels: 3-4 0.4444444 0.6871842 -1.1800769 0.23796964 0.1116682 1.760523\n",
       "3 Levels: >=5 1.4883721 0.6624808  0.6002936 0.54831060 0.3923026 5.650962\n",
       "4 Levels: 1-2 0.7312500 0.5299270 -0.5906471 0.55475687 0.2544273 2.074051\n",
       "5 Levels: 3-4 0.3512195 0.5458949 -1.9167497 0.05526974 0.1178478 1.021816\n",
       "6 Levels: >=5 0.7772727 0.5560551 -0.4531278 0.65045674 0.2572113 2.318863\n",
       "  Condition Timepoint  Variable       \n",
       "1 Women     Long COVID Symptoms Levels\n",
       "2 Women     Long COVID Symptoms Levels\n",
       "3 Women     Long COVID Symptoms Levels\n",
       "4 Men       Long COVID Symptoms Levels\n",
       "5 Men       Long COVID Symptoms Levels\n",
       "6 Men       Long COVID Symptoms Levels"
      ]
     },
     "metadata": {},
     "output_type": "display_data"
    }
   ],
   "source": [
    "results_sex <- bind_rows(res_female_adm,res_male_adm) %>%\n",
    "    mutate(\n",
    "        term = gsub(\"NIVEIS\", \"Levels: \", term),\n",
    "    Condition = rep(c(\"Women\", \"Men\"), each = 3),\n",
    "    Timepoint = \"Long COVID\",\n",
    "    Variable = \"Symptoms Levels\") %>%\n",
    "    rename(OR = estimate, CI_low = conf.low, CI_high = conf.high)\n",
    "head(results_sex)"
   ]
  },
  {
   "cell_type": "code",
   "execution_count": 117,
   "id": "9af232ad-cf83-47a3-91d3-7c86a72ffa66",
   "metadata": {},
   "outputs": [
    {
     "data": {
      "image/png": "[encoded data removed]",
      "text/plain": [
       "plot without title"
      ]
     },
     "metadata": {
      "image/png": {
       "height": 420,
       "width": 420
      }
     },
     "output_type": "display_data"
    }
   ],
   "source": [
    "ggplot(results_sex, aes(x = OR, y = fct_rev(term), shape = Condition)) +\n",
    "  geom_point(position = position_dodge(width = 0.5), size = 2.5, color = \"black\") +\n",
    "  geom_errorbarh(aes(xmin = CI_low, xmax = CI_high),\n",
    "                 position = position_dodge(width = 0.5),\n",
    "                 height = 0.2) +\n",
    "  geom_vline(xintercept = 1, linetype = \"dashed\", color = \"gray30\") + \n",
    "  scale_x_log10(breaks = c(0.3, 1, 2, 5, 10, 100)) +\n",
    "  theme_minimal() +\n",
    "  labs(\n",
    "    x = \"Adjusted odds ratio (95% CI)\",\n",
    "    y = NULL,\n",
    "    color = NULL\n",
    "  ) +\n",
    "  theme_minimal(base_size = 14) +\n",
    "  theme(\n",
    "    axis.text.y = element_text(size = 14, color = \"black\", hjust = 0),\n",
    "    axis.text.x = element_text(size = 12, color = \"black\"),\n",
    "    legend.position = \"bottom\",\n",
    "    panel.grid.major = element_blank(),\n",
    "    panel.grid.minor = element_blank() \n",
    "  )"
   ]
  },
  {
   "cell_type": "code",
   "execution_count": 122,
   "id": "339b50d1-04ac-4cb8-b013-e536b298fbbb",
   "metadata": {},
   "outputs": [
    {
     "data": {
      "text/html": [
       "<table class=\"dataframe\">\n",
       "<caption>A data.frame: 6 × 17</caption>\n",
       "<thead>\n",
       "\t<tr><th></th><th scope=col>CONDITION</th><th scope=col>SEX</th><th scope=col>CEFALEIA</th><th scope=col>TOSSE</th><th scope=col>DOR_CORPO</th><th scope=col>DISPNEIA</th><th scope=col>ALT_OLFATO</th><th scope=col>ALT_PALADAR</th><th scope=col>FADIGA</th><th scope=col>DOR_TORAC</th><th scope=col>ANOREXIA</th><th scope=col>DISFAGIA</th><th scope=col>DISFONIA</th><th scope=col>N_SINTOMAS</th><th scope=col>NIVEIS</th><th scope=col>GROUP</th><th scope=col>OUT</th></tr>\n",
       "\t<tr><th></th><th scope=col>&lt;chr&gt;</th><th scope=col>&lt;chr&gt;</th><th scope=col>&lt;int&gt;</th><th scope=col>&lt;int&gt;</th><th scope=col>&lt;int&gt;</th><th scope=col>&lt;int&gt;</th><th scope=col>&lt;int&gt;</th><th scope=col>&lt;int&gt;</th><th scope=col>&lt;int&gt;</th><th scope=col>&lt;int&gt;</th><th scope=col>&lt;int&gt;</th><th scope=col>&lt;int&gt;</th><th scope=col>&lt;int&gt;</th><th scope=col>&lt;int&gt;</th><th scope=col>&lt;fct&gt;</th><th scope=col>&lt;fct&gt;</th><th scope=col>&lt;fct&gt;</th></tr>\n",
       "</thead>\n",
       "<tbody>\n",
       "\t<tr><th scope=row>1</th><td>NOBS</td><td>Masculino</td><td>0</td><td>0</td><td>0</td><td>1</td><td>0</td><td>0</td><td>0</td><td>1</td><td>0</td><td>0</td><td>0</td><td>2</td><td>1-2 </td><td>NOBS_Masculino</td><td>0</td></tr>\n",
       "\t<tr><th scope=row>3</th><td>OBS </td><td>Feminino </td><td>1</td><td>1</td><td>1</td><td>0</td><td>1</td><td>1</td><td>1</td><td>1</td><td>1</td><td>0</td><td>0</td><td>8</td><td>&gt;=5 </td><td><span style=white-space:pre-wrap>OBS_Feminino  </span></td><td>0</td></tr>\n",
       "\t<tr><th scope=row>4</th><td>NOBS</td><td>Feminino </td><td>0</td><td>0</td><td>0</td><td>0</td><td>0</td><td>0</td><td>0</td><td>0</td><td>0</td><td>0</td><td>0</td><td>0</td><td>None</td><td>NOBS_Feminino </td><td>0</td></tr>\n",
       "\t<tr><th scope=row>5</th><td>NOBS</td><td>Masculino</td><td>1</td><td>0</td><td>1</td><td>0</td><td>0</td><td>0</td><td>1</td><td>1</td><td>0</td><td>0</td><td>0</td><td>4</td><td>3-4 </td><td>NOBS_Masculino</td><td>0</td></tr>\n",
       "\t<tr><th scope=row>6</th><td>OBS </td><td>Feminino </td><td>1</td><td>0</td><td>1</td><td>0</td><td>0</td><td>0</td><td>1</td><td>0</td><td>1</td><td>0</td><td>0</td><td>4</td><td>3-4 </td><td>OBS_Feminino  </td><td>0</td></tr>\n",
       "\t<tr><th scope=row>7</th><td>NOBS</td><td>Feminino </td><td>0</td><td>1</td><td>0</td><td>1</td><td>1</td><td>1</td><td>0</td><td>0</td><td>0</td><td>0</td><td>0</td><td>4</td><td>3-4 </td><td>NOBS_Feminino </td><td>0</td></tr>\n",
       "</tbody>\n",
       "</table>\n"
      ],
      "text/latex": [
       "A data.frame: 6 × 17\n",
       "\\begin{tabular}{r|lllllllllllllllll}\n",
       "  & CONDITION & SEX & CEFALEIA & TOSSE & DOR\\_CORPO & DISPNEIA & ALT\\_OLFATO & ALT\\_PALADAR & FADIGA & DOR\\_TORAC & ANOREXIA & DISFAGIA & DISFONIA & N\\_SINTOMAS & NIVEIS & GROUP & OUT\\\\\n",
       "  & <chr> & <chr> & <int> & <int> & <int> & <int> & <int> & <int> & <int> & <int> & <int> & <int> & <int> & <int> & <fct> & <fct> & <fct>\\\\\n",
       "\\hline\n",
       "\t1 & NOBS & Masculino & 0 & 0 & 0 & 1 & 0 & 0 & 0 & 1 & 0 & 0 & 0 & 2 & 1-2  & NOBS\\_Masculino & 0\\\\\n",
       "\t3 & OBS  & Feminino  & 1 & 1 & 1 & 0 & 1 & 1 & 1 & 1 & 1 & 0 & 0 & 8 & >=5  & OBS\\_Feminino   & 0\\\\\n",
       "\t4 & NOBS & Feminino  & 0 & 0 & 0 & 0 & 0 & 0 & 0 & 0 & 0 & 0 & 0 & 0 & None & NOBS\\_Feminino  & 0\\\\\n",
       "\t5 & NOBS & Masculino & 1 & 0 & 1 & 0 & 0 & 0 & 1 & 1 & 0 & 0 & 0 & 4 & 3-4  & NOBS\\_Masculino & 0\\\\\n",
       "\t6 & OBS  & Feminino  & 1 & 0 & 1 & 0 & 0 & 0 & 1 & 0 & 1 & 0 & 0 & 4 & 3-4  & OBS\\_Feminino   & 0\\\\\n",
       "\t7 & NOBS & Feminino  & 0 & 1 & 0 & 1 & 1 & 1 & 0 & 0 & 0 & 0 & 0 & 4 & 3-4  & NOBS\\_Feminino  & 0\\\\\n",
       "\\end{tabular}\n"
      ],
      "text/markdown": [
       "\n",
       "A data.frame: 6 × 17\n",
       "\n",
       "| <!--/--> | CONDITION &lt;chr&gt; | SEX &lt;chr&gt; | CEFALEIA &lt;int&gt; | TOSSE &lt;int&gt; | DOR_CORPO &lt;int&gt; | DISPNEIA &lt;int&gt; | ALT_OLFATO &lt;int&gt; | ALT_PALADAR &lt;int&gt; | FADIGA &lt;int&gt; | DOR_TORAC &lt;int&gt; | ANOREXIA &lt;int&gt; | DISFAGIA &lt;int&gt; | DISFONIA &lt;int&gt; | N_SINTOMAS &lt;int&gt; | NIVEIS &lt;fct&gt; | GROUP &lt;fct&gt; | OUT &lt;fct&gt; |\n",
       "|---|---|---|---|---|---|---|---|---|---|---|---|---|---|---|---|---|---|\n",
       "| 1 | NOBS | Masculino | 0 | 0 | 0 | 1 | 0 | 0 | 0 | 1 | 0 | 0 | 0 | 2 | 1-2  | NOBS_Masculino | 0 |\n",
       "| 3 | OBS  | Feminino  | 1 | 1 | 1 | 0 | 1 | 1 | 1 | 1 | 1 | 0 | 0 | 8 | &gt;=5  | OBS_Feminino   | 0 |\n",
       "| 4 | NOBS | Feminino  | 0 | 0 | 0 | 0 | 0 | 0 | 0 | 0 | 0 | 0 | 0 | 0 | None | NOBS_Feminino  | 0 |\n",
       "| 5 | NOBS | Masculino | 1 | 0 | 1 | 0 | 0 | 0 | 1 | 1 | 0 | 0 | 0 | 4 | 3-4  | NOBS_Masculino | 0 |\n",
       "| 6 | OBS  | Feminino  | 1 | 0 | 1 | 0 | 0 | 0 | 1 | 0 | 1 | 0 | 0 | 4 | 3-4  | OBS_Feminino   | 0 |\n",
       "| 7 | NOBS | Feminino  | 0 | 1 | 0 | 1 | 1 | 1 | 0 | 0 | 0 | 0 | 0 | 4 | 3-4  | NOBS_Feminino  | 0 |\n",
       "\n"
      ],
      "text/plain": [
       "  CONDITION SEX       CEFALEIA TOSSE DOR_CORPO DISPNEIA ALT_OLFATO ALT_PALADAR\n",
       "1 NOBS      Masculino 0        0     0         1        0          0          \n",
       "3 OBS       Feminino  1        1     1         0        1          1          \n",
       "4 NOBS      Feminino  0        0     0         0        0          0          \n",
       "5 NOBS      Masculino 1        0     1         0        0          0          \n",
       "6 OBS       Feminino  1        0     1         0        0          0          \n",
       "7 NOBS      Feminino  0        1     0         1        1          1          \n",
       "  FADIGA DOR_TORAC ANOREXIA DISFAGIA DISFONIA N_SINTOMAS NIVEIS GROUP         \n",
       "1 0      1         0        0        0        2          1-2    NOBS_Masculino\n",
       "3 1      1         1        0        0        8          >=5    OBS_Feminino  \n",
       "4 0      0         0        0        0        0          None   NOBS_Feminino \n",
       "5 1      1         0        0        0        4          3-4    NOBS_Masculino\n",
       "6 1      0         1        0        0        4          3-4    OBS_Feminino  \n",
       "7 0      0         0        0        0        4          3-4    NOBS_Feminino \n",
       "  OUT\n",
       "1 0  \n",
       "3 0  \n",
       "4 0  \n",
       "5 0  \n",
       "6 0  \n",
       "7 0  "
      ]
     },
     "metadata": {},
     "output_type": "display_data"
    }
   ],
   "source": [
    "rlog_sex_rtn <- rlog_rtn %>%\n",
    "  mutate(\n",
    "    GROUP = factor(paste(CONDITION, SEX, sep = \"_\")),\n",
    "    OUT = factor(ifelse(GROUP == \"OBS_Masculino\", 1, 0), levels = c(0,1)),\n",
    "    NIVEIS = factor(NIVEIS, levels = c(\"None\", \"1-2\", \"3-4\", \">=5\")))\n",
    "head(rlog_sex_rtn)"
   ]
  },
  {
   "cell_type": "code",
   "execution_count": 123,
   "id": "2af81152-5a74-4b2f-a8e7-634c7a0500c9",
   "metadata": {},
   "outputs": [],
   "source": [
    "modelSex_adm <- function(x) {\n",
    "    glm(OUT ~ NIVEIS, data = filter(rlog_sex_rtn, SEX == x),\n",
    "        family = binomial)\n",
    "    }"
   ]
  },
  {
   "cell_type": "code",
   "execution_count": 121,
   "id": "855e57da-b5ba-4832-a793-022f5f542c06",
   "metadata": {},
   "outputs": [
    {
     "data": {
      "text/plain": [
       "\n",
       "Call:\n",
       "glm(formula = OUT ~ NIVEIS, family = binomial, data = filter(rlog_sex_rtn, \n",
       "    SEX == x))\n",
       "\n",
       "Coefficients:\n",
       "            Estimate Std. Error z value Pr(>|z|)  \n",
       "(Intercept)  -0.7885     0.5394  -1.462   0.1438  \n",
       "NIVEIS1-2     0.5140     0.6193   0.830   0.4065  \n",
       "NIVEIS3-4     1.1021     0.6181   1.783   0.0746 .\n",
       "NIVEIS>=5     1.3350     0.6591   2.025   0.0428 *\n",
       "---\n",
       "Signif. codes:  0 ‘***’ 0.001 ‘**’ 0.01 ‘*’ 0.05 ‘.’ 0.1 ‘ ’ 1\n",
       "\n",
       "(Dispersion parameter for binomial family taken to be 1)\n",
       "\n",
       "    Null deviance: 187.08  on 134  degrees of freedom\n",
       "Residual deviance: 180.77  on 131  degrees of freedom\n",
       "AIC: 188.77\n",
       "\n",
       "Number of Fisher Scoring iterations: 4\n"
      ]
     },
     "metadata": {},
     "output_type": "display_data"
    }
   ],
   "source": [
    "model_female_rtn <- modelSex_adm(\"Feminino\")\n",
    "summary(model_female_rtn)"
   ]
  },
  {
   "cell_type": "code",
   "execution_count": 124,
   "id": "0a9e1295-f6a7-4c85-80b3-2f526f21c8bb",
   "metadata": {},
   "outputs": [
    {
     "data": {
      "text/plain": [
       "\n",
       "Call:\n",
       "glm(formula = OUT ~ NIVEIS, family = binomial, data = filter(rlog_sex_rtn, \n",
       "    SEX == x))\n",
       "\n",
       "Coefficients:\n",
       "              Estimate Std. Error z value Pr(>|z|)\n",
       "(Intercept) -1.297e-16  3.333e-01   0.000    1.000\n",
       "NIVEIS1-2   -3.878e-01  4.466e-01  -0.868    0.385\n",
       "NIVEIS3-4   -8.473e-01  7.664e-01  -1.106    0.269\n",
       "NIVEIS>=5   -2.877e-01  6.346e-01  -0.453    0.650\n",
       "\n",
       "(Dispersion parameter for binomial family taken to be 1)\n",
       "\n",
       "    Null deviance: 146.22  on 106  degrees of freedom\n",
       "Residual deviance: 144.67  on 103  degrees of freedom\n",
       "AIC: 152.67\n",
       "\n",
       "Number of Fisher Scoring iterations: 4\n"
      ]
     },
     "metadata": {},
     "output_type": "display_data"
    }
   ],
   "source": [
    "model_male_rtn <- modelSex_adm(\"Masculino\")\n",
    "summary(model_male_rtn)"
   ]
  },
  {
   "cell_type": "code",
   "execution_count": 125,
   "id": "96927b2b-f144-4853-bed6-6d445272ba8d",
   "metadata": {},
   "outputs": [
    {
     "data": {
      "text/html": [
       "<table class=\"dataframe\">\n",
       "<caption>A tibble: 3 × 7</caption>\n",
       "<thead>\n",
       "\t<tr><th scope=col>term</th><th scope=col>estimate</th><th scope=col>std.error</th><th scope=col>statistic</th><th scope=col>p.value</th><th scope=col>conf.low</th><th scope=col>conf.high</th></tr>\n",
       "\t<tr><th scope=col>&lt;chr&gt;</th><th scope=col>&lt;dbl&gt;</th><th scope=col>&lt;dbl&gt;</th><th scope=col>&lt;dbl&gt;</th><th scope=col>&lt;dbl&gt;</th><th scope=col>&lt;dbl&gt;</th><th scope=col>&lt;dbl&gt;</th></tr>\n",
       "</thead>\n",
       "<tbody>\n",
       "\t<tr><td>NIVEIS1-2</td><td>1.672000</td><td>0.6193064</td><td>0.8299938</td><td>0.40654228</td><td>0.5136942</td><td> 6.05649</td></tr>\n",
       "\t<tr><td>NIVEIS3-4</td><td>3.010526</td><td>0.6180631</td><td>1.7831754</td><td>0.07455776</td><td>0.9315958</td><td>10.91648</td></tr>\n",
       "\t<tr><td>NIVEIS&gt;=5</td><td>3.800000</td><td>0.6591279</td><td>2.0254053</td><td>0.04282576</td><td>1.0863950</td><td>14.88376</td></tr>\n",
       "</tbody>\n",
       "</table>\n"
      ],
      "text/latex": [
       "A tibble: 3 × 7\n",
       "\\begin{tabular}{lllllll}\n",
       " term & estimate & std.error & statistic & p.value & conf.low & conf.high\\\\\n",
       " <chr> & <dbl> & <dbl> & <dbl> & <dbl> & <dbl> & <dbl>\\\\\n",
       "\\hline\n",
       "\t NIVEIS1-2 & 1.672000 & 0.6193064 & 0.8299938 & 0.40654228 & 0.5136942 &  6.05649\\\\\n",
       "\t NIVEIS3-4 & 3.010526 & 0.6180631 & 1.7831754 & 0.07455776 & 0.9315958 & 10.91648\\\\\n",
       "\t NIVEIS>=5 & 3.800000 & 0.6591279 & 2.0254053 & 0.04282576 & 1.0863950 & 14.88376\\\\\n",
       "\\end{tabular}\n"
      ],
      "text/markdown": [
       "\n",
       "A tibble: 3 × 7\n",
       "\n",
       "| term &lt;chr&gt; | estimate &lt;dbl&gt; | std.error &lt;dbl&gt; | statistic &lt;dbl&gt; | p.value &lt;dbl&gt; | conf.low &lt;dbl&gt; | conf.high &lt;dbl&gt; |\n",
       "|---|---|---|---|---|---|---|\n",
       "| NIVEIS1-2 | 1.672000 | 0.6193064 | 0.8299938 | 0.40654228 | 0.5136942 |  6.05649 |\n",
       "| NIVEIS3-4 | 3.010526 | 0.6180631 | 1.7831754 | 0.07455776 | 0.9315958 | 10.91648 |\n",
       "| NIVEIS&gt;=5 | 3.800000 | 0.6591279 | 2.0254053 | 0.04282576 | 1.0863950 | 14.88376 |\n",
       "\n"
      ],
      "text/plain": [
       "  term      estimate std.error statistic p.value    conf.low  conf.high\n",
       "1 NIVEIS1-2 1.672000 0.6193064 0.8299938 0.40654228 0.5136942  6.05649 \n",
       "2 NIVEIS3-4 3.010526 0.6180631 1.7831754 0.07455776 0.9315958 10.91648 \n",
       "3 NIVEIS>=5 3.800000 0.6591279 2.0254053 0.04282576 1.0863950 14.88376 "
      ]
     },
     "metadata": {},
     "output_type": "display_data"
    },
    {
     "data": {
      "text/html": [
       "<table class=\"dataframe\">\n",
       "<caption>A tibble: 3 × 7</caption>\n",
       "<thead>\n",
       "\t<tr><th scope=col>term</th><th scope=col>estimate</th><th scope=col>std.error</th><th scope=col>statistic</th><th scope=col>p.value</th><th scope=col>conf.low</th><th scope=col>conf.high</th></tr>\n",
       "\t<tr><th scope=col>&lt;chr&gt;</th><th scope=col>&lt;dbl&gt;</th><th scope=col>&lt;dbl&gt;</th><th scope=col>&lt;dbl&gt;</th><th scope=col>&lt;dbl&gt;</th><th scope=col>&lt;dbl&gt;</th><th scope=col>&lt;dbl&gt;</th></tr>\n",
       "</thead>\n",
       "<tbody>\n",
       "\t<tr><td>NIVEIS1-2</td><td>0.6785714</td><td>0.4466061</td><td>-0.8682496</td><td>0.3852577</td><td>0.28037472</td><td>1.626630</td></tr>\n",
       "\t<tr><td>NIVEIS3-4</td><td>0.4285714</td><td>0.7663557</td><td>-1.1056195</td><td>0.2688912</td><td>0.08211508</td><td>1.810468</td></tr>\n",
       "\t<tr><td>NIVEIS&gt;=5</td><td>0.7500000</td><td>0.6346478</td><td>-0.4532941</td><td>0.6503370</td><td>0.20834769</td><td>2.592932</td></tr>\n",
       "</tbody>\n",
       "</table>\n"
      ],
      "text/latex": [
       "A tibble: 3 × 7\n",
       "\\begin{tabular}{lllllll}\n",
       " term & estimate & std.error & statistic & p.value & conf.low & conf.high\\\\\n",
       " <chr> & <dbl> & <dbl> & <dbl> & <dbl> & <dbl> & <dbl>\\\\\n",
       "\\hline\n",
       "\t NIVEIS1-2 & 0.6785714 & 0.4466061 & -0.8682496 & 0.3852577 & 0.28037472 & 1.626630\\\\\n",
       "\t NIVEIS3-4 & 0.4285714 & 0.7663557 & -1.1056195 & 0.2688912 & 0.08211508 & 1.810468\\\\\n",
       "\t NIVEIS>=5 & 0.7500000 & 0.6346478 & -0.4532941 & 0.6503370 & 0.20834769 & 2.592932\\\\\n",
       "\\end{tabular}\n"
      ],
      "text/markdown": [
       "\n",
       "A tibble: 3 × 7\n",
       "\n",
       "| term &lt;chr&gt; | estimate &lt;dbl&gt; | std.error &lt;dbl&gt; | statistic &lt;dbl&gt; | p.value &lt;dbl&gt; | conf.low &lt;dbl&gt; | conf.high &lt;dbl&gt; |\n",
       "|---|---|---|---|---|---|---|\n",
       "| NIVEIS1-2 | 0.6785714 | 0.4466061 | -0.8682496 | 0.3852577 | 0.28037472 | 1.626630 |\n",
       "| NIVEIS3-4 | 0.4285714 | 0.7663557 | -1.1056195 | 0.2688912 | 0.08211508 | 1.810468 |\n",
       "| NIVEIS&gt;=5 | 0.7500000 | 0.6346478 | -0.4532941 | 0.6503370 | 0.20834769 | 2.592932 |\n",
       "\n"
      ],
      "text/plain": [
       "  term      estimate  std.error statistic  p.value   conf.low   conf.high\n",
       "1 NIVEIS1-2 0.6785714 0.4466061 -0.8682496 0.3852577 0.28037472 1.626630 \n",
       "2 NIVEIS3-4 0.4285714 0.7663557 -1.1056195 0.2688912 0.08211508 1.810468 \n",
       "3 NIVEIS>=5 0.7500000 0.6346478 -0.4532941 0.6503370 0.20834769 2.592932 "
      ]
     },
     "metadata": {},
     "output_type": "display_data"
    }
   ],
   "source": [
    "res_female_rtn <- extract_OR(model_female_rtn)\n",
    "res_male_rtn <- extract_OR(model_male_rtn)\n",
    "\n",
    "res_female_rtn\n",
    "res_male_rtn"
   ]
  },
  {
   "cell_type": "code",
   "execution_count": 126,
   "id": "fc08e674-aaa0-4012-9ebf-333913d79759",
   "metadata": {},
   "outputs": [
    {
     "data": {
      "text/html": [
       "<table class=\"dataframe\">\n",
       "<caption>A tibble: 6 × 10</caption>\n",
       "<thead>\n",
       "\t<tr><th scope=col>term</th><th scope=col>OR</th><th scope=col>std.error</th><th scope=col>statistic</th><th scope=col>p.value</th><th scope=col>CI_low</th><th scope=col>CI_high</th><th scope=col>Condition</th><th scope=col>Timepoint</th><th scope=col>Variable</th></tr>\n",
       "\t<tr><th scope=col>&lt;chr&gt;</th><th scope=col>&lt;dbl&gt;</th><th scope=col>&lt;dbl&gt;</th><th scope=col>&lt;dbl&gt;</th><th scope=col>&lt;dbl&gt;</th><th scope=col>&lt;dbl&gt;</th><th scope=col>&lt;dbl&gt;</th><th scope=col>&lt;chr&gt;</th><th scope=col>&lt;chr&gt;</th><th scope=col>&lt;chr&gt;</th></tr>\n",
       "</thead>\n",
       "<tbody>\n",
       "\t<tr><td>Levels: 1-2</td><td>1.6720000</td><td>0.6193064</td><td> 0.8299938</td><td>0.40654228</td><td>0.51369424</td><td> 6.056490</td><td>Women</td><td>Post-COVID</td><td>Symptoms Levels</td></tr>\n",
       "\t<tr><td>Levels: 3-4</td><td>3.0105263</td><td>0.6180631</td><td> 1.7831754</td><td>0.07455776</td><td>0.93159577</td><td>10.916485</td><td>Women</td><td>Post-COVID</td><td>Symptoms Levels</td></tr>\n",
       "\t<tr><td>Levels: &gt;=5</td><td>3.8000000</td><td>0.6591279</td><td> 2.0254053</td><td>0.04282576</td><td>1.08639500</td><td>14.883757</td><td>Women</td><td>Post-COVID</td><td>Symptoms Levels</td></tr>\n",
       "\t<tr><td>Levels: 1-2</td><td>0.6785714</td><td>0.4466061</td><td>-0.8682496</td><td>0.38525771</td><td>0.28037472</td><td> 1.626630</td><td>Men  </td><td>Post-COVID</td><td>Symptoms Levels</td></tr>\n",
       "\t<tr><td>Levels: 3-4</td><td>0.4285714</td><td>0.7663557</td><td>-1.1056195</td><td>0.26889124</td><td>0.08211508</td><td> 1.810468</td><td>Men  </td><td>Post-COVID</td><td>Symptoms Levels</td></tr>\n",
       "\t<tr><td>Levels: &gt;=5</td><td>0.7500000</td><td>0.6346478</td><td>-0.4532941</td><td>0.65033699</td><td>0.20834769</td><td> 2.592932</td><td><span style=white-space:pre-wrap>Men  </span></td><td>Post-COVID</td><td>Symptoms Levels</td></tr>\n",
       "</tbody>\n",
       "</table>\n"
      ],
      "text/latex": [
       "A tibble: 6 × 10\n",
       "\\begin{tabular}{llllllllll}\n",
       " term & OR & std.error & statistic & p.value & CI\\_low & CI\\_high & Condition & Timepoint & Variable\\\\\n",
       " <chr> & <dbl> & <dbl> & <dbl> & <dbl> & <dbl> & <dbl> & <chr> & <chr> & <chr>\\\\\n",
       "\\hline\n",
       "\t Levels: 1-2 & 1.6720000 & 0.6193064 &  0.8299938 & 0.40654228 & 0.51369424 &  6.056490 & Women & Post-COVID & Symptoms Levels\\\\\n",
       "\t Levels: 3-4 & 3.0105263 & 0.6180631 &  1.7831754 & 0.07455776 & 0.93159577 & 10.916485 & Women & Post-COVID & Symptoms Levels\\\\\n",
       "\t Levels: >=5 & 3.8000000 & 0.6591279 &  2.0254053 & 0.04282576 & 1.08639500 & 14.883757 & Women & Post-COVID & Symptoms Levels\\\\\n",
       "\t Levels: 1-2 & 0.6785714 & 0.4466061 & -0.8682496 & 0.38525771 & 0.28037472 &  1.626630 & Men   & Post-COVID & Symptoms Levels\\\\\n",
       "\t Levels: 3-4 & 0.4285714 & 0.7663557 & -1.1056195 & 0.26889124 & 0.08211508 &  1.810468 & Men   & Post-COVID & Symptoms Levels\\\\\n",
       "\t Levels: >=5 & 0.7500000 & 0.6346478 & -0.4532941 & 0.65033699 & 0.20834769 &  2.592932 & Men   & Post-COVID & Symptoms Levels\\\\\n",
       "\\end{tabular}\n"
      ],
      "text/markdown": [
       "\n",
       "A tibble: 6 × 10\n",
       "\n",
       "| term &lt;chr&gt; | OR &lt;dbl&gt; | std.error &lt;dbl&gt; | statistic &lt;dbl&gt; | p.value &lt;dbl&gt; | CI_low &lt;dbl&gt; | CI_high &lt;dbl&gt; | Condition &lt;chr&gt; | Timepoint &lt;chr&gt; | Variable &lt;chr&gt; |\n",
       "|---|---|---|---|---|---|---|---|---|---|\n",
       "| Levels: 1-2 | 1.6720000 | 0.6193064 |  0.8299938 | 0.40654228 | 0.51369424 |  6.056490 | Women | Post-COVID | Symptoms Levels |\n",
       "| Levels: 3-4 | 3.0105263 | 0.6180631 |  1.7831754 | 0.07455776 | 0.93159577 | 10.916485 | Women | Post-COVID | Symptoms Levels |\n",
       "| Levels: &gt;=5 | 3.8000000 | 0.6591279 |  2.0254053 | 0.04282576 | 1.08639500 | 14.883757 | Women | Post-COVID | Symptoms Levels |\n",
       "| Levels: 1-2 | 0.6785714 | 0.4466061 | -0.8682496 | 0.38525771 | 0.28037472 |  1.626630 | Men   | Post-COVID | Symptoms Levels |\n",
       "| Levels: 3-4 | 0.4285714 | 0.7663557 | -1.1056195 | 0.26889124 | 0.08211508 |  1.810468 | Men   | Post-COVID | Symptoms Levels |\n",
       "| Levels: &gt;=5 | 0.7500000 | 0.6346478 | -0.4532941 | 0.65033699 | 0.20834769 |  2.592932 | Men   | Post-COVID | Symptoms Levels |\n",
       "\n"
      ],
      "text/plain": [
       "  term        OR        std.error statistic  p.value    CI_low     CI_high  \n",
       "1 Levels: 1-2 1.6720000 0.6193064  0.8299938 0.40654228 0.51369424  6.056490\n",
       "2 Levels: 3-4 3.0105263 0.6180631  1.7831754 0.07455776 0.93159577 10.916485\n",
       "3 Levels: >=5 3.8000000 0.6591279  2.0254053 0.04282576 1.08639500 14.883757\n",
       "4 Levels: 1-2 0.6785714 0.4466061 -0.8682496 0.38525771 0.28037472  1.626630\n",
       "5 Levels: 3-4 0.4285714 0.7663557 -1.1056195 0.26889124 0.08211508  1.810468\n",
       "6 Levels: >=5 0.7500000 0.6346478 -0.4532941 0.65033699 0.20834769  2.592932\n",
       "  Condition Timepoint  Variable       \n",
       "1 Women     Post-COVID Symptoms Levels\n",
       "2 Women     Post-COVID Symptoms Levels\n",
       "3 Women     Post-COVID Symptoms Levels\n",
       "4 Men       Post-COVID Symptoms Levels\n",
       "5 Men       Post-COVID Symptoms Levels\n",
       "6 Men       Post-COVID Symptoms Levels"
      ]
     },
     "metadata": {},
     "output_type": "display_data"
    }
   ],
   "source": [
    "results_sex_rtn <- bind_rows(res_female_rtn, res_male_rtn) %>%\n",
    "    mutate(\n",
    "        term = gsub(\"NIVEIS\", \"Levels: \", term),\n",
    "    Condition = rep(c(\"Women\", \"Men\"), each = 3),\n",
    "    Timepoint = \"Post-COVID\",\n",
    "    Variable = \"Symptoms Levels\") %>%\n",
    "    rename(OR = estimate, CI_low = conf.low, CI_high = conf.high)\n",
    "head(results_sex_rtn)"
   ]
  },
  {
   "cell_type": "code",
   "execution_count": 127,
   "id": "e44f1a65-0442-4170-be0c-ee1709537098",
   "metadata": {},
   "outputs": [
    {
     "data": {
      "image/png": "[encoded data removed]",
      "text/plain": [
       "plot without title"
      ]
     },
     "metadata": {
      "image/png": {
       "height": 420,
       "width": 420
      }
     },
     "output_type": "display_data"
    }
   ],
   "source": [
    "ggplot(results_sex_rtn, aes(x = OR, y = fct_rev(term), shape = Condition)) +\n",
    "  geom_point(position = position_dodge(width = 0.5), size = 2.5, color = \"black\") +\n",
    "  geom_errorbarh(aes(xmin = CI_low, xmax = CI_high),\n",
    "                 position = position_dodge(width = 0.5),\n",
    "                 height = 0.2) +\n",
    "  geom_vline(xintercept = 1, linetype = \"dashed\", color = \"gray30\") + \n",
    "  scale_x_log10(breaks = c(0.3, 1, 2, 5, 10, 100)) +\n",
    "  theme_minimal() +\n",
    "  labs(\n",
    "    x = \"Adjusted odds ratio (95% CI)\",\n",
    "    y = NULL,\n",
    "    color = NULL\n",
    "  ) +\n",
    "  theme_minimal(base_size = 14) +\n",
    "  theme(\n",
    "    axis.text.y = element_text(size = 14, color = \"black\", hjust = 0),\n",
    "    axis.text.x = element_text(size = 12, color = \"black\"),\n",
    "    legend.position = \"bottom\",\n",
    "    panel.grid.major = element_blank(),\n",
    "    panel.grid.minor = element_blank() \n",
    "  )"
   ]
  },
  {
   "cell_type": "code",
   "execution_count": 128,
   "id": "a8a912bf-fcb4-4257-a098-a033db1e7c18",
   "metadata": {},
   "outputs": [
    {
     "data": {
      "text/html": [
       "<table class=\"dataframe\">\n",
       "<caption>A tibble: 12 × 10</caption>\n",
       "<thead>\n",
       "\t<tr><th scope=col>term</th><th scope=col>OR</th><th scope=col>std.error</th><th scope=col>statistic</th><th scope=col>p.value</th><th scope=col>CI_low</th><th scope=col>CI_high</th><th scope=col>Condition</th><th scope=col>Timepoint</th><th scope=col>Variable</th></tr>\n",
       "\t<tr><th scope=col>&lt;chr&gt;</th><th scope=col>&lt;dbl&gt;</th><th scope=col>&lt;dbl&gt;</th><th scope=col>&lt;dbl&gt;</th><th scope=col>&lt;dbl&gt;</th><th scope=col>&lt;dbl&gt;</th><th scope=col>&lt;dbl&gt;</th><th scope=col>&lt;chr&gt;</th><th scope=col>&lt;chr&gt;</th><th scope=col>&lt;chr&gt;</th></tr>\n",
       "</thead>\n",
       "<tbody>\n",
       "\t<tr><td>Levels: 1-2</td><td>0.6521739</td><td>0.7142443</td><td>-0.5984563</td><td>0.54953550</td><td>0.15578563</td><td> 2.714613</td><td>Women</td><td>Long COVID</td><td>Symptoms Levels</td></tr>\n",
       "\t<tr><td>Levels: 3-4</td><td>0.4444444</td><td>0.6871842</td><td>-1.1800769</td><td>0.23796964</td><td>0.11166822</td><td> 1.760523</td><td>Women</td><td>Long COVID</td><td>Symptoms Levels</td></tr>\n",
       "\t<tr><td>Levels: &gt;=5</td><td>1.4883721</td><td>0.6624808</td><td> 0.6002936</td><td>0.54831060</td><td>0.39230260</td><td> 5.650962</td><td>Women</td><td>Long COVID</td><td>Symptoms Levels</td></tr>\n",
       "\t<tr><td>Levels: 1-2</td><td>0.7312500</td><td>0.5299270</td><td>-0.5906471</td><td>0.55475687</td><td>0.25442727</td><td> 2.074051</td><td>Men  </td><td>Long COVID</td><td>Symptoms Levels</td></tr>\n",
       "\t<tr><td>Levels: 3-4</td><td>0.3512195</td><td>0.5458949</td><td>-1.9167497</td><td>0.05526974</td><td>0.11784779</td><td> 1.021816</td><td>Men  </td><td>Long COVID</td><td>Symptoms Levels</td></tr>\n",
       "\t<tr><td>Levels: &gt;=5</td><td>0.7772727</td><td>0.5560551</td><td>-0.4531278</td><td>0.65045674</td><td>0.25721131</td><td> 2.318863</td><td><span style=white-space:pre-wrap>Men  </span></td><td>Long COVID</td><td>Symptoms Levels</td></tr>\n",
       "\t<tr><td>Levels: 1-2</td><td>1.6720000</td><td>0.6193064</td><td> 0.8299938</td><td>0.40654228</td><td>0.51369424</td><td> 6.056490</td><td>Women</td><td>Post-COVID</td><td>Symptoms Levels</td></tr>\n",
       "\t<tr><td>Levels: 3-4</td><td>3.0105263</td><td>0.6180631</td><td> 1.7831754</td><td>0.07455776</td><td>0.93159577</td><td>10.916485</td><td>Women</td><td>Post-COVID</td><td>Symptoms Levels</td></tr>\n",
       "\t<tr><td>Levels: &gt;=5</td><td>3.8000000</td><td>0.6591279</td><td> 2.0254053</td><td>0.04282576</td><td>1.08639500</td><td>14.883757</td><td>Women</td><td>Post-COVID</td><td>Symptoms Levels</td></tr>\n",
       "\t<tr><td>Levels: 1-2</td><td>0.6785714</td><td>0.4466061</td><td>-0.8682496</td><td>0.38525771</td><td>0.28037472</td><td> 1.626630</td><td>Men  </td><td>Post-COVID</td><td>Symptoms Levels</td></tr>\n",
       "\t<tr><td>Levels: 3-4</td><td>0.4285714</td><td>0.7663557</td><td>-1.1056195</td><td>0.26889124</td><td>0.08211508</td><td> 1.810468</td><td>Men  </td><td>Post-COVID</td><td>Symptoms Levels</td></tr>\n",
       "\t<tr><td>Levels: &gt;=5</td><td>0.7500000</td><td>0.6346478</td><td>-0.4532941</td><td>0.65033699</td><td>0.20834769</td><td> 2.592932</td><td><span style=white-space:pre-wrap>Men  </span></td><td>Post-COVID</td><td>Symptoms Levels</td></tr>\n",
       "</tbody>\n",
       "</table>\n"
      ],
      "text/latex": [
       "A tibble: 12 × 10\n",
       "\\begin{tabular}{llllllllll}\n",
       " term & OR & std.error & statistic & p.value & CI\\_low & CI\\_high & Condition & Timepoint & Variable\\\\\n",
       " <chr> & <dbl> & <dbl> & <dbl> & <dbl> & <dbl> & <dbl> & <chr> & <chr> & <chr>\\\\\n",
       "\\hline\n",
       "\t Levels: 1-2 & 0.6521739 & 0.7142443 & -0.5984563 & 0.54953550 & 0.15578563 &  2.714613 & Women & Long COVID & Symptoms Levels\\\\\n",
       "\t Levels: 3-4 & 0.4444444 & 0.6871842 & -1.1800769 & 0.23796964 & 0.11166822 &  1.760523 & Women & Long COVID & Symptoms Levels\\\\\n",
       "\t Levels: >=5 & 1.4883721 & 0.6624808 &  0.6002936 & 0.54831060 & 0.39230260 &  5.650962 & Women & Long COVID & Symptoms Levels\\\\\n",
       "\t Levels: 1-2 & 0.7312500 & 0.5299270 & -0.5906471 & 0.55475687 & 0.25442727 &  2.074051 & Men   & Long COVID & Symptoms Levels\\\\\n",
       "\t Levels: 3-4 & 0.3512195 & 0.5458949 & -1.9167497 & 0.05526974 & 0.11784779 &  1.021816 & Men   & Long COVID & Symptoms Levels\\\\\n",
       "\t Levels: >=5 & 0.7772727 & 0.5560551 & -0.4531278 & 0.65045674 & 0.25721131 &  2.318863 & Men   & Long COVID & Symptoms Levels\\\\\n",
       "\t Levels: 1-2 & 1.6720000 & 0.6193064 &  0.8299938 & 0.40654228 & 0.51369424 &  6.056490 & Women & Post-COVID & Symptoms Levels\\\\\n",
       "\t Levels: 3-4 & 3.0105263 & 0.6180631 &  1.7831754 & 0.07455776 & 0.93159577 & 10.916485 & Women & Post-COVID & Symptoms Levels\\\\\n",
       "\t Levels: >=5 & 3.8000000 & 0.6591279 &  2.0254053 & 0.04282576 & 1.08639500 & 14.883757 & Women & Post-COVID & Symptoms Levels\\\\\n",
       "\t Levels: 1-2 & 0.6785714 & 0.4466061 & -0.8682496 & 0.38525771 & 0.28037472 &  1.626630 & Men   & Post-COVID & Symptoms Levels\\\\\n",
       "\t Levels: 3-4 & 0.4285714 & 0.7663557 & -1.1056195 & 0.26889124 & 0.08211508 &  1.810468 & Men   & Post-COVID & Symptoms Levels\\\\\n",
       "\t Levels: >=5 & 0.7500000 & 0.6346478 & -0.4532941 & 0.65033699 & 0.20834769 &  2.592932 & Men   & Post-COVID & Symptoms Levels\\\\\n",
       "\\end{tabular}\n"
      ],
      "text/markdown": [
       "\n",
       "A tibble: 12 × 10\n",
       "\n",
       "| term &lt;chr&gt; | OR &lt;dbl&gt; | std.error &lt;dbl&gt; | statistic &lt;dbl&gt; | p.value &lt;dbl&gt; | CI_low &lt;dbl&gt; | CI_high &lt;dbl&gt; | Condition &lt;chr&gt; | Timepoint &lt;chr&gt; | Variable &lt;chr&gt; |\n",
       "|---|---|---|---|---|---|---|---|---|---|\n",
       "| Levels: 1-2 | 0.6521739 | 0.7142443 | -0.5984563 | 0.54953550 | 0.15578563 |  2.714613 | Women | Long COVID | Symptoms Levels |\n",
       "| Levels: 3-4 | 0.4444444 | 0.6871842 | -1.1800769 | 0.23796964 | 0.11166822 |  1.760523 | Women | Long COVID | Symptoms Levels |\n",
       "| Levels: &gt;=5 | 1.4883721 | 0.6624808 |  0.6002936 | 0.54831060 | 0.39230260 |  5.650962 | Women | Long COVID | Symptoms Levels |\n",
       "| Levels: 1-2 | 0.7312500 | 0.5299270 | -0.5906471 | 0.55475687 | 0.25442727 |  2.074051 | Men   | Long COVID | Symptoms Levels |\n",
       "| Levels: 3-4 | 0.3512195 | 0.5458949 | -1.9167497 | 0.05526974 | 0.11784779 |  1.021816 | Men   | Long COVID | Symptoms Levels |\n",
       "| Levels: &gt;=5 | 0.7772727 | 0.5560551 | -0.4531278 | 0.65045674 | 0.25721131 |  2.318863 | Men   | Long COVID | Symptoms Levels |\n",
       "| Levels: 1-2 | 1.6720000 | 0.6193064 |  0.8299938 | 0.40654228 | 0.51369424 |  6.056490 | Women | Post-COVID | Symptoms Levels |\n",
       "| Levels: 3-4 | 3.0105263 | 0.6180631 |  1.7831754 | 0.07455776 | 0.93159577 | 10.916485 | Women | Post-COVID | Symptoms Levels |\n",
       "| Levels: &gt;=5 | 3.8000000 | 0.6591279 |  2.0254053 | 0.04282576 | 1.08639500 | 14.883757 | Women | Post-COVID | Symptoms Levels |\n",
       "| Levels: 1-2 | 0.6785714 | 0.4466061 | -0.8682496 | 0.38525771 | 0.28037472 |  1.626630 | Men   | Post-COVID | Symptoms Levels |\n",
       "| Levels: 3-4 | 0.4285714 | 0.7663557 | -1.1056195 | 0.26889124 | 0.08211508 |  1.810468 | Men   | Post-COVID | Symptoms Levels |\n",
       "| Levels: &gt;=5 | 0.7500000 | 0.6346478 | -0.4532941 | 0.65033699 | 0.20834769 |  2.592932 | Men   | Post-COVID | Symptoms Levels |\n",
       "\n"
      ],
      "text/plain": [
       "   term        OR        std.error statistic  p.value    CI_low     CI_high  \n",
       "1  Levels: 1-2 0.6521739 0.7142443 -0.5984563 0.54953550 0.15578563  2.714613\n",
       "2  Levels: 3-4 0.4444444 0.6871842 -1.1800769 0.23796964 0.11166822  1.760523\n",
       "3  Levels: >=5 1.4883721 0.6624808  0.6002936 0.54831060 0.39230260  5.650962\n",
       "4  Levels: 1-2 0.7312500 0.5299270 -0.5906471 0.55475687 0.25442727  2.074051\n",
       "5  Levels: 3-4 0.3512195 0.5458949 -1.9167497 0.05526974 0.11784779  1.021816\n",
       "6  Levels: >=5 0.7772727 0.5560551 -0.4531278 0.65045674 0.25721131  2.318863\n",
       "7  Levels: 1-2 1.6720000 0.6193064  0.8299938 0.40654228 0.51369424  6.056490\n",
       "8  Levels: 3-4 3.0105263 0.6180631  1.7831754 0.07455776 0.93159577 10.916485\n",
       "9  Levels: >=5 3.8000000 0.6591279  2.0254053 0.04282576 1.08639500 14.883757\n",
       "10 Levels: 1-2 0.6785714 0.4466061 -0.8682496 0.38525771 0.28037472  1.626630\n",
       "11 Levels: 3-4 0.4285714 0.7663557 -1.1056195 0.26889124 0.08211508  1.810468\n",
       "12 Levels: >=5 0.7500000 0.6346478 -0.4532941 0.65033699 0.20834769  2.592932\n",
       "   Condition Timepoint  Variable       \n",
       "1  Women     Long COVID Symptoms Levels\n",
       "2  Women     Long COVID Symptoms Levels\n",
       "3  Women     Long COVID Symptoms Levels\n",
       "4  Men       Long COVID Symptoms Levels\n",
       "5  Men       Long COVID Symptoms Levels\n",
       "6  Men       Long COVID Symptoms Levels\n",
       "7  Women     Post-COVID Symptoms Levels\n",
       "8  Women     Post-COVID Symptoms Levels\n",
       "9  Women     Post-COVID Symptoms Levels\n",
       "10 Men       Post-COVID Symptoms Levels\n",
       "11 Men       Post-COVID Symptoms Levels\n",
       "12 Men       Post-COVID Symptoms Levels"
      ]
     },
     "metadata": {},
     "output_type": "display_data"
    }
   ],
   "source": [
    "all_sex_results <- bind_rows(results_sex, results_sex_rtn)\n",
    "all_sex_results"
   ]
  },
  {
   "cell_type": "code",
   "execution_count": 129,
   "id": "a8cf7c1b-a4c4-4504-83d5-4b09cdecbb17",
   "metadata": {},
   "outputs": [],
   "source": [
    "# Add baseline information\n",
    "baseline_sex <- all_sex_results %>%\n",
    "  distinct(Timepoint, Condition, Variable) %>% \n",
    "  mutate(\n",
    "    term = \"None\",\n",
    "    OR = 1,\n",
    "    std.error = NA,\n",
    "    statistic = NA,\n",
    "    p.value = NA,\n",
    "    CI_low = 1,\n",
    "    CI_high = 1\n",
    "  )\n",
    "\n",
    "# Junta baseline com os resultados\n",
    "all_sex_results_plot <- bind_rows(all_sex_results, baseline_sex)"
   ]
  },
  {
   "cell_type": "code",
   "execution_count": 130,
   "id": "4cd7f1e9-c423-4f4f-9c23-a1bc16b36bc0",
   "metadata": {},
   "outputs": [
    {
     "data": {
      "text/html": [
       "<table class=\"dataframe\">\n",
       "<caption>A tibble: 16 × 10</caption>\n",
       "<thead>\n",
       "\t<tr><th scope=col>term</th><th scope=col>OR</th><th scope=col>std.error</th><th scope=col>statistic</th><th scope=col>p.value</th><th scope=col>CI_low</th><th scope=col>CI_high</th><th scope=col>Condition</th><th scope=col>Timepoint</th><th scope=col>Variable</th></tr>\n",
       "\t<tr><th scope=col>&lt;chr&gt;</th><th scope=col>&lt;dbl&gt;</th><th scope=col>&lt;dbl&gt;</th><th scope=col>&lt;dbl&gt;</th><th scope=col>&lt;dbl&gt;</th><th scope=col>&lt;dbl&gt;</th><th scope=col>&lt;dbl&gt;</th><th scope=col>&lt;chr&gt;</th><th scope=col>&lt;chr&gt;</th><th scope=col>&lt;chr&gt;</th></tr>\n",
       "</thead>\n",
       "<tbody>\n",
       "\t<tr><td>Levels: 1-2</td><td>0.6521739</td><td>0.7142443</td><td>-0.5984563</td><td>0.54953550</td><td>0.15578563</td><td> 2.714613</td><td>Women</td><td>Long COVID</td><td>Symptoms Levels</td></tr>\n",
       "\t<tr><td>Levels: 3-4</td><td>0.4444444</td><td>0.6871842</td><td>-1.1800769</td><td>0.23796964</td><td>0.11166822</td><td> 1.760523</td><td>Women</td><td>Long COVID</td><td>Symptoms Levels</td></tr>\n",
       "\t<tr><td>Levels: &gt;=5</td><td>1.4883721</td><td>0.6624808</td><td> 0.6002936</td><td>0.54831060</td><td>0.39230260</td><td> 5.650962</td><td>Women</td><td>Long COVID</td><td>Symptoms Levels</td></tr>\n",
       "\t<tr><td>Levels: 1-2</td><td>0.7312500</td><td>0.5299270</td><td>-0.5906471</td><td>0.55475687</td><td>0.25442727</td><td> 2.074051</td><td>Men  </td><td>Long COVID</td><td>Symptoms Levels</td></tr>\n",
       "\t<tr><td>Levels: 3-4</td><td>0.3512195</td><td>0.5458949</td><td>-1.9167497</td><td>0.05526974</td><td>0.11784779</td><td> 1.021816</td><td>Men  </td><td>Long COVID</td><td>Symptoms Levels</td></tr>\n",
       "\t<tr><td>Levels: &gt;=5</td><td>0.7772727</td><td>0.5560551</td><td>-0.4531278</td><td>0.65045674</td><td>0.25721131</td><td> 2.318863</td><td><span style=white-space:pre-wrap>Men  </span></td><td>Long COVID</td><td>Symptoms Levels</td></tr>\n",
       "\t<tr><td>Levels: 1-2</td><td>1.6720000</td><td>0.6193064</td><td> 0.8299938</td><td>0.40654228</td><td>0.51369424</td><td> 6.056490</td><td>Women</td><td>Post-COVID</td><td>Symptoms Levels</td></tr>\n",
       "\t<tr><td>Levels: 3-4</td><td>3.0105263</td><td>0.6180631</td><td> 1.7831754</td><td>0.07455776</td><td>0.93159577</td><td>10.916485</td><td>Women</td><td>Post-COVID</td><td>Symptoms Levels</td></tr>\n",
       "\t<tr><td>Levels: &gt;=5</td><td>3.8000000</td><td>0.6591279</td><td> 2.0254053</td><td>0.04282576</td><td>1.08639500</td><td>14.883757</td><td>Women</td><td>Post-COVID</td><td>Symptoms Levels</td></tr>\n",
       "\t<tr><td>Levels: 1-2</td><td>0.6785714</td><td>0.4466061</td><td>-0.8682496</td><td>0.38525771</td><td>0.28037472</td><td> 1.626630</td><td>Men  </td><td>Post-COVID</td><td>Symptoms Levels</td></tr>\n",
       "\t<tr><td>Levels: 3-4</td><td>0.4285714</td><td>0.7663557</td><td>-1.1056195</td><td>0.26889124</td><td>0.08211508</td><td> 1.810468</td><td>Men  </td><td>Post-COVID</td><td>Symptoms Levels</td></tr>\n",
       "\t<tr><td>Levels: &gt;=5</td><td>0.7500000</td><td>0.6346478</td><td>-0.4532941</td><td>0.65033699</td><td>0.20834769</td><td> 2.592932</td><td><span style=white-space:pre-wrap>Men  </span></td><td>Post-COVID</td><td>Symptoms Levels</td></tr>\n",
       "\t<tr><td>None       </td><td>1.0000000</td><td>       NA</td><td>        NA</td><td>        NA</td><td>1.00000000</td><td> 1.000000</td><td>Women</td><td>Long COVID</td><td>Symptoms Levels</td></tr>\n",
       "\t<tr><td>None       </td><td>1.0000000</td><td>       NA</td><td>        NA</td><td>        NA</td><td>1.00000000</td><td> 1.000000</td><td>Men  </td><td>Long COVID</td><td>Symptoms Levels</td></tr>\n",
       "\t<tr><td>None       </td><td>1.0000000</td><td>       NA</td><td>        NA</td><td>        NA</td><td>1.00000000</td><td> 1.000000</td><td>Women</td><td>Post-COVID</td><td>Symptoms Levels</td></tr>\n",
       "\t<tr><td>None       </td><td>1.0000000</td><td>       NA</td><td>        NA</td><td>        NA</td><td>1.00000000</td><td> 1.000000</td><td>Men  </td><td>Post-COVID</td><td>Symptoms Levels</td></tr>\n",
       "</tbody>\n",
       "</table>\n"
      ],
      "text/latex": [
       "A tibble: 16 × 10\n",
       "\\begin{tabular}{llllllllll}\n",
       " term & OR & std.error & statistic & p.value & CI\\_low & CI\\_high & Condition & Timepoint & Variable\\\\\n",
       " <chr> & <dbl> & <dbl> & <dbl> & <dbl> & <dbl> & <dbl> & <chr> & <chr> & <chr>\\\\\n",
       "\\hline\n",
       "\t Levels: 1-2 & 0.6521739 & 0.7142443 & -0.5984563 & 0.54953550 & 0.15578563 &  2.714613 & Women & Long COVID & Symptoms Levels\\\\\n",
       "\t Levels: 3-4 & 0.4444444 & 0.6871842 & -1.1800769 & 0.23796964 & 0.11166822 &  1.760523 & Women & Long COVID & Symptoms Levels\\\\\n",
       "\t Levels: >=5 & 1.4883721 & 0.6624808 &  0.6002936 & 0.54831060 & 0.39230260 &  5.650962 & Women & Long COVID & Symptoms Levels\\\\\n",
       "\t Levels: 1-2 & 0.7312500 & 0.5299270 & -0.5906471 & 0.55475687 & 0.25442727 &  2.074051 & Men   & Long COVID & Symptoms Levels\\\\\n",
       "\t Levels: 3-4 & 0.3512195 & 0.5458949 & -1.9167497 & 0.05526974 & 0.11784779 &  1.021816 & Men   & Long COVID & Symptoms Levels\\\\\n",
       "\t Levels: >=5 & 0.7772727 & 0.5560551 & -0.4531278 & 0.65045674 & 0.25721131 &  2.318863 & Men   & Long COVID & Symptoms Levels\\\\\n",
       "\t Levels: 1-2 & 1.6720000 & 0.6193064 &  0.8299938 & 0.40654228 & 0.51369424 &  6.056490 & Women & Post-COVID & Symptoms Levels\\\\\n",
       "\t Levels: 3-4 & 3.0105263 & 0.6180631 &  1.7831754 & 0.07455776 & 0.93159577 & 10.916485 & Women & Post-COVID & Symptoms Levels\\\\\n",
       "\t Levels: >=5 & 3.8000000 & 0.6591279 &  2.0254053 & 0.04282576 & 1.08639500 & 14.883757 & Women & Post-COVID & Symptoms Levels\\\\\n",
       "\t Levels: 1-2 & 0.6785714 & 0.4466061 & -0.8682496 & 0.38525771 & 0.28037472 &  1.626630 & Men   & Post-COVID & Symptoms Levels\\\\\n",
       "\t Levels: 3-4 & 0.4285714 & 0.7663557 & -1.1056195 & 0.26889124 & 0.08211508 &  1.810468 & Men   & Post-COVID & Symptoms Levels\\\\\n",
       "\t Levels: >=5 & 0.7500000 & 0.6346478 & -0.4532941 & 0.65033699 & 0.20834769 &  2.592932 & Men   & Post-COVID & Symptoms Levels\\\\\n",
       "\t None        & 1.0000000 &        NA &         NA &         NA & 1.00000000 &  1.000000 & Women & Long COVID & Symptoms Levels\\\\\n",
       "\t None        & 1.0000000 &        NA &         NA &         NA & 1.00000000 &  1.000000 & Men   & Long COVID & Symptoms Levels\\\\\n",
       "\t None        & 1.0000000 &        NA &         NA &         NA & 1.00000000 &  1.000000 & Women & Post-COVID & Symptoms Levels\\\\\n",
       "\t None        & 1.0000000 &        NA &         NA &         NA & 1.00000000 &  1.000000 & Men   & Post-COVID & Symptoms Levels\\\\\n",
       "\\end{tabular}\n"
      ],
      "text/markdown": [
       "\n",
       "A tibble: 16 × 10\n",
       "\n",
       "| term &lt;chr&gt; | OR &lt;dbl&gt; | std.error &lt;dbl&gt; | statistic &lt;dbl&gt; | p.value &lt;dbl&gt; | CI_low &lt;dbl&gt; | CI_high &lt;dbl&gt; | Condition &lt;chr&gt; | Timepoint &lt;chr&gt; | Variable &lt;chr&gt; |\n",
       "|---|---|---|---|---|---|---|---|---|---|\n",
       "| Levels: 1-2 | 0.6521739 | 0.7142443 | -0.5984563 | 0.54953550 | 0.15578563 |  2.714613 | Women | Long COVID | Symptoms Levels |\n",
       "| Levels: 3-4 | 0.4444444 | 0.6871842 | -1.1800769 | 0.23796964 | 0.11166822 |  1.760523 | Women | Long COVID | Symptoms Levels |\n",
       "| Levels: &gt;=5 | 1.4883721 | 0.6624808 |  0.6002936 | 0.54831060 | 0.39230260 |  5.650962 | Women | Long COVID | Symptoms Levels |\n",
       "| Levels: 1-2 | 0.7312500 | 0.5299270 | -0.5906471 | 0.55475687 | 0.25442727 |  2.074051 | Men   | Long COVID | Symptoms Levels |\n",
       "| Levels: 3-4 | 0.3512195 | 0.5458949 | -1.9167497 | 0.05526974 | 0.11784779 |  1.021816 | Men   | Long COVID | Symptoms Levels |\n",
       "| Levels: &gt;=5 | 0.7772727 | 0.5560551 | -0.4531278 | 0.65045674 | 0.25721131 |  2.318863 | Men   | Long COVID | Symptoms Levels |\n",
       "| Levels: 1-2 | 1.6720000 | 0.6193064 |  0.8299938 | 0.40654228 | 0.51369424 |  6.056490 | Women | Post-COVID | Symptoms Levels |\n",
       "| Levels: 3-4 | 3.0105263 | 0.6180631 |  1.7831754 | 0.07455776 | 0.93159577 | 10.916485 | Women | Post-COVID | Symptoms Levels |\n",
       "| Levels: &gt;=5 | 3.8000000 | 0.6591279 |  2.0254053 | 0.04282576 | 1.08639500 | 14.883757 | Women | Post-COVID | Symptoms Levels |\n",
       "| Levels: 1-2 | 0.6785714 | 0.4466061 | -0.8682496 | 0.38525771 | 0.28037472 |  1.626630 | Men   | Post-COVID | Symptoms Levels |\n",
       "| Levels: 3-4 | 0.4285714 | 0.7663557 | -1.1056195 | 0.26889124 | 0.08211508 |  1.810468 | Men   | Post-COVID | Symptoms Levels |\n",
       "| Levels: &gt;=5 | 0.7500000 | 0.6346478 | -0.4532941 | 0.65033699 | 0.20834769 |  2.592932 | Men   | Post-COVID | Symptoms Levels |\n",
       "| None        | 1.0000000 |        NA |         NA |         NA | 1.00000000 |  1.000000 | Women | Long COVID | Symptoms Levels |\n",
       "| None        | 1.0000000 |        NA |         NA |         NA | 1.00000000 |  1.000000 | Men   | Long COVID | Symptoms Levels |\n",
       "| None        | 1.0000000 |        NA |         NA |         NA | 1.00000000 |  1.000000 | Women | Post-COVID | Symptoms Levels |\n",
       "| None        | 1.0000000 |        NA |         NA |         NA | 1.00000000 |  1.000000 | Men   | Post-COVID | Symptoms Levels |\n",
       "\n"
      ],
      "text/plain": [
       "   term        OR        std.error statistic  p.value    CI_low     CI_high  \n",
       "1  Levels: 1-2 0.6521739 0.7142443 -0.5984563 0.54953550 0.15578563  2.714613\n",
       "2  Levels: 3-4 0.4444444 0.6871842 -1.1800769 0.23796964 0.11166822  1.760523\n",
       "3  Levels: >=5 1.4883721 0.6624808  0.6002936 0.54831060 0.39230260  5.650962\n",
       "4  Levels: 1-2 0.7312500 0.5299270 -0.5906471 0.55475687 0.25442727  2.074051\n",
       "5  Levels: 3-4 0.3512195 0.5458949 -1.9167497 0.05526974 0.11784779  1.021816\n",
       "6  Levels: >=5 0.7772727 0.5560551 -0.4531278 0.65045674 0.25721131  2.318863\n",
       "7  Levels: 1-2 1.6720000 0.6193064  0.8299938 0.40654228 0.51369424  6.056490\n",
       "8  Levels: 3-4 3.0105263 0.6180631  1.7831754 0.07455776 0.93159577 10.916485\n",
       "9  Levels: >=5 3.8000000 0.6591279  2.0254053 0.04282576 1.08639500 14.883757\n",
       "10 Levels: 1-2 0.6785714 0.4466061 -0.8682496 0.38525771 0.28037472  1.626630\n",
       "11 Levels: 3-4 0.4285714 0.7663557 -1.1056195 0.26889124 0.08211508  1.810468\n",
       "12 Levels: >=5 0.7500000 0.6346478 -0.4532941 0.65033699 0.20834769  2.592932\n",
       "13 None        1.0000000        NA         NA         NA 1.00000000  1.000000\n",
       "14 None        1.0000000        NA         NA         NA 1.00000000  1.000000\n",
       "15 None        1.0000000        NA         NA         NA 1.00000000  1.000000\n",
       "16 None        1.0000000        NA         NA         NA 1.00000000  1.000000\n",
       "   Condition Timepoint  Variable       \n",
       "1  Women     Long COVID Symptoms Levels\n",
       "2  Women     Long COVID Symptoms Levels\n",
       "3  Women     Long COVID Symptoms Levels\n",
       "4  Men       Long COVID Symptoms Levels\n",
       "5  Men       Long COVID Symptoms Levels\n",
       "6  Men       Long COVID Symptoms Levels\n",
       "7  Women     Post-COVID Symptoms Levels\n",
       "8  Women     Post-COVID Symptoms Levels\n",
       "9  Women     Post-COVID Symptoms Levels\n",
       "10 Men       Post-COVID Symptoms Levels\n",
       "11 Men       Post-COVID Symptoms Levels\n",
       "12 Men       Post-COVID Symptoms Levels\n",
       "13 Women     Long COVID Symptoms Levels\n",
       "14 Men       Long COVID Symptoms Levels\n",
       "15 Women     Post-COVID Symptoms Levels\n",
       "16 Men       Post-COVID Symptoms Levels"
      ]
     },
     "metadata": {},
     "output_type": "display_data"
    }
   ],
   "source": [
    "all_sex_results_plot"
   ]
  },
  {
   "cell_type": "code",
   "execution_count": 134,
   "id": "4fa85d47-4d72-434a-b920-7c76d129823f",
   "metadata": {},
   "outputs": [],
   "source": [
    "all_sex_results_plot <- all_sex_results_plot %>%\n",
    "  mutate(\n",
    "    term = factor(term, levels = c(\"None\", \"Levels: 1-2\", \"Levels: 3-4\", \"Levels: >=5\"))\n",
    "  )"
   ]
  },
  {
   "cell_type": "code",
   "execution_count": 140,
   "id": "20c8bcf4-9ae5-40d3-8a2c-65ed6c7a0e35",
   "metadata": {},
   "outputs": [
    {
     "data": {
      "image/png": "[encoded data removed]",
      "text/plain": [
       "plot without title"
      ]
     },
     "metadata": {
      "image/png": {
       "height": 420,
       "width": 420
      }
     },
     "output_type": "display_data"
    }
   ],
   "source": [
    "ggplot(all_sex_results_plot, aes(x = OR, y = fct_rev(term), shape = Condition)) +\n",
    "  geom_point(position = position_dodge(width = 0.5), size = 2.5, color = \"black\") +\n",
    "  geom_errorbarh(aes(xmin = CI_low, xmax = CI_high),\n",
    "                 position = position_dodge(width = 0.5),\n",
    "                 height = 0.2) +\n",
    "  geom_vline(xintercept = 1, linetype = \"dashed\", color = \"gray30\") + \n",
    "  scale_shape_manual(values = c(\"Men\" = 1, \"Women\" = 16)) +\n",
    "  scale_x_log10() +\n",
    "  theme_bw(base_size = 14) +\n",
    "  labs(\n",
    "    x = \"Adjusted odds ratio (95% CI)\",\n",
    "    y = NULL,\n",
    "    shape = \"\",\n",
    "    color = NULL\n",
    "  ) +\n",
    "  theme(\n",
    "    axis.text.y = element_text(size = 12, color = \"black\", hjust = 0),\n",
    "    axis.text.x = element_text(size = 12, color = \"black\"),\n",
    "    legend.position = \"bottom\",\n",
    "    panel.grid.major = element_blank(),\n",
    "    panel.grid.minor = element_blank(),\n",
    "#    strip.background = element_rect(fill = \"grey90\",color = \"grey90\",linewidth = 0.8),\n",
    "#  strip.text = element_text(size = 14,color = \"black\")\n",
    "  ) +\n",
    "  facet_wrap(~ Timepoint, scales = \"free_x\")\n",
    "ggsave(\"combinedForestPlot_bySex.tiff\", width = 8, height = 7, dpi = 300)"
   ]
  },
  {
   "cell_type": "code",
   "execution_count": null,
   "id": "fc23a942-2f64-49f1-9702-563aee352920",
   "metadata": {},
   "outputs": [],
   "source": []
  },
  {
   "cell_type": "code",
   "execution_count": null,
   "id": "92217302-315a-4096-9678-4cc8831a2dc0",
   "metadata": {},
   "outputs": [],
   "source": []
  },
  {
   "cell_type": "markdown",
   "id": "6309bf49-b4c2-42d7-ad80-bc426dd6583b",
   "metadata": {},
   "source": [
    "## Female vs. Female (3-Monsths)"
   ]
  },
  {
   "cell_type": "code",
   "execution_count": 60,
   "id": "43518967-f06d-4779-ada0-351381c00691",
   "metadata": {},
   "outputs": [
    {
     "data": {
      "text/html": [
       "<table class=\"dataframe\">\n",
       "<caption>A data.frame: 6 × 17</caption>\n",
       "<thead>\n",
       "\t<tr><th></th><th scope=col>CONDITION</th><th scope=col>SEX</th><th scope=col>CEFALEIA</th><th scope=col>TOSSE</th><th scope=col>DOR_CORPO</th><th scope=col>DISPNEIA</th><th scope=col>ALT_OLFATO</th><th scope=col>ALT_PALADAR</th><th scope=col>FADIGA</th><th scope=col>DOR_TORAC</th><th scope=col>ANOREXIA</th><th scope=col>DISFAGIA</th><th scope=col>DISFONIA</th><th scope=col>N_SINTOMAS</th><th scope=col>NIVEIS</th><th scope=col>GROUP</th><th scope=col>OUT</th></tr>\n",
       "\t<tr><th></th><th scope=col>&lt;chr&gt;</th><th scope=col>&lt;chr&gt;</th><th scope=col>&lt;int&gt;</th><th scope=col>&lt;int&gt;</th><th scope=col>&lt;int&gt;</th><th scope=col>&lt;int&gt;</th><th scope=col>&lt;int&gt;</th><th scope=col>&lt;int&gt;</th><th scope=col>&lt;int&gt;</th><th scope=col>&lt;int&gt;</th><th scope=col>&lt;int&gt;</th><th scope=col>&lt;int&gt;</th><th scope=col>&lt;int&gt;</th><th scope=col>&lt;int&gt;</th><th scope=col>&lt;fct&gt;</th><th scope=col>&lt;fct&gt;</th><th scope=col>&lt;fct&gt;</th></tr>\n",
       "</thead>\n",
       "<tbody>\n",
       "\t<tr><th scope=row>1</th><td>OBS </td><td>Feminino</td><td>1</td><td>1</td><td>1</td><td>0</td><td>1</td><td>1</td><td>1</td><td>1</td><td>1</td><td>0</td><td>0</td><td>8</td><td>&gt;=5 </td><td>OBS_Feminino </td><td>1</td></tr>\n",
       "\t<tr><th scope=row>2</th><td>NOBS</td><td>Feminino</td><td>0</td><td>0</td><td>0</td><td>0</td><td>0</td><td>0</td><td>0</td><td>0</td><td>0</td><td>0</td><td>0</td><td>0</td><td>None</td><td>NOBS_Feminino</td><td>0</td></tr>\n",
       "\t<tr><th scope=row>3</th><td>OBS </td><td>Feminino</td><td>1</td><td>0</td><td>1</td><td>0</td><td>0</td><td>0</td><td>1</td><td>0</td><td>1</td><td>0</td><td>0</td><td>4</td><td>3-4 </td><td>OBS_Feminino </td><td>1</td></tr>\n",
       "\t<tr><th scope=row>4</th><td>NOBS</td><td>Feminino</td><td>0</td><td>1</td><td>0</td><td>1</td><td>1</td><td>1</td><td>0</td><td>0</td><td>0</td><td>0</td><td>0</td><td>4</td><td>3-4 </td><td>NOBS_Feminino</td><td>0</td></tr>\n",
       "\t<tr><th scope=row>5</th><td>OBS </td><td>Feminino</td><td>0</td><td>0</td><td>0</td><td>1</td><td>0</td><td>1</td><td>0</td><td>0</td><td>0</td><td>0</td><td>0</td><td>2</td><td>1-2 </td><td>OBS_Feminino </td><td>1</td></tr>\n",
       "\t<tr><th scope=row>6</th><td>OBS </td><td>Feminino</td><td>0</td><td>0</td><td>0</td><td>1</td><td>0</td><td>0</td><td>0</td><td>0</td><td>0</td><td>0</td><td>0</td><td>1</td><td>1-2 </td><td>OBS_Feminino </td><td>1</td></tr>\n",
       "</tbody>\n",
       "</table>\n"
      ],
      "text/latex": [
       "A data.frame: 6 × 17\n",
       "\\begin{tabular}{r|lllllllllllllllll}\n",
       "  & CONDITION & SEX & CEFALEIA & TOSSE & DOR\\_CORPO & DISPNEIA & ALT\\_OLFATO & ALT\\_PALADAR & FADIGA & DOR\\_TORAC & ANOREXIA & DISFAGIA & DISFONIA & N\\_SINTOMAS & NIVEIS & GROUP & OUT\\\\\n",
       "  & <chr> & <chr> & <int> & <int> & <int> & <int> & <int> & <int> & <int> & <int> & <int> & <int> & <int> & <int> & <fct> & <fct> & <fct>\\\\\n",
       "\\hline\n",
       "\t1 & OBS  & Feminino & 1 & 1 & 1 & 0 & 1 & 1 & 1 & 1 & 1 & 0 & 0 & 8 & >=5  & OBS\\_Feminino  & 1\\\\\n",
       "\t2 & NOBS & Feminino & 0 & 0 & 0 & 0 & 0 & 0 & 0 & 0 & 0 & 0 & 0 & 0 & None & NOBS\\_Feminino & 0\\\\\n",
       "\t3 & OBS  & Feminino & 1 & 0 & 1 & 0 & 0 & 0 & 1 & 0 & 1 & 0 & 0 & 4 & 3-4  & OBS\\_Feminino  & 1\\\\\n",
       "\t4 & NOBS & Feminino & 0 & 1 & 0 & 1 & 1 & 1 & 0 & 0 & 0 & 0 & 0 & 4 & 3-4  & NOBS\\_Feminino & 0\\\\\n",
       "\t5 & OBS  & Feminino & 0 & 0 & 0 & 1 & 0 & 1 & 0 & 0 & 0 & 0 & 0 & 2 & 1-2  & OBS\\_Feminino  & 1\\\\\n",
       "\t6 & OBS  & Feminino & 0 & 0 & 0 & 1 & 0 & 0 & 0 & 0 & 0 & 0 & 0 & 1 & 1-2  & OBS\\_Feminino  & 1\\\\\n",
       "\\end{tabular}\n"
      ],
      "text/markdown": [
       "\n",
       "A data.frame: 6 × 17\n",
       "\n",
       "| <!--/--> | CONDITION &lt;chr&gt; | SEX &lt;chr&gt; | CEFALEIA &lt;int&gt; | TOSSE &lt;int&gt; | DOR_CORPO &lt;int&gt; | DISPNEIA &lt;int&gt; | ALT_OLFATO &lt;int&gt; | ALT_PALADAR &lt;int&gt; | FADIGA &lt;int&gt; | DOR_TORAC &lt;int&gt; | ANOREXIA &lt;int&gt; | DISFAGIA &lt;int&gt; | DISFONIA &lt;int&gt; | N_SINTOMAS &lt;int&gt; | NIVEIS &lt;fct&gt; | GROUP &lt;fct&gt; | OUT &lt;fct&gt; |\n",
       "|---|---|---|---|---|---|---|---|---|---|---|---|---|---|---|---|---|---|\n",
       "| 1 | OBS  | Feminino | 1 | 1 | 1 | 0 | 1 | 1 | 1 | 1 | 1 | 0 | 0 | 8 | &gt;=5  | OBS_Feminino  | 1 |\n",
       "| 2 | NOBS | Feminino | 0 | 0 | 0 | 0 | 0 | 0 | 0 | 0 | 0 | 0 | 0 | 0 | None | NOBS_Feminino | 0 |\n",
       "| 3 | OBS  | Feminino | 1 | 0 | 1 | 0 | 0 | 0 | 1 | 0 | 1 | 0 | 0 | 4 | 3-4  | OBS_Feminino  | 1 |\n",
       "| 4 | NOBS | Feminino | 0 | 1 | 0 | 1 | 1 | 1 | 0 | 0 | 0 | 0 | 0 | 4 | 3-4  | NOBS_Feminino | 0 |\n",
       "| 5 | OBS  | Feminino | 0 | 0 | 0 | 1 | 0 | 1 | 0 | 0 | 0 | 0 | 0 | 2 | 1-2  | OBS_Feminino  | 1 |\n",
       "| 6 | OBS  | Feminino | 0 | 0 | 0 | 1 | 0 | 0 | 0 | 0 | 0 | 0 | 0 | 1 | 1-2  | OBS_Feminino  | 1 |\n",
       "\n"
      ],
      "text/plain": [
       "  CONDITION SEX      CEFALEIA TOSSE DOR_CORPO DISPNEIA ALT_OLFATO ALT_PALADAR\n",
       "1 OBS       Feminino 1        1     1         0        1          1          \n",
       "2 NOBS      Feminino 0        0     0         0        0          0          \n",
       "3 OBS       Feminino 1        0     1         0        0          0          \n",
       "4 NOBS      Feminino 0        1     0         1        1          1          \n",
       "5 OBS       Feminino 0        0     0         1        0          1          \n",
       "6 OBS       Feminino 0        0     0         1        0          0          \n",
       "  FADIGA DOR_TORAC ANOREXIA DISFAGIA DISFONIA N_SINTOMAS NIVEIS GROUP        \n",
       "1 1      1         1        0        0        8          >=5    OBS_Feminino \n",
       "2 0      0         0        0        0        0          None   NOBS_Feminino\n",
       "3 1      0         1        0        0        4          3-4    OBS_Feminino \n",
       "4 0      0         0        0        0        4          3-4    NOBS_Feminino\n",
       "5 0      0         0        0        0        2          1-2    OBS_Feminino \n",
       "6 0      0         0        0        0        1          1-2    OBS_Feminino \n",
       "  OUT\n",
       "1 1  \n",
       "2 0  \n",
       "3 1  \n",
       "4 0  \n",
       "5 1  \n",
       "6 1  "
      ]
     },
     "metadata": {},
     "output_type": "display_data"
    }
   ],
   "source": [
    "rlog_fem_rtn <- rlog_rtn %>%\n",
    "  filter(SEX == \"Feminino\") %>%\n",
    "  mutate(\n",
    "    GROUP = factor(paste(CONDITION, SEX, sep = \"_\"), levels = c(\"NOBS_Feminino\", \"OBS_Feminino\")),\n",
    "    OUT = factor(ifelse(GROUP == \"OBS_Feminino\", 1, 0), levels = c(0,1)),\n",
    "    NIVEIS = factor(NIVEIS, levels = c(\"None\", \"1-2\", \"3-4\", \">=5\"))) \n",
    "head(rlog_fem_rtn)"
   ]
  },
  {
   "cell_type": "code",
   "execution_count": 61,
   "id": "19a3e33e-269d-4057-9b69-92a1d8ca0cfe",
   "metadata": {},
   "outputs": [
    {
     "data": {
      "text/plain": [
       "\n",
       "Call:\n",
       "glm(formula = OUT ~ NIVEIS, family = \"binomial\", data = rlog_fem_rtn)\n",
       "\n",
       "Coefficients:\n",
       "            Estimate Std. Error z value Pr(>|z|)  \n",
       "(Intercept)  -0.7885     0.5394  -1.462   0.1438  \n",
       "NIVEIS1-2     0.5140     0.6193   0.830   0.4065  \n",
       "NIVEIS3-4     1.1021     0.6181   1.783   0.0746 .\n",
       "NIVEIS>=5     1.3350     0.6591   2.025   0.0428 *\n",
       "---\n",
       "Signif. codes:  0 ‘***’ 0.001 ‘**’ 0.01 ‘*’ 0.05 ‘.’ 0.1 ‘ ’ 1\n",
       "\n",
       "(Dispersion parameter for binomial family taken to be 1)\n",
       "\n",
       "    Null deviance: 187.08  on 134  degrees of freedom\n",
       "Residual deviance: 180.77  on 131  degrees of freedom\n",
       "AIC: 188.77\n",
       "\n",
       "Number of Fisher Scoring iterations: 4\n"
      ]
     },
     "metadata": {},
     "output_type": "display_data"
    }
   ],
   "source": [
    "summary(glm(OUT ~ NIVEIS, data = rlog_fem_rtn, family = \"binomial\"))"
   ]
  },
  {
   "cell_type": "code",
   "execution_count": null,
   "id": "d9ce379e-121d-479d-9af2-e5d5c9e486d9",
   "metadata": {},
   "outputs": [],
   "source": []
  },
  {
   "cell_type": "code",
   "execution_count": null,
   "id": "9c7a8ca0-46c8-48a8-a978-c3f51b448648",
   "metadata": {},
   "outputs": [],
   "source": []
  },
  {
   "cell_type": "markdown",
   "id": "55dce5be-588b-45f5-90ce-cd39a8df35d2",
   "metadata": {},
   "source": [
    "## Male vs. Male (3-Months)"
   ]
  },
  {
   "cell_type": "code",
   "execution_count": 69,
   "id": "7afc76f7-94b1-4513-8692-ea8c5e6bfbc6",
   "metadata": {},
   "outputs": [
    {
     "data": {
      "text/html": [
       "<table class=\"dataframe\">\n",
       "<caption>A data.frame: 6 × 17</caption>\n",
       "<thead>\n",
       "\t<tr><th></th><th scope=col>CONDITION</th><th scope=col>SEX</th><th scope=col>CEFALEIA</th><th scope=col>TOSSE</th><th scope=col>DOR_CORPO</th><th scope=col>DISPNEIA</th><th scope=col>ALT_OLFATO</th><th scope=col>ALT_PALADAR</th><th scope=col>FADIGA</th><th scope=col>DOR_TORAC</th><th scope=col>ANOREXIA</th><th scope=col>DISFAGIA</th><th scope=col>DISFONIA</th><th scope=col>N_SINTOMAS</th><th scope=col>NIVEIS</th><th scope=col>GROUP</th><th scope=col>OUT</th></tr>\n",
       "\t<tr><th></th><th scope=col>&lt;chr&gt;</th><th scope=col>&lt;chr&gt;</th><th scope=col>&lt;int&gt;</th><th scope=col>&lt;int&gt;</th><th scope=col>&lt;int&gt;</th><th scope=col>&lt;int&gt;</th><th scope=col>&lt;int&gt;</th><th scope=col>&lt;int&gt;</th><th scope=col>&lt;int&gt;</th><th scope=col>&lt;int&gt;</th><th scope=col>&lt;int&gt;</th><th scope=col>&lt;int&gt;</th><th scope=col>&lt;int&gt;</th><th scope=col>&lt;int&gt;</th><th scope=col>&lt;fct&gt;</th><th scope=col>&lt;fct&gt;</th><th scope=col>&lt;fct&gt;</th></tr>\n",
       "</thead>\n",
       "<tbody>\n",
       "\t<tr><th scope=row>1</th><td>NOBS</td><td>Masculino</td><td>0</td><td>0</td><td>0</td><td>1</td><td>0</td><td>0</td><td>0</td><td>1</td><td>0</td><td>0</td><td>0</td><td>2</td><td>1-2 </td><td>NOBS_Masculino</td><td>0</td></tr>\n",
       "\t<tr><th scope=row>2</th><td>NOBS</td><td>Masculino</td><td>1</td><td>0</td><td>1</td><td>0</td><td>0</td><td>0</td><td>1</td><td>1</td><td>0</td><td>0</td><td>0</td><td>4</td><td>3-4 </td><td>NOBS_Masculino</td><td>0</td></tr>\n",
       "\t<tr><th scope=row>3</th><td>OBS </td><td>Masculino</td><td>1</td><td>0</td><td>1</td><td>1</td><td>1</td><td>0</td><td>1</td><td>1</td><td>0</td><td>0</td><td>0</td><td>6</td><td>&gt;=5 </td><td>OBS_Masculino </td><td>1</td></tr>\n",
       "\t<tr><th scope=row>4</th><td>NOBS</td><td>Masculino</td><td>0</td><td>0</td><td>0</td><td>0</td><td>0</td><td>0</td><td>0</td><td>0</td><td>0</td><td>0</td><td>0</td><td>0</td><td>None</td><td>NOBS_Masculino</td><td>0</td></tr>\n",
       "\t<tr><th scope=row>5</th><td>OBS </td><td>Masculino</td><td>0</td><td>0</td><td>0</td><td>0</td><td>0</td><td>0</td><td>0</td><td>0</td><td>0</td><td>0</td><td>0</td><td>0</td><td>None</td><td>OBS_Masculino </td><td>1</td></tr>\n",
       "\t<tr><th scope=row>6</th><td>OBS </td><td>Masculino</td><td>0</td><td>0</td><td>0</td><td>0</td><td>0</td><td>0</td><td>0</td><td>0</td><td>0</td><td>0</td><td>0</td><td>0</td><td>None</td><td>OBS_Masculino </td><td>1</td></tr>\n",
       "</tbody>\n",
       "</table>\n"
      ],
      "text/latex": [
       "A data.frame: 6 × 17\n",
       "\\begin{tabular}{r|lllllllllllllllll}\n",
       "  & CONDITION & SEX & CEFALEIA & TOSSE & DOR\\_CORPO & DISPNEIA & ALT\\_OLFATO & ALT\\_PALADAR & FADIGA & DOR\\_TORAC & ANOREXIA & DISFAGIA & DISFONIA & N\\_SINTOMAS & NIVEIS & GROUP & OUT\\\\\n",
       "  & <chr> & <chr> & <int> & <int> & <int> & <int> & <int> & <int> & <int> & <int> & <int> & <int> & <int> & <int> & <fct> & <fct> & <fct>\\\\\n",
       "\\hline\n",
       "\t1 & NOBS & Masculino & 0 & 0 & 0 & 1 & 0 & 0 & 0 & 1 & 0 & 0 & 0 & 2 & 1-2  & NOBS\\_Masculino & 0\\\\\n",
       "\t2 & NOBS & Masculino & 1 & 0 & 1 & 0 & 0 & 0 & 1 & 1 & 0 & 0 & 0 & 4 & 3-4  & NOBS\\_Masculino & 0\\\\\n",
       "\t3 & OBS  & Masculino & 1 & 0 & 1 & 1 & 1 & 0 & 1 & 1 & 0 & 0 & 0 & 6 & >=5  & OBS\\_Masculino  & 1\\\\\n",
       "\t4 & NOBS & Masculino & 0 & 0 & 0 & 0 & 0 & 0 & 0 & 0 & 0 & 0 & 0 & 0 & None & NOBS\\_Masculino & 0\\\\\n",
       "\t5 & OBS  & Masculino & 0 & 0 & 0 & 0 & 0 & 0 & 0 & 0 & 0 & 0 & 0 & 0 & None & OBS\\_Masculino  & 1\\\\\n",
       "\t6 & OBS  & Masculino & 0 & 0 & 0 & 0 & 0 & 0 & 0 & 0 & 0 & 0 & 0 & 0 & None & OBS\\_Masculino  & 1\\\\\n",
       "\\end{tabular}\n"
      ],
      "text/markdown": [
       "\n",
       "A data.frame: 6 × 17\n",
       "\n",
       "| <!--/--> | CONDITION &lt;chr&gt; | SEX &lt;chr&gt; | CEFALEIA &lt;int&gt; | TOSSE &lt;int&gt; | DOR_CORPO &lt;int&gt; | DISPNEIA &lt;int&gt; | ALT_OLFATO &lt;int&gt; | ALT_PALADAR &lt;int&gt; | FADIGA &lt;int&gt; | DOR_TORAC &lt;int&gt; | ANOREXIA &lt;int&gt; | DISFAGIA &lt;int&gt; | DISFONIA &lt;int&gt; | N_SINTOMAS &lt;int&gt; | NIVEIS &lt;fct&gt; | GROUP &lt;fct&gt; | OUT &lt;fct&gt; |\n",
       "|---|---|---|---|---|---|---|---|---|---|---|---|---|---|---|---|---|---|\n",
       "| 1 | NOBS | Masculino | 0 | 0 | 0 | 1 | 0 | 0 | 0 | 1 | 0 | 0 | 0 | 2 | 1-2  | NOBS_Masculino | 0 |\n",
       "| 2 | NOBS | Masculino | 1 | 0 | 1 | 0 | 0 | 0 | 1 | 1 | 0 | 0 | 0 | 4 | 3-4  | NOBS_Masculino | 0 |\n",
       "| 3 | OBS  | Masculino | 1 | 0 | 1 | 1 | 1 | 0 | 1 | 1 | 0 | 0 | 0 | 6 | &gt;=5  | OBS_Masculino  | 1 |\n",
       "| 4 | NOBS | Masculino | 0 | 0 | 0 | 0 | 0 | 0 | 0 | 0 | 0 | 0 | 0 | 0 | None | NOBS_Masculino | 0 |\n",
       "| 5 | OBS  | Masculino | 0 | 0 | 0 | 0 | 0 | 0 | 0 | 0 | 0 | 0 | 0 | 0 | None | OBS_Masculino  | 1 |\n",
       "| 6 | OBS  | Masculino | 0 | 0 | 0 | 0 | 0 | 0 | 0 | 0 | 0 | 0 | 0 | 0 | None | OBS_Masculino  | 1 |\n",
       "\n"
      ],
      "text/plain": [
       "  CONDITION SEX       CEFALEIA TOSSE DOR_CORPO DISPNEIA ALT_OLFATO ALT_PALADAR\n",
       "1 NOBS      Masculino 0        0     0         1        0          0          \n",
       "2 NOBS      Masculino 1        0     1         0        0          0          \n",
       "3 OBS       Masculino 1        0     1         1        1          0          \n",
       "4 NOBS      Masculino 0        0     0         0        0          0          \n",
       "5 OBS       Masculino 0        0     0         0        0          0          \n",
       "6 OBS       Masculino 0        0     0         0        0          0          \n",
       "  FADIGA DOR_TORAC ANOREXIA DISFAGIA DISFONIA N_SINTOMAS NIVEIS GROUP         \n",
       "1 0      1         0        0        0        2          1-2    NOBS_Masculino\n",
       "2 1      1         0        0        0        4          3-4    NOBS_Masculino\n",
       "3 1      1         0        0        0        6          >=5    OBS_Masculino \n",
       "4 0      0         0        0        0        0          None   NOBS_Masculino\n",
       "5 0      0         0        0        0        0          None   OBS_Masculino \n",
       "6 0      0         0        0        0        0          None   OBS_Masculino \n",
       "  OUT\n",
       "1 0  \n",
       "2 0  \n",
       "3 1  \n",
       "4 0  \n",
       "5 1  \n",
       "6 1  "
      ]
     },
     "metadata": {},
     "output_type": "display_data"
    }
   ],
   "source": [
    "rlog_male_rtn <- rlog_rtn %>%\n",
    "  filter(SEX == \"Masculino\") %>%\n",
    "  mutate(\n",
    "    GROUP = factor(paste(CONDITION, SEX, sep = \"_\"), levels = c(\"NOBS_Masculino\", \"OBS_Masculino\")),\n",
    "    OUT = factor(ifelse(GROUP == \"OBS_Masculino\", 1, 0), levels = c(0,1)),\n",
    "    NIVEIS = factor(NIVEIS, levels = c(\"None\", \"1-2\", \"3-4\", \">=5\"))) \n",
    "head(rlog_male_rtn)"
   ]
  },
  {
   "cell_type": "code",
   "execution_count": 70,
   "id": "17c07b34-bfcc-467e-9e8f-7440eda368e5",
   "metadata": {},
   "outputs": [
    {
     "data": {
      "text/plain": [
       "\n",
       "Call:\n",
       "glm(formula = OUT ~ NIVEIS, family = \"binomial\", data = rlog_male_rtn)\n",
       "\n",
       "Coefficients:\n",
       "              Estimate Std. Error z value Pr(>|z|)\n",
       "(Intercept) -1.297e-16  3.333e-01   0.000    1.000\n",
       "NIVEIS1-2   -3.878e-01  4.466e-01  -0.868    0.385\n",
       "NIVEIS3-4   -8.473e-01  7.664e-01  -1.106    0.269\n",
       "NIVEIS>=5   -2.877e-01  6.346e-01  -0.453    0.650\n",
       "\n",
       "(Dispersion parameter for binomial family taken to be 1)\n",
       "\n",
       "    Null deviance: 146.22  on 106  degrees of freedom\n",
       "Residual deviance: 144.67  on 103  degrees of freedom\n",
       "AIC: 152.67\n",
       "\n",
       "Number of Fisher Scoring iterations: 4\n"
      ]
     },
     "metadata": {},
     "output_type": "display_data"
    }
   ],
   "source": [
    "summary(glm(OUT ~ NIVEIS, data = rlog_male_rtn, family = \"binomial\"))"
   ]
  },
  {
   "cell_type": "code",
   "execution_count": null,
   "id": "49458055-5e94-45d3-b775-880b6e0ed3ef",
   "metadata": {},
   "outputs": [],
   "source": [
    "model_sex_rtn <- function(x) {\n",
    "    glm(OUT ~ NIVEIS, data = filter(rlog_male_rtn, SEX == x),\n",
    "        family = binomial)\n",
    "    }"
   ]
  }
 ],
 "metadata": {
  "kernelspec": {
   "display_name": "R",
   "language": "R",
   "name": "ir"
  },
  "language_info": {
   "codemirror_mode": "r",
   "file_extension": ".r",
   "mimetype": "text/x-r-source",
   "name": "R",
   "pygments_lexer": "r",
   "version": "4.3.3"
  }
 },
 "nbformat": 4,
 "nbformat_minor": 5
}
